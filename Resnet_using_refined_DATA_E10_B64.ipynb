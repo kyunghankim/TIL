{
  "nbformat": 4,
  "nbformat_minor": 0,
  "metadata": {
    "colab": {
      "name": "Resnet using refined DATA E10 B64.ipynb",
      "provenance": []
    },
    "kernelspec": {
      "name": "python3",
      "display_name": "Python 3"
    },
    "accelerator": "GPU"
  },
  "cells": [
    {
      "cell_type": "code",
      "metadata": {
        "id": "HCAUSrgVVsev",
        "colab_type": "code",
        "colab": {}
      },
      "source": [
        "import os\n",
        "import numpy as np\n",
        "import pandas as pd\n",
        "\n",
        "import tensorflow as tf\n",
        "from tensorflow.keras.datasets.mnist import load_data\n",
        "from tensorflow.keras.models import load_model, Model\n",
        "from tensorflow.keras.layers import Input, Conv2D, Add, BatchNormalization, concatenate\n",
        "\n",
        "from sklearn.model_selection import train_test_split\n",
        "from sklearn.model_selection import KFold\n",
        "from sklearn.metrics import f1_score"
      ],
      "execution_count": 0,
      "outputs": []
    },
    {
      "cell_type": "code",
      "metadata": {
        "id": "yrMk7699a2rz",
        "colab_type": "code",
        "colab": {
          "base_uri": "https://localhost:8080/",
          "height": 127
        },
        "outputId": "1e025cda-27bd-44a0-f9ef-54dec2c73489"
      },
      "source": [
        "from google.colab import drive\n",
        "drive.mount('/gdrive', force_remount=True)\n",
        "os.chdir('/gdrive/My Drive')"
      ],
      "execution_count": 2,
      "outputs": [
        {
          "output_type": "stream",
          "text": [
            "Go to this URL in a browser: https://accounts.google.com/o/oauth2/auth?client_id=947318989803-6bn6qk8qdgf4n4g3pfee6491hc0brc4i.apps.googleusercontent.com&redirect_uri=urn%3aietf%3awg%3aoauth%3a2.0%3aoob&response_type=code&scope=email%20https%3a%2f%2fwww.googleapis.com%2fauth%2fdocs.test%20https%3a%2f%2fwww.googleapis.com%2fauth%2fdrive%20https%3a%2f%2fwww.googleapis.com%2fauth%2fdrive.photos.readonly%20https%3a%2f%2fwww.googleapis.com%2fauth%2fpeopleapi.readonly\n",
            "\n",
            "Enter your authorization code:\n",
            "··········\n",
            "Mounted at /gdrive\n"
          ],
          "name": "stdout"
        }
      ]
    },
    {
      "cell_type": "code",
      "metadata": {
        "id": "t5VrGvAFa25U",
        "colab_type": "code",
        "colab": {}
      },
      "source": [
        "newPath='./데이콘 정리된데이터'\n",
        "submission = pd.read_csv(newPath+'/sample_submission.csv')"
      ],
      "execution_count": 0,
      "outputs": []
    },
    {
      "cell_type": "code",
      "metadata": {
        "id": "UoWtAfr8a8xU",
        "colab_type": "code",
        "colab": {}
      },
      "source": [
        "test_refined = np.load(newPath+\"/test_refined.npy\")\n",
        "train_refined = np.load(newPath+\"/train_refined-002.npy\")"
      ],
      "execution_count": 0,
      "outputs": []
    },
    {
      "cell_type": "code",
      "metadata": {
        "id": "XpI5qZMNbJjA",
        "colab_type": "code",
        "colab": {
          "base_uri": "https://localhost:8080/",
          "height": 35
        },
        "outputId": "ec74e366-4b3a-434d-baa9-4a4da756f2e4"
      },
      "source": [
        "print(test_refined.shape,train_refined.shape)"
      ],
      "execution_count": 5,
      "outputs": [
        {
          "output_type": "stream",
          "text": [
            "(2416, 40, 40, 14) (75917, 40, 40, 15)\n"
          ],
          "name": "stdout"
        }
      ]
    },
    {
      "cell_type": "code",
      "metadata": {
        "id": "nbUP1tz5bPuu",
        "colab_type": "code",
        "colab": {
          "base_uri": "https://localhost:8080/",
          "height": 35
        },
        "outputId": "483e36b4-5be7-4a7e-c6a6-daa9f8105461"
      },
      "source": [
        "num=[]\n",
        "n = 50\n",
        "for i in range(train_refined.shape[0]):\n",
        "    if ((train_refined[i,:,:,-1]>0).sum() > n) and ((train_refined[i,:,:,-1]<0).sum() <= 0):\n",
        "        num.append(i)\n",
        "\n",
        "print(\"사용하는 데이터의 양:\",len(num) / train_refined.shape[0])\n",
        "Reduced_xtrain=train_refined[num,:,:,:]\n",
        "del train_refined"
      ],
      "execution_count": 6,
      "outputs": [
        {
          "output_type": "stream",
          "text": [
            "사용하는 데이터의 양: 0.4011222782775926\n"
          ],
          "name": "stdout"
        }
      ]
    },
    {
      "cell_type": "code",
      "metadata": {
        "id": "w9YVj-HMg2UW",
        "colab_type": "code",
        "colab": {}
      },
      "source": [
        "Xtrain = Reduced_xtrain[:, :, :, :9] #<- 같은 이름으로 저장하면 다음 코드에서 저장안됨\n",
        "Ytrain = Reduced_xtrain[:, :, :,14]\n",
        "\n",
        "test_refined = test_refined[:, :, :, :9] #<- 9개의 feature만, 지형 정보사용 X\n",
        "\n",
        "del Reduced_xtrain #<- RAM 조절하기 윟해 삭제"
      ],
      "execution_count": 0,
      "outputs": []
    },
    {
      "cell_type": "code",
      "metadata": {
        "id": "oBBEusN4hBfU",
        "colab_type": "code",
        "colab": {
          "base_uri": "https://localhost:8080/",
          "height": 53
        },
        "outputId": "428ec568-f6ff-48c9-8004-a3ade4c75085"
      },
      "source": [
        "print(\"Xtrain.shape:\",Xtrain.shape)\n",
        "print(\"Ytrain.shape:\",Ytrain.shape) \n"
      ],
      "execution_count": 8,
      "outputs": [
        {
          "output_type": "stream",
          "text": [
            "Xtrain.shape: (30452, 40, 40, 9)\n",
            "Ytrain.shape: (30452, 40, 40)\n"
          ],
          "name": "stdout"
        }
      ]
    },
    {
      "cell_type": "code",
      "metadata": {
        "id": "ck8a2NIBhDlq",
        "colab_type": "code",
        "colab": {
          "base_uri": "https://localhost:8080/",
          "height": 35
        },
        "outputId": "5b18a958-db18-45d9-e1cd-69235a2ab77a"
      },
      "source": [
        "tempXtrain = Xtrain.reshape(-1,9)\n",
        "tempXtrain.shape"
      ],
      "execution_count": 9,
      "outputs": [
        {
          "output_type": "execute_result",
          "data": {
            "text/plain": [
              "(48723200, 9)"
            ]
          },
          "metadata": {
            "tags": []
          },
          "execution_count": 9
        }
      ]
    },
    {
      "cell_type": "code",
      "metadata": {
        "id": "jnfzK59jhIDQ",
        "colab_type": "code",
        "colab": {}
      },
      "source": [
        "del Xtrain"
      ],
      "execution_count": 0,
      "outputs": []
    },
    {
      "cell_type": "code",
      "metadata": {
        "id": "W9TKedrThJNM",
        "colab_type": "code",
        "colab": {
          "base_uri": "https://localhost:8080/",
          "height": 35
        },
        "outputId": "ca3a8ec7-b508-4935-d9dc-abb1ed372308"
      },
      "source": [
        "# 2,3,4,5,6 채널의 차이를 구하여 합함\n",
        "from itertools import combinations\n",
        "for i, j in list(combinations(range(5), 2)):\n",
        "   tempXtrain = np.hstack((tempXtrain, (tempXtrain[:, j+2] - tempXtrain[:, i+2]).reshape(-1, 1)))\n",
        "tempXtrain.shape"
      ],
      "execution_count": 11,
      "outputs": [
        {
          "output_type": "execute_result",
          "data": {
            "text/plain": [
              "(48723200, 19)"
            ]
          },
          "metadata": {
            "tags": []
          },
          "execution_count": 11
        }
      ]
    },
    {
      "cell_type": "code",
      "metadata": {
        "id": "6lBIfol0hYdp",
        "colab_type": "code",
        "colab": {}
      },
      "source": [
        "Xtrain=tempXtrain.reshape(30452,40,40,19)\n",
        "del tempXtrain"
      ],
      "execution_count": 0,
      "outputs": []
    },
    {
      "cell_type": "markdown",
      "metadata": {
        "id": "igNRwU7khSF9",
        "colab_type": "text"
      },
      "source": [
        "#4. 테스트용 train_test_split 나누기"
      ]
    },
    {
      "cell_type": "code",
      "metadata": {
        "id": "_OmZ3XN7hPsM",
        "colab_type": "code",
        "colab": {
          "base_uri": "https://localhost:8080/",
          "height": 53
        },
        "outputId": "0bd5f31e-720f-49c0-f85e-fbcc5184e6bd"
      },
      "source": [
        "xtrain,xtest,ytrain,ytest = train_test_split(Xtrain,Ytrain, test_size=0.025)\n",
        "del Xtrain\n",
        "del Ytrain #<- RAM 사용량 때문에 지움\n",
        "print(\"xtrain.shape:\",xtrain.shape,\"xtest.shape:\",xtest.shape,\"\\n\"\n",
        "      \"ytrain.shape:\",ytrain.shape,\"ytest.shape:\",ytest.shape)"
      ],
      "execution_count": 13,
      "outputs": [
        {
          "output_type": "stream",
          "text": [
            "xtrain.shape: (29690, 40, 40, 19) xtest.shape: (762, 40, 40, 19) \n",
            "ytrain.shape: (29690, 40, 40) ytest.shape: (762, 40, 40)\n"
          ],
          "name": "stdout"
        }
      ]
    },
    {
      "cell_type": "code",
      "metadata": {
        "id": "zEV3vwwThmJ9",
        "colab_type": "code",
        "colab": {}
      },
      "source": [
        "def mae_over_fscore(y_true, y_pred):\n",
        "    '''\n",
        "    y_true: sample_submission.csv 형태의 실제 값\n",
        "    y_pred: sample_submission.csv 형태의 예측 값\n",
        "    '''\n",
        "\n",
        "    y_true = np.array(y_true)\n",
        "    y_true = y_true.reshape(1, -1)[0]  \n",
        "    \n",
        "    y_pred = np.array(y_pred)\n",
        "    y_pred = y_pred.reshape(1, -1)[0]\n",
        "    \n",
        "    # 실제값이 0.1 이상인 픽셀의 위치 확인\n",
        "    IsGreaterThanEqualTo_PointOne = y_true >= 0.1\n",
        "    \n",
        "    # 실제 값에 결측값이 없는 픽셀의 위치 확인 \n",
        "    IsNotMissing = y_true >= 0\n",
        "    \n",
        "    # mae 계산\n",
        "    mae = np.mean(np.abs(y_true[IsGreaterThanEqualTo_PointOne] - y_pred[IsGreaterThanEqualTo_PointOne]))\n",
        "    \n",
        "    # f1_score 계산 위해, 실제값에 결측값이 없는 픽셀에 대해 1과 0으로 값 변환\n",
        "    y_true = np.where(y_true[IsNotMissing] >= 0.1, 1, 0)\n",
        "    \n",
        "    y_pred = np.where(y_pred[IsNotMissing] >= 0.1, 1, 0)\n",
        "    \n",
        "    # f1_score 계산    \n",
        "    f_score = f1_score(y_true, y_pred) \n",
        "    # f1_score가 0일 나올 경우를 대비하여 소량의 값 (1e-07) 추가 \n",
        "    return mae / (f_score + 1e-07) "
      ],
      "execution_count": 0,
      "outputs": []
    },
    {
      "cell_type": "code",
      "metadata": {
        "id": "wpEWam8vhn38",
        "colab_type": "code",
        "colab": {}
      },
      "source": [
        "def mae(y_true, y_pred):    \n",
        "    y_true, y_pred = np.array(y_true), np.array(y_pred)\n",
        "    \n",
        "    y_true = y_true.reshape(1, -1)[0]\n",
        "    \n",
        "    y_pred = y_pred.reshape(1, -1)[0]\n",
        "    \n",
        "    over_threshold = y_true >= 0.1\n",
        "    \n",
        "    return np.mean(np.abs(y_true[over_threshold] - y_pred[over_threshold]))\n",
        "\n",
        "def fscore(y_true, y_pred):\n",
        "    y_true, y_pred = np.array(y_true), np.array(y_pred)\n",
        "    \n",
        "    y_true = y_true.reshape(1, -1)[0]\n",
        "    \n",
        "    y_pred = y_pred.reshape(1, -1)[0]\n",
        "    \n",
        "    remove_NAs = y_true >= 0\n",
        "    \n",
        "    y_true = np.where(y_true[remove_NAs] >= 0.1, 1, 0)\n",
        "    \n",
        "    y_pred = np.where(y_pred[remove_NAs] >= 0.1, 1, 0)\n",
        "    \n",
        "    return(f1_score(y_true, y_pred))\n",
        "\n",
        "def maeOverFscore(y_true, y_pred):\n",
        "    return mae(y_true, y_pred) / (fscore(y_true, y_pred) + 1e-07)\n",
        "\n",
        "def fscore_keras(y_true, y_pred):\n",
        "    score = tf.py_function(func=fscore, inp=[y_true, y_pred], Tout=tf.float32, name='fscore_keras')\n",
        "    return score\n",
        "\n",
        "def score(y_true, y_pred):\n",
        "    score = tf.py_function(func=maeOverFscore, inp=[y_true, y_pred], Tout=tf.float32,  name='custom_mse') \n",
        "    return score"
      ],
      "execution_count": 0,
      "outputs": []
    },
    {
      "cell_type": "code",
      "metadata": {
        "id": "h-Cx9LIshpFr",
        "colab_type": "code",
        "colab": {}
      },
      "source": [
        "def create_model():\n",
        "    inputs=Input(xtrain.shape[1:])\n",
        "    \n",
        "    bn=BatchNormalization()(inputs)\n",
        "    conv0=Conv2D(256, kernel_size=1, strides=1, padding='same', activation='relu')(bn)\n",
        "    \n",
        "    bn=BatchNormalization()(conv0)\n",
        "    conv=Conv2D(128, kernel_size=2, strides=1, padding='same', activation='relu')(bn)\n",
        "    concat=concatenate([conv0, conv], axis=3)\n",
        "    \n",
        "    bn=BatchNormalization()(concat)\n",
        "    conv=Conv2D(64, kernel_size=3, strides=1, padding='same', activation='relu')(bn)\n",
        "    concat=concatenate([concat, conv], axis=3)\n",
        "        \n",
        "    for i in range(5):\n",
        "        bn=BatchNormalization()(concat)\n",
        "        conv=Conv2D(32, kernel_size=3, strides=1, padding='same', activation='relu')(bn)\n",
        "        concat=concatenate([concat, conv], axis=3)\n",
        "    \n",
        "    bn=BatchNormalization()(concat)\n",
        "    outputs=Conv2D(1, kernel_size=1, strides=1, padding='same', activation='relu')(bn)\n",
        "    \n",
        "    model=Model(inputs=inputs, outputs=outputs)\n",
        "    \n",
        "    return model"
      ],
      "execution_count": 0,
      "outputs": []
    },
    {
      "cell_type": "code",
      "metadata": {
        "id": "93oI4I6Ehulj",
        "colab_type": "code",
        "colab": {}
      },
      "source": [
        "Model = create_model() "
      ],
      "execution_count": 0,
      "outputs": []
    },
    {
      "cell_type": "code",
      "metadata": {
        "id": "ocq597tohvBa",
        "colab_type": "code",
        "colab": {}
      },
      "source": [
        "Model.compile(loss='mae', optimizer='adam', metrics=[score,fscore_keras])"
      ],
      "execution_count": 0,
      "outputs": []
    },
    {
      "cell_type": "code",
      "metadata": {
        "id": "wRbaYnQOiQ7J",
        "colab_type": "code",
        "colab": {
          "base_uri": "https://localhost:8080/",
          "height": 35
        },
        "outputId": "135c6c82-b503-42ea-c600-8b7324b5fb91"
      },
      "source": [
        "from keras.callbacks import EarlyStopping, ReduceLROnPlateau\n",
        "\n",
        "ReduceLROnPlateau = tf.keras.callbacks.ReduceLROnPlateau(monitor='val_loss',patience=7) # factor=0.05\n",
        "EarlyStop = tf.keras.callbacks.EarlyStopping(monitor='val_loss',patience=7,restore_best_weights=True)"
      ],
      "execution_count": 19,
      "outputs": [
        {
          "output_type": "stream",
          "text": [
            "Using TensorFlow backend.\n"
          ],
          "name": "stderr"
        }
      ]
    },
    {
      "cell_type": "code",
      "metadata": {
        "id": "SspSKPqKiVe8",
        "colab_type": "code",
        "colab": {}
      },
      "source": [
        "callback=[EarlyStop, ReduceLROnPlateau]"
      ],
      "execution_count": 0,
      "outputs": []
    },
    {
      "cell_type": "code",
      "metadata": {
        "id": "HEgxc-0VhvE5",
        "colab_type": "code",
        "colab": {
          "base_uri": "https://localhost:8080/",
          "height": 737
        },
        "outputId": "35bfbf44-e44f-4b44-ac74-a21496b5df51"
      },
      "source": [
        "hist = Model.fit(xtrain,ytrain,batch_size=64, epochs=10, verbose=1, callbacks=callback)"
      ],
      "execution_count": 21,
      "outputs": [
        {
          "output_type": "stream",
          "text": [
            "Epoch 1/10\n",
            "464/464 [==============================] - ETA: 0s - loss: 0.2731 - score: 2.3826 - fscore_keras: 0.6808WARNING:tensorflow:Early stopping conditioned on metric `val_loss` which is not available. Available metrics are: loss,score,fscore_keras\n",
            "WARNING:tensorflow:Reduce LR on plateau conditioned on metric `val_loss` which is not available. Available metrics are: loss,score,fscore_keras,lr\n",
            "464/464 [==============================] - 264s 570ms/step - loss: 0.2731 - score: 2.3826 - fscore_keras: 0.6808 - lr: 0.0010\n",
            "Epoch 2/10\n",
            "464/464 [==============================] - ETA: 0s - loss: 0.2322 - score: 1.9083 - fscore_keras: 0.7426WARNING:tensorflow:Early stopping conditioned on metric `val_loss` which is not available. Available metrics are: loss,score,fscore_keras\n",
            "WARNING:tensorflow:Reduce LR on plateau conditioned on metric `val_loss` which is not available. Available metrics are: loss,score,fscore_keras,lr\n",
            "464/464 [==============================] - 260s 561ms/step - loss: 0.2322 - score: 1.9083 - fscore_keras: 0.7426 - lr: 0.0010\n",
            "Epoch 3/10\n",
            "464/464 [==============================] - ETA: 0s - loss: 0.2280 - score: 1.8443 - fscore_keras: 0.7523WARNING:tensorflow:Early stopping conditioned on metric `val_loss` which is not available. Available metrics are: loss,score,fscore_keras\n",
            "WARNING:tensorflow:Reduce LR on plateau conditioned on metric `val_loss` which is not available. Available metrics are: loss,score,fscore_keras,lr\n",
            "464/464 [==============================] - 260s 561ms/step - loss: 0.2280 - score: 1.8443 - fscore_keras: 0.7523 - lr: 0.0010\n",
            "Epoch 4/10\n",
            "464/464 [==============================] - ETA: 0s - loss: 0.2247 - score: 1.7977 - fscore_keras: 0.7613WARNING:tensorflow:Early stopping conditioned on metric `val_loss` which is not available. Available metrics are: loss,score,fscore_keras\n",
            "WARNING:tensorflow:Reduce LR on plateau conditioned on metric `val_loss` which is not available. Available metrics are: loss,score,fscore_keras,lr\n",
            "464/464 [==============================] - 261s 562ms/step - loss: 0.2247 - score: 1.7977 - fscore_keras: 0.7613 - lr: 0.0010\n",
            "Epoch 5/10\n",
            "464/464 [==============================] - ETA: 0s - loss: 0.2226 - score: 1.7680 - fscore_keras: 0.7675WARNING:tensorflow:Early stopping conditioned on metric `val_loss` which is not available. Available metrics are: loss,score,fscore_keras\n",
            "WARNING:tensorflow:Reduce LR on plateau conditioned on metric `val_loss` which is not available. Available metrics are: loss,score,fscore_keras,lr\n",
            "464/464 [==============================] - 260s 560ms/step - loss: 0.2226 - score: 1.7680 - fscore_keras: 0.7675 - lr: 0.0010\n",
            "Epoch 6/10\n",
            "464/464 [==============================] - ETA: 0s - loss: 0.2211 - score: 1.7471 - fscore_keras: 0.7703WARNING:tensorflow:Early stopping conditioned on metric `val_loss` which is not available. Available metrics are: loss,score,fscore_keras\n",
            "WARNING:tensorflow:Reduce LR on plateau conditioned on metric `val_loss` which is not available. Available metrics are: loss,score,fscore_keras,lr\n",
            "464/464 [==============================] - 260s 560ms/step - loss: 0.2211 - score: 1.7471 - fscore_keras: 0.7703 - lr: 0.0010\n",
            "Epoch 7/10\n",
            "464/464 [==============================] - ETA: 0s - loss: 0.2198 - score: 1.7357 - fscore_keras: 0.7724WARNING:tensorflow:Early stopping conditioned on metric `val_loss` which is not available. Available metrics are: loss,score,fscore_keras\n",
            "WARNING:tensorflow:Reduce LR on plateau conditioned on metric `val_loss` which is not available. Available metrics are: loss,score,fscore_keras,lr\n",
            "464/464 [==============================] - 260s 560ms/step - loss: 0.2198 - score: 1.7357 - fscore_keras: 0.7724 - lr: 0.0010\n",
            "Epoch 8/10\n",
            "464/464 [==============================] - ETA: 0s - loss: 0.2182 - score: 1.7118 - fscore_keras: 0.7758WARNING:tensorflow:Early stopping conditioned on metric `val_loss` which is not available. Available metrics are: loss,score,fscore_keras\n",
            "WARNING:tensorflow:Reduce LR on plateau conditioned on metric `val_loss` which is not available. Available metrics are: loss,score,fscore_keras,lr\n",
            "464/464 [==============================] - 261s 562ms/step - loss: 0.2182 - score: 1.7118 - fscore_keras: 0.7758 - lr: 0.0010\n",
            "Epoch 9/10\n",
            "464/464 [==============================] - ETA: 0s - loss: 0.2172 - score: 1.7005 - fscore_keras: 0.7792WARNING:tensorflow:Early stopping conditioned on metric `val_loss` which is not available. Available metrics are: loss,score,fscore_keras\n",
            "WARNING:tensorflow:Reduce LR on plateau conditioned on metric `val_loss` which is not available. Available metrics are: loss,score,fscore_keras,lr\n",
            "464/464 [==============================] - 260s 561ms/step - loss: 0.2172 - score: 1.7005 - fscore_keras: 0.7792 - lr: 0.0010\n",
            "Epoch 10/10\n",
            "464/464 [==============================] - ETA: 0s - loss: 0.2163 - score: 1.6887 - fscore_keras: 0.7800WARNING:tensorflow:Early stopping conditioned on metric `val_loss` which is not available. Available metrics are: loss,score,fscore_keras\n",
            "WARNING:tensorflow:Reduce LR on plateau conditioned on metric `val_loss` which is not available. Available metrics are: loss,score,fscore_keras,lr\n",
            "464/464 [==============================] - 261s 562ms/step - loss: 0.2163 - score: 1.6887 - fscore_keras: 0.7800 - lr: 0.0010\n"
          ],
          "name": "stdout"
        }
      ]
    },
    {
      "cell_type": "code",
      "metadata": {
        "id": "42wIDH6rhvIB",
        "colab_type": "code",
        "colab": {
          "base_uri": "https://localhost:8080/",
          "height": 35
        },
        "outputId": "facdf9a7-da55-4f70-aeed-177fd8a30a5d"
      },
      "source": [
        "evaluation = Model.evaluate(xtest,ytest)"
      ],
      "execution_count": 22,
      "outputs": [
        {
          "output_type": "stream",
          "text": [
            "24/24 [==============================] - 4s 148ms/step - loss: 0.2431 - score: 1.8668 - fscore_keras: 0.7760\n"
          ],
          "name": "stdout"
        }
      ]
    },
    {
      "cell_type": "code",
      "metadata": {
        "id": "1tEBRMqBhvKu",
        "colab_type": "code",
        "colab": {
          "base_uri": "https://localhost:8080/",
          "height": 53
        },
        "outputId": "3629caed-0848-4cbb-bb1f-2bdae51d4e30"
      },
      "source": [
        "print(\"EarlyStop,ReduceLROnPlateau,accuracy:\",'\\n',\n",
        "      evaluation)"
      ],
      "execution_count": 23,
      "outputs": [
        {
          "output_type": "stream",
          "text": [
            "EarlyStop,ReduceLROnPlateau,accuracy: \n",
            " [0.24311287701129913, 1.8668127059936523, 0.7759681344032288]\n"
          ],
          "name": "stdout"
        }
      ]
    },
    {
      "cell_type": "code",
      "metadata": {
        "id": "C17YhX-ohvNd",
        "colab_type": "code",
        "colab": {}
      },
      "source": [
        "Model.save(\"./모델저장폴더/05-25 Resnet using refined DATA E10 B64.h5\")"
      ],
      "execution_count": 0,
      "outputs": []
    },
    {
      "cell_type": "code",
      "metadata": {
        "id": "nA71L8LRhvQO",
        "colab_type": "code",
        "colab": {}
      },
      "source": [
        ""
      ],
      "execution_count": 0,
      "outputs": []
    },
    {
      "cell_type": "code",
      "metadata": {
        "id": "2-Cu7YfHhvSx",
        "colab_type": "code",
        "colab": {}
      },
      "source": [
        ""
      ],
      "execution_count": 0,
      "outputs": []
    }
  ]
}