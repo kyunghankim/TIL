{
 "cells": [
  {
   "cell_type": "code",
   "execution_count": 72,
   "metadata": {},
   "outputs": [
    {
     "name": "stdout",
     "output_type": "stream",
     "text": [
      "3\n"
     ]
    },
    {
     "data": {
      "text/plain": [
       "list"
      ]
     },
     "execution_count": 72,
     "metadata": {},
     "output_type": "execute_result"
    }
   ],
   "source": [
    "1. 연습문제 숫자공부 프로그램\n",
    "\n",
    "from random import *\n",
    "import collections\n",
    "\n",
    "\n",
    "testnum=int(input())    # 테스트할 숫자의 길이 입력\n",
    "testcase=[]             \n",
    "for i in range(testnum):\n",
    "    testcase.append(randint(0,9))    #숫자의 길이만큼 0~9랜덤하게 append함\n",
    "type(testcase)\n",
    "def numlesson(testcase):\n",
    "    count_test=collections.Counter(testcase)    #collection.Counter로 갯수 셈\n",
    "    counts_number=list(count_test.values())     #숫자들을 센 value를 리스트로\n",
    "    number_reserved=[]                  #센 숫자가 홀수인애들 넣을 빈 리스트\n",
    "    for i in range(len(counts_number)):    \n",
    "        if counts_number[i]%2==1:      #숫자를 세서 홀수인 애들이면\n",
    "            number_reserved.append(counts_number[i])   #number_reserved에 추가!\n",
    "        else:                          #짝수면 지워졌으니 pass\n",
    "            pass\n",
    "    print(testcase,len(number_reserved))   # 테스트했던 숫자랑 남겨진 숫자 print\n",
    "numlesson(testcase)\n"
   ]
  },
  {
   "cell_type": "code",
   "execution_count": null,
   "metadata": {},
   "outputs": [],
   "source": [
    "\n"
   ]
  },
  {
   "cell_type": "code",
   "execution_count": null,
   "metadata": {},
   "outputs": [],
   "source": []
  },
  {
   "cell_type": "code",
   "execution_count": null,
   "metadata": {},
   "outputs": [],
   "source": []
  },
  {
   "cell_type": "code",
   "execution_count": null,
   "metadata": {},
   "outputs": [],
   "source": []
  },
  {
   "cell_type": "code",
   "execution_count": null,
   "metadata": {},
   "outputs": [],
   "source": []
  },
  {
   "cell_type": "code",
   "execution_count": null,
   "metadata": {},
   "outputs": [],
   "source": []
  },
  {
   "cell_type": "code",
   "execution_count": null,
   "metadata": {},
   "outputs": [],
   "source": []
  },
  {
   "cell_type": "code",
   "execution_count": null,
   "metadata": {},
   "outputs": [],
   "source": []
  }
 ],
 "metadata": {
  "kernelspec": {
   "display_name": "Python 3",
   "language": "python",
   "name": "python3"
  },
  "language_info": {
   "codemirror_mode": {
    "name": "ipython",
    "version": 3
   },
   "file_extension": ".py",
   "mimetype": "text/x-python",
   "name": "python",
   "nbconvert_exporter": "python",
   "pygments_lexer": "ipython3",
   "version": "3.7.4"
  }
 },
 "nbformat": 4,
 "nbformat_minor": 2
}
