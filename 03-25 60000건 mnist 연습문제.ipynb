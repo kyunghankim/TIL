{
 "cells": [
  {
   "cell_type": "code",
   "execution_count": 16,
   "metadata": {},
   "outputs": [],
   "source": [
    "import pandas as pd\n",
    "import numpy as np\n",
    "import scipy.special\n",
    "import matplotlib.pyplot as plt"
   ]
  },
  {
   "cell_type": "code",
   "execution_count": null,
   "metadata": {},
   "outputs": [],
   "source": [
    "\"\"\"\n",
    "epoch 변화를 주며 neuralNetwork만들기\n",
    "epoch마다 정확도가 어떻게 되는지 시각화\n",
    "\"\"\""
   ]
  },
  {
   "cell_type": "code",
   "execution_count": 14,
   "metadata": {},
   "outputs": [],
   "source": [
    "train=open('mnist_train.csv','r')\n",
    "test=open('mnist_test.csv','r')"
   ]
  },
  {
   "cell_type": "code",
   "execution_count": 15,
   "metadata": {},
   "outputs": [
    {
     "data": {
      "text/plain": [
       "60001"
      ]
     },
     "execution_count": 15,
     "metadata": {},
     "output_type": "execute_result"
    }
   ],
   "source": [
    "train_list=train.readlines()\n",
    "test_list=test.readlines()\n",
    "len(train_list)\n"
   ]
  },
  {
   "cell_type": "code",
   "execution_count": 21,
   "metadata": {},
   "outputs": [
    {
     "data": {
      "text/plain": [
       "<matplotlib.image.AxesImage at 0x282192ae048>"
      ]
     },
     "execution_count": 21,
     "metadata": {},
     "output_type": "execute_result"
    },
    {
     "data": {
      "image/png": "[encoded data removed]",
      "text/plain": [
       "<Figure size 432x288 with 1 Axes>"
      ]
     },
     "metadata": {
      "needs_background": "light"
     },
     "output_type": "display_data"
    }
   ],
   "source": [
    "all_values=train_list[1].split(\",\")\n",
    "type(all_values)\n",
    "image_array=np.asfarray(all_values[1:]).reshape((28,28))\n",
    "plt.imshow(image_array,cmap='Greys',interpolation=None)"
   ]
  },
  {
   "cell_type": "code",
   "execution_count": 23,
   "metadata": {},
   "outputs": [],
   "source": [
    "scaled_input=(np.asfarray(all_values[1:])/255*0.99)+0.01"
   ]
  },
  {
   "cell_type": "code",
   "execution_count": null,
   "metadata": {},
   "outputs": [],
   "source": [
    "class neuralNetwork():\n",
    "    #신경망 초기화 기능\n",
    "    def __init__(self,input_nodes,\\\n",
    "                hidden_nodes,output_nodes,learning_rate):\n",
    "        self.inodes=input_nodes\n",
    "        self.hnodes=hidden_nodes\n",
    "        self.onodes=output_nodes\n",
    "        self.lr=learning_rate\n",
    "        #가중치는 행렬로 표현\n",
    "        #입력/은닉 가중치 행렬:(은닉노드*입력노드)관행적으로\n",
    "        self.wih=np.random.normal(0.0, #<-형식:normal(평균,표준편차,개수)\n",
    "                         pow(self.hnodes,-0.5),\n",
    "                         (self.hnodes,self.inodes))\n",
    "        #입력/은닉 가중치 행렬:(은닉노드*입력노드)관행적으로\n",
    "        self.who=np.random.normal(0.0,\n",
    "                         pow(self.onodes,-0.5),\n",
    "                         (self.onodes,self.hnodes))\n",
    "        self.activation_function=lambda x:scipy.special.expit(x)\n",
    "        pass\n",
    "    #신경망 학습 기능(2단계)\n",
    "    #1단계(forward propagation): 입력데이터에 대해 계산(query)\n",
    "    #2단계(backward propagation): 예측값과 실제값의 차이를 계산->가중치 업데이트 단계\n",
    "    def train(self,inputs_list,targets_list):\n",
    "        inputs=np.array(inputs_list,ndmin=2).T\n",
    "        targets=np.array(targets_list,ndmin=2).T\n",
    "        \n",
    "         #은닉계층으로 들어오는 신호를 계산\n",
    "        hidden_inputs=np.dot(self.wih,inputs)\n",
    "        #은닉계층에서 나가는 신호 계산\n",
    "        hidden_outputs=self.activation_function(hidden_inputs)\n",
    "        #출력계층으로 들어오는 신호를 계산\n",
    "        final_inputs=np.dot(self.who,hidden_outputs)\n",
    "        #출력계층에서 나가는 신호 계산\n",
    "        final_outputs=self.activation_function(final_inputs)\n",
    "        \n",
    "        output_errors=targets-final_outputs\n",
    "        #오차=실제값-예측값\n",
    "        \n",
    "        #은닉 계층 노드에 대한 역전파된 오차\n",
    "        #은닉 계층의 오차는 가중치에 의해 나뉜\n",
    "        #출력 계층의 오차들을 재조합하여 계산\n",
    "        hidden_errors=np.dot(self.who.T,output_errors)\n",
    "        #은닉 계층과 출력 계층 간의 가중치 업데이트(who를 업데이트)\n",
    "        self.who+=self.lr*np.dot\\\n",
    "        ((output_errors*final_outputs*(1.0-final_outputs)),\n",
    "                       np.transpose(hidden_outputs))\n",
    "        self.wih+=self.lr*np.dot\\\n",
    "        ((hidden_errors*hidden_outputs*(1.0-hidden_outputs)),\n",
    "                       np.transpose(hidden_inputs))\n",
    "        \n",
    "        pass\n",
    "    #신경망 질의 기능\n",
    "    #신경ㅇ망으로 들어오는 입력을 받아 출력하는 node\n",
    "    def query(self,inputs_list):\n",
    "        #입력리스트를 2차원 행렬로 변환\n",
    "        inputs=np.array(inputs_list,ndmin=2).T\n",
    "        #은닉계층으로 들어오는 신호를 계산\n",
    "        hidden_inputs=np.dot(self.wih,inputs)\n",
    "        #은닉계층에서 나가는 신호 계산\n",
    "        hidden_outputs=self.activation_function(hidden_inputs)\n",
    "        #출력계층으로 들어오는 신호를 계산\n",
    "        final_inputs=np.dot(self.who,hidden_outputs)\n",
    "        #출력계층에서 나가는 신호 계산\n",
    "        final_outputs=self.activation_function(final_inputs)\n",
    "        return final_outputs"
   ]
  },
  {
   "cell_type": "code",
   "execution_count": null,
   "metadata": {},
   "outputs": [],
   "source": []
  },
  {
   "cell_type": "code",
   "execution_count": null,
   "metadata": {},
   "outputs": [],
   "source": []
  },
  {
   "cell_type": "code",
   "execution_count": null,
   "metadata": {},
   "outputs": [],
   "source": []
  },
  {
   "cell_type": "code",
   "execution_count": null,
   "metadata": {},
   "outputs": [],
   "source": []
  },
  {
   "cell_type": "code",
   "execution_count": null,
   "metadata": {},
   "outputs": [],
   "source": []
  }
 ],
 "metadata": {
  "kernelspec": {
   "display_name": "Python 3",
   "language": "python",
   "name": "python3"
  },
  "language_info": {
   "codemirror_mode": {
    "name": "ipython",
    "version": 3
   },
   "file_extension": ".py",
   "mimetype": "text/x-python",
   "name": "python",
   "nbconvert_exporter": "python",
   "pygments_lexer": "ipython3",
   "version": "3.7.4"
  }
 },
 "nbformat": 4,
 "nbformat_minor": 2
}
