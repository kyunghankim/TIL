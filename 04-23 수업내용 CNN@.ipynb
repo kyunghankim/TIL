{
 "cells": [
  {
   "cell_type": "code",
   "execution_count": null,
   "metadata": {},
   "outputs": [],
   "source": [
    "\"\"\"\n",
    "CNN(Convolutional nueral network,합성곱):\n",
    "이미지에서 특징들을 추출해서 특징값을 input으로 하자!\n",
    "\n",
    "숫자의 사진이 회전이 되더라도 특징은 그대로이기 때문에 특징으로 하는 것 중요\n",
    "\n",
    "ex:          1단계특징                     2단계특징    3단계:분류\n",
    "[고양이사진] -> [동그라미,세모,부드러움,가로] -> 눈코입귀 등 -(조합)-> [고양이]\n",
    "\n",
    "\"\"\""
   ]
  },
  {
   "cell_type": "code",
   "execution_count": null,
   "metadata": {},
   "outputs": [],
   "source": [
    "*위 단계 예:\n",
    "사진-> CNN{ [Convolutional Layer] -특징추출-> Neural Network} -(softmax)-> 고양:x%,개:y%       "
   ]
  },
  {
   "cell_type": "code",
   "execution_count": null,
   "metadata": {},
   "outputs": [],
   "source": [
    "*정리:Convolutional Layer란? 입력데이터로부터 특징을 추출하는 역할을 수행하는 계층\n",
    "    -필터: 특징을 추출하는 기능\n",
    "    -활성화 함수(Relu): 필터가 추출한 값을 비선형 값으로 변경해주는 함수\n",
    "*[Convolutional Layer]:[filter1 -> Relu\n",
    "                        filter2 -> Relu\n",
    "                        filter3 -> Relu]"
   ]
  },
  {
   "cell_type": "code",
   "execution_count": null,
   "metadata": {},
   "outputs": [],
   "source": [
    "*입력:\n",
    "    [사진](64*64) => [Convolution Layer](64*64*10) =>\n",
    "    (있을수도 없을 수도)[Pooling Layer]:크기가 줄어듬(ex: 32*32*x)\n",
    "        =>[Convolution Layer2](32*32*x)"
   ]
  },
  {
   "cell_type": "code",
   "execution_count": null,
   "metadata": {},
   "outputs": [],
   "source": [
    "*Pooling Layer:특징의 대표값을 추출하기 때문에 압축의 효과를 누린다,연산량도 줄어듬\n",
    "    기본형태는 Conv -> Pooling -> Conv : 번갈아가면서 이지만 설계하기, 나름 다를수도 있음,\n",
    "    Pooling할 때 stride(보폭)도 정해줄 수 있고 크기도 정해줄 수 있음,보통 input_data의 크기의\n",
    "    약수로 정해주는 경우가 많지만 꼭 그렇지 않아도 됨"
   ]
  },
  {
   "cell_type": "code",
   "execution_count": null,
   "metadata": {},
   "outputs": [],
   "source": [
    "*Pooling Layer(16*16)=(Flatening)=>[0,                       [0,  ->x%\n",
    "                                    1,                        1,  ->y%\n",
    "                                    ...   -Neural Network->  ...          =>출력:n\n",
    "                                    255]                     ,9]  ->z%\n",
    "장점:\n",
    "    1. 크기 감소, 속도 사응\n",
    "    2. 영역 대표적 특징\n",
    "    3. 위치나 각도 등의 변화에 대해 잘 적응하도록 수행하는 작업(여러방향에서 봐도 모델이 잘 작동)\n",
    "종류:\n",
    "    주로 많이쓰는건 Max pooling(그 영역을 대표하는 값을 압축해서 뽑겠다는 의미)\n",
    "    그외 mean pooling 등 있음"
   ]
  },
  {
   "cell_type": "code",
   "execution_count": null,
   "metadata": {},
   "outputs": [],
   "source": [
    "*filter: 어떤 특징이 해당 데이터에 있는지 확인하는 것(ex: 3*3에 있는지)\n",
    "    ex:\n",
    "        [물고기 사진] -filter: 특징1[(0,0,1,1,0,0)과같은] ->\n",
    "        [물고기 사진]의 일부 matrix와 합성곱을 함(특징이 있는 부분은 값이 커지게 됨) ->\n",
    "        sliding window: filter 크기만큼 한 matrix씩 옮겨가면서 합성곱을함->\n",
    "            특징이 있는 경우만 더 부각화 됨 p170~ 책 참조\n",
    "    => filter를 kernel(커널)이라고도 부름"
   ]
  },
  {
   "cell_type": "code",
   "execution_count": null,
   "metadata": {},
   "outputs": [],
   "source": [
    "*padding?"
   ]
  },
  {
   "cell_type": "code",
   "execution_count": null,
   "metadata": {},
   "outputs": [],
   "source": [
    "*이전 모델에선 wx+b,w:weight b:bias,를 썼었음\n",
    "filter의 값이 w의 역할!, 처음에 filter 값을 random_normal로 주고 update해줌\n",
    ", bias를 마지막에 추가해서 data 출력"
   ]
  },
  {
   "cell_type": "code",
   "execution_count": null,
   "metadata": {},
   "outputs": [],
   "source": [
    "*입력: (4,4), \n",
    "    패딩:1, 스트라이드: 1, filter(3,3)=>\n",
    "출력?\n",
    "    H=(4+2*1-3)/1 +1 = 4 (2는 2*패딩,4는 입력의 x)\n",
    "    w=(4+2*1-3)/1 +1 = 4 (3은 filter의 y)   \n",
    "입력:(7,7)\n",
    "    패딩:0, 스트라이드: 2, filter(3,3)=>\n",
    "    H=(7+2*0-3)/2 +1 = 3\n",
    "    w=(7+2*0-3)/2 +1 = 3"
   ]
  },
  {
   "cell_type": "code",
   "execution_count": null,
   "metadata": {},
   "outputs": [],
   "source": [
    "*3차원데이터의 합성곱?(RGB)\n",
    "3차원 데이터에 합성곱이므로 filter도 3차원이어야함"
   ]
  },
  {
   "cell_type": "code",
   "execution_count": 1,
   "metadata": {},
   "outputs": [],
   "source": [
    "import numpy as np\n",
    "import tensorflow as tf\n",
    "import matplotlib.pyplot as plt"
   ]
  },
  {
   "cell_type": "code",
   "execution_count": 3,
   "metadata": {},
   "outputs": [],
   "source": [
    "image=np.array([[[[1],[2],[3]],\n",
    "          [[4],[5],[6]],\n",
    "         [[7],[8],[9]]]],dtype=np.float32)"
   ]
  },
  {
   "cell_type": "code",
   "execution_count": 4,
   "metadata": {},
   "outputs": [
    {
     "data": {
      "text/plain": [
       "(1, 3, 3, 1)"
      ]
     },
     "execution_count": 4,
     "metadata": {},
     "output_type": "execute_result"
    }
   ],
   "source": [
    "image.shape"
   ]
  },
  {
   "cell_type": "code",
   "execution_count": 7,
   "metadata": {},
   "outputs": [
    {
     "ename": "TypeError",
     "evalue": "Invalid shape (1, 3, 3, 1) for image data",
     "output_type": "error",
     "traceback": [
      "\u001b[1;31m---------------------------------------------------------------------------\u001b[0m",
      "\u001b[1;31mTypeError\u001b[0m                                 Traceback (most recent call last)",
      "\u001b[1;32m<ipython-input-7-4a91873ad8f6>\u001b[0m in \u001b[0;36m<module>\u001b[1;34m\u001b[0m\n\u001b[1;32m----> 1\u001b[1;33m \u001b[0mplt\u001b[0m\u001b[1;33m.\u001b[0m\u001b[0mimshow\u001b[0m\u001b[1;33m(\u001b[0m\u001b[0mimage\u001b[0m\u001b[1;33m,\u001b[0m\u001b[0mcmap\u001b[0m\u001b[1;33m=\u001b[0m\u001b[1;34m'Greys'\u001b[0m\u001b[1;33m)\u001b[0m\u001b[1;33m\u001b[0m\u001b[1;33m\u001b[0m\u001b[0m\n\u001b[0m",
      "\u001b[1;32mC:\\ProgramData\\Anaconda3\\lib\\site-packages\\matplotlib\\pyplot.py\u001b[0m in \u001b[0;36mimshow\u001b[1;34m(X, cmap, norm, aspect, interpolation, alpha, vmin, vmax, origin, extent, shape, filternorm, filterrad, imlim, resample, url, data, **kwargs)\u001b[0m\n\u001b[0;32m   2682\u001b[0m         \u001b[0mfilternorm\u001b[0m\u001b[1;33m=\u001b[0m\u001b[0mfilternorm\u001b[0m\u001b[1;33m,\u001b[0m \u001b[0mfilterrad\u001b[0m\u001b[1;33m=\u001b[0m\u001b[0mfilterrad\u001b[0m\u001b[1;33m,\u001b[0m \u001b[0mimlim\u001b[0m\u001b[1;33m=\u001b[0m\u001b[0mimlim\u001b[0m\u001b[1;33m,\u001b[0m\u001b[1;33m\u001b[0m\u001b[1;33m\u001b[0m\u001b[0m\n\u001b[0;32m   2683\u001b[0m         resample=resample, url=url, **({\"data\": data} if data is not\n\u001b[1;32m-> 2684\u001b[1;33m         None else {}), **kwargs)\n\u001b[0m\u001b[0;32m   2685\u001b[0m     \u001b[0msci\u001b[0m\u001b[1;33m(\u001b[0m\u001b[0m__ret\u001b[0m\u001b[1;33m)\u001b[0m\u001b[1;33m\u001b[0m\u001b[1;33m\u001b[0m\u001b[0m\n\u001b[0;32m   2686\u001b[0m     \u001b[1;32mreturn\u001b[0m \u001b[0m__ret\u001b[0m\u001b[1;33m\u001b[0m\u001b[1;33m\u001b[0m\u001b[0m\n",
      "\u001b[1;32mC:\\ProgramData\\Anaconda3\\lib\\site-packages\\matplotlib\\__init__.py\u001b[0m in \u001b[0;36minner\u001b[1;34m(ax, data, *args, **kwargs)\u001b[0m\n\u001b[0;32m   1597\u001b[0m     \u001b[1;32mdef\u001b[0m \u001b[0minner\u001b[0m\u001b[1;33m(\u001b[0m\u001b[0max\u001b[0m\u001b[1;33m,\u001b[0m \u001b[1;33m*\u001b[0m\u001b[0margs\u001b[0m\u001b[1;33m,\u001b[0m \u001b[0mdata\u001b[0m\u001b[1;33m=\u001b[0m\u001b[1;32mNone\u001b[0m\u001b[1;33m,\u001b[0m \u001b[1;33m**\u001b[0m\u001b[0mkwargs\u001b[0m\u001b[1;33m)\u001b[0m\u001b[1;33m:\u001b[0m\u001b[1;33m\u001b[0m\u001b[1;33m\u001b[0m\u001b[0m\n\u001b[0;32m   1598\u001b[0m         \u001b[1;32mif\u001b[0m \u001b[0mdata\u001b[0m \u001b[1;32mis\u001b[0m \u001b[1;32mNone\u001b[0m\u001b[1;33m:\u001b[0m\u001b[1;33m\u001b[0m\u001b[1;33m\u001b[0m\u001b[0m\n\u001b[1;32m-> 1599\u001b[1;33m             \u001b[1;32mreturn\u001b[0m \u001b[0mfunc\u001b[0m\u001b[1;33m(\u001b[0m\u001b[0max\u001b[0m\u001b[1;33m,\u001b[0m \u001b[1;33m*\u001b[0m\u001b[0mmap\u001b[0m\u001b[1;33m(\u001b[0m\u001b[0msanitize_sequence\u001b[0m\u001b[1;33m,\u001b[0m \u001b[0margs\u001b[0m\u001b[1;33m)\u001b[0m\u001b[1;33m,\u001b[0m \u001b[1;33m**\u001b[0m\u001b[0mkwargs\u001b[0m\u001b[1;33m)\u001b[0m\u001b[1;33m\u001b[0m\u001b[1;33m\u001b[0m\u001b[0m\n\u001b[0m\u001b[0;32m   1600\u001b[0m \u001b[1;33m\u001b[0m\u001b[0m\n\u001b[0;32m   1601\u001b[0m         \u001b[0mbound\u001b[0m \u001b[1;33m=\u001b[0m \u001b[0mnew_sig\u001b[0m\u001b[1;33m.\u001b[0m\u001b[0mbind\u001b[0m\u001b[1;33m(\u001b[0m\u001b[0max\u001b[0m\u001b[1;33m,\u001b[0m \u001b[1;33m*\u001b[0m\u001b[0margs\u001b[0m\u001b[1;33m,\u001b[0m \u001b[1;33m**\u001b[0m\u001b[0mkwargs\u001b[0m\u001b[1;33m)\u001b[0m\u001b[1;33m\u001b[0m\u001b[1;33m\u001b[0m\u001b[0m\n",
      "\u001b[1;32mC:\\ProgramData\\Anaconda3\\lib\\site-packages\\matplotlib\\cbook\\deprecation.py\u001b[0m in \u001b[0;36mwrapper\u001b[1;34m(*args, **kwargs)\u001b[0m\n\u001b[0;32m    367\u001b[0m                 \u001b[1;34mf\"%(removal)s.  If any parameter follows {name!r}, they \"\u001b[0m\u001b[1;33m\u001b[0m\u001b[1;33m\u001b[0m\u001b[0m\n\u001b[0;32m    368\u001b[0m                 f\"should be pass as keyword, not positionally.\")\n\u001b[1;32m--> 369\u001b[1;33m         \u001b[1;32mreturn\u001b[0m \u001b[0mfunc\u001b[0m\u001b[1;33m(\u001b[0m\u001b[1;33m*\u001b[0m\u001b[0margs\u001b[0m\u001b[1;33m,\u001b[0m \u001b[1;33m**\u001b[0m\u001b[0mkwargs\u001b[0m\u001b[1;33m)\u001b[0m\u001b[1;33m\u001b[0m\u001b[1;33m\u001b[0m\u001b[0m\n\u001b[0m\u001b[0;32m    370\u001b[0m \u001b[1;33m\u001b[0m\u001b[0m\n\u001b[0;32m    371\u001b[0m     \u001b[1;32mreturn\u001b[0m \u001b[0mwrapper\u001b[0m\u001b[1;33m\u001b[0m\u001b[1;33m\u001b[0m\u001b[0m\n",
      "\u001b[1;32mC:\\ProgramData\\Anaconda3\\lib\\site-packages\\matplotlib\\cbook\\deprecation.py\u001b[0m in \u001b[0;36mwrapper\u001b[1;34m(*args, **kwargs)\u001b[0m\n\u001b[0;32m    367\u001b[0m                 \u001b[1;34mf\"%(removal)s.  If any parameter follows {name!r}, they \"\u001b[0m\u001b[1;33m\u001b[0m\u001b[1;33m\u001b[0m\u001b[0m\n\u001b[0;32m    368\u001b[0m                 f\"should be pass as keyword, not positionally.\")\n\u001b[1;32m--> 369\u001b[1;33m         \u001b[1;32mreturn\u001b[0m \u001b[0mfunc\u001b[0m\u001b[1;33m(\u001b[0m\u001b[1;33m*\u001b[0m\u001b[0margs\u001b[0m\u001b[1;33m,\u001b[0m \u001b[1;33m**\u001b[0m\u001b[0mkwargs\u001b[0m\u001b[1;33m)\u001b[0m\u001b[1;33m\u001b[0m\u001b[1;33m\u001b[0m\u001b[0m\n\u001b[0m\u001b[0;32m    370\u001b[0m \u001b[1;33m\u001b[0m\u001b[0m\n\u001b[0;32m    371\u001b[0m     \u001b[1;32mreturn\u001b[0m \u001b[0mwrapper\u001b[0m\u001b[1;33m\u001b[0m\u001b[1;33m\u001b[0m\u001b[0m\n",
      "\u001b[1;32mC:\\ProgramData\\Anaconda3\\lib\\site-packages\\matplotlib\\axes\\_axes.py\u001b[0m in \u001b[0;36mimshow\u001b[1;34m(self, X, cmap, norm, aspect, interpolation, alpha, vmin, vmax, origin, extent, shape, filternorm, filterrad, imlim, resample, url, **kwargs)\u001b[0m\n\u001b[0;32m   5677\u001b[0m                               resample=resample, **kwargs)\n\u001b[0;32m   5678\u001b[0m \u001b[1;33m\u001b[0m\u001b[0m\n\u001b[1;32m-> 5679\u001b[1;33m         \u001b[0mim\u001b[0m\u001b[1;33m.\u001b[0m\u001b[0mset_data\u001b[0m\u001b[1;33m(\u001b[0m\u001b[0mX\u001b[0m\u001b[1;33m)\u001b[0m\u001b[1;33m\u001b[0m\u001b[1;33m\u001b[0m\u001b[0m\n\u001b[0m\u001b[0;32m   5680\u001b[0m         \u001b[0mim\u001b[0m\u001b[1;33m.\u001b[0m\u001b[0mset_alpha\u001b[0m\u001b[1;33m(\u001b[0m\u001b[0malpha\u001b[0m\u001b[1;33m)\u001b[0m\u001b[1;33m\u001b[0m\u001b[1;33m\u001b[0m\u001b[0m\n\u001b[0;32m   5681\u001b[0m         \u001b[1;32mif\u001b[0m \u001b[0mim\u001b[0m\u001b[1;33m.\u001b[0m\u001b[0mget_clip_path\u001b[0m\u001b[1;33m(\u001b[0m\u001b[1;33m)\u001b[0m \u001b[1;32mis\u001b[0m \u001b[1;32mNone\u001b[0m\u001b[1;33m:\u001b[0m\u001b[1;33m\u001b[0m\u001b[1;33m\u001b[0m\u001b[0m\n",
      "\u001b[1;32mC:\\ProgramData\\Anaconda3\\lib\\site-packages\\matplotlib\\image.py\u001b[0m in \u001b[0;36mset_data\u001b[1;34m(self, A)\u001b[0m\n\u001b[0;32m    688\u001b[0m                 or self._A.ndim == 3 and self._A.shape[-1] in [3, 4]):\n\u001b[0;32m    689\u001b[0m             raise TypeError(\"Invalid shape {} for image data\"\n\u001b[1;32m--> 690\u001b[1;33m                             .format(self._A.shape))\n\u001b[0m\u001b[0;32m    691\u001b[0m \u001b[1;33m\u001b[0m\u001b[0m\n\u001b[0;32m    692\u001b[0m         \u001b[1;32mif\u001b[0m \u001b[0mself\u001b[0m\u001b[1;33m.\u001b[0m\u001b[0m_A\u001b[0m\u001b[1;33m.\u001b[0m\u001b[0mndim\u001b[0m \u001b[1;33m==\u001b[0m \u001b[1;36m3\u001b[0m\u001b[1;33m:\u001b[0m\u001b[1;33m\u001b[0m\u001b[1;33m\u001b[0m\u001b[0m\n",
      "\u001b[1;31mTypeError\u001b[0m: Invalid shape (1, 3, 3, 1) for image data"
     ]
    },
    {
     "data": {
      "image/png": "[encoded data removed]",
      "text/plain": [
       "<Figure size 432x288 with 1 Axes>"
      ]
     },
     "metadata": {
      "needs_background": "light"
     },
     "output_type": "display_data"
    }
   ],
   "source": [
    "plt.imshow(image,cmap='Greys')\n",
    "#shape error나오는 상태"
   ]
  },
  {
   "cell_type": "code",
   "execution_count": 8,
   "metadata": {},
   "outputs": [
    {
     "data": {
      "text/plain": [
       "<matplotlib.image.AxesImage at 0x231cfb3ef88>"
      ]
     },
     "execution_count": 8,
     "metadata": {},
     "output_type": "execute_result"
    },
    {
     "data": {
      "image/png": "[encoded data removed]",
      "text/plain": [
       "<Figure size 432x288 with 1 Axes>"
      ]
     },
     "metadata": {
      "needs_background": "light"
     },
     "output_type": "display_data"
    }
   ],
   "source": [
    "# shape=(100 ,5,4,3) -> 100장의 사진, 마지막3은 RGB 칼라색상\n",
    "plt.imshow(image.reshape(3,3),cmap='Greys') "
   ]
  },
  {
   "cell_type": "code",
   "execution_count": 13,
   "metadata": {},
   "outputs": [
    {
     "name": "stdout",
     "output_type": "stream",
     "text": [
      "Tensor(\"Const:0\", shape=(2, 2, 1, 1), dtype=float32)\n"
     ]
    }
   ],
   "source": [
    "weight=tf.constant([[[[1.]],[[1.]]],\n",
    "                  [[[1.]],[[1.]]]])\n",
    "print(weight)"
   ]
  },
  {
   "cell_type": "code",
   "execution_count": 14,
   "metadata": {},
   "outputs": [],
   "source": [
    "sess=tf.InteractiveSession()\n",
    "\n",
    "conv2d = tf.nn.conv2d(image,weight,strides=[1,1,1,1],padding='VALID') #<- convolutional 2 demention\n",
    "#strides의 가운데 2개 몇줄만큼 이동하냐 의 변수, 2번째가 좌우, 3번째가 위아래\n",
    "conv2dimage=conv2d.eval() #<- 합성곱 연산"
   ]
  },
  {
   "cell_type": "code",
   "execution_count": 17,
   "metadata": {},
   "outputs": [
    {
     "data": {
      "text/plain": [
       "array([[[[12.],\n",
       "         [16.]],\n",
       "\n",
       "        [[24.],\n",
       "         [28.]]]], dtype=float32)"
      ]
     },
     "execution_count": 17,
     "metadata": {},
     "output_type": "execute_result"
    }
   ],
   "source": [
    "conv2dimage.shape\n",
    "conv2dimage"
   ]
  },
  {
   "cell_type": "code",
   "execution_count": 21,
   "metadata": {},
   "outputs": [
    {
     "name": "stdout",
     "output_type": "stream",
     "text": [
      "[[12. 16.]\n",
      " [24. 28.]]\n"
     ]
    },
    {
     "data": {
      "image/png": "[encoded data removed]",
      "text/plain": [
       "<Figure size 432x288 with 1 Axes>"
      ]
     },
     "metadata": {
      "needs_background": "light"
     },
     "output_type": "display_data"
    }
   ],
   "source": [
    "for i , img in enumerate(conv2dimage):\n",
    "    print(img.reshape(2,2))\n",
    "    plt.subplot(1,2,i+1)\n",
    "    plt.imshow(img.reshape(2,2),cmap='gray') #<- filter를 적용한 그림"
   ]
  },
  {
   "cell_type": "code",
   "execution_count": 22,
   "metadata": {},
   "outputs": [],
   "source": [
    "conv2d = tf.nn.conv2d(image,weight,strides=[1,1,1,1],padding='SAME')\n",
    "conv2dimage=conv2d.eval() #<-padding을 same으로 주어서 원래 크기를 유지"
   ]
  },
  {
   "cell_type": "code",
   "execution_count": 23,
   "metadata": {},
   "outputs": [
    {
     "data": {
      "text/plain": [
       "(1, 3, 3, 1)"
      ]
     },
     "execution_count": 23,
     "metadata": {},
     "output_type": "execute_result"
    }
   ],
   "source": [
    "conv2dimage.shape"
   ]
  },
  {
   "cell_type": "code",
   "execution_count": 24,
   "metadata": {},
   "outputs": [
    {
     "name": "stdout",
     "output_type": "stream",
     "text": [
      "[[12. 16.  9.]\n",
      " [24. 28. 15.]\n",
      " [15. 17.  9.]]\n"
     ]
    },
    {
     "data": {
      "image/png": "[encoded data removed]",
      "text/plain": [
       "<Figure size 432x288 with 1 Axes>"
      ]
     },
     "metadata": {
      "needs_background": "light"
     },
     "output_type": "display_data"
    }
   ],
   "source": [
    "for i , img in enumerate(conv2dimage):\n",
    "    print(img.reshape(3,3))\n",
    "    plt.subplot(1,2,i+1)\n",
    "    plt.imshow(img.reshape(3,3),cmap='gray') "
   ]
  },
  {
   "cell_type": "code",
   "execution_count": 25,
   "metadata": {},
   "outputs": [],
   "source": [
    "#mnist 데이터 -> CNN 모델\n",
    "import random\n",
    "from tensorflow.examples.tutorials.mnist import input_data"
   ]
  },
  {
   "cell_type": "code",
   "execution_count": 56,
   "metadata": {},
   "outputs": [],
   "source": [
    "tf.reset_default_graph()"
   ]
  },
  {
   "cell_type": "code",
   "execution_count": 57,
   "metadata": {},
   "outputs": [
    {
     "name": "stdout",
     "output_type": "stream",
     "text": [
      "Extracting MNIST_data/train-images-idx3-ubyte.gz\n",
      "Extracting MNIST_data/train-labels-idx1-ubyte.gz\n",
      "Extracting MNIST_data/t10k-images-idx3-ubyte.gz\n",
      "Extracting MNIST_data/t10k-labels-idx1-ubyte.gz\n"
     ]
    }
   ],
   "source": [
    "mnist=input_data.read_data_sets(\"MNIST_data/\",one_hot=True)"
   ]
  },
  {
   "cell_type": "code",
   "execution_count": 58,
   "metadata": {},
   "outputs": [],
   "source": [
    "#하이퍼 퍼러미터: 모델의 성능에 변화를 주는 변수들\n",
    "lr=0.001\n",
    "epochs=15\n",
    "batch_size=100"
   ]
  },
  {
   "cell_type": "code",
   "execution_count": 59,
   "metadata": {},
   "outputs": [],
   "source": [
    "#입력층\n",
    "keep_prob=tf.placeholder(tf.float32) #<- 새로 추가됨\n",
    "x = tf.placeholder(tf.float32,[None,28*28])\n",
    "ximg = tf.reshape(x,[-1,28,28,1]) #<- -1의 의미는 None, tensorflow에선 None이라고 함,\n",
    "#-1도 None과 같은 의미로 쓰이는데 numpy에서 그렇게쓰임. 결과적으론 같은의미가 됨\n",
    "#2차원 구조를 4차원구조로 바꾸어줌\n",
    "y = tf.placeholder(tf.float32,[None,10])"
   ]
  },
  {
   "cell_type": "code",
   "execution_count": 60,
   "metadata": {},
   "outputs": [],
   "source": [
    "\n",
    "x = tf.placeholder(tf.float32,[None,28*28])\n",
    "ximg = tf.reshape(x,[-1,28,28,1]) #<- -1의 의미는 None, tensorflow에선 None이라고 함,\n",
    "#-1도 None과 같은 의미로 쓰이는데 numpy에서 그렇게쓰임. 결과적으론 같은의미가 됨\n",
    "#2차원 구조를 4차원구조로 바꾸어줌\n",
    "y = tf.placeholder(tf.float32,[None,10])\n",
    "\n",
    "#Hidden layer1: weight1=filter\n",
    "w1 = tf.Variable(tf.random_normal([3,3,1,32],stddev=0.01)) #<-RBB channel이 아니기 때문에 1\n",
    "# (3,3)은 높이와 너비, 1은 채널의 개수, 32는 filter의 개수: 32개의 특징을 찾겠다\n",
    "#conv -> (?,28,28,32)\n",
    "# relu -> (?,28,28,32)\n",
    "#pool ->  (?,14,14,32)\n",
    "l1 = tf.nn.conv2d(ximg,w1,strides=[1,1,1,1],padding='SAME')\n",
    "l1 = tf.nn.relu(l1)\n",
    "l1=tf.nn.max_pool(l1,\n",
    "               ksize=[1,2,2,1],\n",
    "               strides=[1,2,2,1],padding='SAME') #<-(2,2): window의 크기가 (2,2)"
   ]
  },
  {
   "cell_type": "code",
   "execution_count": 61,
   "metadata": {},
   "outputs": [
    {
     "name": "stdout",
     "output_type": "stream",
     "text": [
      "epoch: 0001 cost 0.38254\n",
      "epoch: 0002 cost 0.10074\n",
      "epoch: 0003 cost 0.07071\n",
      "epoch: 0004 cost 0.05589\n",
      "epoch: 0005 cost 0.04723\n",
      "epoch: 0006 cost 0.03914\n",
      "epoch: 0007 cost 0.03415\n",
      "epoch: 0008 cost 0.03003\n",
      "epoch: 0009 cost 0.02592\n",
      "epoch: 0010 cost 0.02378\n",
      "epoch: 0011 cost 0.02046\n",
      "epoch: 0012 cost 0.01857\n",
      "epoch: 0013 cost 0.01623\n",
      "epoch: 0014 cost 0.01455\n",
      "epoch: 0015 cost 0.01308\n",
      "accuracy: 0.9884\n"
     ]
    }
   ],
   "source": [
    "\n",
    "x = tf.placeholder(tf.float32,[None,28*28])\n",
    "ximg = tf.reshape(x,[-1,28,28,1]) #<- -1의 의미는 None, tensorflow에선 None이라고 함,\n",
    "#-1도 None과 같은 의미로 쓰이는데 numpy에서 그렇게쓰임. 결과적으론 같은의미가 됨\n",
    "#2차원 구조를 4차원구조로 바꾸어줌\n",
    "y = tf.placeholder(tf.float32,[None,10])\n",
    "\n",
    "#Hidden layer1: weight1=filter\n",
    "w1 = tf.Variable(tf.random_normal([3,3,1,32],stddev=0.01)) #<-RBB channel이 아니기 때문에 1\n",
    "# (3,3)은 높이와 너비, 1은 채널의 개수, 32는 filter의 개수: 32개의 특징을 찾겠다\n",
    "#conv -> (?,28,28,32)\n",
    "# relu -> (?,28,28,32)\n",
    "#pool ->  (?,14,14,32)\n",
    "l1 = tf.nn.conv2d(ximg,w1,strides=[1,1,1,1],padding='SAME')\n",
    "l1 = tf.nn.relu(l1)\n",
    "l1=tf.nn.max_pool(l1,\n",
    "               ksize=[1,2,2,1],\n",
    "               strides=[1,2,2,1],padding='SAME') #<-(2,2): window의 크기가 (2,2)\n",
    "\n",
    "w2 = tf.Variable(tf.random_normal([3,3,32,64],stddev=0.01))\n",
    "#conv -> (?,14,14,64)\n",
    "#relu -> (?,14,14,32)\n",
    "#pool ->  (?,7,7,32)\n",
    "#flat ->  (?,3136)\n",
    "l2= tf.nn.conv2d(l1,w2,strides=[1,1,1,1],padding='SAME')\n",
    "l2 = tf.nn.relu(l2)\n",
    "l2 = tf.nn.max_pool(l2,\n",
    "               ksize=[1,2,2,1],\n",
    "               strides=[1,2,2,1],padding='SAME') #<-(2,2): window의 크기가 (2,2)\n",
    "l2_flat = tf.reshape(l2,[-1,7*7*64]) #<- flatten함수도 있지만 reshape으로 해도 됨\n",
    "\n",
    "#마지막계층 FC 7*7*64 -> 10 output\n",
    "w3 = tf.get_variable(\"w3\",shape=[7*7*64,10],\n",
    "                     initializer=tf.contrib.layers.xavier_initializer())\n",
    "#이 과정 그림으로 꼭 그려보기\n",
    "b=tf.Variable(tf.random_normal([10]))\n",
    "hf=tf.matmul(l2_flat,w3)+b\n",
    "cost = tf.reduce_mean(tf.nn.softmax_cross_entropy_with_logits_v2(logits=hf, labels=y))\n",
    "opt=tf.train.AdamOptimizer(lr).minimize(cost)\n",
    "\n",
    "sess=tf.Session()\n",
    "sess.run(tf.global_variables_initializer())\n",
    "\n",
    "for epoch in range(epochs):\n",
    "    avgCost = 0\n",
    "    totalBatch = int(mnist.train.num_examples/batch_size)\n",
    "    for i in range(totalBatch): #<-한번 돌 때 마다 1 epoch수행됨\n",
    "        batchX,batchY = mnist.train.next_batch(batch_size) #<-batch_size만큼 data를 가져옴\n",
    "        fd={x:batchX,y:batchY}\n",
    "        cv,_=sess.run([cost,opt],feed_dict=fd)\n",
    "        avgCost+=cv/totalBatch\n",
    "    print(\"epoch:\",\"%04d\" %(epoch+1),\"cost\",\"{:.5f}\".format(avgCost))\n",
    "pred=tf.equal(tf.argmax(hf,1),tf.argmax(y,1))\n",
    "acc=tf.reduce_mean(tf.cast(pred,tf.float32))\n",
    "print(\"accuracy:\",sess.run(acc,\n",
    "                           feed_dict={x:mnist.test.images,y:mnist.test.labels}))"
   ]
  },
  {
   "cell_type": "code",
   "execution_count": 63,
   "metadata": {},
   "outputs": [],
   "source": [
    "tf.reset_default_graph()"
   ]
  },
  {
   "cell_type": "code",
   "execution_count": 64,
   "metadata": {},
   "outputs": [
    {
     "ename": "ValueError",
     "evalue": "Tensor(\"sub_2:0\", dtype=float32) must be from the same graph as Tensor(\"dropout/random_uniform:0\", shape=(?, 14, 14, 32), dtype=float32).",
     "output_type": "error",
     "traceback": [
      "\u001b[1;31m---------------------------------------------------------------------------\u001b[0m",
      "\u001b[1;31mValueError\u001b[0m                                Traceback (most recent call last)",
      "\u001b[1;32m<ipython-input-64-ddcf962be863>\u001b[0m in \u001b[0;36m<module>\u001b[1;34m\u001b[0m\n\u001b[0;32m     12\u001b[0m                \u001b[0mksize\u001b[0m\u001b[1;33m=\u001b[0m\u001b[1;33m[\u001b[0m\u001b[1;36m1\u001b[0m\u001b[1;33m,\u001b[0m\u001b[1;36m2\u001b[0m\u001b[1;33m,\u001b[0m\u001b[1;36m2\u001b[0m\u001b[1;33m,\u001b[0m\u001b[1;36m1\u001b[0m\u001b[1;33m]\u001b[0m\u001b[1;33m,\u001b[0m\u001b[1;33m\u001b[0m\u001b[1;33m\u001b[0m\u001b[0m\n\u001b[0;32m     13\u001b[0m                strides=[1,2,2,1],padding='SAME') #<-(2,2): window의 크기가 (2,2)\n\u001b[1;32m---> 14\u001b[1;33m \u001b[0ml1\u001b[0m \u001b[1;33m=\u001b[0m \u001b[0mtf\u001b[0m\u001b[1;33m.\u001b[0m\u001b[0mnn\u001b[0m\u001b[1;33m.\u001b[0m\u001b[0mdropout\u001b[0m\u001b[1;33m(\u001b[0m\u001b[0ml1\u001b[0m\u001b[1;33m,\u001b[0m\u001b[0mkeep_prob\u001b[0m\u001b[1;33m=\u001b[0m\u001b[0mkeep_prob\u001b[0m\u001b[1;33m)\u001b[0m\u001b[1;33m\u001b[0m\u001b[1;33m\u001b[0m\u001b[0m\n\u001b[0m\u001b[0;32m     15\u001b[0m \u001b[1;33m\u001b[0m\u001b[0m\n\u001b[0;32m     16\u001b[0m \u001b[0mw2\u001b[0m \u001b[1;33m=\u001b[0m \u001b[0mtf\u001b[0m\u001b[1;33m.\u001b[0m\u001b[0mVariable\u001b[0m\u001b[1;33m(\u001b[0m\u001b[0mtf\u001b[0m\u001b[1;33m.\u001b[0m\u001b[0mrandom_normal\u001b[0m\u001b[1;33m(\u001b[0m\u001b[1;33m[\u001b[0m\u001b[1;36m3\u001b[0m\u001b[1;33m,\u001b[0m\u001b[1;36m3\u001b[0m\u001b[1;33m,\u001b[0m\u001b[1;36m32\u001b[0m\u001b[1;33m,\u001b[0m\u001b[1;36m64\u001b[0m\u001b[1;33m]\u001b[0m\u001b[1;33m,\u001b[0m\u001b[0mstddev\u001b[0m\u001b[1;33m=\u001b[0m\u001b[1;36m0.01\u001b[0m\u001b[1;33m)\u001b[0m\u001b[1;33m)\u001b[0m\u001b[1;33m\u001b[0m\u001b[1;33m\u001b[0m\u001b[0m\n",
      "\u001b[1;32mC:\\ProgramData\\Anaconda3\\lib\\site-packages\\tensorflow_core\\python\\util\\deprecation.py\u001b[0m in \u001b[0;36mnew_func\u001b[1;34m(*args, **kwargs)\u001b[0m\n\u001b[0;32m    505\u001b[0m                 \u001b[1;34m'in a future version'\u001b[0m \u001b[1;32mif\u001b[0m \u001b[0mdate\u001b[0m \u001b[1;32mis\u001b[0m \u001b[1;32mNone\u001b[0m \u001b[1;32melse\u001b[0m \u001b[1;33m(\u001b[0m\u001b[1;34m'after %s'\u001b[0m \u001b[1;33m%\u001b[0m \u001b[0mdate\u001b[0m\u001b[1;33m)\u001b[0m\u001b[1;33m,\u001b[0m\u001b[1;33m\u001b[0m\u001b[1;33m\u001b[0m\u001b[0m\n\u001b[0;32m    506\u001b[0m                 instructions)\n\u001b[1;32m--> 507\u001b[1;33m       \u001b[1;32mreturn\u001b[0m \u001b[0mfunc\u001b[0m\u001b[1;33m(\u001b[0m\u001b[1;33m*\u001b[0m\u001b[0margs\u001b[0m\u001b[1;33m,\u001b[0m \u001b[1;33m**\u001b[0m\u001b[0mkwargs\u001b[0m\u001b[1;33m)\u001b[0m\u001b[1;33m\u001b[0m\u001b[1;33m\u001b[0m\u001b[0m\n\u001b[0m\u001b[0;32m    508\u001b[0m \u001b[1;33m\u001b[0m\u001b[0m\n\u001b[0;32m    509\u001b[0m     doc = _add_deprecated_arg_notice_to_docstring(\n",
      "\u001b[1;32mC:\\ProgramData\\Anaconda3\\lib\\site-packages\\tensorflow_core\\python\\ops\\nn_ops.py\u001b[0m in \u001b[0;36mdropout\u001b[1;34m(x, keep_prob, noise_shape, seed, name, rate)\u001b[0m\n\u001b[0;32m   4227\u001b[0m     \u001b[1;32mraise\u001b[0m \u001b[0mValueError\u001b[0m\u001b[1;33m(\u001b[0m\u001b[1;34m\"You must provide a rate to dropout.\"\u001b[0m\u001b[1;33m)\u001b[0m\u001b[1;33m\u001b[0m\u001b[1;33m\u001b[0m\u001b[0m\n\u001b[0;32m   4228\u001b[0m \u001b[1;33m\u001b[0m\u001b[0m\n\u001b[1;32m-> 4229\u001b[1;33m   \u001b[1;32mreturn\u001b[0m \u001b[0mdropout_v2\u001b[0m\u001b[1;33m(\u001b[0m\u001b[0mx\u001b[0m\u001b[1;33m,\u001b[0m \u001b[0mrate\u001b[0m\u001b[1;33m,\u001b[0m \u001b[0mnoise_shape\u001b[0m\u001b[1;33m=\u001b[0m\u001b[0mnoise_shape\u001b[0m\u001b[1;33m,\u001b[0m \u001b[0mseed\u001b[0m\u001b[1;33m=\u001b[0m\u001b[0mseed\u001b[0m\u001b[1;33m,\u001b[0m \u001b[0mname\u001b[0m\u001b[1;33m=\u001b[0m\u001b[0mname\u001b[0m\u001b[1;33m)\u001b[0m\u001b[1;33m\u001b[0m\u001b[1;33m\u001b[0m\u001b[0m\n\u001b[0m\u001b[0;32m   4230\u001b[0m \u001b[1;33m\u001b[0m\u001b[0m\n\u001b[0;32m   4231\u001b[0m \u001b[1;33m\u001b[0m\u001b[0m\n",
      "\u001b[1;32mC:\\ProgramData\\Anaconda3\\lib\\site-packages\\tensorflow_core\\python\\ops\\nn_ops.py\u001b[0m in \u001b[0;36mdropout_v2\u001b[1;34m(x, rate, noise_shape, seed, name)\u001b[0m\n\u001b[0;32m   4311\u001b[0m     \u001b[1;31m# NOTE: if (1.0 + rate) - 1 is equal to rate, then we want to consider that\u001b[0m\u001b[1;33m\u001b[0m\u001b[1;33m\u001b[0m\u001b[1;33m\u001b[0m\u001b[0m\n\u001b[0;32m   4312\u001b[0m     \u001b[1;31m# float to be selected, hence we use a >= comparison.\u001b[0m\u001b[1;33m\u001b[0m\u001b[1;33m\u001b[0m\u001b[1;33m\u001b[0m\u001b[0m\n\u001b[1;32m-> 4313\u001b[1;33m     \u001b[0mkeep_mask\u001b[0m \u001b[1;33m=\u001b[0m \u001b[0mrandom_tensor\u001b[0m \u001b[1;33m>=\u001b[0m \u001b[0mrate\u001b[0m\u001b[1;33m\u001b[0m\u001b[1;33m\u001b[0m\u001b[0m\n\u001b[0m\u001b[0;32m   4314\u001b[0m     \u001b[0mret\u001b[0m \u001b[1;33m=\u001b[0m \u001b[0mx\u001b[0m \u001b[1;33m*\u001b[0m \u001b[0mscale\u001b[0m \u001b[1;33m*\u001b[0m \u001b[0mmath_ops\u001b[0m\u001b[1;33m.\u001b[0m\u001b[0mcast\u001b[0m\u001b[1;33m(\u001b[0m\u001b[0mkeep_mask\u001b[0m\u001b[1;33m,\u001b[0m \u001b[0mx\u001b[0m\u001b[1;33m.\u001b[0m\u001b[0mdtype\u001b[0m\u001b[1;33m)\u001b[0m\u001b[1;33m\u001b[0m\u001b[1;33m\u001b[0m\u001b[0m\n\u001b[0;32m   4315\u001b[0m     \u001b[1;32mif\u001b[0m \u001b[1;32mnot\u001b[0m \u001b[0mcontext\u001b[0m\u001b[1;33m.\u001b[0m\u001b[0mexecuting_eagerly\u001b[0m\u001b[1;33m(\u001b[0m\u001b[1;33m)\u001b[0m\u001b[1;33m:\u001b[0m\u001b[1;33m\u001b[0m\u001b[1;33m\u001b[0m\u001b[0m\n",
      "\u001b[1;32mC:\\ProgramData\\Anaconda3\\lib\\site-packages\\tensorflow_core\\python\\ops\\gen_math_ops.py\u001b[0m in \u001b[0;36mgreater_equal\u001b[1;34m(x, y, name)\u001b[0m\n\u001b[0;32m   4479\u001b[0m   \u001b[1;32mtry\u001b[0m\u001b[1;33m:\u001b[0m\u001b[1;33m\u001b[0m\u001b[1;33m\u001b[0m\u001b[0m\n\u001b[0;32m   4480\u001b[0m     _, _, _op = _op_def_lib._apply_op_helper(\n\u001b[1;32m-> 4481\u001b[1;33m         \"GreaterEqual\", x=x, y=y, name=name)\n\u001b[0m\u001b[0;32m   4482\u001b[0m   \u001b[1;32mexcept\u001b[0m \u001b[1;33m(\u001b[0m\u001b[0mTypeError\u001b[0m\u001b[1;33m,\u001b[0m \u001b[0mValueError\u001b[0m\u001b[1;33m)\u001b[0m\u001b[1;33m:\u001b[0m\u001b[1;33m\u001b[0m\u001b[1;33m\u001b[0m\u001b[0m\n\u001b[0;32m   4483\u001b[0m     result = _dispatch.dispatch(\n",
      "\u001b[1;32mC:\\ProgramData\\Anaconda3\\lib\\site-packages\\tensorflow_core\\python\\framework\\op_def_library.py\u001b[0m in \u001b[0;36m_apply_op_helper\u001b[1;34m(self, op_type_name, name, **keywords)\u001b[0m\n\u001b[0;32m    365\u001b[0m       \u001b[1;31m# Need to flatten all the arguments into a list.\u001b[0m\u001b[1;33m\u001b[0m\u001b[1;33m\u001b[0m\u001b[1;33m\u001b[0m\u001b[0m\n\u001b[0;32m    366\u001b[0m       \u001b[1;31m# pylint: disable=protected-access\u001b[0m\u001b[1;33m\u001b[0m\u001b[1;33m\u001b[0m\u001b[1;33m\u001b[0m\u001b[0m\n\u001b[1;32m--> 367\u001b[1;33m       \u001b[0mg\u001b[0m \u001b[1;33m=\u001b[0m \u001b[0mops\u001b[0m\u001b[1;33m.\u001b[0m\u001b[0m_get_graph_from_inputs\u001b[0m\u001b[1;33m(\u001b[0m\u001b[0m_Flatten\u001b[0m\u001b[1;33m(\u001b[0m\u001b[0mkeywords\u001b[0m\u001b[1;33m.\u001b[0m\u001b[0mvalues\u001b[0m\u001b[1;33m(\u001b[0m\u001b[1;33m)\u001b[0m\u001b[1;33m)\u001b[0m\u001b[1;33m)\u001b[0m\u001b[1;33m\u001b[0m\u001b[1;33m\u001b[0m\u001b[0m\n\u001b[0m\u001b[0;32m    368\u001b[0m       \u001b[1;31m# pylint: enable=protected-access\u001b[0m\u001b[1;33m\u001b[0m\u001b[1;33m\u001b[0m\u001b[1;33m\u001b[0m\u001b[0m\n\u001b[0;32m    369\u001b[0m     \u001b[1;32mexcept\u001b[0m \u001b[0mAssertionError\u001b[0m \u001b[1;32mas\u001b[0m \u001b[0me\u001b[0m\u001b[1;33m:\u001b[0m\u001b[1;33m\u001b[0m\u001b[1;33m\u001b[0m\u001b[0m\n",
      "\u001b[1;32mC:\\ProgramData\\Anaconda3\\lib\\site-packages\\tensorflow_core\\python\\framework\\ops.py\u001b[0m in \u001b[0;36m_get_graph_from_inputs\u001b[1;34m(op_input_list, graph)\u001b[0m\n\u001b[0;32m   5977\u001b[0m         \u001b[0mgraph\u001b[0m \u001b[1;33m=\u001b[0m \u001b[0mgraph_element\u001b[0m\u001b[1;33m.\u001b[0m\u001b[0mgraph\u001b[0m\u001b[1;33m\u001b[0m\u001b[1;33m\u001b[0m\u001b[0m\n\u001b[0;32m   5978\u001b[0m       \u001b[1;32melif\u001b[0m \u001b[0moriginal_graph_element\u001b[0m \u001b[1;32mis\u001b[0m \u001b[1;32mnot\u001b[0m \u001b[1;32mNone\u001b[0m\u001b[1;33m:\u001b[0m\u001b[1;33m\u001b[0m\u001b[1;33m\u001b[0m\u001b[0m\n\u001b[1;32m-> 5979\u001b[1;33m         \u001b[0m_assert_same_graph\u001b[0m\u001b[1;33m(\u001b[0m\u001b[0moriginal_graph_element\u001b[0m\u001b[1;33m,\u001b[0m \u001b[0mgraph_element\u001b[0m\u001b[1;33m)\u001b[0m\u001b[1;33m\u001b[0m\u001b[1;33m\u001b[0m\u001b[0m\n\u001b[0m\u001b[0;32m   5980\u001b[0m       \u001b[1;32melif\u001b[0m \u001b[0mgraph_element\u001b[0m\u001b[1;33m.\u001b[0m\u001b[0mgraph\u001b[0m \u001b[1;32mis\u001b[0m \u001b[1;32mnot\u001b[0m \u001b[0mgraph\u001b[0m\u001b[1;33m:\u001b[0m\u001b[1;33m\u001b[0m\u001b[1;33m\u001b[0m\u001b[0m\n\u001b[0;32m   5981\u001b[0m         \u001b[1;32mraise\u001b[0m \u001b[0mValueError\u001b[0m\u001b[1;33m(\u001b[0m\u001b[1;34m\"%s is not from the passed-in graph.\"\u001b[0m \u001b[1;33m%\u001b[0m \u001b[0mgraph_element\u001b[0m\u001b[1;33m)\u001b[0m\u001b[1;33m\u001b[0m\u001b[1;33m\u001b[0m\u001b[0m\n",
      "\u001b[1;32mC:\\ProgramData\\Anaconda3\\lib\\site-packages\\tensorflow_core\\python\\framework\\ops.py\u001b[0m in \u001b[0;36m_assert_same_graph\u001b[1;34m(original_item, item)\u001b[0m\n\u001b[0;32m   5912\u001b[0m   \u001b[1;32mif\u001b[0m \u001b[0moriginal_item\u001b[0m\u001b[1;33m.\u001b[0m\u001b[0mgraph\u001b[0m \u001b[1;32mis\u001b[0m \u001b[1;32mnot\u001b[0m \u001b[0mitem\u001b[0m\u001b[1;33m.\u001b[0m\u001b[0mgraph\u001b[0m\u001b[1;33m:\u001b[0m\u001b[1;33m\u001b[0m\u001b[1;33m\u001b[0m\u001b[0m\n\u001b[0;32m   5913\u001b[0m     raise ValueError(\"%s must be from the same graph as %s.\" %\n\u001b[1;32m-> 5914\u001b[1;33m                      (item, original_item))\n\u001b[0m\u001b[0;32m   5915\u001b[0m \u001b[1;33m\u001b[0m\u001b[0m\n\u001b[0;32m   5916\u001b[0m \u001b[1;33m\u001b[0m\u001b[0m\n",
      "\u001b[1;31mValueError\u001b[0m: Tensor(\"sub_2:0\", dtype=float32) must be from the same graph as Tensor(\"dropout/random_uniform:0\", shape=(?, 14, 14, 32), dtype=float32)."
     ]
    }
   ],
   "source": [
    "\n",
    "x = tf.placeholder(tf.float32,[None,28*28])\n",
    "ximg = tf.reshape(x,[-1,28,28,1]) #<- -1의 의미는 None, tensorflow에선 None이라고 함,\n",
    "\n",
    "y = tf.placeholder(tf.float32,[None,10])\n",
    "\n",
    "#Hidden layer1: weight1=filter\n",
    "w1 = tf.Variable(tf.random_normal([3,3,1,32],stddev=0.01)) #<-RBB channel이 아니기 때문에 1\n",
    "\n",
    "l1 = tf.nn.conv2d(ximg,w1,strides=[1,1,1,1],padding='SAME')\n",
    "l1 = tf.nn.relu(l1)\n",
    "l1=tf.nn.max_pool(l1,\n",
    "               ksize=[1,2,2,1],\n",
    "               strides=[1,2,2,1],padding='SAME') #<-(2,2): window의 크기가 (2,2)\n",
    "l1 = tf.nn.dropout(l1,keep_prob=keep_prob)\n",
    "\n",
    "w2 = tf.Variable(tf.random_normal([3,3,32,64],stddev=0.01))\n",
    "\n",
    "l2= tf.nn.conv2d(l1,w2,strides=[1,1,1,1],padding='SAME')\n",
    "l2 = tf.nn.relu(l2)\n",
    "l2 = tf.nn.max_pool(l2,\n",
    "               ksize=[1,2,2,1],\n",
    "               strides=[1,2,2,1],padding='SAME') #<-(2,2): window의 크기가 (2,2)\n",
    "l2 = tf.nn.dropout(l2,keep_prob=keep_prob)\n",
    "l2_flat = tf.reshape(l2,[-1,7*7*64]) #<- flatten함수도 있지만 reshape으로 해도 됨\n",
    "\n",
    "w3 = tf.get_variable(\"w3\",shape=[7*7*64,10],\n",
    "                     initializer=tf.contrib.layers.xavier_initializer())\n",
    "\n",
    "b=tf.Variable(tf.random_normal([10]))\n",
    "hf=tf.matmul(l2_flat,w3)+b\n",
    "cost = tf.reduce_mean(tf.nn.softmax_cross_entropy_with_logits_v2(logits=hf, labels=y))\n",
    "opt=tf.train.AdamOptimizer(lr).minimize(cost)\n",
    "\n",
    "sess=tf.Session()\n",
    "sess.run(tf.global_variables_initializer())\n",
    "\n",
    "for epoch in range(epochs):\n",
    "    avgCost = 0\n",
    "    totalBatch = int(mnist.train.num_examples/batch_size)\n",
    "    for i in range(totalBatch): #<-한번 돌 때 마다 1 epoch수행됨\n",
    "        batchX,batchY = mnist.train.next_batch(batch_size) #<-batch_size만큼 data를 가져옴\n",
    "        fd={x:batchX,y:batchY,keep_prob:0.7}\n",
    "        cv,_=sess.run([cost,opt],feed_dict=fd)\n",
    "        avgCost+=cv/totalBatch\n",
    "    print(\"epoch:\",\"%04d\" %(epoch+1),\"cost\",\"{:.5f}\".format(avgCost))\n",
    "pred=tf.equal(tf.argmax(hf,1),tf.argmax(y,1))\n",
    "acc=tf.reduce_mean(tf.cast(pred,tf.float32))\n",
    "print(\"accuracy:\",sess.run(acc,\n",
    "                           feed_dict={x:mnist.test.images,\n",
    "                                      y:mnist.test.labels,\n",
    "                                      keep_prob:1}))"
   ]
  },
  {
   "cell_type": "code",
   "execution_count": null,
   "metadata": {},
   "outputs": [],
   "source": []
  },
  {
   "cell_type": "code",
   "execution_count": null,
   "metadata": {},
   "outputs": [],
   "source": []
  },
  {
   "cell_type": "code",
   "execution_count": null,
   "metadata": {},
   "outputs": [],
   "source": []
  },
  {
   "cell_type": "code",
   "execution_count": null,
   "metadata": {},
   "outputs": [],
   "source": []
  }
 ],
 "metadata": {
  "kernelspec": {
   "display_name": "Python 3",
   "language": "python",
   "name": "python3"
  },
  "language_info": {
   "codemirror_mode": {
    "name": "ipython",
    "version": 3
   },
   "file_extension": ".py",
   "mimetype": "text/x-python",
   "name": "python",
   "nbconvert_exporter": "python",
   "pygments_lexer": "ipython3",
   "version": "3.7.6"
  }
 },
 "nbformat": 4,
 "nbformat_minor": 4
}
