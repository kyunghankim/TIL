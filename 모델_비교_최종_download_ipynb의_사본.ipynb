{
  "nbformat": 4,
  "nbformat_minor": 0,
  "metadata": {
    "colab": {
      "name": "모델_비교_최종 download.ipynb의 사본",
      "provenance": [],
      "collapsed_sections": [
        "lTXcXnLVkV-o"
      ],
      "machine_shape": "hm"
    },
    "kernelspec": {
      "name": "python3",
      "display_name": "Python 3"
    },
    "accelerator": "GPU"
  },
  "cells": [
    {
      "cell_type": "markdown",
      "metadata": {
        "id": "LqtsMSWL2XU4",
        "colab_type": "text"
      },
      "source": [
        "# 경고 메세지 무시"
      ]
    },
    {
      "cell_type": "code",
      "metadata": {
        "id": "DkUz9mddgtdv",
        "colab_type": "code",
        "colab": {}
      },
      "source": [
        "import warnings\n",
        "warnings.filterwarnings(\"ignore\")"
      ],
      "execution_count": 0,
      "outputs": []
    },
    {
      "cell_type": "markdown",
      "metadata": {
        "id": "aWzotgAi2R_L",
        "colab_type": "text"
      },
      "source": [
        "# 재생산성을 위해 시드 고정"
      ]
    },
    {
      "cell_type": "code",
      "metadata": {
        "id": "AoykbzuczqRu",
        "colab_type": "code",
        "colab": {}
      },
      "source": [
        "from tensorflow.keras.datasets.mnist import load_data\n",
        "from tensorflow.keras.models import load_model, Model\n",
        "from tensorflow.keras.layers import Input, Conv2D, Add, BatchNormalization, concatenate\n",
        "\n",
        "from sklearn.model_selection import train_test_split\n",
        "from sklearn.model_selection import KFold\n",
        "from sklearn.metrics import f1_score"
      ],
      "execution_count": 0,
      "outputs": []
    },
    {
      "cell_type": "code",
      "metadata": {
        "id": "60WHzIBQB3ej",
        "colab_type": "code",
        "colab": {}
      },
      "source": [
        "%tensorflow_version 1.x"
      ],
      "execution_count": 0,
      "outputs": []
    },
    {
      "cell_type": "code",
      "metadata": {
        "id": "C3OTeZrQuKIZ",
        "colab_type": "code",
        "colab": {}
      },
      "source": [
        "import random\n",
        "import numpy as np\n",
        "import tensorflow as tf\n",
        "np.random.seed(777)\n",
        "random.seed(777)\n",
        "tf.random.set_seed(777)"
      ],
      "execution_count": 0,
      "outputs": []
    },
    {
      "cell_type": "markdown",
      "metadata": {
        "id": "dQBfOqbz19RO",
        "colab_type": "text"
      },
      "source": [
        "# 데이터 불러오기"
      ]
    },
    {
      "cell_type": "code",
      "metadata": {
        "id": "XQJQW28aLgnR",
        "colab_type": "code",
        "outputId": "a00456ac-7824-49a0-dc3b-4d6df1a5fe70",
        "colab": {
          "base_uri": "https://localhost:8080/",
          "height": 127
        }
      },
      "source": [
        "import os\n",
        "from google.colab import drive\n",
        "drive.mount('/gdrive', force_remount=True)\n",
        "os.chdir('/gdrive/My Drive')"
      ],
      "execution_count": 4,
      "outputs": [
        {
          "output_type": "stream",
          "text": [
            "Go to this URL in a browser: https://accounts.google.com/o/oauth2/auth?client_id=947318989803-6bn6qk8qdgf4n4g3pfee6491hc0brc4i.apps.googleusercontent.com&redirect_uri=urn%3aietf%3awg%3aoauth%3a2.0%3aoob&response_type=code&scope=email%20https%3a%2f%2fwww.googleapis.com%2fauth%2fdocs.test%20https%3a%2f%2fwww.googleapis.com%2fauth%2fdrive%20https%3a%2f%2fwww.googleapis.com%2fauth%2fdrive.photos.readonly%20https%3a%2f%2fwww.googleapis.com%2fauth%2fpeopleapi.readonly\n",
            "\n",
            "Enter your authorization code:\n",
            "··········\n",
            "Mounted at /gdrive\n"
          ],
          "name": "stdout"
        }
      ]
    },
    {
      "cell_type": "code",
      "metadata": {
        "id": "0-OmSpJrg2hD",
        "colab_type": "code",
        "colab": {}
      },
      "source": [
        "# 디렉토리 변경\n",
        "newPath='./데이콘 정리된데이터'\n",
        "train_diff = np.load(newPath+\"/full_train_diff.npy\")"
      ],
      "execution_count": 0,
      "outputs": []
    },
    {
      "cell_type": "code",
      "metadata": {
        "id": "dLSoQrzV0SLU",
        "colab_type": "code",
        "outputId": "0aa3f5a4-0630-4b9f-a5ee-781bf9793d17",
        "colab": {
          "base_uri": "https://localhost:8080/",
          "height": 35
        }
      },
      "source": [
        "train_diff.shape"
      ],
      "execution_count": 6,
      "outputs": [
        {
          "output_type": "execute_result",
          "data": {
            "text/plain": [
              "(76345, 40, 40, 13)"
            ]
          },
          "metadata": {
            "tags": []
          },
          "execution_count": 6
        }
      ]
    },
    {
      "cell_type": "code",
      "metadata": {
        "id": "MVTqlkNwLKZ3",
        "colab_type": "code",
        "outputId": "4accdb5c-0997-4b5f-d0e0-62db7d375e08",
        "colab": {
          "base_uri": "https://localhost:8080/",
          "height": 35
        }
      },
      "source": [
        "# # 강수량이 -9999인것 삭제(이미 되어져 있어서 shape그대로)\n",
        "# train_diff = np.delete(train_diff, np.where(train_diff[:, :, :, -1] == -9999), axis=0)\n",
        "# train_diff.shape"
      ],
      "execution_count": 13,
      "outputs": [
        {
          "output_type": "execute_result",
          "data": {
            "text/plain": [
              "(76345, 40, 40, 13)"
            ]
          },
          "metadata": {
            "tags": []
          },
          "execution_count": 13
        }
      ]
    },
    {
      "cell_type": "code",
      "metadata": {
        "id": "axgYSzUJozH2",
        "colab_type": "code",
        "colab": {}
      },
      "source": [
        "values = list(range(train_diff.shape[0]))\n",
        "\n",
        "from sklearn.model_selection import train_test_split\n",
        "train_num, test_num = train_test_split(values, test_size=0.025)\n",
        "\n",
        "xTrain = train_diff[:,:,:,:-1][train_num]\n",
        "yTrain = train_diff[:,:,:,-1][train_num]\n",
        "xValid = train_diff[:,:,:,:-1][test_num]\n",
        "yValid = train_diff[:,:,:,-1][test_num]\n",
        "\n",
        "xTrain.shape, yTrain.shape, xValid.shape, yValid.shape"
      ],
      "execution_count": 0,
      "outputs": []
    },
    {
      "cell_type": "markdown",
      "metadata": {
        "id": "VpFWlY9MvY5z",
        "colab_type": "text"
      },
      "source": [
        "## train_diff를 image, surface, location, precipitation으로 나누기"
      ]
    },
    {
      "cell_type": "code",
      "metadata": {
        "id": "8JvdwZQNLv8x",
        "colab_type": "code",
        "colab": {}
      },
      "source": [
        "train_diff_images = xTrain[:, :, :, :9]\n",
        "train_diff_surface = xTrain[:, :, :, 9]\n",
        "train_diff_location_diff = xTrain[:, :, :, 10:12]\n",
        "train_diff_precipitation = xTrain[:, :, :, -1]\n",
        "del xTrain"
      ],
      "execution_count": 0,
      "outputs": []
    },
    {
      "cell_type": "code",
      "metadata": {
        "id": "XcROj1AJ1-n-",
        "colab_type": "code",
        "colab": {
          "base_uri": "https://localhost:8080/",
          "height": 35
        },
        "outputId": "be0b32ec-4ace-426c-d22a-c92bb624049d"
      },
      "source": [
        "xValid_diff_images = xValid[:, :, :, :9]\n",
        "xValid_diff_surface = xValid[:, :, :, 9]\n",
        "xValid_diff_location_diff = xValid[:, :, :, 10:12]\n",
        "xValid_diff_precipitation = xValid[:, :, :, -1]\n",
        "del xValid\n",
        "xValid_diff_location_diff.shape"
      ],
      "execution_count": 29,
      "outputs": [
        {
          "output_type": "execute_result",
          "data": {
            "text/plain": [
              "(1909, 40, 40, 2)"
            ]
          },
          "metadata": {
            "tags": []
          },
          "execution_count": 29
        }
      ]
    },
    {
      "cell_type": "code",
      "metadata": {
        "id": "XnwVJt5OO-lk",
        "colab_type": "code",
        "outputId": "5b20547a-5ce6-4898-c780-dba6574d7860",
        "colab": {
          "base_uri": "https://localhost:8080/",
          "height": 35
        }
      },
      "source": [
        "train_diff_location_diff.shape"
      ],
      "execution_count": 10,
      "outputs": [
        {
          "output_type": "execute_result",
          "data": {
            "text/plain": [
              "(74436, 40, 40, 2)"
            ]
          },
          "metadata": {
            "tags": []
          },
          "execution_count": 10
        }
      ]
    },
    {
      "cell_type": "markdown",
      "metadata": {
        "id": "xboZV-iWvhlh",
        "colab_type": "text"
      },
      "source": [
        "## 각각 scaling하기"
      ]
    },
    {
      "cell_type": "code",
      "metadata": {
        "id": "IgO7aKDJkr0q",
        "colab_type": "code",
        "colab": {
          "base_uri": "https://localhost:8080/",
          "height": 35
        },
        "outputId": "cbe9002d-0eff-4172-ec7c-401141167eaa"
      },
      "source": [
        "# xtrain image Std scaling하기\n",
        "mean = train_diff_images[:,:,:,:9].mean(axis=(0,1,2))\n",
        "std = train_diff_images[:,:,:,:9].std(axis=(0,1,2))\n",
        "train_diff_images[:,:,:,:9] = (train_diff_images[:,:,:,:9] - mean) / std\n",
        "train_diff_images.shape"
      ],
      "execution_count": 11,
      "outputs": [
        {
          "output_type": "execute_result",
          "data": {
            "text/plain": [
              "(74436, 40, 40, 9)"
            ]
          },
          "metadata": {
            "tags": []
          },
          "execution_count": 11
        }
      ]
    },
    {
      "cell_type": "code",
      "metadata": {
        "id": "sFRlb6tf3zM_",
        "colab_type": "code",
        "colab": {
          "base_uri": "https://localhost:8080/",
          "height": 35
        },
        "outputId": "86bf535f-5ee0-4af9-903e-316997aaaa4c"
      },
      "source": [
        "# xvalid image Std scaling하기\n",
        "mean = xValid_diff_images[:,:,:,:9].mean(axis=(0,1,2))\n",
        "std = xValid_diff_images[:,:,:,:9].std(axis=(0,1,2))\n",
        "xValid_diff_images[:,:,:,:9] = (xValid_diff_images[:,:,:,:9] - mean) / std\n",
        "xValid_diff_images.shape"
      ],
      "execution_count": 30,
      "outputs": [
        {
          "output_type": "execute_result",
          "data": {
            "text/plain": [
              "(1909, 40, 40, 9)"
            ]
          },
          "metadata": {
            "tags": []
          },
          "execution_count": 30
        }
      ]
    },
    {
      "cell_type": "code",
      "metadata": {
        "id": "EFPIyGb4ksFP",
        "colab_type": "code",
        "colab": {}
      },
      "source": [
        "# 지표 타입 변경 (300->3,200->2,...)\n",
        "train_diff_surface = np.where(train_diff_surface >= 300, 2, np.where(train_diff_surface >= 200, 1, np.where(train_diff_surface >= 100, 3, train_diff_surface)))"
      ],
      "execution_count": 0,
      "outputs": []
    },
    {
      "cell_type": "code",
      "metadata": {
        "id": "2d_oeW_N4LHN",
        "colab_type": "code",
        "colab": {}
      },
      "source": [
        "# 지표 타입 변경 (300->3,200->2,...)\n",
        "xValid_diff_surface = np.where(xValid_diff_surface >= 300, 2, np.where(xValid_diff_surface >= 200, 1, np.where(xValid_diff_surface >= 100, 3, xValid_diff_surface)))"
      ],
      "execution_count": 0,
      "outputs": []
    },
    {
      "cell_type": "code",
      "metadata": {
        "id": "KT_hFhmS4H7D",
        "colab_type": "code",
        "colab": {}
      },
      "source": [
        "xValid"
      ],
      "execution_count": 0,
      "outputs": []
    },
    {
      "cell_type": "code",
      "metadata": {
        "id": "SDSaJByZksKz",
        "colab_type": "code",
        "colab": {
          "base_uri": "https://localhost:8080/",
          "height": 35
        },
        "outputId": "3af97ec9-5845-48fa-c732-22fe1e43e92f"
      },
      "source": [
        "train_diff_location_diff[:,:,:,:2].shape\n",
        "xValid_diff_location_diff[:,:,:,:2].shape"
      ],
      "execution_count": 34,
      "outputs": [
        {
          "output_type": "execute_result",
          "data": {
            "text/plain": [
              "(1909, 40, 40, 2)"
            ]
          },
          "metadata": {
            "tags": []
          },
          "execution_count": 34
        }
      ]
    },
    {
      "cell_type": "markdown",
      "metadata": {
        "id": "g6aHHbfEvkhS",
        "colab_type": "text"
      },
      "source": [
        "## 다시 합치기"
      ]
    },
    {
      "cell_type": "code",
      "metadata": {
        "id": "-w1cTtAhksAu",
        "colab_type": "code",
        "colab": {}
      },
      "source": [
        "train_scaled = np.concatenate((train_diff_images, train_diff_surface.reshape(-1, 40, 40, 1), train_diff_location_diff, train_diff_precipitation.reshape(-1, 40, 40, 1)), axis=3)"
      ],
      "execution_count": 0,
      "outputs": []
    },
    {
      "cell_type": "code",
      "metadata": {
        "id": "bFNvSOFv4h6H",
        "colab_type": "code",
        "colab": {}
      },
      "source": [
        "xValid_scaled = np.concatenate((xValid_diff_images, xValid_diff_surface.reshape(-1, 40, 40, 1), xValid_diff_location_diff, xValid_diff_precipitation.reshape(-1, 40, 40, 1)), axis=3)"
      ],
      "execution_count": 0,
      "outputs": []
    },
    {
      "cell_type": "code",
      "metadata": {
        "id": "0a6eiMEpkr_9",
        "colab_type": "code",
        "colab": {}
      },
      "source": [
        "del train_diff_images, train_diff_location_diff,train_diff_surface,train_diff_precipitation"
      ],
      "execution_count": 0,
      "outputs": []
    },
    {
      "cell_type": "code",
      "metadata": {
        "id": "aPLRKymT4t_W",
        "colab_type": "code",
        "colab": {}
      },
      "source": [
        "del xValid_diff_images, xValid_diff_location_diff,xValid_diff_surface,xValid_diff_precipitation"
      ],
      "execution_count": 0,
      "outputs": []
    },
    {
      "cell_type": "code",
      "metadata": {
        "id": "QANSYDwa6j5O",
        "colab_type": "code",
        "colab": {}
      },
      "source": [
        ""
      ],
      "execution_count": 0,
      "outputs": []
    },
    {
      "cell_type": "code",
      "metadata": {
        "id": "U91keAoskr7A",
        "colab_type": "code",
        "colab": {}
      },
      "source": [
        "np.save('./데이콘 정리된데이터'+\"/refinedTrain_diff.npy\",train_scaled) #<-refinedTrain_diff 로 저장\n",
        "#실수로 xValid랑 나누어저장함"
      ],
      "execution_count": 0,
      "outputs": []
    },
    {
      "cell_type": "code",
      "metadata": {
        "id": "4wF8hRQUkr6H",
        "colab_type": "code",
        "colab": {
          "base_uri": "https://localhost:8080/",
          "height": 35
        },
        "outputId": "fc127024-5b3d-401a-8b85-bbfd91121218"
      },
      "source": [
        "train_scaled.shape # train_diff의 precitation이 다시 들어갔으니 다시 나누어야함..."
      ],
      "execution_count": 18,
      "outputs": [
        {
          "output_type": "execute_result",
          "data": {
            "text/plain": [
              "(74436, 40, 40, 13)"
            ]
          },
          "metadata": {
            "tags": []
          },
          "execution_count": 18
        }
      ]
    },
    {
      "cell_type": "code",
      "metadata": {
        "id": "JrR02qQG43rK",
        "colab_type": "code",
        "colab": {
          "base_uri": "https://localhost:8080/",
          "height": 35
        },
        "outputId": "76f1d1fc-6223-46d2-ecdf-3d981beb2789"
      },
      "source": [
        "xValid_scaled.shape"
      ],
      "execution_count": 39,
      "outputs": [
        {
          "output_type": "execute_result",
          "data": {
            "text/plain": [
              "(1909, 40, 40, 13)"
            ]
          },
          "metadata": {
            "tags": []
          },
          "execution_count": 39
        }
      ]
    },
    {
      "cell_type": "markdown",
      "metadata": {
        "id": "lTXcXnLVkV-o",
        "colab_type": "text"
      },
      "source": [
        "# test데이터로 diff만들어 처리하기(이미함)"
      ]
    },
    {
      "cell_type": "code",
      "metadata": {
        "id": "uYaAU56UPr4l",
        "colab_type": "code",
        "outputId": "1e10f147-686a-4f9a-f27a-87063c81c6a8",
        "colab": {
          "base_uri": "https://localhost:8080/",
          "height": 36
        }
      },
      "source": [
        "xTest = np.load(newPath+'/test.npy')\n",
        "xTest.shape"
      ],
      "execution_count": 0,
      "outputs": [
        {
          "output_type": "execute_result",
          "data": {
            "text/plain": [
              "(2416, 40, 40, 14)"
            ]
          },
          "metadata": {
            "tags": []
          },
          "execution_count": 17
        }
      ]
    },
    {
      "cell_type": "code",
      "metadata": {
        "id": "g1qRIkZQQRUY",
        "colab_type": "code",
        "outputId": "872a8430-6825-48dd-dc00-87d6892b32d7",
        "colab": {
          "base_uri": "https://localhost:8080/",
          "height": 36
        }
      },
      "source": [
        "tempLen = xTest.shape[0]*xTest.shape[1]*xTest.shape[2]\n",
        "tempLen #<- reshape용 임시 길이변수\n",
        "tempTest = xTest.reshape(tempLen,xTest.shape[-1]) #<- (3865600,14) reshape하기\n",
        "tempStack = np.hstack((tempTest[:,:10],(tempTest[:,10]-tempTest[:,12]).reshape(-1,1))) #location 빼서 더하기(위도)\n",
        "tempStack.shape"
      ],
      "execution_count": 0,
      "outputs": [
        {
          "output_type": "execute_result",
          "data": {
            "text/plain": [
              "(3865600, 11)"
            ]
          },
          "metadata": {
            "tags": []
          },
          "execution_count": 19
        }
      ]
    },
    {
      "cell_type": "code",
      "metadata": {
        "id": "pO7O4gMvQmr7",
        "colab_type": "code",
        "outputId": "b58cfc03-7955-4111-8c9b-ee453d276a07",
        "colab": {
          "base_uri": "https://localhost:8080/",
          "height": 36
        }
      },
      "source": [
        "TestStacked = np.hstack((tempStack,(tempTest[:,11]-tempTest[:,13]).reshape(-1,1)))\n",
        "TestStacked.shape"
      ],
      "execution_count": 0,
      "outputs": [
        {
          "output_type": "execute_result",
          "data": {
            "text/plain": [
              "(3865600, 12)"
            ]
          },
          "metadata": {
            "tags": []
          },
          "execution_count": 20
        }
      ]
    },
    {
      "cell_type": "code",
      "metadata": {
        "id": "yO0EubsMQDHv",
        "colab_type": "code",
        "outputId": "058f9a05-4c82-4cb6-a64b-1ed70cf9981a",
        "colab": {
          "base_uri": "https://localhost:8080/",
          "height": 36
        }
      },
      "source": [
        "Test_diff=TestStacked.reshape(xTest.shape[0],xTest.shape[1],xTest.shape[2],12)\n",
        "Test_diff.shape"
      ],
      "execution_count": 0,
      "outputs": [
        {
          "output_type": "execute_result",
          "data": {
            "text/plain": [
              "(2416, 40, 40, 12)"
            ]
          },
          "metadata": {
            "tags": []
          },
          "execution_count": 21
        }
      ]
    },
    {
      "cell_type": "code",
      "metadata": {
        "id": "BU4B89kFQ_GO",
        "colab_type": "code",
        "colab": {}
      },
      "source": [
        "np.save(\"Test_diff.npy\",Test_diff) #<-Test_diff 만들어서 저장하기"
      ],
      "execution_count": 0,
      "outputs": []
    },
    {
      "cell_type": "code",
      "metadata": {
        "id": "wiGCd5jsQ_K1",
        "colab_type": "code",
        "outputId": "12484adf-598c-4149-da72-3fa9d82e43b9",
        "colab": {
          "base_uri": "https://localhost:8080/",
          "height": 36
        }
      },
      "source": [
        "test_diff_images = Test_diff[:, :, :, :9]\n",
        "test_diff_surface = Test_diff[:, :, :, 9]\n",
        "test_diff_location_diff = Test_diff[:, :, : , 10:12] #<-앞 소문자로 바꿈 \n",
        "test_diff_images.shape, test_diff_surface.shape\n"
      ],
      "execution_count": 0,
      "outputs": [
        {
          "output_type": "execute_result",
          "data": {
            "text/plain": [
              "((2416, 40, 40, 9), (2416, 40, 40))"
            ]
          },
          "metadata": {
            "tags": []
          },
          "execution_count": 26
        }
      ]
    },
    {
      "cell_type": "code",
      "metadata": {
        "id": "7lg154Wbkw-L",
        "colab_type": "code",
        "colab": {}
      },
      "source": [
        "mean = test_diff_images[:,:,:,:9].mean(axis=(0,1,2))\n",
        "std = test_diff_images[:,:,:,:9].std(axis=(0,1,2))\n",
        "test_diff_images[:,:,:,:9] = (test_diff_images[:,:,:,:9] - mean) / std\n",
        "test_diff_images.shape"
      ],
      "execution_count": 0,
      "outputs": []
    },
    {
      "cell_type": "code",
      "metadata": {
        "id": "Hy2lX7Y2kxHm",
        "colab_type": "code",
        "colab": {}
      },
      "source": [
        "test_diff_surface = np.where(test_diff_surface >= 300, 2, np.where(test_diff_surface >= 200, 1, np.where(test_diff_surface >= 100, 3, test_diff_surface)))"
      ],
      "execution_count": 0,
      "outputs": []
    },
    {
      "cell_type": "code",
      "metadata": {
        "id": "2HJD2ENDSk6z",
        "colab_type": "code",
        "outputId": "ebe7b68f-e071-4abc-f60f-57a720b9a746",
        "colab": {
          "base_uri": "https://localhost:8080/",
          "height": 36
        }
      },
      "source": [
        "mean = test_diff_location_diff[:,:,:,:2].mean(axis=(0,1,2))\n",
        "std = test_diff_location_diff[:,:,:,:2].std(axis=(0,1,2))\n",
        "test_diff_location_diff[:,:,:,:2] = (test_diff_location_diff[:,:,:,:2] - mean) / std\n",
        "test_diff_location_diff.shape"
      ],
      "execution_count": 0,
      "outputs": [
        {
          "output_type": "execute_result",
          "data": {
            "text/plain": [
              "(2416, 40, 40, 2)"
            ]
          },
          "metadata": {
            "tags": []
          },
          "execution_count": 34
        }
      ]
    },
    {
      "cell_type": "code",
      "metadata": {
        "id": "O4mgpmn7VNAJ",
        "colab_type": "code",
        "colab": {}
      },
      "source": [
        ""
      ],
      "execution_count": 0,
      "outputs": []
    },
    {
      "cell_type": "code",
      "metadata": {
        "id": "xhL2-a_PVFeR",
        "colab_type": "code",
        "colab": {}
      },
      "source": [
        "test_diff_images = Test_diff[:, :, :, :9]\n",
        "# test_diff_surface = Test_diff[:, :, :, 9]\n",
        "# test_diff_location_diff = Test_diff[:, :, : , 10:12] #<-앞 소문자로 바꿈 \n",
        "# test_diff_images.shape, test_diff_surface.shape"
      ],
      "execution_count": 0,
      "outputs": []
    },
    {
      "cell_type": "code",
      "metadata": {
        "id": "8WszvbzVUTYX",
        "colab_type": "code",
        "colab": {}
      },
      "source": [
        "test = np.concatenate((test_diff_images, test_diff_surface.reshape(-1, 40, 40, 1), # test_diff_location_diff = Test_diff[:, :, : , 10:12] #<-앞 소문자로 바꿈 \n",
        "), axis=3)"
      ],
      "execution_count": 0,
      "outputs": []
    },
    {
      "cell_type": "code",
      "metadata": {
        "id": "Pvz4TWx-UTXt",
        "colab_type": "code",
        "colab": {}
      },
      "source": [
        "np.save(\"test_refinedAll.npy\",test) #<-Test_diff 만들어서 저장하기"
      ],
      "execution_count": 0,
      "outputs": []
    },
    {
      "cell_type": "code",
      "metadata": {
        "id": "h7sMSKX3PQpo",
        "colab_type": "code",
        "colab": {}
      },
      "source": [
        "test_images = test[:, :, :, :9]\n",
        "test_surface = test[:, :, :, 9]\n",
        "test_location = test[:, :, : , 10:14]"
      ],
      "execution_count": 0,
      "outputs": []
    },
    {
      "cell_type": "code",
      "metadata": {
        "id": "BvLUAPSJPQxv",
        "colab_type": "code",
        "colab": {}
      },
      "source": [
        "tempTest = xTest.reshape(tempLen,xTest.shape[-1]) #<- (3865600,14)\n",
        "tempStack = np.hstack((tempTest[:,:10],(tempTest[:,10]-tempTest[:,12]).reshape(-1,1)))\n",
        "tempStack.shape"
      ],
      "execution_count": 0,
      "outputs": []
    },
    {
      "cell_type": "code",
      "metadata": {
        "id": "pF1L6wzGPKix",
        "colab_type": "code",
        "colab": {}
      },
      "source": [
        ""
      ],
      "execution_count": 0,
      "outputs": []
    },
    {
      "cell_type": "markdown",
      "metadata": {
        "id": "3-earaCF2ens",
        "colab_type": "text"
      },
      "source": [
        "# 학습용 이미지와 라벨로 '다시' 분리"
      ]
    },
    {
      "cell_type": "code",
      "metadata": {
        "id": "FByXsQu8jlGg",
        "colab_type": "code",
        "outputId": "3ea325ae-ed1d-4340-8c6c-f7cdaa3e02f8",
        "colab": {
          "base_uri": "https://localhost:8080/",
          "height": 35
        }
      },
      "source": [
        "image = train_scaled[:, :, :, :-1]\n",
        "label = train_scaled[:, :, :, -1]\n",
        "\n",
        "image.shape, label.shape\n",
        "del train_scaled"
      ],
      "execution_count": 19,
      "outputs": [
        {
          "output_type": "execute_result",
          "data": {
            "text/plain": [
              "((74436, 40, 40, 12), (74436, 40, 40))"
            ]
          },
          "metadata": {
            "tags": []
          },
          "execution_count": 19
        }
      ]
    },
    {
      "cell_type": "code",
      "metadata": {
        "id": "UHDlu5wJ7Aoy",
        "colab_type": "code",
        "colab": {}
      },
      "source": [
        "xValid = xValid_scaled[:,:,:,:-1]\n",
        "yValid = xValid_scaled[:,:,:,-1]\n",
        "\n",
        "xValid.shape, yValid.shape\n",
        "del xValid_scaled"
      ],
      "execution_count": 0,
      "outputs": []
    },
    {
      "cell_type": "markdown",
      "metadata": {
        "id": "BkA2oehlz-sf",
        "colab_type": "text"
      },
      "source": [
        "\"train_diff파일을 train_test_split을 한 뒤 xTrain을 scaling해줌\"\n"
      ]
    },
    {
      "cell_type": "markdown",
      "metadata": {
        "id": "UhvwK8-H088Z",
        "colab_type": "text"
      },
      "source": [
        "\"scaling한후 다시 합쳐서(train_scaled) image와 label로 나눔\"\n"
      ]
    },
    {
      "cell_type": "markdown",
      "metadata": {
        "id": "B6U7vpww0-B6",
        "colab_type": "text"
      },
      "source": [
        "\"image와 label로 학습 후 xValid,yValid로 테스트\"\n"
      ]
    },
    {
      "cell_type": "markdown",
      "metadata": {
        "id": "gEcF3wPk1Fyj",
        "colab_type": "text"
      },
      "source": [
        "\"테스트 후 scaling해둔 test_diff로 제출용 파일 만들기\""
      ]
    },
    {
      "cell_type": "markdown",
      "metadata": {
        "id": "OKZXv5p75NBz",
        "colab_type": "text"
      },
      "source": [
        "\"xValid도 scaling~"
      ]
    },
    {
      "cell_type": "markdown",
      "metadata": {
        "id": "vsD13Zj9tenp",
        "colab_type": "text"
      },
      "source": [
        "# 평가 함수 정의"
      ]
    },
    {
      "cell_type": "code",
      "metadata": {
        "id": "u0gcSdf6EL0H",
        "colab_type": "code",
        "colab": {}
      },
      "source": [
        "from sklearn.metrics import f1_score\n",
        "\n",
        "def mae(y_true, y_pred) :\n",
        "    \n",
        "    y_true, y_pred = np.array(y_true), np.array(y_pred)\n",
        "    \n",
        "    y_true = y_true.reshape(1, -1)[0]\n",
        "    \n",
        "    y_pred = y_pred.reshape(1, -1)[0]\n",
        "    \n",
        "    over_threshold = y_true >= 0.1\n",
        "    \n",
        "    return np.mean(np.abs(y_true[over_threshold] - y_pred[over_threshold]))\n",
        "\n",
        "def fscore(y_true, y_pred):\n",
        "    \n",
        "    y_true, y_pred = np.array(y_true), np.array(y_pred)\n",
        "    \n",
        "    y_true = y_true.reshape(1, -1)[0]\n",
        "    \n",
        "    y_pred = y_pred.reshape(1, -1)[0]\n",
        "    \n",
        "    remove_NAs = y_true >= 0\n",
        "    \n",
        "    y_true = np.where(y_true[remove_NAs] >= 0.1, 1, 0)\n",
        "    \n",
        "    y_pred = np.where(y_pred[remove_NAs] >= 0.1, 1, 0)\n",
        "    \n",
        "    return(f1_score(y_true, y_pred))\n",
        "\n",
        "def maeOverFscore(y_true, y_pred):\n",
        "    return mae(y_true, y_pred) / (fscore(y_true, y_pred) + 1e-07)\n",
        "\n",
        "def fscore_keras(y_true, y_pred):\n",
        "    score = tf.py_function(func=fscore, inp=[y_true, y_pred], Tout=tf.float32, name='fscore_keras')\n",
        "    return score\n",
        "\n",
        "def maeOverFscore_keras(y_true, y_pred):\n",
        "    score = tf.py_function(func=maeOverFscore, inp=[y_true, y_pred], Tout=tf.float32,  name='custom_mse') \n",
        "    return score"
      ],
      "execution_count": 0,
      "outputs": []
    },
    {
      "cell_type": "markdown",
      "metadata": {
        "id": "T9IOlQQE1xgn",
        "colab_type": "text"
      },
      "source": [
        "# 모델 정의"
      ]
    },
    {
      "cell_type": "code",
      "metadata": {
        "id": "-sDkbMCotUT5",
        "colab_type": "code",
        "colab": {}
      },
      "source": [
        "# 모델\n",
        "def create_model():\n",
        "    inputs=Input(xTrain.shape[1:])\n",
        "    \n",
        "    bn=BatchNormalization()(inputs)\n",
        "    conv0=Conv2D(256, kernel_size=1, strides=1, padding='same', activation='relu')(bn)\n",
        "    \n",
        "    bn=BatchNormalization()(conv0)\n",
        "    conv=Conv2D(128, kernel_size=2, strides=1, padding='same', activation='relu')(bn)\n",
        "    concat=concatenate([conv0, conv], axis=3)\n",
        "    \n",
        "    bn=BatchNormalization()(concat)\n",
        "    conv=Conv2D(64, kernel_size=3, strides=1, padding='same', activation='relu')(bn)\n",
        "    concat=concatenate([concat, conv], axis=3)\n",
        "        \n",
        "    for i in range(5):\n",
        "        bn=BatchNormalization()(concat)\n",
        "        conv=Conv2D(32, kernel_size=3, strides=1, padding='same', activation='relu')(bn)\n",
        "        concat=concatenate([concat, conv], axis=3)\n",
        "    \n",
        "    bn=BatchNormalization()(concat)\n",
        "    outputs=Conv2D(1, kernel_size=1, strides=1, padding='same', activation='relu')(bn)\n",
        "    \n",
        "    model=Model(inputs=inputs, outputs=outputs)\n",
        "    \n",
        "    return model"
      ],
      "execution_count": 0,
      "outputs": []
    },
    {
      "cell_type": "code",
      "metadata": {
        "id": "U42Xqgd9zn_R",
        "colab_type": "code",
        "outputId": "3043580e-fbc9-4fef-f14d-5d2f0133b5f9",
        "colab": {
          "base_uri": "https://localhost:8080/",
          "height": 1000
        }
      },
      "source": [
        "Model = create_model()\n",
        "Model.summary()"
      ],
      "execution_count": 25,
      "outputs": [
        {
          "output_type": "stream",
          "text": [
            "Model: \"model\"\n",
            "__________________________________________________________________________________________________\n",
            "Layer (type)                    Output Shape         Param #     Connected to                     \n",
            "==================================================================================================\n",
            "input_1 (InputLayer)            [(None, 40, 40, 12)] 0                                            \n",
            "__________________________________________________________________________________________________\n",
            "batch_normalization (BatchNorma (None, 40, 40, 12)   48          input_1[0][0]                    \n",
            "__________________________________________________________________________________________________\n",
            "conv2d (Conv2D)                 (None, 40, 40, 256)  3328        batch_normalization[0][0]        \n",
            "__________________________________________________________________________________________________\n",
            "batch_normalization_1 (BatchNor (None, 40, 40, 256)  1024        conv2d[0][0]                     \n",
            "__________________________________________________________________________________________________\n",
            "conv2d_1 (Conv2D)               (None, 40, 40, 128)  131200      batch_normalization_1[0][0]      \n",
            "__________________________________________________________________________________________________\n",
            "concatenate (Concatenate)       (None, 40, 40, 384)  0           conv2d[0][0]                     \n",
            "                                                                 conv2d_1[0][0]                   \n",
            "__________________________________________________________________________________________________\n",
            "batch_normalization_2 (BatchNor (None, 40, 40, 384)  1536        concatenate[0][0]                \n",
            "__________________________________________________________________________________________________\n",
            "conv2d_2 (Conv2D)               (None, 40, 40, 64)   221248      batch_normalization_2[0][0]      \n",
            "__________________________________________________________________________________________________\n",
            "concatenate_1 (Concatenate)     (None, 40, 40, 448)  0           concatenate[0][0]                \n",
            "                                                                 conv2d_2[0][0]                   \n",
            "__________________________________________________________________________________________________\n",
            "batch_normalization_3 (BatchNor (None, 40, 40, 448)  1792        concatenate_1[0][0]              \n",
            "__________________________________________________________________________________________________\n",
            "conv2d_3 (Conv2D)               (None, 40, 40, 32)   129056      batch_normalization_3[0][0]      \n",
            "__________________________________________________________________________________________________\n",
            "concatenate_2 (Concatenate)     (None, 40, 40, 480)  0           concatenate_1[0][0]              \n",
            "                                                                 conv2d_3[0][0]                   \n",
            "__________________________________________________________________________________________________\n",
            "batch_normalization_4 (BatchNor (None, 40, 40, 480)  1920        concatenate_2[0][0]              \n",
            "__________________________________________________________________________________________________\n",
            "conv2d_4 (Conv2D)               (None, 40, 40, 32)   138272      batch_normalization_4[0][0]      \n",
            "__________________________________________________________________________________________________\n",
            "concatenate_3 (Concatenate)     (None, 40, 40, 512)  0           concatenate_2[0][0]              \n",
            "                                                                 conv2d_4[0][0]                   \n",
            "__________________________________________________________________________________________________\n",
            "batch_normalization_5 (BatchNor (None, 40, 40, 512)  2048        concatenate_3[0][0]              \n",
            "__________________________________________________________________________________________________\n",
            "conv2d_5 (Conv2D)               (None, 40, 40, 32)   147488      batch_normalization_5[0][0]      \n",
            "__________________________________________________________________________________________________\n",
            "concatenate_4 (Concatenate)     (None, 40, 40, 544)  0           concatenate_3[0][0]              \n",
            "                                                                 conv2d_5[0][0]                   \n",
            "__________________________________________________________________________________________________\n",
            "batch_normalization_6 (BatchNor (None, 40, 40, 544)  2176        concatenate_4[0][0]              \n",
            "__________________________________________________________________________________________________\n",
            "conv2d_6 (Conv2D)               (None, 40, 40, 32)   156704      batch_normalization_6[0][0]      \n",
            "__________________________________________________________________________________________________\n",
            "concatenate_5 (Concatenate)     (None, 40, 40, 576)  0           concatenate_4[0][0]              \n",
            "                                                                 conv2d_6[0][0]                   \n",
            "__________________________________________________________________________________________________\n",
            "batch_normalization_7 (BatchNor (None, 40, 40, 576)  2304        concatenate_5[0][0]              \n",
            "__________________________________________________________________________________________________\n",
            "conv2d_7 (Conv2D)               (None, 40, 40, 32)   165920      batch_normalization_7[0][0]      \n",
            "__________________________________________________________________________________________________\n",
            "concatenate_6 (Concatenate)     (None, 40, 40, 608)  0           concatenate_5[0][0]              \n",
            "                                                                 conv2d_7[0][0]                   \n",
            "__________________________________________________________________________________________________\n",
            "batch_normalization_8 (BatchNor (None, 40, 40, 608)  2432        concatenate_6[0][0]              \n",
            "__________________________________________________________________________________________________\n",
            "conv2d_8 (Conv2D)               (None, 40, 40, 1)    609         batch_normalization_8[0][0]      \n",
            "==================================================================================================\n",
            "Total params: 1,109,105\n",
            "Trainable params: 1,101,465\n",
            "Non-trainable params: 7,640\n",
            "__________________________________________________________________________________________________\n"
          ],
          "name": "stdout"
        }
      ]
    },
    {
      "cell_type": "code",
      "metadata": {
        "id": "R1292PdsIXh0",
        "colab_type": "code",
        "colab": {}
      },
      "source": [
        "Model.compile(loss=\"mae\", optimizer=\"adam\", metrics=[maeOverFscore_keras, fscore_keras])"
      ],
      "execution_count": 0,
      "outputs": []
    },
    {
      "cell_type": "markdown",
      "metadata": {
        "id": "7qyWJ4Je2_Ah",
        "colab_type": "text"
      },
      "source": [
        "# 콜백 함수 정의"
      ]
    },
    {
      "cell_type": "code",
      "metadata": {
        "id": "Y72TywZ8w8n3",
        "colab_type": "code",
        "colab": {}
      },
      "source": [
        "callbacks_list = [\n",
        "                  tf.keras.callbacks.EarlyStopping(\n",
        "                      monitor='val_maeOverFscore_keras',\n",
        "                      patience=3,\n",
        "                      restore_best_weights=True\n",
        "                      ),\n",
        "                  tf.keras.callbacks.ReduceLROnPlateau(\n",
        "                      monitor='val_maeOverFscore_keras',\n",
        "                      patience=3,\n",
        "                      factor=0.8\n",
        "                      )\n",
        "                  ]"
      ],
      "execution_count": 0,
      "outputs": []
    },
    {
      "cell_type": "code",
      "metadata": {
        "id": "nwmKnIWR1RNV",
        "colab_type": "code",
        "colab": {}
      },
      "source": [
        "   #tf.keras.callbacks.ModelCheckpoint(\n",
        "                  #    filepath='models/model' + str(model_number)+'.h5',\n",
        "                  #    monitor='val_maeOverFscore_keras',\n",
        "                  #    save_best_only=True\n",
        "                  #    )"
      ],
      "execution_count": 0,
      "outputs": []
    },
    {
      "cell_type": "markdown",
      "metadata": {
        "id": "hdgfukO9250g",
        "colab_type": "text"
      },
      "source": [
        "# 모델 훈련"
      ]
    },
    {
      "cell_type": "code",
      "metadata": {
        "id": "d0v1OgSQ1OuB",
        "colab_type": "code",
        "outputId": "000ae951-9d58-423b-a297-98cd7286f902",
        "colab": {
          "base_uri": "https://localhost:8080/",
          "height": 53
        }
      },
      "source": [
        "#xTrain, yTrain이 image와 label로 바뀜\n",
        "history = Model.fit(image, label, epochs=50, batch_size=128, validation_data=(xValid, yValid), callbacks=callbacks_list)\n"
      ],
      "execution_count": 0,
      "outputs": [
        {
          "output_type": "stream",
          "text": [
            "Epoch 1/50\n",
            " 50/582 [=>............................] - ETA: 9:37 - loss: 0.0191 - maeOverFscore_keras: nan - fscore_keras: 0.0206"
          ],
          "name": "stdout"
        }
      ]
    },
    {
      "cell_type": "markdown",
      "metadata": {
        "id": "pjOomGUxRv3T",
        "colab_type": "text"
      },
      "source": [
        "# 모델 저장"
      ]
    },
    {
      "cell_type": "code",
      "metadata": {
        "id": "0Xr0cTPbRyVK",
        "colab_type": "code",
        "colab": {}
      },
      "source": [
        "#Model.save('''경로 및 파일 명 설정''')\n",
        "model_path = './모델저장폴더/'\n",
        "file_name = '05-28 Resnet Scaled train_diff.h5'\n",
        "Model.save(model_path+file_name)"
      ],
      "execution_count": 0,
      "outputs": []
    },
    {
      "cell_type": "markdown",
      "metadata": {
        "id": "e_AvPHjuPtNL",
        "colab_type": "text"
      },
      "source": [
        "# 평가 값 시각화"
      ]
    },
    {
      "cell_type": "code",
      "metadata": {
        "id": "5vrCQELKPu3_",
        "colab_type": "code",
        "colab": {}
      },
      "source": [
        "import matplotlib.pyplot as plt"
      ],
      "execution_count": 0,
      "outputs": []
    },
    {
      "cell_type": "code",
      "metadata": {
        "id": "B65pMS8zPwWn",
        "colab_type": "code",
        "outputId": "3155edb5-645a-48f0-eecf-53d485dd6797",
        "colab": {
          "base_uri": "https://localhost:8080/",
          "height": 283
        }
      },
      "source": [
        "plt.plot(history.history['val_maeOverFscore_keras'])"
      ],
      "execution_count": 0,
      "outputs": [
        {
          "output_type": "execute_result",
          "data": {
            "text/plain": [
              "[<matplotlib.lines.Line2D at 0x7ff6ef086a20>]"
            ]
          },
          "metadata": {
            "tags": []
          },
          "execution_count": 35
        },
        {
          "output_type": "display_data",
          "data": {
            "image/png": "[encoded data removed]",
            "text/plain": [
              "<Figure size 432x288 with 1 Axes>"
            ]
          },
          "metadata": {
            "tags": [],
            "needs_background": "light"
          }
        }
      ]
    },
    {
      "cell_type": "markdown",
      "metadata": {
        "id": "1gFNggR0R8bP",
        "colab_type": "text"
      },
      "source": [
        "# 테스트 데이터로 예측"
      ]
    },
    {
      "cell_type": "code",
      "metadata": {
        "id": "CfwKtYuW8YU_",
        "colab_type": "code",
        "colab": {}
      },
      "source": [
        "# # 디렉토리 변경\n",
        "# newPath='./데이콘 정리된데이터'\n",
        "# train_diff = np.load(newPath+\"/full_train_diff.npy\")"
      ],
      "execution_count": 0,
      "outputs": []
    },
    {
      "cell_type": "code",
      "metadata": {
        "id": "sBZANRk_SOoe",
        "colab_type": "code",
        "outputId": "e81a4f44-b47e-4eaf-cabb-dfad6700dee8",
        "colab": {
          "base_uri": "https://localhost:8080/",
          "height": 36
        }
      },
      "source": [
        "xTest = np.load(newPath+'/test.npy')\n",
        "xTest.shape"
      ],
      "execution_count": 0,
      "outputs": [
        {
          "output_type": "execute_result",
          "data": {
            "text/plain": [
              "(2416, 40, 40, 14)"
            ]
          },
          "metadata": {
            "tags": []
          },
          "execution_count": 70
        }
      ]
    },
    {
      "cell_type": "code",
      "metadata": {
        "id": "K0R7XgFV9HR5",
        "colab_type": "code",
        "outputId": "bac06393-e452-4496-d0a7-6beaac7b01b5",
        "colab": {
          "base_uri": "https://localhost:8080/",
          "height": 36
        }
      },
      "source": [
        "tempLen = xTest.shape[0]*xTest.shape[1]*xTest.shape[2]\n",
        "tempLen\n",
        "tempTest.shape\n",
        "tempTest[:,13].shape"
      ],
      "execution_count": 0,
      "outputs": [
        {
          "output_type": "execute_result",
          "data": {
            "text/plain": [
              "(3865600, 14)"
            ]
          },
          "metadata": {
            "tags": []
          },
          "execution_count": 72
        }
      ]
    },
    {
      "cell_type": "code",
      "metadata": {
        "id": "86EK0R7zAPFv",
        "colab_type": "code",
        "outputId": "1b3f0073-6f4c-42e1-bab6-c6461afebcfb",
        "colab": {
          "base_uri": "https://localhost:8080/",
          "height": 36
        }
      },
      "source": [
        "tempTest = xTest.reshape(tempLen,xTest.shape[-1]) #<- (3865600,14)\n",
        "tempStack = np.hstack((tempTest[:,:10],(tempTest[:,10]-tempTest[:,12]).reshape(-1,1)))\n",
        "tempStack.shape"
      ],
      "execution_count": 0,
      "outputs": [
        {
          "output_type": "execute_result",
          "data": {
            "text/plain": [
              "(3865600, 11)"
            ]
          },
          "metadata": {
            "tags": []
          },
          "execution_count": 81
        }
      ]
    },
    {
      "cell_type": "code",
      "metadata": {
        "id": "y0Wwps97C84W",
        "colab_type": "code",
        "outputId": "c405e6fc-de0b-4b5c-b232-f9ada41497fa",
        "colab": {
          "base_uri": "https://localhost:8080/",
          "height": 36
        }
      },
      "source": [
        "TestStacked = np.hstack((tempStack,(tempTest[:,11]-tempTest[:,13]).reshape(-1,1)))\n",
        "TestStacked.shape"
      ],
      "execution_count": 0,
      "outputs": [
        {
          "output_type": "execute_result",
          "data": {
            "text/plain": [
              "(3865600, 12)"
            ]
          },
          "metadata": {
            "tags": []
          },
          "execution_count": 82
        }
      ]
    },
    {
      "cell_type": "code",
      "metadata": {
        "id": "xjRW7p05C9Cw",
        "colab_type": "code",
        "outputId": "4f74f61c-dc42-44c0-8aa7-b6abca011691",
        "colab": {
          "base_uri": "https://localhost:8080/",
          "height": 36
        }
      },
      "source": [
        "Test_diff=TestStacked.reshape(xTest.shape[0],xTest.shape[1],xTest.shape[2],12)\n",
        "Test_diff.shape"
      ],
      "execution_count": 0,
      "outputs": [
        {
          "output_type": "execute_result",
          "data": {
            "text/plain": [
              "(2416, 40, 40, 12)"
            ]
          },
          "metadata": {
            "tags": []
          },
          "execution_count": 84
        }
      ]
    },
    {
      "cell_type": "code",
      "metadata": {
        "id": "LLMxD8lGSQ8v",
        "colab_type": "code",
        "colab": {}
      },
      "source": [
        "pred = Model.predict(Test_diff)"
      ],
      "execution_count": 0,
      "outputs": []
    },
    {
      "cell_type": "code",
      "metadata": {
        "id": "bo5nhNRxSSu5",
        "colab_type": "code",
        "colab": {}
      },
      "source": [
        "del xTest"
      ],
      "execution_count": 0,
      "outputs": []
    },
    {
      "cell_type": "markdown",
      "metadata": {
        "id": "8vC7kuhXSUOc",
        "colab_type": "text"
      },
      "source": [
        "# 제출 파일 생성"
      ]
    },
    {
      "cell_type": "code",
      "metadata": {
        "id": "PZtE9c7tSUjE",
        "colab_type": "code",
        "colab": {}
      },
      "source": [
        "import pandas as pd\n",
        "submission = pd.read_csv('./Data/sample_submission.csv')"
      ],
      "execution_count": 0,
      "outputs": []
    },
    {
      "cell_type": "code",
      "metadata": {
        "id": "Wu7Y3UOySbiS",
        "colab_type": "code",
        "colab": {}
      },
      "source": [
        "submission.iloc[:,1:] = pred.reshape(-1,1600)\n",
        "submission"
      ],
      "execution_count": 0,
      "outputs": []
    },
    {
      "cell_type": "code",
      "metadata": {
        "id": "XypDpdQoSdb4",
        "colab_type": "code",
        "colab": {}
      },
      "source": [
        "del pred"
      ],
      "execution_count": 0,
      "outputs": []
    },
    {
      "cell_type": "code",
      "metadata": {
        "id": "8dmj8xsvSfJd",
        "colab_type": "code",
        "colab": {}
      },
      "source": [
        "submission.to_csv('submission.csv', index=False)"
      ],
      "execution_count": 0,
      "outputs": []
    }
  ]
}