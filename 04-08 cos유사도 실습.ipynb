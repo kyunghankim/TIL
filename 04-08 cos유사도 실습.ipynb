{
 "cells": [
  {
   "cell_type": "code",
   "execution_count": null,
   "metadata": {},
   "outputs": [],
   "source": [
    "\"\"\"\n",
    "        돈       사랑         저는       좋아요\n",
    "줄거리1: 0         1          1           1\n",
    "줄거리2: 1         0          1           1\n",
    "줄거리3: 2         0          2           2\n",
    "\"\"\""
   ]
  },
  {
   "cell_type": "code",
   "execution_count": 7,
   "metadata": {},
   "outputs": [],
   "source": [
    "import numpy as np\n",
    "from numpy.linalg import norm"
   ]
  },
  {
   "cell_type": "code",
   "execution_count": 4,
   "metadata": {},
   "outputs": [],
   "source": [
    "mov1=np.array([0,1,1,1])\n",
    "mov2=np.array([1,0,1,1])\n",
    "mov3=np.array([2,0,2,2])"
   ]
  },
  {
   "cell_type": "code",
   "execution_count": 5,
   "metadata": {},
   "outputs": [
    {
     "data": {
      "text/plain": [
       "2"
      ]
     },
     "execution_count": 5,
     "metadata": {},
     "output_type": "execute_result"
    }
   ],
   "source": [
    "np.dot(mov1,mov2)"
   ]
  },
  {
   "cell_type": "code",
   "execution_count": 11,
   "metadata": {},
   "outputs": [
    {
     "data": {
      "text/plain": [
       "0.6666666666666667"
      ]
     },
     "execution_count": 11,
     "metadata": {},
     "output_type": "execute_result"
    }
   ],
   "source": [
    "np.dot(mov1,mov2)/(norm(mov1)*norm(mov2))  # <-cos 유사도 값"
   ]
  },
  {
   "cell_type": "code",
   "execution_count": 12,
   "metadata": {},
   "outputs": [],
   "source": [
    "def cos_sim(X,Y):\n",
    "    return np.dot(X,Y)/(norm(X)*norm(Y))"
   ]
  },
  {
   "cell_type": "code",
   "execution_count": 14,
   "metadata": {},
   "outputs": [
    {
     "name": "stdout",
     "output_type": "stream",
     "text": [
      "0.6666666666666667\n",
      "1.0000000000000002\n",
      "0.6666666666666667\n"
     ]
    }
   ],
   "source": [
    "print(cos_sim(mov1,mov2))\n",
    "print(cos_sim(mov2,mov3))\n",
    "print(cos_sim(mov1,mov3))"
   ]
  },
  {
   "cell_type": "code",
   "execution_count": null,
   "metadata": {},
   "outputs": [],
   "source": [
    "\"\"\"ㅡㅡㅡㅡㅡㅡㅡㅡㅡㅡㅡㅡ연습문제 시작ㅡㅡㅡㅡㅡㅡㅡㅡㅡㅡㅡㅡ\"\"\""
   ]
  },
  {
   "cell_type": "code",
   "execution_count": 24,
   "metadata": {},
   "outputs": [
    {
     "name": "stderr",
     "output_type": "stream",
     "text": [
      "C:\\ProgramData\\Anaconda3\\lib\\site-packages\\IPython\\core\\interactiveshell.py:3063: DtypeWarning: Columns (10) have mixed types.Specify dtype option on import or set low_memory=False.\n",
      "  interactivity=interactivity, compiler=compiler, result=result)\n"
     ]
    }
   ],
   "source": [
    "import pandas as pd\n",
    "data=pd.read_csv(\"movies_metadata.csv\")\n",
    "data=data.head(20000)  # <- 너무커서 2만개만 짤라서 해봄"
   ]
  },
  {
   "cell_type": "code",
   "execution_count": 25,
   "metadata": {},
   "outputs": [],
   "source": [
    "data['overview'].isnull().sum()\n",
    "data['overview']=data['overview'].fillna('')"
   ]
  },
  {
   "cell_type": "code",
   "execution_count": 26,
   "metadata": {},
   "outputs": [
    {
     "data": {
      "text/plain": [
       "(20000, 47487)"
      ]
     },
     "execution_count": 26,
     "metadata": {},
     "output_type": "execute_result"
    }
   ],
   "source": [
    "from sklearn.feature_extraction.text import TfidfVectorizer\n",
    "tfidf=TfidfVectorizer(stop_words='english') \n",
    "# <- english에 해당하는 stopword(불용어:의미없는단어)가 제거\n",
    "tfidf_mat=tfidf.fit_transform(data['overview'])\n",
    "tfidf_mat.shape"
   ]
  },
  {
   "cell_type": "code",
   "execution_count": 22,
   "metadata": {},
   "outputs": [
    {
     "data": {
      "text/plain": [
       "(20000, 47788)"
      ]
     },
     "execution_count": 22,
     "metadata": {},
     "output_type": "execute_result"
    }
   ],
   "source": [
    "tfidf1=TfidfVectorizer() \n",
    "# <- 제거 안한\n",
    "tfidf_mat1=tfidf1.fit_transform(data['overview'])\n",
    "tfidf_mat1.shape"
   ]
  },
  {
   "cell_type": "code",
   "execution_count": 30,
   "metadata": {},
   "outputs": [
    {
     "data": {
      "text/plain": [
       "<1x47487 sparse matrix of type '<class 'numpy.float64'>'\n",
       "\twith 25 stored elements in Compressed Sparse Row format>"
      ]
     },
     "execution_count": 30,
     "metadata": {},
     "output_type": "execute_result"
    }
   ],
   "source": [
    "tfidf_mat"
   ]
  },
  {
   "cell_type": "code",
   "execution_count": null,
   "metadata": {},
   "outputs": [],
   "source": [
    "data['title']\n",
    "#Toy story와 가장 코사인 유사도가 큰 영화 10편 출력\n",
    "# -> 영화의 제목과 유사도 출력"
   ]
  },
  {
   "cell_type": "code",
   "execution_count": 28,
   "metadata": {},
   "outputs": [
    {
     "data": {
      "text/plain": [
       "'3.4.5'"
      ]
     },
     "execution_count": 28,
     "metadata": {},
     "output_type": "execute_result"
    }
   ],
   "source": [
    "import nltk # <- natural language tool kit\n",
    "nltk.__version__"
   ]
  },
  {
   "cell_type": "code",
   "execution_count": 31,
   "metadata": {},
   "outputs": [],
   "source": [
    "from sklearn.metrics.pairwise import linear_kernel\n",
    "cosine_sim = linear_kernel(tfidf_mat,tfidf_mat)"
   ]
  },
  {
   "cell_type": "code",
   "execution_count": 35,
   "metadata": {},
   "outputs": [
    {
     "data": {
      "text/plain": [
       "title\n",
       "Toy Story                      0\n",
       "Jumanji                        1\n",
       "Grumpier Old Men               2\n",
       "Waiting to Exhale              3\n",
       "Father of the Bride Part II    4\n",
       "dtype: int64"
      ]
     },
     "execution_count": 35,
     "metadata": {},
     "output_type": "execute_result"
    }
   ],
   "source": [
    "indices=pd.Series(data.index,index=data['title']).drop_duplicates()\n",
    "indices.head() #data의 'title'에 index를 줘서 번호를 뽑기 위해"
   ]
  },
  {
   "cell_type": "code",
   "execution_count": 55,
   "metadata": {},
   "outputs": [
    {
     "name": "stdout",
     "output_type": "stream",
     "text": [
      "(1, 0.01575747731678539)\n"
     ]
    }
   ],
   "source": [
    "test=indices['Toy Story']\n",
    "sim_scores=list(enumerate(cosine_sim[test]))\n",
    "print(sim_scores[1])"
   ]
  },
  {
   "cell_type": "code",
   "execution_count": 44,
   "metadata": {},
   "outputs": [
    {
     "data": {
      "text/plain": [
       "('유사한영화10개:',\n",
       " 15348               Toy Story 3\n",
       " 2997                Toy Story 2\n",
       " 10301    The 40 Year Old Virgin\n",
       " 8327                  The Champ\n",
       " 1071      Rebel Without a Cause\n",
       " 11399    For Your Consideration\n",
       " 1932                  Condorman\n",
       " 3057            Man on the Moon\n",
       " 485                      Malice\n",
       " 11606              Factory Girl\n",
       " Name: title, dtype: object,\n",
       " '각 영화 cos유사도:',\n",
       " [(15348, 0.5258229300737997),\n",
       "  (2997, 0.462638821864108),\n",
       "  (10301, 0.2795541150488133),\n",
       "  (8327, 0.20068589066985557),\n",
       "  (1071, 0.18272968722756538),\n",
       "  (11399, 0.15689199223985253),\n",
       "  (1932, 0.15273436907628185),\n",
       "  (3057, 0.14319886672358997),\n",
       "  (485, 0.1375106791269381),\n",
       "  (11606, 0.133606616102742)])"
      ]
     },
     "execution_count": 44,
     "metadata": {},
     "output_type": "execute_result"
    }
   ],
   "source": [
    "# recommendation 함수 만들기\n",
    "def get_recommendations(targetmovie,cosine_sim=cosine_sim):\n",
    "    idx=indices[targetmovie] # <- 비교 영화의 번호를 뽑음\n",
    "    sim_scores=list(enumerate(cosine_sim[idx])) # <- cos유사도를 구하고 유사도를 리스트로 만들기\n",
    "    #유사도에 따라 sort하기\n",
    "    sim_scores=sorted(sim_scores,key=lambda x:x[1],reverse=True)\n",
    "    sim_scores=sim_scores[1:11] #<-10번째 영화까지 선별\n",
    "    movie_indices = [i[0] for i in sim_scores]\n",
    "    return (\"유사한영화10개:\",data['title'].iloc[movie_indices],\n",
    "            \"각 영화 cos유사도:\",sim_scores)\n",
    "get_recommendations(\"Toy Story\")"
   ]
  },
  {
   "cell_type": "code",
   "execution_count": null,
   "metadata": {},
   "outputs": [],
   "source": []
  }
 ],
 "metadata": {
  "kernelspec": {
   "display_name": "Python 3",
   "language": "python",
   "name": "python3"
  },
  "language_info": {
   "codemirror_mode": {
    "name": "ipython",
    "version": 3
   },
   "file_extension": ".py",
   "mimetype": "text/x-python",
   "name": "python",
   "nbconvert_exporter": "python",
   "pygments_lexer": "ipython3",
   "version": "3.7.6"
  }
 },
 "nbformat": 4,
 "nbformat_minor": 4
}
