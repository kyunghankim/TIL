{
  "nbformat": 4,
  "nbformat_minor": 0,
  "metadata": {
    "colab": {
      "name": "Resnet using refined DATA E50 B128.ipynb",
      "provenance": [],
      "collapsed_sections": []
    },
    "kernelspec": {
      "name": "python3",
      "display_name": "Python 3"
    },
    "accelerator": "GPU"
  },
  "cells": [
    {
      "cell_type": "code",
      "metadata": {
        "id": "HCAUSrgVVsev",
        "colab_type": "code",
        "colab": {}
      },
      "source": [
        "import os\n",
        "import numpy as np\n",
        "import pandas as pd\n",
        "\n",
        "import tensorflow as tf\n",
        "from tensorflow.keras.datasets.mnist import load_data\n",
        "from tensorflow.keras.models import load_model, Model\n",
        "from tensorflow.keras.layers import Input, Conv2D, Add, BatchNormalization, concatenate\n",
        "\n",
        "from sklearn.model_selection import train_test_split\n",
        "from sklearn.model_selection import KFold\n",
        "from sklearn.metrics import f1_score"
      ],
      "execution_count": 0,
      "outputs": []
    },
    {
      "cell_type": "code",
      "metadata": {
        "id": "yrMk7699a2rz",
        "colab_type": "code",
        "outputId": "ba727e47-c018-4541-f613-823da90e3644",
        "colab": {
          "base_uri": "https://localhost:8080/",
          "height": 130
        }
      },
      "source": [
        "from google.colab import drive\n",
        "drive.mount('/gdrive', force_remount=True)\n",
        "os.chdir('/gdrive/My Drive')"
      ],
      "execution_count": 2,
      "outputs": [
        {
          "output_type": "stream",
          "text": [
            "Go to this URL in a browser: https://accounts.google.com/o/oauth2/auth?client_id=947318989803-6bn6qk8qdgf4n4g3pfee6491hc0brc4i.apps.googleusercontent.com&redirect_uri=urn%3aietf%3awg%3aoauth%3a2.0%3aoob&response_type=code&scope=email%20https%3a%2f%2fwww.googleapis.com%2fauth%2fdocs.test%20https%3a%2f%2fwww.googleapis.com%2fauth%2fdrive%20https%3a%2f%2fwww.googleapis.com%2fauth%2fdrive.photos.readonly%20https%3a%2f%2fwww.googleapis.com%2fauth%2fpeopleapi.readonly\n",
            "\n",
            "Enter your authorization code:\n",
            "··········\n",
            "Mounted at /gdrive\n"
          ],
          "name": "stdout"
        }
      ]
    },
    {
      "cell_type": "code",
      "metadata": {
        "id": "t5VrGvAFa25U",
        "colab_type": "code",
        "colab": {}
      },
      "source": [
        "newPath='./데이콘 정리된데이터'\n",
        "submission = pd.read_csv(newPath+'/sample_submission.csv')"
      ],
      "execution_count": 0,
      "outputs": []
    },
    {
      "cell_type": "code",
      "metadata": {
        "id": "UoWtAfr8a8xU",
        "colab_type": "code",
        "colab": {}
      },
      "source": [
        "test_refined = np.load(newPath+\"/test_refined.npy\")\n",
        "train_refined = np.load(newPath+\"/train_refined.npy\")\n",
        "#test_raw = np.load(newPath+'test.npy')\n",
        "#train_raw = np.load(newPath+'train.npy')"
      ],
      "execution_count": 0,
      "outputs": []
    },
    {
      "cell_type": "code",
      "metadata": {
        "id": "XpI5qZMNbJjA",
        "colab_type": "code",
        "colab": {
          "base_uri": "https://localhost:8080/",
          "height": 36
        },
        "outputId": "eae747a7-90b5-4133-dfb7-f5a2a2dfa873"
      },
      "source": [
        "print(test_refined.shape,train_refined.shape)"
      ],
      "execution_count": 5,
      "outputs": [
        {
          "output_type": "stream",
          "text": [
            "(2416, 40, 40, 14) (75917, 40, 40, 15)\n"
          ],
          "name": "stdout"
        }
      ]
    },
    {
      "cell_type": "code",
      "metadata": {
        "id": "nbUP1tz5bPuu",
        "colab_type": "code",
        "outputId": "35478a9e-8379-41fb-a05c-9e1a48939b01",
        "colab": {
          "base_uri": "https://localhost:8080/",
          "height": 36
        }
      },
      "source": [
        "num=[]\n",
        "n = 50\n",
        "for i in range(train_refined.shape[0]):\n",
        "    if ((train_refined[i,:,:,-1]>0).sum() > n) and ((train_refined[i,:,:,-1]<0).sum() <= 0):\n",
        "        num.append(i)\n",
        "\n",
        "print(\"사용하는 데이터의 양:\",len(num) / train_refined.shape[0])\n",
        "Reduced_xtrain=train_refined[num,:,:,:]\n",
        "del train_refined"
      ],
      "execution_count": 6,
      "outputs": [
        {
          "output_type": "stream",
          "text": [
            "사용하는 데이터의 양: 0.4011222782775926\n"
          ],
          "name": "stdout"
        }
      ]
    },
    {
      "cell_type": "code",
      "metadata": {
        "id": "w9YVj-HMg2UW",
        "colab_type": "code",
        "colab": {}
      },
      "source": [
        "Xtrain = Reduced_xtrain[:, :, :, :9] #<- 같은 이름으로 저장하면 다음 코드에서 저장안됨\n",
        "Ytrain = Reduced_xtrain[:, :, :,14]\n",
        "\n",
        "test_refined = test_refined[:, :, :, :9] #<- 9개의 feature만, 지형 정보사용 X\n",
        "\n",
        "del Reduced_xtrain #<- RAM 조절하기 윟해 삭제"
      ],
      "execution_count": 0,
      "outputs": []
    },
    {
      "cell_type": "code",
      "metadata": {
        "id": "oBBEusN4hBfU",
        "colab_type": "code",
        "outputId": "bac560a6-e9cf-4315-f3f6-b3e18ebc1533",
        "colab": {
          "base_uri": "https://localhost:8080/",
          "height": 54
        }
      },
      "source": [
        "print(\"Xtrain.shape:\",Xtrain.shape)\n",
        "print(\"Ytrain.shape:\",Ytrain.shape) "
      ],
      "execution_count": 8,
      "outputs": [
        {
          "output_type": "stream",
          "text": [
            "Xtrain.shape: (30452, 40, 40, 9)\n",
            "Ytrain.shape: (30452, 40, 40)\n"
          ],
          "name": "stdout"
        }
      ]
    },
    {
      "cell_type": "code",
      "metadata": {
        "id": "ck8a2NIBhDlq",
        "colab_type": "code",
        "colab": {}
      },
      "source": [
        "# tempXtrain = Xtrain.reshape(-1,9)\n",
        "# tempXtrain.shape"
      ],
      "execution_count": 0,
      "outputs": []
    },
    {
      "cell_type": "code",
      "metadata": {
        "id": "jnfzK59jhIDQ",
        "colab_type": "code",
        "colab": {}
      },
      "source": [
        "#del Xtrain"
      ],
      "execution_count": 0,
      "outputs": []
    },
    {
      "cell_type": "code",
      "metadata": {
        "id": "W9TKedrThJNM",
        "colab_type": "code",
        "colab": {}
      },
      "source": [
        "# # 2,3,4,5,6 채널의 차이를 구하여 합함\n",
        "# from itertools import combinations\n",
        "# for i, j in list(combinations(range(5), 2)):\n",
        "#    tempXtrain = np.hstack((tempXtrain, (tempXtrain[:, j+2] - tempXtrain[:, i+2]).reshape(-1, 1)))\n",
        "# tempXtrain.shape"
      ],
      "execution_count": 0,
      "outputs": []
    },
    {
      "cell_type": "code",
      "metadata": {
        "id": "6lBIfol0hYdp",
        "colab_type": "code",
        "colab": {}
      },
      "source": [
        "# Xtrain=tempXtrain.reshape(30452,40,40,19)\n",
        "# del tempXtrain"
      ],
      "execution_count": 0,
      "outputs": []
    },
    {
      "cell_type": "markdown",
      "metadata": {
        "id": "igNRwU7khSF9",
        "colab_type": "text"
      },
      "source": [
        "#4. 테스트용 train_test_split 나누기"
      ]
    },
    {
      "cell_type": "code",
      "metadata": {
        "id": "_OmZ3XN7hPsM",
        "colab_type": "code",
        "outputId": "5e3c0043-3547-4f86-9363-5cd7a1cde338",
        "colab": {
          "base_uri": "https://localhost:8080/",
          "height": 54
        }
      },
      "source": [
        "xtrain,xtest,ytrain,ytest = train_test_split(Xtrain,Ytrain, test_size=0.025)\n",
        "del Xtrain\n",
        "del Ytrain #<- RAM 사용량 때문에 지움\n",
        "print(\"xtrain.shape:\",xtrain.shape,\"xtest.shape:\",xtest.shape,\"\\n\"\n",
        "      \"ytrain.shape:\",ytrain.shape,\"ytest.shape:\",ytest.shape)"
      ],
      "execution_count": 13,
      "outputs": [
        {
          "output_type": "stream",
          "text": [
            "xtrain.shape: (29690, 40, 40, 9) xtest.shape: (762, 40, 40, 9) \n",
            "ytrain.shape: (29690, 40, 40) ytest.shape: (762, 40, 40)\n"
          ],
          "name": "stdout"
        }
      ]
    },
    {
      "cell_type": "code",
      "metadata": {
        "id": "zEV3vwwThmJ9",
        "colab_type": "code",
        "colab": {}
      },
      "source": [
        "def mae_over_fscore(y_true, y_pred):\n",
        "    '''\n",
        "    y_true: sample_submission.csv 형태의 실제 값\n",
        "    y_pred: sample_submission.csv 형태의 예측 값\n",
        "    '''\n",
        "\n",
        "    y_true = np.array(y_true)\n",
        "    y_true = y_true.reshape(1, -1)[0]  \n",
        "    \n",
        "    y_pred = np.array(y_pred)\n",
        "    y_pred = y_pred.reshape(1, -1)[0]\n",
        "    \n",
        "    # 실제값이 0.1 이상인 픽셀의 위치 확인\n",
        "    IsGreaterThanEqualTo_PointOne = y_true >= 0.1\n",
        "    \n",
        "    # 실제 값에 결측값이 없는 픽셀의 위치 확인 \n",
        "    IsNotMissing = y_true >= 0\n",
        "    \n",
        "    # mae 계산\n",
        "    mae = np.mean(np.abs(y_true[IsGreaterThanEqualTo_PointOne] - y_pred[IsGreaterThanEqualTo_PointOne]))\n",
        "    \n",
        "    # f1_score 계산 위해, 실제값에 결측값이 없는 픽셀에 대해 1과 0으로 값 변환\n",
        "    y_true = np.where(y_true[IsNotMissing] >= 0.1, 1, 0)\n",
        "    \n",
        "    y_pred = np.where(y_pred[IsNotMissing] >= 0.1, 1, 0)\n",
        "    \n",
        "    # f1_score 계산    \n",
        "    f_score = f1_score(y_true, y_pred) \n",
        "    # f1_score가 0일 나올 경우를 대비하여 소량의 값 (1e-07) 추가 \n",
        "    return mae / (f_score + 1e-07) "
      ],
      "execution_count": 0,
      "outputs": []
    },
    {
      "cell_type": "code",
      "metadata": {
        "id": "wpEWam8vhn38",
        "colab_type": "code",
        "colab": {}
      },
      "source": [
        "from sklearn.metrics import f1_score\n",
        "\n",
        "def mae(y_true, y_pred) :\n",
        "    \n",
        "    y_true, y_pred = np.array(y_true), np.array(y_pred)\n",
        "    \n",
        "    y_true = y_true.reshape(1, -1)[0]\n",
        "    \n",
        "    y_pred = y_pred.reshape(1, -1)[0]\n",
        "    \n",
        "    over_threshold = y_true >= 0.1\n",
        "    \n",
        "    return np.mean(np.abs(y_true[over_threshold] - y_pred[over_threshold]))\n",
        "\n",
        "def fscore(y_true, y_pred):\n",
        "    \n",
        "    y_true, y_pred = np.array(y_true), np.array(y_pred)\n",
        "    \n",
        "    y_true = y_true.reshape(1, -1)[0]\n",
        "    \n",
        "    y_pred = y_pred.reshape(1, -1)[0]\n",
        "    \n",
        "    remove_NAs = y_true >= 0\n",
        "    \n",
        "    y_true = np.where(y_true[remove_NAs] >= 0.1, 1, 0)\n",
        "    \n",
        "    y_pred = np.where(y_pred[remove_NAs] >= 0.1, 1, 0)\n",
        "    \n",
        "    return(f1_score(y_true, y_pred))\n",
        "\n",
        "def maeOverFscore(y_true, y_pred):\n",
        "    \n",
        "    return mae(y_true, y_pred) / (fscore(y_true, y_pred) + 1e-07)\n",
        "\n",
        "def fscore_keras(y_true, y_pred):\n",
        "    score = tf.py_function(func=fscore, inp=[y_true, y_pred], Tout=tf.float32, name='fscore_keras')\n",
        "    return score\n",
        "\n",
        "def maeOverFscore_keras(y_true, y_pred):\n",
        "    score = tf.py_function(func=maeOverFscore, inp=[y_true, y_pred], Tout=tf.float32,  name='custom_mse') \n",
        "    return score"
      ],
      "execution_count": 0,
      "outputs": []
    },
    {
      "cell_type": "code",
      "metadata": {
        "id": "h-Cx9LIshpFr",
        "colab_type": "code",
        "colab": {}
      },
      "source": [
        "def create_model():\n",
        "    inputs=Input(xtrain.shape[1:])\n",
        "    \n",
        "    bn=BatchNormalization()(inputs)\n",
        "    conv0=Conv2D(256, kernel_size=1, strides=1, padding='same', activation='relu')(bn)\n",
        "    \n",
        "    bn=BatchNormalization()(conv0)\n",
        "    conv=Conv2D(128, kernel_size=2, strides=1, padding='same', activation='relu')(bn)\n",
        "    concat=concatenate([conv0, conv], axis=3)\n",
        "    \n",
        "    bn=BatchNormalization()(concat)\n",
        "    conv=Conv2D(64, kernel_size=3, strides=1, padding='same', activation='relu')(bn)\n",
        "    concat=concatenate([concat, conv], axis=3)\n",
        "        \n",
        "    for i in range(5):\n",
        "        bn=BatchNormalization()(concat)\n",
        "        conv=Conv2D(32, kernel_size=3, strides=1, padding='same', activation='relu')(bn)\n",
        "        concat=concatenate([concat, conv], axis=3)\n",
        "    \n",
        "    bn=BatchNormalization()(concat)\n",
        "    outputs=Conv2D(1, kernel_size=1, strides=1, padding='same', activation='relu')(bn)\n",
        "    \n",
        "    model=Model(inputs=inputs, outputs=outputs)\n",
        "    \n",
        "    return model"
      ],
      "execution_count": 0,
      "outputs": []
    },
    {
      "cell_type": "code",
      "metadata": {
        "id": "93oI4I6Ehulj",
        "colab_type": "code",
        "outputId": "008ada99-97ce-47e4-9b22-29e1a4c69c5f",
        "colab": {
          "base_uri": "https://localhost:8080/",
          "height": 1000
        }
      },
      "source": [
        "Model = create_model()\n",
        "Model.summary()"
      ],
      "execution_count": 17,
      "outputs": [
        {
          "output_type": "stream",
          "text": [
            "Model: \"model\"\n",
            "__________________________________________________________________________________________________\n",
            "Layer (type)                    Output Shape         Param #     Connected to                     \n",
            "==================================================================================================\n",
            "input_1 (InputLayer)            [(None, 40, 40, 9)]  0                                            \n",
            "__________________________________________________________________________________________________\n",
            "batch_normalization (BatchNorma (None, 40, 40, 9)    36          input_1[0][0]                    \n",
            "__________________________________________________________________________________________________\n",
            "conv2d (Conv2D)                 (None, 40, 40, 256)  2560        batch_normalization[0][0]        \n",
            "__________________________________________________________________________________________________\n",
            "batch_normalization_1 (BatchNor (None, 40, 40, 256)  1024        conv2d[0][0]                     \n",
            "__________________________________________________________________________________________________\n",
            "conv2d_1 (Conv2D)               (None, 40, 40, 128)  131200      batch_normalization_1[0][0]      \n",
            "__________________________________________________________________________________________________\n",
            "concatenate (Concatenate)       (None, 40, 40, 384)  0           conv2d[0][0]                     \n",
            "                                                                 conv2d_1[0][0]                   \n",
            "__________________________________________________________________________________________________\n",
            "batch_normalization_2 (BatchNor (None, 40, 40, 384)  1536        concatenate[0][0]                \n",
            "__________________________________________________________________________________________________\n",
            "conv2d_2 (Conv2D)               (None, 40, 40, 64)   221248      batch_normalization_2[0][0]      \n",
            "__________________________________________________________________________________________________\n",
            "concatenate_1 (Concatenate)     (None, 40, 40, 448)  0           concatenate[0][0]                \n",
            "                                                                 conv2d_2[0][0]                   \n",
            "__________________________________________________________________________________________________\n",
            "batch_normalization_3 (BatchNor (None, 40, 40, 448)  1792        concatenate_1[0][0]              \n",
            "__________________________________________________________________________________________________\n",
            "conv2d_3 (Conv2D)               (None, 40, 40, 32)   129056      batch_normalization_3[0][0]      \n",
            "__________________________________________________________________________________________________\n",
            "concatenate_2 (Concatenate)     (None, 40, 40, 480)  0           concatenate_1[0][0]              \n",
            "                                                                 conv2d_3[0][0]                   \n",
            "__________________________________________________________________________________________________\n",
            "batch_normalization_4 (BatchNor (None, 40, 40, 480)  1920        concatenate_2[0][0]              \n",
            "__________________________________________________________________________________________________\n",
            "conv2d_4 (Conv2D)               (None, 40, 40, 32)   138272      batch_normalization_4[0][0]      \n",
            "__________________________________________________________________________________________________\n",
            "concatenate_3 (Concatenate)     (None, 40, 40, 512)  0           concatenate_2[0][0]              \n",
            "                                                                 conv2d_4[0][0]                   \n",
            "__________________________________________________________________________________________________\n",
            "batch_normalization_5 (BatchNor (None, 40, 40, 512)  2048        concatenate_3[0][0]              \n",
            "__________________________________________________________________________________________________\n",
            "conv2d_5 (Conv2D)               (None, 40, 40, 32)   147488      batch_normalization_5[0][0]      \n",
            "__________________________________________________________________________________________________\n",
            "concatenate_4 (Concatenate)     (None, 40, 40, 544)  0           concatenate_3[0][0]              \n",
            "                                                                 conv2d_5[0][0]                   \n",
            "__________________________________________________________________________________________________\n",
            "batch_normalization_6 (BatchNor (None, 40, 40, 544)  2176        concatenate_4[0][0]              \n",
            "__________________________________________________________________________________________________\n",
            "conv2d_6 (Conv2D)               (None, 40, 40, 32)   156704      batch_normalization_6[0][0]      \n",
            "__________________________________________________________________________________________________\n",
            "concatenate_5 (Concatenate)     (None, 40, 40, 576)  0           concatenate_4[0][0]              \n",
            "                                                                 conv2d_6[0][0]                   \n",
            "__________________________________________________________________________________________________\n",
            "batch_normalization_7 (BatchNor (None, 40, 40, 576)  2304        concatenate_5[0][0]              \n",
            "__________________________________________________________________________________________________\n",
            "conv2d_7 (Conv2D)               (None, 40, 40, 32)   165920      batch_normalization_7[0][0]      \n",
            "__________________________________________________________________________________________________\n",
            "concatenate_6 (Concatenate)     (None, 40, 40, 608)  0           concatenate_5[0][0]              \n",
            "                                                                 conv2d_7[0][0]                   \n",
            "__________________________________________________________________________________________________\n",
            "batch_normalization_8 (BatchNor (None, 40, 40, 608)  2432        concatenate_6[0][0]              \n",
            "__________________________________________________________________________________________________\n",
            "conv2d_8 (Conv2D)               (None, 40, 40, 1)    609         batch_normalization_8[0][0]      \n",
            "==================================================================================================\n",
            "Total params: 1,108,325\n",
            "Trainable params: 1,100,691\n",
            "Non-trainable params: 7,634\n",
            "__________________________________________________________________________________________________\n"
          ],
          "name": "stdout"
        }
      ]
    },
    {
      "cell_type": "code",
      "metadata": {
        "id": "ocq597tohvBa",
        "colab_type": "code",
        "colab": {}
      },
      "source": [
        "Model.compile(loss='mae', optimizer='adam', metrics=[[maeOverFscore_keras, fscore_keras]])"
      ],
      "execution_count": 0,
      "outputs": []
    },
    {
      "cell_type": "code",
      "metadata": {
        "id": "EocBVKerzQwF",
        "colab_type": "code",
        "colab": {}
      },
      "source": [
        "callbacks_list = [\n",
        "                tf.keras.callbacks.EarlyStopping(\n",
        "                    monitor='val_maeOverFscore_keras',\n",
        "                    patience=3,\n",
        "                    restore_best_weights=True\n",
        "                ),\n",
        "                tf.keras.callbacks.ReduceLROnPlateau(\n",
        "                    monitor='val_maeOverFscore_keras',\n",
        "                    patience=3,\n",
        "                    factor=0.8\n",
        "                )\n",
        "                #tf.keras.callbacks.ModelCheckpoint(\n",
        "                #    filepath='models/model' + str(model_number)+'.h5',\n",
        "                #    monitor='val_maeOverFscore_keras',\n",
        "                #    save_best_only=True\n",
        "                #)\n",
        "            ]"
      ],
      "execution_count": 0,
      "outputs": []
    },
    {
      "cell_type": "code",
      "metadata": {
        "id": "HEgxc-0VhvE5",
        "colab_type": "code",
        "outputId": "5910d851-22d9-43f1-f755-4924a66003a1",
        "colab": {
          "base_uri": "https://localhost:8080/",
          "height": 297
        }
      },
      "source": [
        "hist = Model.fit(xtrain,ytrain,batch_size=128,\n",
        "                 epochs=50, verbose=1,\n",
        "                 validation_data=(xtest,ytest),\n",
        "                 callbacks=callbacks_list)"
      ],
      "execution_count": 26,
      "outputs": [
        {
          "output_type": "stream",
          "text": [
            "Epoch 1/50\n",
            "232/232 [==============================] - 91s 393ms/step - loss: 0.2146 - maeOverFscore_keras: 1.6675 - fscore_keras: 0.7865 - val_loss: 0.2210 - val_maeOverFscore_keras: 1.6880 - val_fscore_keras: 0.7806 - lr: 8.0000e-04\n",
            "Epoch 2/50\n",
            "232/232 [==============================] - 93s 400ms/step - loss: 0.2142 - maeOverFscore_keras: 1.6600 - fscore_keras: 0.7872 - val_loss: 0.2141 - val_maeOverFscore_keras: 1.7029 - val_fscore_keras: 0.7817 - lr: 8.0000e-04\n",
            "Epoch 3/50\n",
            "232/232 [==============================] - 95s 410ms/step - loss: 0.2139 - maeOverFscore_keras: 1.6607 - fscore_keras: 0.7860 - val_loss: 0.2159 - val_maeOverFscore_keras: 1.6700 - val_fscore_keras: 0.7897 - lr: 8.0000e-04\n",
            "Epoch 4/50\n",
            "232/232 [==============================] - 94s 404ms/step - loss: 0.2134 - maeOverFscore_keras: 1.6530 - fscore_keras: 0.7881 - val_loss: 0.2126 - val_maeOverFscore_keras: 1.6516 - val_fscore_keras: 0.7946 - lr: 8.0000e-04\n",
            "Epoch 5/50\n",
            "232/232 [==============================] - 91s 393ms/step - loss: 0.2128 - maeOverFscore_keras: 1.6464 - fscore_keras: 0.7889 - val_loss: 0.2161 - val_maeOverFscore_keras: 1.7507 - val_fscore_keras: 0.7662 - lr: 8.0000e-04\n",
            "Epoch 6/50\n",
            "232/232 [==============================] - 92s 395ms/step - loss: 0.2128 - maeOverFscore_keras: 1.6461 - fscore_keras: 0.7889 - val_loss: 0.2129 - val_maeOverFscore_keras: 1.7216 - val_fscore_keras: 0.7747 - lr: 8.0000e-04\n",
            "Epoch 7/50\n",
            "232/232 [==============================] - 92s 397ms/step - loss: 0.2118 - maeOverFscore_keras: 1.6330 - fscore_keras: 0.7909 - val_loss: 0.2150 - val_maeOverFscore_keras: 1.7233 - val_fscore_keras: 0.7762 - lr: 8.0000e-04\n"
          ],
          "name": "stdout"
        }
      ]
    },
    {
      "cell_type": "code",
      "metadata": {
        "id": "42wIDH6rhvIB",
        "colab_type": "code",
        "outputId": "bb9d8859-3de5-475b-f8d2-0350260f6712",
        "colab": {
          "base_uri": "https://localhost:8080/",
          "height": 36
        }
      },
      "source": [
        "evaluation = Model.evaluate(xtest,ytest)"
      ],
      "execution_count": 27,
      "outputs": [
        {
          "output_type": "stream",
          "text": [
            "24/24 [==============================] - 1s 52ms/step - loss: 0.2126 - maeOverFscore_keras: 1.6430 - fscore_keras: 0.7889\n"
          ],
          "name": "stdout"
        }
      ]
    },
    {
      "cell_type": "markdown",
      "metadata": {
        "id": "ig-eh5NwoJZl",
        "colab_type": "text"
      },
      "source": [
        ""
      ]
    },
    {
      "cell_type": "code",
      "metadata": {
        "id": "1tEBRMqBhvKu",
        "colab_type": "code",
        "outputId": "a6a0dc54-31a4-42a1-cb46-bdd5e381ef1a",
        "colab": {
          "base_uri": "https://localhost:8080/",
          "height": 54
        }
      },
      "source": [
        "print(\"EarlyStop,ReduceLROnPlateau,accuracy:\",'\\n',\n",
        "      evaluation)"
      ],
      "execution_count": 22,
      "outputs": [
        {
          "output_type": "stream",
          "text": [
            "EarlyStop,ReduceLROnPlateau,accuracy: \n",
            " [0.21428844332695007, 1.6389755010604858, 0.790836751461029]\n"
          ],
          "name": "stdout"
        }
      ]
    },
    {
      "cell_type": "code",
      "metadata": {
        "id": "C17YhX-ohvNd",
        "colab_type": "code",
        "colab": {}
      },
      "source": [
        "Model.save(\"./모델저장폴더/05-26 Resnet 발표용 E50 B128 3번째.h5\")"
      ],
      "execution_count": 0,
      "outputs": []
    },
    {
      "cell_type": "code",
      "metadata": {
        "id": "fHeQj0z2PmGV",
        "colab_type": "code",
        "colab": {}
      },
      "source": [
        "prediction = Model.predict(test_refined)"
      ],
      "execution_count": 0,
      "outputs": []
    },
    {
      "cell_type": "code",
      "metadata": {
        "id": "RZBQCF2XPxLe",
        "colab_type": "code",
        "colab": {}
      },
      "source": [
        "submission.iloc[:,1:] = prediction.reshape([-1,1600])"
      ],
      "execution_count": 0,
      "outputs": []
    },
    {
      "cell_type": "code",
      "metadata": {
        "id": "zbuQGptvPxOS",
        "colab_type": "code",
        "colab": {}
      },
      "source": [
        "savePath='./모델저장폴더/submission폴더/'\n",
        "filename='submission 05-26 발표용 ResNet E50 B128.csv'\n",
        "submission.to_csv(savePath+filename,index=False)"
      ],
      "execution_count": 0,
      "outputs": []
    },
    {
      "cell_type": "code",
      "metadata": {
        "id": "ZoUTklQcPxRr",
        "colab_type": "code",
        "colab": {}
      },
      "source": [
        ""
      ],
      "execution_count": 0,
      "outputs": []
    },
    {
      "cell_type": "code",
      "metadata": {
        "id": "a6tXvfDeao0j",
        "colab_type": "code",
        "outputId": "7371e5ff-c16e-46ce-8928-e4e73a7dae95",
        "colab": {
          "base_uri": "https://localhost:8080/",
          "height": 194
        }
      },
      "source": [
        "#tempTest = test_refined.reshape(-1,9)\n",
        "tempTest.shape"
      ],
      "execution_count": 24,
      "outputs": [
        {
          "output_type": "error",
          "ename": "NameError",
          "evalue": "ignored",
          "traceback": [
            "\u001b[0;31m---------------------------------------------------------------------------\u001b[0m",
            "\u001b[0;31mNameError\u001b[0m                                 Traceback (most recent call last)",
            "\u001b[0;32m<ipython-input-24-bc808c46e9cf>\u001b[0m in \u001b[0;36m<module>\u001b[0;34m()\u001b[0m\n\u001b[1;32m      1\u001b[0m \u001b[0;31m#tempTest = test_refined.reshape(-1,9)\u001b[0m\u001b[0;34m\u001b[0m\u001b[0;34m\u001b[0m\u001b[0;34m\u001b[0m\u001b[0m\n\u001b[0;32m----> 2\u001b[0;31m \u001b[0mtempTest\u001b[0m\u001b[0;34m.\u001b[0m\u001b[0mshape\u001b[0m\u001b[0;34m\u001b[0m\u001b[0;34m\u001b[0m\u001b[0m\n\u001b[0m",
            "\u001b[0;31mNameError\u001b[0m: name 'tempTest' is not defined"
          ]
        }
      ]
    },
    {
      "cell_type": "code",
      "metadata": {
        "id": "X7JDMAQJb2r7",
        "colab_type": "code",
        "colab": {}
      },
      "source": [
        "Xtrain=tempXtrain.reshape(30452,40,40,19)\n",
        "del tempXtrain"
      ],
      "execution_count": 0,
      "outputs": []
    },
    {
      "cell_type": "code",
      "metadata": {
        "id": "orUy8ZNzdBsq",
        "colab_type": "code",
        "colab": {}
      },
      "source": [
        "tempTest = test_refined.reshape(-1,9)\n",
        "tempTest.shape"
      ],
      "execution_count": 0,
      "outputs": []
    },
    {
      "cell_type": "code",
      "metadata": {
        "id": "0_RaQNfVZvRp",
        "colab_type": "code",
        "colab": {}
      },
      "source": [
        "# Test파일도 feature 10개 늘리지\n",
        "for i, j in list(combinations(range(5), 2)):\n",
        "   tempTest = np.hstack((tempTest, (tempTest[:, j+2] - tempTest[:, i+2]).reshape(-1, 1))) # hstack의 tempTest를 같은 이름으로해야됨\n",
        "tempTest.shape"
      ],
      "execution_count": 0,
      "outputs": []
    },
    {
      "cell_type": "code",
      "metadata": {
        "id": "BGV_uON6doLJ",
        "colab_type": "code",
        "colab": {}
      },
      "source": [
        "# reshape해서 (40,40,19) 맞추기\n",
        "test_refined = tempTest.reshape(2416,40,40,19)\n",
        "test_refined.shape"
      ],
      "execution_count": 0,
      "outputs": []
    },
    {
      "cell_type": "code",
      "metadata": {
        "id": "nA71L8LRhvQO",
        "colab_type": "code",
        "colab": {}
      },
      "source": [
        "prediction = Model.predict(test_refined)"
      ],
      "execution_count": 0,
      "outputs": []
    },
    {
      "cell_type": "code",
      "metadata": {
        "id": "45nMZp07d48a",
        "colab_type": "code",
        "colab": {}
      },
      "source": [
        "submission.shape"
      ],
      "execution_count": 0,
      "outputs": []
    },
    {
      "cell_type": "markdown",
      "metadata": {
        "id": "X6W0gxNEeGdf",
        "colab_type": "text"
      },
      "source": [
        "# Submission 파일 만들기"
      ]
    },
    {
      "cell_type": "code",
      "metadata": {
        "id": "78SYwu37eBFc",
        "colab_type": "code",
        "colab": {}
      },
      "source": [
        "submission.iloc[:,1:] = prediction.reshape([-1,1600])"
      ],
      "execution_count": 0,
      "outputs": []
    },
    {
      "cell_type": "code",
      "metadata": {
        "id": "AR9nBwvWedKy",
        "colab_type": "code",
        "colab": {}
      },
      "source": [
        "savePath='./모델저장폴더/submission폴더/'\n",
        "filename='submission 05-25 refined E30 B128.csv'\n",
        "submission.to_csv(savePath+filename,index=False)"
      ],
      "execution_count": 0,
      "outputs": []
    }
  ]
}