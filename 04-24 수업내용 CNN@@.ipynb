{
 "cells": [
  {
   "cell_type": "code",
   "execution_count": 1,
   "metadata": {},
   "outputs": [
    {
     "name": "stderr",
     "output_type": "stream",
     "text": [
      "Using TensorFlow backend.\n"
     ]
    }
   ],
   "source": [
    "from keras.datasets import mnist\n",
    "from keras.utils import np_utils\n",
    "import numpy as np\n",
    "import sys\n",
    "import tensorflow as tf\n"
   ]
  },
  {
   "cell_type": "code",
   "execution_count": 38,
   "metadata": {},
   "outputs": [],
   "source": [
    "(xTrain,yTrain),(xTest,yTest) = mnist.load_data()"
   ]
  },
  {
   "cell_type": "code",
   "execution_count": 2,
   "metadata": {},
   "outputs": [],
   "source": [
    "import matplotlib.pyplot as plt"
   ]
  },
  {
   "cell_type": "code",
   "execution_count": 5,
   "metadata": {},
   "outputs": [
    {
     "data": {
      "text/plain": [
       "<matplotlib.image.AxesImage at 0x20462fd2208>"
      ]
     },
     "execution_count": 5,
     "metadata": {},
     "output_type": "execute_result"
    },
    {
     "data": {
      "image/png": "[encoded data removed]",
      "text/plain": [
       "<Figure size 432x288 with 1 Axes>"
      ]
     },
     "metadata": {
      "needs_background": "light"
     },
     "output_type": "display_data"
    }
   ],
   "source": [
    "plt.imshow(xTrain[0],cmap=\"Greys\")"
   ]
  },
  {
   "cell_type": "code",
   "execution_count": 6,
   "metadata": {},
   "outputs": [
    {
     "name": "stdout",
     "output_type": "stream",
     "text": [
      "0\t0\t0\t0\t0\t0\t0\t0\t0\t0\t0\t0\t0\t0\t0\t0\t0\t0\t0\t0\t0\t0\t0\t0\t0\t0\t0\t0\t\n",
      "0\t0\t0\t0\t0\t0\t0\t0\t0\t0\t0\t0\t0\t0\t0\t0\t0\t0\t0\t0\t0\t0\t0\t0\t0\t0\t0\t0\t\n",
      "0\t0\t0\t0\t0\t0\t0\t0\t0\t0\t0\t0\t0\t0\t0\t0\t0\t0\t0\t0\t0\t0\t0\t0\t0\t0\t0\t0\t\n",
      "0\t0\t0\t0\t0\t0\t0\t0\t0\t0\t0\t0\t0\t0\t0\t0\t0\t0\t0\t0\t0\t0\t0\t0\t0\t0\t0\t0\t\n",
      "0\t0\t0\t0\t0\t0\t0\t0\t0\t0\t0\t0\t0\t0\t0\t0\t0\t0\t0\t0\t0\t0\t0\t0\t0\t0\t0\t0\t\n",
      "0\t0\t0\t0\t0\t0\t0\t0\t0\t0\t0\t0\t3\t18\t18\t18\t126\t136\t175\t26\t166\t255\t247\t127\t0\t0\t0\t0\t\n",
      "0\t0\t0\t0\t0\t0\t0\t0\t30\t36\t94\t154\t170\t253\t253\t253\t253\t253\t225\t172\t253\t242\t195\t64\t0\t0\t0\t0\t\n",
      "0\t0\t0\t0\t0\t0\t0\t49\t238\t253\t253\t253\t253\t253\t253\t253\t253\t251\t93\t82\t82\t56\t39\t0\t0\t0\t0\t0\t\n",
      "0\t0\t0\t0\t0\t0\t0\t18\t219\t253\t253\t253\t253\t253\t198\t182\t247\t241\t0\t0\t0\t0\t0\t0\t0\t0\t0\t0\t\n",
      "0\t0\t0\t0\t0\t0\t0\t0\t80\t156\t107\t253\t253\t205\t11\t0\t43\t154\t0\t0\t0\t0\t0\t0\t0\t0\t0\t0\t\n",
      "0\t0\t0\t0\t0\t0\t0\t0\t0\t14\t1\t154\t253\t90\t0\t0\t0\t0\t0\t0\t0\t0\t0\t0\t0\t0\t0\t0\t\n",
      "0\t0\t0\t0\t0\t0\t0\t0\t0\t0\t0\t139\t253\t190\t2\t0\t0\t0\t0\t0\t0\t0\t0\t0\t0\t0\t0\t0\t\n",
      "0\t0\t0\t0\t0\t0\t0\t0\t0\t0\t0\t11\t190\t253\t70\t0\t0\t0\t0\t0\t0\t0\t0\t0\t0\t0\t0\t0\t\n",
      "0\t0\t0\t0\t0\t0\t0\t0\t0\t0\t0\t0\t35\t241\t225\t160\t108\t1\t0\t0\t0\t0\t0\t0\t0\t0\t0\t0\t\n",
      "0\t0\t0\t0\t0\t0\t0\t0\t0\t0\t0\t0\t0\t81\t240\t253\t253\t119\t25\t0\t0\t0\t0\t0\t0\t0\t0\t0\t\n",
      "0\t0\t0\t0\t0\t0\t0\t0\t0\t0\t0\t0\t0\t0\t45\t186\t253\t253\t150\t27\t0\t0\t0\t0\t0\t0\t0\t0\t\n",
      "0\t0\t0\t0\t0\t0\t0\t0\t0\t0\t0\t0\t0\t0\t0\t16\t93\t252\t253\t187\t0\t0\t0\t0\t0\t0\t0\t0\t\n",
      "0\t0\t0\t0\t0\t0\t0\t0\t0\t0\t0\t0\t0\t0\t0\t0\t0\t249\t253\t249\t64\t0\t0\t0\t0\t0\t0\t0\t\n",
      "0\t0\t0\t0\t0\t0\t0\t0\t0\t0\t0\t0\t0\t0\t46\t130\t183\t253\t253\t207\t2\t0\t0\t0\t0\t0\t0\t0\t\n",
      "0\t0\t0\t0\t0\t0\t0\t0\t0\t0\t0\t0\t39\t148\t229\t253\t253\t253\t250\t182\t0\t0\t0\t0\t0\t0\t0\t0\t\n",
      "0\t0\t0\t0\t0\t0\t0\t0\t0\t0\t24\t114\t221\t253\t253\t253\t253\t201\t78\t0\t0\t0\t0\t0\t0\t0\t0\t0\t\n",
      "0\t0\t0\t0\t0\t0\t0\t0\t23\t66\t213\t253\t253\t253\t253\t198\t81\t2\t0\t0\t0\t0\t0\t0\t0\t0\t0\t0\t\n",
      "0\t0\t0\t0\t0\t0\t18\t171\t219\t253\t253\t253\t253\t195\t80\t9\t0\t0\t0\t0\t0\t0\t0\t0\t0\t0\t0\t0\t\n",
      "0\t0\t0\t0\t55\t172\t226\t253\t253\t253\t253\t244\t133\t11\t0\t0\t0\t0\t0\t0\t0\t0\t0\t0\t0\t0\t0\t0\t\n",
      "0\t0\t0\t0\t136\t253\t253\t253\t212\t135\t132\t16\t0\t0\t0\t0\t0\t0\t0\t0\t0\t0\t0\t0\t0\t0\t0\t0\t\n",
      "0\t0\t0\t0\t0\t0\t0\t0\t0\t0\t0\t0\t0\t0\t0\t0\t0\t0\t0\t0\t0\t0\t0\t0\t0\t0\t0\t0\t\n",
      "0\t0\t0\t0\t0\t0\t0\t0\t0\t0\t0\t0\t0\t0\t0\t0\t0\t0\t0\t0\t0\t0\t0\t0\t0\t0\t0\t0\t\n",
      "0\t0\t0\t0\t0\t0\t0\t0\t0\t0\t0\t0\t0\t0\t0\t0\t0\t0\t0\t0\t0\t0\t0\t0\t0\t0\t0\t0\t\n"
     ]
    }
   ],
   "source": [
    "for x in xTrain[0]:\n",
    "    for i in x:\n",
    "        sys.stdout.write(\"%d\\t\" % i) # stdout: module, write:함수\n",
    "    sys.stdout.write(\"\\n\") #sys.stdout: 모니터로 출력해라"
   ]
  },
  {
   "cell_type": "code",
   "execution_count": 39,
   "metadata": {},
   "outputs": [],
   "source": [
    "xTrain = xTrain.reshape(xTrain.shape[0],784) #(60000,784)로 reshape\n",
    "xTrain = xTrain.astype('float64')\n",
    "xtrain = xTrain/255\n",
    "xTest = xTest.reshape(xTest.shape[0],784)\n",
    "yTrain = np_utils.to_categorical(yTrain,10) #<-category10개로 \n",
    "yTest = np_utils.to_categorical(yTest,10)"
   ]
  },
  {
   "cell_type": "code",
   "execution_count": 40,
   "metadata": {},
   "outputs": [],
   "source": [
    "xTrain = xTrain.astype('float64')\n",
    "xtrain = xTrain/255\n",
    "xTest = xTest.reshape(xTest.shape[0],784)\n",
    "yTrain = np_utils.to_categorical(yTrain,10) #<-category10개로 \n",
    "yTest = np_utils.to_categorical(yTest,10)"
   ]
  },
  {
   "cell_type": "code",
   "execution_count": 41,
   "metadata": {},
   "outputs": [],
   "source": [
    "xtrain = xTrain/255\n",
    "xTest = xTest.reshape(xTest.shape[0],784)\n",
    "yTrain = np_utils.to_categorical(yTrain,10) #<-category10개로 \n",
    "yTest = np_utils.to_categorical(yTest,10)"
   ]
  },
  {
   "cell_type": "code",
   "execution_count": 42,
   "metadata": {},
   "outputs": [],
   "source": [
    "xTest = xTest.reshape(xTest.shape[0],784)\n",
    "yTrain = np_utils.to_categorical(yTrain,10) #<-category10개로 \n",
    "yTest = np_utils.to_categorical(yTest,10)"
   ]
  },
  {
   "cell_type": "code",
   "execution_count": 11,
   "metadata": {},
   "outputs": [
    {
     "name": "stdout",
     "output_type": "stream",
     "text": [
      "5\n"
     ]
    }
   ],
   "source": [
    "print(yTrain[0])"
   ]
  },
  {
   "cell_type": "code",
   "execution_count": 43,
   "metadata": {},
   "outputs": [],
   "source": [
    "yTrain = np_utils.to_categorical(yTrain,10) #<-category10개로 \n",
    "yTest = np_utils.to_categorical(yTest,10)"
   ]
  },
  {
   "cell_type": "code",
   "execution_count": 42,
   "metadata": {},
   "outputs": [],
   "source": [
    "#모델 구성\n",
    "from keras.models import Sequential\n",
    "from keras.layers import Dense\n",
    "from keras.callbacks import ModelCheckpoint,EarlyStopping\n",
    "import os #numpy랑 tensorflow도"
   ]
  },
  {
   "cell_type": "code",
   "execution_count": 15,
   "metadata": {},
   "outputs": [
    {
     "name": "stdout",
     "output_type": "stream",
     "text": [
      "WARNING:tensorflow:From C:\\ProgramData\\Anaconda3\\lib\\site-packages\\tensorflow_core\\python\\ops\\resource_variable_ops.py:1630: calling BaseResourceVariable.__init__ (from tensorflow.python.ops.resource_variable_ops) with constraint is deprecated and will be removed in a future version.\n",
      "Instructions for updating:\n",
      "If using Keras pass *_constraint arguments to layers.\n"
     ]
    }
   ],
   "source": [
    "model=Sequential()\n",
    "model.add(Dense(512,input_dim=784, activation = 'relu')) \n",
    "model.add(Dense(10,activation = 'softmax'))"
   ]
  },
  {
   "cell_type": "code",
   "execution_count": 16,
   "metadata": {},
   "outputs": [],
   "source": [
    "#모델 환경설정\n",
    "model.compile(loss='categorical_crossentropy',\n",
    "             optimizer='adam',\n",
    "             metrics=['accuracy'])"
   ]
  },
  {
   "cell_type": "code",
   "execution_count": 21,
   "metadata": {},
   "outputs": [],
   "source": [
    "#모델 최적화\n",
    "modelDir='./myModel/'\n",
    "if not os.path.exists(modelDir): #<-만약 mymodel디렉토리가 존재하지 않는다면\n",
    "    modelPath='./myModel/{epoch:02d}={val_loss:.4f}.hdf5'\n",
    "    os.mkdir(modelDir) #<-디렉토리 만드는  명령어\n",
    "    #save_best_only:모델에 최고 정확도만 저장하겠냐\n",
    "checkpointer = ModelCheckpoint(filepath=modelPath,\n",
    "                    monitor='val_loss',\n",
    "                    verbose=1,save_best_only=True)    \n",
    "#ModelCheckpoint: callback 함수(어떤 상황이오면 시스템이 호출하는 함수),\n",
    "            #ex: wifi지역에 가면 자동으로 뜨는 메세지=>폰 시스템에서 상황에 오면 그 상황을 설명\n",
    "            #하는 메세가 뜨도록 나옴\n",
    "            #model을 학습 할 때마다 중간중간에 호출을 함\n",
    "es=EarlyStopping(monitor='val_loss',patience = 10)\n"
   ]
  },
  {
   "cell_type": "code",
   "execution_count": 22,
   "metadata": {},
   "outputs": [
    {
     "name": "stdout",
     "output_type": "stream",
     "text": [
      "Train on 60000 samples, validate on 10000 samples\n",
      "Epoch 1/30\n",
      "60000/60000 [==============================] - 2s 38us/step - loss: 0.8466 - accuracy: 0.9549 - val_loss: 0.8261 - val_accuracy: 0.9552\n",
      "\n",
      "Epoch 00001: val_loss improved from inf to 0.82607, saving model to ./myModel/01=0.8261.hdf5\n",
      "Epoch 2/30\n",
      "60000/60000 [==============================] - 2s 39us/step - loss: 0.3967 - accuracy: 0.9700 - val_loss: 0.6450 - val_accuracy: 0.9639\n",
      "\n",
      "Epoch 00002: val_loss improved from 0.82607 to 0.64496, saving model to ./myModel/02=0.6450.hdf5\n",
      "Epoch 3/30\n",
      "60000/60000 [==============================] - 2s 40us/step - loss: 0.2559 - accuracy: 0.9760 - val_loss: 0.7191 - val_accuracy: 0.9568\n",
      "\n",
      "Epoch 00003: val_loss did not improve from 0.64496\n",
      "Epoch 4/30\n",
      "60000/60000 [==============================] - 3s 43us/step - loss: 0.1948 - accuracy: 0.9807 - val_loss: 0.6496 - val_accuracy: 0.9647\n",
      "\n",
      "Epoch 00004: val_loss did not improve from 0.64496\n",
      "Epoch 5/30\n",
      "60000/60000 [==============================] - 3s 52us/step - loss: 0.1580 - accuracy: 0.9833 - val_loss: 0.6263 - val_accuracy: 0.9660\n",
      "\n",
      "Epoch 00005: val_loss improved from 0.64496 to 0.62628, saving model to ./myModel/05=0.6263.hdf5\n",
      "Epoch 6/30\n",
      "60000/60000 [==============================] - 2s 41us/step - loss: 0.1638 - accuracy: 0.9840 - val_loss: 0.5580 - val_accuracy: 0.9678\n",
      "\n",
      "Epoch 00006: val_loss improved from 0.62628 to 0.55799, saving model to ./myModel/06=0.5580.hdf5\n",
      "Epoch 7/30\n",
      "60000/60000 [==============================] - 2s 40us/step - loss: 0.1433 - accuracy: 0.9850 - val_loss: 0.5322 - val_accuracy: 0.9694\n",
      "\n",
      "Epoch 00007: val_loss improved from 0.55799 to 0.53219, saving model to ./myModel/07=0.5322.hdf5\n",
      "Epoch 8/30\n",
      "60000/60000 [==============================] - 2s 39us/step - loss: 0.1332 - accuracy: 0.9855 - val_loss: 0.5695 - val_accuracy: 0.9643\n",
      "\n",
      "Epoch 00008: val_loss did not improve from 0.53219\n",
      "Epoch 9/30\n",
      "60000/60000 [==============================] - 2s 40us/step - loss: 0.1469 - accuracy: 0.9855 - val_loss: 0.5791 - val_accuracy: 0.9686\n",
      "\n",
      "Epoch 00009: val_loss did not improve from 0.53219\n",
      "Epoch 10/30\n",
      "60000/60000 [==============================] - 3s 43us/step - loss: 0.1549 - accuracy: 0.9852 - val_loss: 0.6842 - val_accuracy: 0.9663\n",
      "\n",
      "Epoch 00010: val_loss did not improve from 0.53219\n",
      "Epoch 11/30\n",
      "60000/60000 [==============================] - 2s 38us/step - loss: 0.1619 - accuracy: 0.9842 - val_loss: 0.5347 - val_accuracy: 0.9687\n",
      "\n",
      "Epoch 00011: val_loss did not improve from 0.53219\n",
      "Epoch 12/30\n",
      "60000/60000 [==============================] - 2s 35us/step - loss: 0.1233 - accuracy: 0.9868 - val_loss: 0.5520 - val_accuracy: 0.9678\n",
      "\n",
      "Epoch 00012: val_loss did not improve from 0.53219\n",
      "Epoch 13/30\n",
      "60000/60000 [==============================] - 2s 37us/step - loss: 0.1298 - accuracy: 0.9865 - val_loss: 0.5888 - val_accuracy: 0.9691\n",
      "\n",
      "Epoch 00013: val_loss did not improve from 0.53219\n",
      "Epoch 14/30\n",
      "60000/60000 [==============================] - 2s 36us/step - loss: 0.1513 - accuracy: 0.9856 - val_loss: 0.6006 - val_accuracy: 0.9689\n",
      "\n",
      "Epoch 00014: val_loss did not improve from 0.53219\n",
      "Epoch 15/30\n",
      "60000/60000 [==============================] - 2s 34us/step - loss: 0.1348 - accuracy: 0.9866 - val_loss: 0.5621 - val_accuracy: 0.9711\n",
      "\n",
      "Epoch 00015: val_loss did not improve from 0.53219\n",
      "Epoch 16/30\n",
      "60000/60000 [==============================] - 2s 34us/step - loss: 0.1239 - accuracy: 0.9872 - val_loss: 0.6272 - val_accuracy: 0.9646\n",
      "\n",
      "Epoch 00016: val_loss did not improve from 0.53219\n",
      "Epoch 17/30\n",
      "60000/60000 [==============================] - 2s 35us/step - loss: 0.1261 - accuracy: 0.9879 - val_loss: 0.6318 - val_accuracy: 0.9694\n",
      "\n",
      "Epoch 00017: val_loss did not improve from 0.53219\n"
     ]
    },
    {
     "data": {
      "text/plain": [
       "<keras.callbacks.callbacks.History at 0x2047ecc1808>"
      ]
     },
     "execution_count": 22,
     "metadata": {},
     "output_type": "execute_result"
    }
   ],
   "source": [
    "#모델 생성\n",
    "model.fit(xTrain,yTrain,validation_data=(xTest,yTest),\n",
    "          epochs=30,batch_size=200,\n",
    "         callbacks=[es,checkpointer])"
   ]
  },
  {
   "cell_type": "code",
   "execution_count": 23,
   "metadata": {},
   "outputs": [
    {
     "name": "stdout",
     "output_type": "stream",
     "text": [
      "10000/10000 [==============================] - 0s 17us/step\n",
      "테스트 정확도 : 0.9694\n"
     ]
    }
   ],
   "source": [
    "print(\"테스트 정확도 : %.4f\" %(model.evaluate(xTest,yTest)[1]))"
   ]
  },
  {
   "cell_type": "code",
   "execution_count": 24,
   "metadata": {},
   "outputs": [
    {
     "name": "stdout",
     "output_type": "stream",
     "text": [
      "Train on 60000 samples, validate on 10000 samples\n",
      "Epoch 1/30\n",
      "60000/60000 [==============================] - 3s 50us/step - loss: 0.1237 - accuracy: 0.9886 - val_loss: 0.6621 - val_accuracy: 0.9697\n",
      "\n",
      "Epoch 00001: val_loss did not improve from 0.53219\n",
      "Epoch 2/30\n",
      "60000/60000 [==============================] - 2s 37us/step - loss: 0.1309 - accuracy: 0.9872 - val_loss: 0.6976 - val_accuracy: 0.9680\n",
      "\n",
      "Epoch 00002: val_loss did not improve from 0.53219\n",
      "Epoch 3/30\n",
      "60000/60000 [==============================] - 2s 37us/step - loss: 0.1381 - accuracy: 0.9879 - val_loss: 0.6033 - val_accuracy: 0.9730\n",
      "\n",
      "Epoch 00003: val_loss did not improve from 0.53219\n",
      "Epoch 4/30\n",
      "60000/60000 [==============================] - 2s 37us/step - loss: 0.1308 - accuracy: 0.9888 - val_loss: 0.7439 - val_accuracy: 0.9686\n",
      "\n",
      "Epoch 00004: val_loss did not improve from 0.53219\n",
      "Epoch 5/30\n",
      "60000/60000 [==============================] - 2s 37us/step - loss: 0.1601 - accuracy: 0.9875 - val_loss: 0.7715 - val_accuracy: 0.9707\n",
      "\n",
      "Epoch 00005: val_loss did not improve from 0.53219\n",
      "Epoch 6/30\n",
      "60000/60000 [==============================] - 2s 37us/step - loss: 0.1466 - accuracy: 0.9880 - val_loss: 0.8065 - val_accuracy: 0.9681\n",
      "\n",
      "Epoch 00006: val_loss did not improve from 0.53219\n",
      "Epoch 7/30\n",
      "60000/60000 [==============================] - 2s 37us/step - loss: 0.1170 - accuracy: 0.9905 - val_loss: 0.7953 - val_accuracy: 0.9726\n",
      "\n",
      "Epoch 00007: val_loss did not improve from 0.53219\n",
      "Epoch 8/30\n",
      "60000/60000 [==============================] - 2s 37us/step - loss: 0.0900 - accuracy: 0.9922 - val_loss: 0.7845 - val_accuracy: 0.9720\n",
      "\n",
      "Epoch 00008: val_loss did not improve from 0.53219\n",
      "Epoch 9/30\n",
      "60000/60000 [==============================] - 2s 37us/step - loss: 0.1178 - accuracy: 0.9914 - val_loss: 0.7697 - val_accuracy: 0.9738\n",
      "\n",
      "Epoch 00009: val_loss did not improve from 0.53219\n",
      "Epoch 10/30\n",
      "60000/60000 [==============================] - 2s 37us/step - loss: 0.0999 - accuracy: 0.9920 - val_loss: 0.9204 - val_accuracy: 0.9721\n",
      "\n",
      "Epoch 00010: val_loss did not improve from 0.53219\n",
      "Epoch 11/30\n",
      "60000/60000 [==============================] - 2s 37us/step - loss: 0.1035 - accuracy: 0.9919 - val_loss: 0.8585 - val_accuracy: 0.9752\n",
      "\n",
      "Epoch 00011: val_loss did not improve from 0.53219\n",
      "Epoch 12/30\n",
      "60000/60000 [==============================] - 2s 37us/step - loss: 0.1425 - accuracy: 0.9911 - val_loss: 0.9036 - val_accuracy: 0.9724\n",
      "\n",
      "Epoch 00012: val_loss did not improve from 0.53219\n",
      "Epoch 13/30\n",
      "60000/60000 [==============================] - 2s 37us/step - loss: 0.1079 - accuracy: 0.9923 - val_loss: 0.8628 - val_accuracy: 0.9724\n",
      "\n",
      "Epoch 00013: val_loss did not improve from 0.53219\n"
     ]
    }
   ],
   "source": [
    "history = model.fit(xTrain,yTrain,validation_data=(xTest,yTest),\n",
    "          epochs=30,batch_size=200,\n",
    "         callbacks=[es,checkpointer])"
   ]
  },
  {
   "cell_type": "code",
   "execution_count": 28,
   "metadata": {},
   "outputs": [],
   "source": [
    "#테스트 셋의 오차\n",
    "yVloss = history.history['val_loss']\n",
    "#학습 셋의 오차\n",
    "yLoss = history.history['loss']"
   ]
  },
  {
   "cell_type": "code",
   "execution_count": 31,
   "metadata": {},
   "outputs": [
    {
     "data": {
      "image/png": "[encoded data removed]",
      "text/plain": [
       "<Figure size 432x288 with 1 Axes>"
      ]
     },
     "metadata": {
      "needs_background": "light"
     },
     "output_type": "display_data"
    }
   ],
   "source": [
    "xlen = np.arange(len(yLoss))\n",
    "plt.plot(xlen,yVloss,marker='.',c='red',label='testset_loss')\n",
    "plt.plot(xlen,yLoss,marker='.',c='blue',label='trainset_loss')\n",
    "plt.legend()\n",
    "plt.grid() #<-격자\n",
    "plt.xlabel('epoch')\n",
    "plt.ylabel('loss')\n",
    "plt.show()"
   ]
  },
  {
   "cell_type": "code",
   "execution_count": null,
   "metadata": {},
   "outputs": [],
   "source": [
    "*Conv2D: convolution layer를 추가하는 함수"
   ]
  },
  {
   "cell_type": "code",
   "execution_count": 38,
   "metadata": {},
   "outputs": [],
   "source": [
    "from keras.layers import * #<-여기에 dense dropout maxpooling 등 다있음"
   ]
  },
  {
   "cell_type": "code",
   "execution_count": 35,
   "metadata": {},
   "outputs": [
    {
     "name": "stdout",
     "output_type": "stream",
     "text": [
      "WARNING:tensorflow:From C:\\ProgramData\\Anaconda3\\lib\\site-packages\\keras\\backend\\tensorflow_backend.py:4070: The name tf.nn.max_pool is deprecated. Please use tf.nn.max_pool2d instead.\n",
      "\n"
     ]
    }
   ],
   "source": [
    "#CNN으로 MNIST 모델 만들기\n",
    "model=Sequential()\n",
    "model.add(Conv2D(32,\n",
    "                 kernel_size=(3,3),\n",
    "                 input_shape=(28,28,1),\n",
    "                 activation = 'relu')) \n",
    "#Conv2D(필터개수,kernel_size:필터의 크기,input_shape(행,렬,색상),활성화함수)\n",
    "model.add(Conv2D(64,\n",
    "                 (3,3), #<- 2번째 인수는 이미 kernel_size\n",
    "                 activation = 'relu')) \n",
    "model.add(Dense(10,activation = 'softmax'))\n",
    "model.add(MaxPooling2D(pool_size=2))\n",
    "model.add(Dropout(0.25)) #dropout 비율을 줘야함(025: 25%드랍하겠다.)\n",
    "model.add(Flatten())\n",
    "#Flatten(): 1차원으로 변경하는 함수\n",
    "model.add(Dense(128,activation='relu'))\n",
    "model.add(Dropout(0.5))\n",
    "model.add(Dense(10,activation='softmax'))"
   ]
  },
  {
   "cell_type": "code",
   "execution_count": null,
   "metadata": {},
   "outputs": [],
   "source": [
    "*dropout:\n",
    "    -오버피팅 감소\n",
    "    -히든계층의 노드 중 일부를 선택하여 학습하는 기법\n",
    "        x1       node1 (선택x)\n",
    "        ...  =>  node2 (선택o)  => y    \n",
    "        x784      ...\n",
    "                 nodeN (선택x)\n",
    "        효과 : 학습데이터에 지나치게 치우쳐서 학습하지 않게 함"
   ]
  },
  {
   "cell_type": "code",
   "execution_count": 36,
   "metadata": {},
   "outputs": [],
   "source": [
    "model.compile(loss='categorical_crossentropy',\n",
    "             optimizer='adam',\n",
    "             metrics=['accuracy'])"
   ]
  },
  {
   "cell_type": "code",
   "execution_count": 37,
   "metadata": {},
   "outputs": [],
   "source": [
    "#모델 최저고하\n",
    "modelDir='./myCnnModel/'\n",
    "if not os.path.exists(modelDir): \n",
    "    modelPath='./myCnnModel/{epoch:02d}={val_loss:.4f}.hdf5'\n",
    "    os.mkdir(modelDir) \n",
    "checkpointer = ModelCheckpoint(filepath=modelPath,\n",
    "                    monitor='val_loss',\n",
    "                    verbose=1,save_best_only=True)    \n",
    "es=EarlyStopping(monitor='val_loss',patience = 10)"
   ]
  },
  {
   "cell_type": "code",
   "execution_count": 44,
   "metadata": {},
   "outputs": [],
   "source": [
    "#데이터 다시 불러오기,처리\n",
    "(xTrain,yTrain),(xTest,yTest) = mnist.load_data()\n",
    "xTrain = xTrain.reshape(xTrain.shape[0],28,28,1).astype('float32')/255\n",
    "xTest = xTest.reshape(xTest.shape[0],28,28,1).astype('float32')/255\n",
    "yTrain = np_utils.to_categorical(yTrain) #<-category10개로 \n",
    "yTest = np_utils.to_categorical(yTest)"
   ]
  },
  {
   "cell_type": "code",
   "execution_count": 45,
   "metadata": {},
   "outputs": [
    {
     "name": "stdout",
     "output_type": "stream",
     "text": [
      "Train on 60000 samples, validate on 10000 samples\n",
      "Epoch 1/30\n",
      "60000/60000 [==============================] - 52s 866us/step - loss: 0.8171 - accuracy: 0.7302 - val_loss: 0.1476 - val_accuracy: 0.9564\n",
      "\n",
      "Epoch 00001: val_loss improved from inf to 0.14755, saving model to ./myCnnModel/01=0.1476.hdf5\n",
      "Epoch 2/30\n",
      "60000/60000 [==============================] - 60s 995us/step - loss: 0.2117 - accuracy: 0.9379 - val_loss: 0.0922 - val_accuracy: 0.9712\n",
      "\n",
      "Epoch 00002: val_loss improved from 0.14755 to 0.09222, saving model to ./myCnnModel/02=0.0922.hdf5\n",
      "Epoch 3/30\n",
      "60000/60000 [==============================] - 62s 1ms/step - loss: 0.1563 - accuracy: 0.9544 - val_loss: 0.0692 - val_accuracy: 0.9769\n",
      "\n",
      "Epoch 00003: val_loss improved from 0.09222 to 0.06917, saving model to ./myCnnModel/03=0.0692.hdf5\n",
      "Epoch 4/30\n",
      "60000/60000 [==============================] - 62s 1ms/step - loss: 0.1306 - accuracy: 0.9609 - val_loss: 0.0594 - val_accuracy: 0.9806\n",
      "\n",
      "Epoch 00004: val_loss improved from 0.06917 to 0.05938, saving model to ./myCnnModel/04=0.0594.hdf5\n",
      "Epoch 5/30\n",
      "60000/60000 [==============================] - 69s 1ms/step - loss: 0.1131 - accuracy: 0.9660 - val_loss: 0.0535 - val_accuracy: 0.9819\n",
      "\n",
      "Epoch 00005: val_loss improved from 0.05938 to 0.05351, saving model to ./myCnnModel/05=0.0535.hdf5\n",
      "Epoch 6/30\n",
      "60000/60000 [==============================] - 62s 1ms/step - loss: 0.1041 - accuracy: 0.9688 - val_loss: 0.0506 - val_accuracy: 0.9833\n",
      "\n",
      "Epoch 00006: val_loss improved from 0.05351 to 0.05059, saving model to ./myCnnModel/06=0.0506.hdf5\n",
      "Epoch 7/30\n",
      "60000/60000 [==============================] - 62s 1ms/step - loss: 0.0973 - accuracy: 0.9717 - val_loss: 0.0447 - val_accuracy: 0.9863\n",
      "\n",
      "Epoch 00007: val_loss improved from 0.05059 to 0.04475, saving model to ./myCnnModel/07=0.0447.hdf5\n",
      "Epoch 8/30\n",
      "60000/60000 [==============================] - 63s 1ms/step - loss: 0.0901 - accuracy: 0.9731 - val_loss: 0.0421 - val_accuracy: 0.9857\n",
      "\n",
      "Epoch 00008: val_loss improved from 0.04475 to 0.04212, saving model to ./myCnnModel/08=0.0421.hdf5\n",
      "Epoch 9/30\n",
      "60000/60000 [==============================] - 63s 1ms/step - loss: 0.0866 - accuracy: 0.9730 - val_loss: 0.0451 - val_accuracy: 0.9853\n",
      "\n",
      "Epoch 00009: val_loss did not improve from 0.04212\n",
      "Epoch 10/30\n",
      "60000/60000 [==============================] - 63s 1ms/step - loss: 0.0805 - accuracy: 0.9749 - val_loss: 0.0392 - val_accuracy: 0.9870\n",
      "\n",
      "Epoch 00010: val_loss improved from 0.04212 to 0.03920, saving model to ./myCnnModel/10=0.0392.hdf5\n",
      "Epoch 11/30\n",
      "60000/60000 [==============================] - 63s 1ms/step - loss: 0.0769 - accuracy: 0.9763 - val_loss: 0.0397 - val_accuracy: 0.9872\n",
      "\n",
      "Epoch 00011: val_loss did not improve from 0.03920\n",
      "Epoch 12/30\n",
      "60000/60000 [==============================] - 62s 1ms/step - loss: 0.0728 - accuracy: 0.9777 - val_loss: 0.0384 - val_accuracy: 0.9874\n",
      "\n",
      "Epoch 00012: val_loss improved from 0.03920 to 0.03845, saving model to ./myCnnModel/12=0.0384.hdf5\n",
      "Epoch 13/30\n",
      "60000/60000 [==============================] - 65s 1ms/step - loss: 0.0714 - accuracy: 0.9783 - val_loss: 0.0357 - val_accuracy: 0.9884\n",
      "\n",
      "Epoch 00013: val_loss improved from 0.03845 to 0.03569, saving model to ./myCnnModel/13=0.0357.hdf5\n",
      "Epoch 14/30\n",
      "60000/60000 [==============================] - 71s 1ms/step - loss: 0.0676 - accuracy: 0.9793 - val_loss: 0.0345 - val_accuracy: 0.9880\n",
      "\n",
      "Epoch 00014: val_loss improved from 0.03569 to 0.03454, saving model to ./myCnnModel/14=0.0345.hdf5\n",
      "Epoch 15/30\n",
      "60000/60000 [==============================] - 66s 1ms/step - loss: 0.0659 - accuracy: 0.9793 - val_loss: 0.0344 - val_accuracy: 0.9890\n",
      "\n",
      "Epoch 00015: val_loss improved from 0.03454 to 0.03439, saving model to ./myCnnModel/15=0.0344.hdf5\n",
      "Epoch 16/30\n",
      "60000/60000 [==============================] - 63s 1ms/step - loss: 0.0644 - accuracy: 0.9803 - val_loss: 0.0358 - val_accuracy: 0.9875\n",
      "\n",
      "Epoch 00016: val_loss did not improve from 0.03439\n",
      "Epoch 17/30\n",
      "60000/60000 [==============================] - 66s 1ms/step - loss: 0.0623 - accuracy: 0.9809 - val_loss: 0.0338 - val_accuracy: 0.9888\n",
      "\n",
      "Epoch 00017: val_loss improved from 0.03439 to 0.03384, saving model to ./myCnnModel/17=0.0338.hdf5\n",
      "Epoch 18/30\n",
      "60000/60000 [==============================] - 66s 1ms/step - loss: 0.0602 - accuracy: 0.9815 - val_loss: 0.0331 - val_accuracy: 0.9889\n",
      "\n",
      "Epoch 00018: val_loss improved from 0.03384 to 0.03310, saving model to ./myCnnModel/18=0.0331.hdf5\n",
      "Epoch 19/30\n",
      "60000/60000 [==============================] - 66s 1ms/step - loss: 0.0583 - accuracy: 0.9816 - val_loss: 0.0351 - val_accuracy: 0.9886\n",
      "\n",
      "Epoch 00019: val_loss did not improve from 0.03310\n",
      "Epoch 20/30\n",
      "60000/60000 [==============================] - 68s 1ms/step - loss: 0.0549 - accuracy: 0.9827 - val_loss: 0.0331 - val_accuracy: 0.9887\n",
      "\n",
      "Epoch 00020: val_loss did not improve from 0.03310\n",
      "Epoch 21/30\n",
      "60000/60000 [==============================] - 63s 1ms/step - loss: 0.0558 - accuracy: 0.9821 - val_loss: 0.0354 - val_accuracy: 0.9886\n",
      "\n",
      "Epoch 00021: val_loss did not improve from 0.03310\n",
      "Epoch 22/30\n",
      "60000/60000 [==============================] - 67s 1ms/step - loss: 0.0550 - accuracy: 0.9821 - val_loss: 0.0311 - val_accuracy: 0.9898\n",
      "\n",
      "Epoch 00022: val_loss improved from 0.03310 to 0.03108, saving model to ./myCnnModel/22=0.0311.hdf5\n",
      "Epoch 23/30\n",
      "60000/60000 [==============================] - 66s 1ms/step - loss: 0.0522 - accuracy: 0.9836 - val_loss: 0.0315 - val_accuracy: 0.9893\n",
      "\n",
      "Epoch 00023: val_loss did not improve from 0.03108\n",
      "Epoch 24/30\n",
      "60000/60000 [==============================] - 63s 1ms/step - loss: 0.0506 - accuracy: 0.9838 - val_loss: 0.0333 - val_accuracy: 0.9897\n",
      "\n",
      "Epoch 00024: val_loss did not improve from 0.03108\n",
      "Epoch 25/30\n",
      "60000/60000 [==============================] - 64s 1ms/step - loss: 0.0503 - accuracy: 0.9838 - val_loss: 0.0313 - val_accuracy: 0.9893\n",
      "\n",
      "Epoch 00025: val_loss did not improve from 0.03108\n",
      "Epoch 26/30\n",
      "60000/60000 [==============================] - 63s 1ms/step - loss: 0.0493 - accuracy: 0.9843 - val_loss: 0.0317 - val_accuracy: 0.9898\n",
      "\n",
      "Epoch 00026: val_loss did not improve from 0.03108\n",
      "Epoch 27/30\n",
      "60000/60000 [==============================] - 63s 1ms/step - loss: 0.0479 - accuracy: 0.9847 - val_loss: 0.0330 - val_accuracy: 0.9899\n",
      "\n",
      "Epoch 00027: val_loss did not improve from 0.03108\n",
      "Epoch 28/30\n",
      "60000/60000 [==============================] - 64s 1ms/step - loss: 0.0479 - accuracy: 0.9847 - val_loss: 0.0308 - val_accuracy: 0.9901\n",
      "\n",
      "Epoch 00028: val_loss improved from 0.03108 to 0.03081, saving model to ./myCnnModel/28=0.0308.hdf5\n",
      "Epoch 29/30\n",
      "60000/60000 [==============================] - 66s 1ms/step - loss: 0.0446 - accuracy: 0.9853 - val_loss: 0.0308 - val_accuracy: 0.9904\n",
      "\n",
      "Epoch 00029: val_loss improved from 0.03081 to 0.03081, saving model to ./myCnnModel/29=0.0308.hdf5\n",
      "Epoch 30/30\n",
      "60000/60000 [==============================] - 63s 1ms/step - loss: 0.0448 - accuracy: 0.9855 - val_loss: 0.0309 - val_accuracy: 0.9895\n",
      "\n",
      "Epoch 00030: val_loss did not improve from 0.03081\n"
     ]
    }
   ],
   "source": [
    "#모델 최적화\n",
    "history = model.fit(xTrain,yTrain,validation_data=(xTest,yTest),\n",
    "          epochs=30,batch_size=200,\n",
    "         callbacks=[es,checkpointer])"
   ]
  },
  {
   "cell_type": "code",
   "execution_count": null,
   "metadata": {},
   "outputs": [],
   "source": [
    "*설명:\n",
    "    model.save(\"파일명.h5\")로 저장이 되어 있을 때\n",
    "    저장한 모델을 다시 불러와서 확인할 경우\n",
    "    from keras.models import load_model\n",
    "    load_model(\"파일명.h5\")\n",
    "    model.summary() <-모델 구조\n",
    "    분류결과 = model.predict_classes(테스트 데이터)\n",
    "    "
   ]
  },
  {
   "cell_type": "code",
   "execution_count": null,
   "metadata": {},
   "outputs": [],
   "source": [
    "#예측이 틀린 이미지를 8개 정도 출력\n",
    "label:9, pred:4 ...  label:4 , pred:4\n",
    "        => 9이미지 출력   =>1이미지\n",
    "        \n",
    "2*4형태로 틀린 예측 결과출력"
   ]
  },
  {
   "cell_type": "code",
   "execution_count": null,
   "metadata": {},
   "outputs": [],
   "source": [
    "----------------------------오후"
   ]
  },
  {
   "cell_type": "code",
   "execution_count": null,
   "metadata": {},
   "outputs": [],
   "source": [
    "#이터레이터,제너레이터\n",
    "*iterator:값을 차례대로 꺼낼 수 있는 객체\n",
    "    ex: for i in range(100):# <-의미:0~99까지의 숫자를 꺼내 쓸 수 있는 iterator 객체를 만듬\n",
    "            print(i) \n",
    "        -iterable(반복가능객체,문자열,딕셔너리,리스트,셋):\n",
    "            객체가 iter메서드를 포함 여부: 객체가 반복 가능한지? 확인함"
   ]
  },
  {
   "cell_type": "code",
   "execution_count": 3,
   "metadata": {},
   "outputs": [
    {
     "data": {
      "text/plain": [
       "['__add__',\n",
       " '__class__',\n",
       " '__contains__',\n",
       " '__delattr__',\n",
       " '__delitem__',\n",
       " '__dir__',\n",
       " '__doc__',\n",
       " '__eq__',\n",
       " '__format__',\n",
       " '__ge__',\n",
       " '__getattribute__',\n",
       " '__getitem__',\n",
       " '__gt__',\n",
       " '__hash__',\n",
       " '__iadd__',\n",
       " '__imul__',\n",
       " '__init__',\n",
       " '__init_subclass__',\n",
       " '__iter__',\n",
       " '__le__',\n",
       " '__len__',\n",
       " '__lt__',\n",
       " '__mul__',\n",
       " '__ne__',\n",
       " '__new__',\n",
       " '__reduce__',\n",
       " '__reduce_ex__',\n",
       " '__repr__',\n",
       " '__reversed__',\n",
       " '__rmul__',\n",
       " '__setattr__',\n",
       " '__setitem__',\n",
       " '__sizeof__',\n",
       " '__str__',\n",
       " '__subclasshook__',\n",
       " 'append',\n",
       " 'clear',\n",
       " 'copy',\n",
       " 'count',\n",
       " 'extend',\n",
       " 'index',\n",
       " 'insert',\n",
       " 'pop',\n",
       " 'remove',\n",
       " 'reverse',\n",
       " 'sort']"
      ]
     },
     "execution_count": 3,
     "metadata": {},
     "output_type": "execute_result"
    }
   ],
   "source": [
    "dir([1,2,3,4]) # __iter__가 있기 때문에 꺼내쓸 수 있음"
   ]
  },
  {
   "cell_type": "code",
   "execution_count": 7,
   "metadata": {},
   "outputs": [
    {
     "data": {
      "text/plain": [
       "1"
      ]
     },
     "execution_count": 7,
     "metadata": {},
     "output_type": "execute_result"
    }
   ],
   "source": [
    "it = [1,2,3].__iter__()\n",
    "it.__next__()"
   ]
  },
  {
   "cell_type": "code",
   "execution_count": 8,
   "metadata": {},
   "outputs": [
    {
     "data": {
      "text/plain": [
       "<str_iterator at 0x1c70b697248>"
      ]
     },
     "execution_count": 8,
     "metadata": {},
     "output_type": "execute_result"
    }
   ],
   "source": [
    "'hello'.__iter__()"
   ]
  },
  {
   "cell_type": "code",
   "execution_count": null,
   "metadata": {},
   "outputs": [],
   "source": [
    "for i in range(3):\n",
    "    print(i)\n",
    "1.range에서 __iter__로 이터레이터 객체 생성\n",
    "2. 반복할 떄 마다 이터레이터에서 __next__\n",
    "를 호추래서 숫자를 꺼내어 i로 저장"
   ]
  },
  {
   "cell_type": "code",
   "execution_count": null,
   "metadata": {},
   "outputs": [],
   "source": [
    "#내가 만든 클래스에 __iter__,__next__를 구현하면\n",
    "#이터레이터 생성 가능"
   ]
  },
  {
   "cell_type": "code",
   "execution_count": 15,
   "metadata": {},
   "outputs": [
    {
     "name": "stdout",
     "output_type": "stream",
     "text": [
      "0\n",
      "1\n",
      "2\n",
      "3\n",
      "4\n"
     ]
    }
   ],
   "source": [
    "class MyCounter:\n",
    "    def __init__(self,stop):\n",
    "        self.current=0\n",
    "        self.stop=stop\n",
    "    def __iter__(self):\n",
    "        return self\n",
    "    def __next__(self):\n",
    "        if self.current<self.stop:\n",
    "            r = self.current\n",
    "            self.current+=1\n",
    "            return r\n",
    "        else:\n",
    "            raise StopIteration #<-멈추게 만듬\n",
    "        \n",
    "for i in MyCounter(5):   #이상태로 시작하면 무한루프에 빠짐 계속 실행함 \n",
    "    print(i)"
   ]
  },
  {
   "cell_type": "code",
   "execution_count": 16,
   "metadata": {},
   "outputs": [
    {
     "name": "stdout",
     "output_type": "stream",
     "text": [
      "0 1 2\n"
     ]
    }
   ],
   "source": [
    "a,b,c = MyCounter(3)\n",
    "print(a,b,c)"
   ]
  },
  {
   "cell_type": "code",
   "execution_count": 18,
   "metadata": {},
   "outputs": [
    {
     "name": "stdout",
     "output_type": "stream",
     "text": [
      "1 3 5\n"
     ]
    }
   ],
   "source": [
    "a,b,c = map(int,input().split())"
   ]
  },
  {
   "cell_type": "code",
   "execution_count": 22,
   "metadata": {},
   "outputs": [],
   "source": [
    "class MyCounter:\n",
    "    def __getitem__(self,index):\n",
    "        if index<self.stop:\n",
    "            return index*6\n",
    "        else:\n",
    "            raise StopIteration\n",
    "    def __init__(self,stop):\n",
    "        self.current=0\n",
    "        self.stop=stop    "
   ]
  },
  {
   "cell_type": "code",
   "execution_count": 23,
   "metadata": {},
   "outputs": [
    {
     "name": "stdout",
     "output_type": "stream",
     "text": [
      "0\n",
      "6\n",
      "12\n"
     ]
    }
   ],
   "source": [
    "for i in MyCounter(3):\n",
    "    print(i)"
   ]
  },
  {
   "cell_type": "code",
   "execution_count": 29,
   "metadata": {},
   "outputs": [
    {
     "ename": "StopIteration",
     "evalue": "",
     "output_type": "error",
     "traceback": [
      "\u001b[1;31m---------------------------------------------------------------------------\u001b[0m",
      "\u001b[1;31mStopIteration\u001b[0m                             Traceback (most recent call last)",
      "\u001b[1;32m<ipython-input-29-c40e0b34b64a>\u001b[0m in \u001b[0;36m<module>\u001b[1;34m\u001b[0m\n\u001b[0;32m      3\u001b[0m \u001b[0mnext\u001b[0m\u001b[1;33m(\u001b[0m\u001b[0mit\u001b[0m\u001b[1;33m)\u001b[0m\u001b[1;33m\u001b[0m\u001b[1;33m\u001b[0m\u001b[0m\n\u001b[0;32m      4\u001b[0m \u001b[0mnext\u001b[0m\u001b[1;33m(\u001b[0m\u001b[0mit\u001b[0m\u001b[1;33m)\u001b[0m\u001b[1;33m\u001b[0m\u001b[1;33m\u001b[0m\u001b[0m\n\u001b[1;32m----> 5\u001b[1;33m \u001b[0mnext\u001b[0m\u001b[1;33m(\u001b[0m\u001b[0mit\u001b[0m\u001b[1;33m)\u001b[0m\u001b[1;33m\u001b[0m\u001b[1;33m\u001b[0m\u001b[0m\n\u001b[0m\u001b[0;32m      6\u001b[0m \u001b[0mnext\u001b[0m\u001b[1;33m(\u001b[0m\u001b[0mit\u001b[0m\u001b[1;33m)\u001b[0m\u001b[1;33m\u001b[0m\u001b[1;33m\u001b[0m\u001b[0m\n\u001b[0;32m      7\u001b[0m \u001b[0mnext\u001b[0m\u001b[1;33m(\u001b[0m\u001b[0mit\u001b[0m\u001b[1;33m)\u001b[0m\u001b[1;33m\u001b[0m\u001b[1;33m\u001b[0m\u001b[0m\n",
      "\u001b[1;31mStopIteration\u001b[0m: "
     ]
    }
   ],
   "source": [
    "import random\n",
    "it = iter(lambda:random.randint(0,5),2)\n",
    "next(it)\n",
    "next(it)\n",
    "next(it)\n",
    "next(it)\n",
    "next(it)"
   ]
  },
  {
   "cell_type": "code",
   "execution_count": null,
   "metadata": {},
   "outputs": [],
   "source": [
    "*제너레이터: 이터레이터를 생성하는 함수\n",
    "    함수 내부에 yield 키워드를 주면 이터레이터가 생성"
   ]
  },
  {
   "cell_type": "code",
   "execution_count": 30,
   "metadata": {},
   "outputs": [],
   "source": [
    "def myGen():\n",
    "    yield 0\n",
    "    yield 2\n",
    "    yield 3"
   ]
  },
  {
   "cell_type": "code",
   "execution_count": 31,
   "metadata": {},
   "outputs": [
    {
     "name": "stdout",
     "output_type": "stream",
     "text": [
      "0\n",
      "2\n",
      "3\n"
     ]
    }
   ],
   "source": [
    "for i in myGen():\n",
    "    print(i)"
   ]
  },
  {
   "cell_type": "code",
   "execution_count": 32,
   "metadata": {},
   "outputs": [
    {
     "data": {
      "text/plain": [
       "['__class__',\n",
       " '__del__',\n",
       " '__delattr__',\n",
       " '__dir__',\n",
       " '__doc__',\n",
       " '__eq__',\n",
       " '__format__',\n",
       " '__ge__',\n",
       " '__getattribute__',\n",
       " '__gt__',\n",
       " '__hash__',\n",
       " '__init__',\n",
       " '__init_subclass__',\n",
       " '__iter__',\n",
       " '__le__',\n",
       " '__lt__',\n",
       " '__name__',\n",
       " '__ne__',\n",
       " '__new__',\n",
       " '__next__',\n",
       " '__qualname__',\n",
       " '__reduce__',\n",
       " '__reduce_ex__',\n",
       " '__repr__',\n",
       " '__setattr__',\n",
       " '__sizeof__',\n",
       " '__str__',\n",
       " '__subclasshook__',\n",
       " 'close',\n",
       " 'gi_code',\n",
       " 'gi_frame',\n",
       " 'gi_running',\n",
       " 'gi_yieldfrom',\n",
       " 'send',\n",
       " 'throw']"
      ]
     },
     "execution_count": 32,
     "metadata": {},
     "output_type": "execute_result"
    }
   ],
   "source": [
    "mg=myGen()\n",
    "dir(mg)"
   ]
  },
  {
   "cell_type": "code",
   "execution_count": null,
   "metadata": {},
   "outputs": [],
   "source": [
    "1. 이미지 제너레이터 클래스 객체 생성\n",
    "2. flow_from_directory() 호출 -> 제너레이터 형성(keras.io에서 검색)"
   ]
  },
  {
   "cell_type": "code",
   "execution_count": 33,
   "metadata": {},
   "outputs": [],
   "source": [
    "from keras.preprocessing.image import ImageDataGenerator"
   ]
  },
  {
   "cell_type": "code",
   "execution_count": 62,
   "metadata": {},
   "outputs": [
    {
     "name": "stdout",
     "output_type": "stream",
     "text": [
      "Found 45 images belonging to 3 classes.\n"
     ]
    }
   ],
   "source": [
    "trainDataGen = ImageDataGenerator(rescale=1./255)\n",
    "traingenerator = trainDataGen.flow_from_directory('C:/Users/김경한/jupyter notebook data/do/do/train',\n",
    "                                target_size=(24,24),\n",
    "                                batch_size=3,\n",
    "                                class_mode='categorical')"
   ]
  },
  {
   "cell_type": "code",
   "execution_count": 63,
   "metadata": {},
   "outputs": [
    {
     "name": "stdout",
     "output_type": "stream",
     "text": [
      "Found 15 images belonging to 3 classes.\n"
     ]
    }
   ],
   "source": [
    "testDataGen = ImageDataGenerator(rescale=1./255)\n",
    "testgenerator = testDataGen.flow_from_directory('C:/Users/김경한/jupyter notebook data/do/do/test',\n",
    "                                target_size=(24,24),\n",
    "                                batch_size=3,\n",
    "                                class_mode='categorical')"
   ]
  },
  {
   "cell_type": "code",
   "execution_count": null,
   "metadata": {},
   "outputs": [],
   "source": [
    "#1크기(24,24),채널:3 필터 3*3,필터개수:32, relu\n",
    "#2필터: 3*3 필터개수:64, relu\n",
    "#3maxpool 2*2\n",
    "#4flatten -> Dense(128)"
   ]
  },
  {
   "cell_type": "code",
   "execution_count": 64,
   "metadata": {},
   "outputs": [],
   "source": [
    "model=Sequential()\n",
    "model.add(Conv2D(64,kernel_size=(3,3),\n",
    "                activation='relu',\n",
    "                input_shape=(24,24,3)))\n",
    "#filter:3*3, filter개수:64,relu\n",
    "model.add(Conv2D(32,kernel_size=(3,3),\n",
    "                activation='relu',\n",
    "                ))\n",
    "model.add(MaxPooling2D(pool_size=(2,2)))\n",
    "model.add(Flatten())\n",
    "model.add(Dense(128,activation='relu'))\n",
    "model.add(Dense(3,activation='softmax'))"
   ]
  },
  {
   "cell_type": "code",
   "execution_count": 65,
   "metadata": {},
   "outputs": [
    {
     "name": "stdout",
     "output_type": "stream",
     "text": [
      "Model: \"sequential_4\"\n",
      "_________________________________________________________________\n",
      "Layer (type)                 Output Shape              Param #   \n",
      "=================================================================\n",
      "conv2d_7 (Conv2D)            (None, 22, 22, 64)        1792      \n",
      "_________________________________________________________________\n",
      "conv2d_8 (Conv2D)            (None, 20, 20, 32)        18464     \n",
      "_________________________________________________________________\n",
      "max_pooling2d_4 (MaxPooling2 (None, 10, 10, 32)        0         \n",
      "_________________________________________________________________\n",
      "flatten_4 (Flatten)          (None, 3200)              0         \n",
      "_________________________________________________________________\n",
      "dense_7 (Dense)              (None, 128)               409728    \n",
      "_________________________________________________________________\n",
      "dense_8 (Dense)              (None, 3)                 387       \n",
      "=================================================================\n",
      "Total params: 430,371\n",
      "Trainable params: 430,371\n",
      "Non-trainable params: 0\n",
      "_________________________________________________________________\n"
     ]
    }
   ],
   "source": [
    "model.summary()"
   ]
  },
  {
   "cell_type": "code",
   "execution_count": 66,
   "metadata": {},
   "outputs": [],
   "source": [
    "#모델 학습 설정\n",
    "model.compile(loss='categorical_crossentropy',\n",
    "             optimizer='adam',\n",
    "             metrics=['accuracy'])"
   ]
  },
  {
   "cell_type": "code",
   "execution_count": 67,
   "metadata": {},
   "outputs": [
    {
     "name": "stdout",
     "output_type": "stream",
     "text": [
      "Epoch 1/50\n",
      "15/15 [==============================] - 0s 19ms/step - loss: 0.8034 - accuracy: 0.6222 - val_loss: 0.6105 - val_accuracy: 0.7333\n",
      "Epoch 2/50\n",
      "15/15 [==============================] - 0s 11ms/step - loss: 0.2445 - accuracy: 0.9333 - val_loss: 0.5385 - val_accuracy: 0.9333\n",
      "Epoch 3/50\n",
      "15/15 [==============================] - 0s 17ms/step - loss: 0.0629 - accuracy: 0.9778 - val_loss: 0.0027 - val_accuracy: 0.9333\n",
      "Epoch 4/50\n",
      "15/15 [==============================] - 0s 11ms/step - loss: 0.0071 - accuracy: 1.0000 - val_loss: 0.0038 - val_accuracy: 0.9333\n",
      "Epoch 5/50\n",
      "15/15 [==============================] - 0s 17ms/step - loss: 0.0020 - accuracy: 1.0000 - val_loss: 0.4040 - val_accuracy: 0.9333\n",
      "Epoch 6/50\n",
      "15/15 [==============================] - 0s 11ms/step - loss: 8.6878e-04 - accuracy: 1.0000 - val_loss: 0.0017 - val_accuracy: 1.0000\n",
      "Epoch 7/50\n",
      "15/15 [==============================] - 0s 11ms/step - loss: 5.5827e-04 - accuracy: 1.0000 - val_loss: 7.3670e-04 - val_accuracy: 1.0000\n",
      "Epoch 8/50\n",
      "15/15 [==============================] - 0s 17ms/step - loss: 3.8385e-04 - accuracy: 1.0000 - val_loss: 4.7443e-04 - val_accuracy: 1.0000\n",
      "Epoch 9/50\n",
      "15/15 [==============================] - 0s 12ms/step - loss: 2.8460e-04 - accuracy: 1.0000 - val_loss: 1.7128e-04 - val_accuracy: 1.0000\n",
      "Epoch 10/50\n",
      "15/15 [==============================] - 0s 18ms/step - loss: 2.2367e-04 - accuracy: 1.0000 - val_loss: 5.3817e-04 - val_accuracy: 1.0000\n",
      "Epoch 11/50\n",
      "15/15 [==============================] - 0s 17ms/step - loss: 1.7378e-04 - accuracy: 1.0000 - val_loss: 0.0027 - val_accuracy: 1.0000\n",
      "Epoch 12/50\n",
      "15/15 [==============================] - 0s 12ms/step - loss: 1.3934e-04 - accuracy: 1.0000 - val_loss: 0.0021 - val_accuracy: 1.0000\n",
      "Epoch 13/50\n",
      "15/15 [==============================] - 0s 17ms/step - loss: 1.1149e-04 - accuracy: 1.0000 - val_loss: 0.0023 - val_accuracy: 1.0000\n",
      "Epoch 14/50\n",
      "15/15 [==============================] - 0s 11ms/step - loss: 9.1821e-05 - accuracy: 1.0000 - val_loss: 7.1642e-05 - val_accuracy: 1.0000\n",
      "Epoch 15/50\n",
      "15/15 [==============================] - 0s 11ms/step - loss: 7.2796e-05 - accuracy: 1.0000 - val_loss: 2.8712e-04 - val_accuracy: 1.0000\n",
      "Epoch 16/50\n",
      "15/15 [==============================] - 0s 17ms/step - loss: 5.7100e-05 - accuracy: 1.0000 - val_loss: 0.0019 - val_accuracy: 1.0000\n",
      "Epoch 17/50\n",
      "15/15 [==============================] - 0s 11ms/step - loss: 4.0322e-05 - accuracy: 1.0000 - val_loss: 0.0020 - val_accuracy: 1.0000\n",
      "Epoch 18/50\n",
      "15/15 [==============================] - 0s 11ms/step - loss: 3.0195e-05 - accuracy: 1.0000 - val_loss: 6.6593e-05 - val_accuracy: 1.0000\n",
      "Epoch 19/50\n",
      "15/15 [==============================] - 0s 11ms/step - loss: 1.9762e-05 - accuracy: 1.0000 - val_loss: 0.0023 - val_accuracy: 1.0000\n",
      "Epoch 20/50\n",
      "15/15 [==============================] - 0s 17ms/step - loss: 1.2872e-05 - accuracy: 1.0000 - val_loss: 0.0020 - val_accuracy: 1.0000\n",
      "Epoch 21/50\n",
      "15/15 [==============================] - 0s 11ms/step - loss: 9.0306e-06 - accuracy: 1.0000 - val_loss: 0.0329 - val_accuracy: 1.0000\n",
      "Epoch 22/50\n",
      "15/15 [==============================] - 0s 17ms/step - loss: 7.1922e-06 - accuracy: 1.0000 - val_loss: 1.3226e-04 - val_accuracy: 1.0000\n",
      "Epoch 23/50\n",
      "15/15 [==============================] - 0s 11ms/step - loss: 5.3962e-06 - accuracy: 1.0000 - val_loss: 2.4914e-05 - val_accuracy: 1.0000\n",
      "Epoch 24/50\n",
      "15/15 [==============================] - 0s 12ms/step - loss: 4.4769e-06 - accuracy: 1.0000 - val_loss: 3.7750e-06 - val_accuracy: 1.0000\n",
      "Epoch 25/50\n",
      "15/15 [==============================] - 0s 18ms/step - loss: 3.6027e-06 - accuracy: 1.0000 - val_loss: 2.2133e-05 - val_accuracy: 1.0000\n",
      "Epoch 26/50\n",
      "15/15 [==============================] - 0s 19ms/step - loss: 3.0597e-06 - accuracy: 1.0000 - val_loss: 0.0022 - val_accuracy: 1.0000\n",
      "Epoch 27/50\n",
      "15/15 [==============================] - 0s 11ms/step - loss: 2.5590e-06 - accuracy: 1.0000 - val_loss: 1.3351e-05 - val_accuracy: 1.0000\n",
      "Epoch 28/50\n",
      "15/15 [==============================] - 0s 17ms/step - loss: 2.2438e-06 - accuracy: 1.0000 - val_loss: 1.0608e-04 - val_accuracy: 1.0000\n",
      "Epoch 29/50\n",
      "15/15 [==============================] - 0s 11ms/step - loss: 2.0054e-06 - accuracy: 1.0000 - val_loss: 7.1526e-07 - val_accuracy: 1.0000\n",
      "Epoch 30/50\n",
      "15/15 [==============================] - 0s 19ms/step - loss: 1.7352e-06 - accuracy: 1.0000 - val_loss: 9.6350e-05 - val_accuracy: 1.0000\n",
      "Epoch 31/50\n",
      "15/15 [==============================] - 0s 11ms/step - loss: 1.5656e-06 - accuracy: 1.0000 - val_loss: 1.0411e-05 - val_accuracy: 1.0000\n",
      "Epoch 32/50\n",
      "15/15 [==============================] - 0s 11ms/step - loss: 1.4199e-06 - accuracy: 1.0000 - val_loss: 0.0000e+00 - val_accuracy: 1.0000\n",
      "Epoch 33/50\n",
      "15/15 [==============================] - 0s 18ms/step - loss: 1.2769e-06 - accuracy: 1.0000 - val_loss: 4.3710e-07 - val_accuracy: 1.0000\n",
      "Epoch 34/50\n",
      "15/15 [==============================] - 0s 11ms/step - loss: 1.1762e-06 - accuracy: 1.0000 - val_loss: 7.7398e-05 - val_accuracy: 1.0000\n",
      "Epoch 35/50\n",
      "15/15 [==============================] - 0s 11ms/step - loss: 1.0888e-06 - accuracy: 1.0000 - val_loss: 0.0020 - val_accuracy: 1.0000\n",
      "Epoch 36/50\n",
      "15/15 [==============================] - 0s 18ms/step - loss: 9.8281e-07 - accuracy: 1.0000 - val_loss: 1.8358e-05 - val_accuracy: 1.0000\n",
      "Epoch 37/50\n",
      "15/15 [==============================] - 0s 11ms/step - loss: 8.9804e-07 - accuracy: 1.0000 - val_loss: 1.8755e-05 - val_accuracy: 1.0000\n",
      "Epoch 38/50\n",
      "15/15 [==============================] - 0s 11ms/step - loss: 8.4506e-07 - accuracy: 1.0000 - val_loss: 7.6293e-06 - val_accuracy: 1.0000\n",
      "Epoch 39/50\n",
      "15/15 [==============================] - 0s 16ms/step - loss: 7.8943e-07 - accuracy: 1.0000 - val_loss: 0.0019 - val_accuracy: 1.0000\n",
      "Epoch 40/50\n",
      "15/15 [==============================] - 0s 17ms/step - loss: 7.3115e-07 - accuracy: 1.0000 - val_loss: 1.0490e-05 - val_accuracy: 1.0000\n",
      "Epoch 41/50\n",
      "15/15 [==============================] - 0s 19ms/step - loss: 6.9141e-07 - accuracy: 1.0000 - val_loss: 0.0107 - val_accuracy: 1.0000\n",
      "Epoch 42/50\n",
      "15/15 [==============================] - 0s 21ms/step - loss: 6.4373e-07 - accuracy: 1.0000 - val_loss: 1.1007e-05 - val_accuracy: 1.0000\n",
      "Epoch 43/50\n",
      "15/15 [==============================] - 0s 21ms/step - loss: 6.0134e-07 - accuracy: 1.0000 - val_loss: 5.9605e-07 - val_accuracy: 1.0000\n",
      "Epoch 44/50\n",
      "15/15 [==============================] - 0s 19ms/step - loss: 5.5896e-07 - accuracy: 1.0000 - val_loss: 0.0018 - val_accuracy: 1.0000\n",
      "Epoch 45/50\n",
      "15/15 [==============================] - 0s 23ms/step - loss: 5.3247e-07 - accuracy: 1.0000 - val_loss: 0.0017 - val_accuracy: 1.0000\n",
      "Epoch 46/50\n",
      "15/15 [==============================] - 0s 24ms/step - loss: 5.0333e-07 - accuracy: 1.0000 - val_loss: 0.0017 - val_accuracy: 1.0000\n",
      "Epoch 47/50\n",
      "15/15 [==============================] - 0s 17ms/step - loss: 4.7419e-07 - accuracy: 1.0000 - val_loss: 5.5631e-07 - val_accuracy: 1.0000\n",
      "Epoch 48/50\n",
      "15/15 [==============================] - 0s 14ms/step - loss: 4.5035e-07 - accuracy: 1.0000 - val_loss: 6.3772e-05 - val_accuracy: 1.0000\n",
      "Epoch 49/50\n",
      "15/15 [==============================] - 0s 17ms/step - loss: 4.3180e-07 - accuracy: 1.0000 - val_loss: 5.7454e-05 - val_accuracy: 1.0000\n",
      "Epoch 50/50\n",
      "15/15 [==============================] - 0s 15ms/step - loss: 4.1061e-07 - accuracy: 1.0000 - val_loss: 0.0084 - val_accuracy: 1.0000\n"
     ]
    },
    {
     "data": {
      "text/plain": [
       "<keras.callbacks.callbacks.History at 0x1c715fc9f48>"
      ]
     },
     "execution_count": 67,
     "metadata": {},
     "output_type": "execute_result"
    }
   ],
   "source": [
    "#fit_generator():제너레이터로 생성된 데이터\n",
    "model.fit_generator(\n",
    "    traingenerator,#훈련데이터 제너레이터\n",
    "    steps_per_epoch = 15,\n",
    "    epochs = 50,\n",
    "    validation_data = testgenerator,\n",
    "    validation_steps = 5 #<-step size\n",
    ")"
   ]
  },
  {
   "cell_type": "code",
   "execution_count": 68,
   "metadata": {},
   "outputs": [
    {
     "name": "stdout",
     "output_type": "stream",
     "text": [
      "[5.960460498499742e-07, 1.0]\n"
     ]
    }
   ],
   "source": [
    "scores = model.evaluate_generator(\n",
    "    testgenerator,\n",
    "    steps=5\n",
    ")\n",
    "print(scores) "
   ]
  },
  {
   "cell_type": "code",
   "execution_count": 69,
   "metadata": {},
   "outputs": [
    {
     "name": "stdout",
     "output_type": "stream",
     "text": [
      "[[1.3939210e-05 4.6934150e-03 9.9529266e-01]\n",
      " [9.9998534e-01 6.4737542e-08 1.4537334e-05]\n",
      " [9.9999964e-01 3.8276232e-07 1.8410072e-08]\n",
      " [9.9999034e-01 8.3230107e-06 1.2914020e-06]\n",
      " [8.1896746e-07 9.9999917e-01 2.9724225e-08]\n",
      " [5.2866137e-05 1.1376270e-04 9.9983335e-01]\n",
      " [2.4611649e-07 9.9999976e-01 1.0252497e-08]\n",
      " [6.4846439e-10 9.1836228e-09 1.0000000e+00]\n",
      " [1.5526630e-02 9.7521597e-01 9.2574228e-03]\n",
      " [1.9388390e-05 9.9998057e-01 1.9599888e-08]\n",
      " [1.0000000e+00 2.8777492e-08 4.1318440e-08]\n",
      " [5.0435173e-10 1.4281232e-08 1.0000000e+00]\n",
      " [2.0673525e-07 9.9999976e-01 3.9264805e-09]\n",
      " [1.0242652e-06 5.3878659e-07 9.9999845e-01]\n",
      " [1.0000000e+00 3.6763175e-09 4.7719309e-09]]\n"
     ]
    }
   ],
   "source": [
    "res = model.predict_generator(\n",
    "    testgenerator,\n",
    "    steps=5\n",
    ")\n",
    "print(res) #각각의 예측결과 15개"
   ]
  },
  {
   "cell_type": "code",
   "execution_count": null,
   "metadata": {},
   "outputs": [],
   "source": [
    "*keras.io에서 imagedatagenerator 검색\n",
    "\"\"\"\n",
    "rotation_range: 회전, 90(0~90도 사이의 랜덤한 각도)\n",
    "width_shift_range: 이동, 0~1사이의 비율, 0.1(원래이미지 너비의10%만큼 좌/우 이동)\n",
    "height_shift_range: 이동, 0~1사이의 비율, 0.1(원래이미지 너비의10%만큼 상/하 이동)\n",
    "shear_range: 변형, 라디안, 0.5(반시계방향으로 0.5의강도로 shift해서 변형)\n",
    "zoom_range: 축소, 0.3(0.7~1.3 사이의 랜덤크기로 확대, 축소 됨)\n",
    "horizontal_flip: 수평축으로 뒤집기\n",
    "vertical_flip: 수직축으로 뒤집기\n",
    "\"\"\""
   ]
  },
  {
   "cell_type": "code",
   "execution_count": 70,
   "metadata": {},
   "outputs": [],
   "source": [
    "from keras.preprocessing.image import array_to_img, img_to_array, load_img"
   ]
  },
  {
   "cell_type": "code",
   "execution_count": 71,
   "metadata": {},
   "outputs": [],
   "source": [
    "augGen = ImageDataGenerator(rescale=1./255,\n",
    "                  rotation_range=15,\n",
    "                  width_shift_range=0.1,\n",
    "                  height_shift_range=0.1,\n",
    "                   shear_range=0.5,\n",
    "                   zoom_range=[0.8,2.0],\n",
    "                   horizontal_flip=True,\n",
    "                   vertical_flip=True,\n",
    "                   fill_mode='nearest'\n",
    "                  )"
   ]
  },
  {
   "cell_type": "code",
   "execution_count": 76,
   "metadata": {},
   "outputs": [
    {
     "data": {
      "image/png": "[encoded data removed]",
      "text/plain": [
       "<PIL.Image.Image image mode=RGB size=24x24 at 0x1C717879C88>"
      ]
     },
     "execution_count": 76,
     "metadata": {},
     "output_type": "execute_result"
    }
   ],
   "source": [
    "img = load_img('C:/Users/김경한/jupyter notebook data/do/do/train/triangle/triangle001.png')\n",
    "img"
   ]
  },
  {
   "cell_type": "code",
   "execution_count": 77,
   "metadata": {},
   "outputs": [
    {
     "data": {
      "text/plain": [
       "(1, 24, 24, 3)"
      ]
     },
     "execution_count": 77,
     "metadata": {},
     "output_type": "execute_result"
    }
   ],
   "source": [
    "x = img_to_array(img)\n",
    "x.shape\n",
    "x = x.reshape((1,)+x.shape) #<- 이미지가 한 개 라는 의미\n",
    "x.shape"
   ]
  },
  {
   "cell_type": "code",
   "execution_count": 80,
   "metadata": {},
   "outputs": [],
   "source": [
    "for batch in augGen.flow(x,\n",
    "                         batch_size=1,\n",
    "                         save_to_dir='store',\n",
    "                         save_prefix='tri',\n",
    "                         save_format='png'):\n",
    "    i+=1\n",
    "    if i>50:\n",
    "        break"
   ]
  },
  {
   "cell_type": "code",
   "execution_count": 79,
   "metadata": {},
   "outputs": [
    {
     "name": "stdout",
     "output_type": "stream",
     "text": [
      "Found 45 images belonging to 3 classes.\n",
      "Found 15 images belonging to 3 classes.\n"
     ]
    }
   ],
   "source": [
    "#경로바꾸어주기\n",
    "trainDataGen = ImageDataGenerator(rescale=1./255)\n",
    "traingenerator = trainDataGen.flow_from_directory('train',\n",
    "                                target_size=(24,24),\n",
    "                                batch_size=3,\n",
    "                                class_mode='categorical')\n",
    "\n",
    "testDataGen = ImageDataGenerator(rescale=1./255)\n",
    "testgenerator = testDataGen.flow_from_directory('test',\n",
    "                                target_size=(24,24),\n",
    "                                batch_size=3,\n",
    "                                class_mode='categorical')"
   ]
  },
  {
   "cell_type": "code",
   "execution_count": null,
   "metadata": {},
   "outputs": [],
   "source": []
  }
 ],
 "metadata": {
  "kernelspec": {
   "display_name": "Python 3",
   "language": "python",
   "name": "python3"
  },
  "language_info": {
   "codemirror_mode": {
    "name": "ipython",
    "version": 3
   },
   "file_extension": ".py",
   "mimetype": "text/x-python",
   "name": "python",
   "nbconvert_exporter": "python",
   "pygments_lexer": "ipython3",
   "version": "3.7.6"
  }
 },
 "nbformat": 4,
 "nbformat_minor": 4
}
