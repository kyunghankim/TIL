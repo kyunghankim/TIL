{
 "cells": [
  {
   "cell_type": "code",
   "execution_count": 18,
   "metadata": {},
   "outputs": [
    {
     "data": {
      "text/html": [
       "<div>\n",
       "<style scoped>\n",
       "    .dataframe tbody tr th:only-of-type {\n",
       "        vertical-align: middle;\n",
       "    }\n",
       "\n",
       "    .dataframe tbody tr th {\n",
       "        vertical-align: top;\n",
       "    }\n",
       "\n",
       "    .dataframe thead th {\n",
       "        text-align: right;\n",
       "    }\n",
       "</style>\n",
       "<table border=\"1\" class=\"dataframe\">\n",
       "  <thead>\n",
       "    <tr style=\"text-align: right;\">\n",
       "      <th></th>\n",
       "      <th>0</th>\n",
       "      <th>1</th>\n",
       "      <th>2</th>\n",
       "      <th>3</th>\n",
       "      <th>4</th>\n",
       "      <th>5</th>\n",
       "      <th>6</th>\n",
       "      <th>7</th>\n",
       "      <th>8</th>\n",
       "    </tr>\n",
       "  </thead>\n",
       "  <tbody>\n",
       "    <tr>\n",
       "      <th>0</th>\n",
       "      <td>6</td>\n",
       "      <td>148</td>\n",
       "      <td>72</td>\n",
       "      <td>35</td>\n",
       "      <td>0</td>\n",
       "      <td>33.6</td>\n",
       "      <td>0.627</td>\n",
       "      <td>50</td>\n",
       "      <td>1</td>\n",
       "    </tr>\n",
       "    <tr>\n",
       "      <th>1</th>\n",
       "      <td>1</td>\n",
       "      <td>85</td>\n",
       "      <td>66</td>\n",
       "      <td>29</td>\n",
       "      <td>0</td>\n",
       "      <td>26.6</td>\n",
       "      <td>0.351</td>\n",
       "      <td>31</td>\n",
       "      <td>0</td>\n",
       "    </tr>\n",
       "    <tr>\n",
       "      <th>2</th>\n",
       "      <td>8</td>\n",
       "      <td>183</td>\n",
       "      <td>64</td>\n",
       "      <td>0</td>\n",
       "      <td>0</td>\n",
       "      <td>23.3</td>\n",
       "      <td>0.672</td>\n",
       "      <td>32</td>\n",
       "      <td>1</td>\n",
       "    </tr>\n",
       "  </tbody>\n",
       "</table>\n",
       "</div>"
      ],
      "text/plain": [
       "   0    1   2   3  4     5      6   7  8\n",
       "0  6  148  72  35  0  33.6  0.627  50  1\n",
       "1  1   85  66  29  0  26.6  0.351  31  0\n",
       "2  8  183  64   0  0  23.3  0.672  32  1"
      ]
     },
     "execution_count": 18,
     "metadata": {},
     "output_type": "execute_result"
    }
   ],
   "source": [
    "#2번 연습문제 비만 분류\n",
    "import pandas as pd\n",
    "import numpy as np\n",
    "import tensorflow as tf\n",
    "path='C:/Users/김경한/jupyter notebook data/dataset/pima-indians-diabetes.csv'\n",
    "data=pd.read_csv(path,header=None)\n",
    "data.head(3) #마지막 열이 당뇨여부 0:당뇨x, 1:당뇨o\n",
    "#o번: 임신 1번:혈압 ... 6번:가족력, 7번:니이"
   ]
  },
  {
   "cell_type": "code",
   "execution_count": null,
   "metadata": {},
   "outputs": [],
   "source": [
    "1.mnist 90%이상 높히기\n",
    "2.당뇨병예측"
   ]
  },
  {
   "cell_type": "code",
   "execution_count": 34,
   "metadata": {},
   "outputs": [
    {
     "name": "stdout",
     "output_type": "stream",
     "text": [
      "   0    1   2   3  4     5      6   7\n",
      "0  6  148  72  35  0  33.6  0.627  50\n",
      "1  1   85  66  29  0  26.6  0.351  31\n",
      "2  8  183  64   0  0  23.3  0.672  32 \n",
      "    8\n",
      "0  1\n",
      "1  0\n",
      "2  1\n",
      "(768, 8) (768, 1)\n"
     ]
    }
   ],
   "source": [
    "xtrain=data.iloc[:,0:8]\n",
    "ytrain=data.iloc[:,[8]] #<- 8번째에 차원([])을 하나 주어야 ,1이 됨\n",
    "print(xtrain.head(3),\"\\n\",ytrain.head(3))\n",
    "print(xtrain.shape,ytrain.shape)"
   ]
  },
  {
   "cell_type": "code",
   "execution_count": 13,
   "metadata": {},
   "outputs": [
    {
     "data": {
      "text/plain": [
       "StandardScaler(copy=True, with_mean=True, with_std=True)"
      ]
     },
     "execution_count": 13,
     "metadata": {},
     "output_type": "execute_result"
    }
   ],
   "source": [
    "from sklearn.preprocessing import StandardScaler\n",
    "scale=StandardScaler()\n",
    "scale.fit(xtrain)"
   ]
  },
  {
   "cell_type": "code",
   "execution_count": 15,
   "metadata": {},
   "outputs": [],
   "source": [
    "# scaled 된 데이터로 xtrain을 바꿈\n",
    "xScaled=scale.transform(xtrain)\n",
    "xtrain=xScaled  "
   ]
  },
  {
   "cell_type": "code",
   "execution_count": 36,
   "metadata": {},
   "outputs": [],
   "source": [
    "from sklearn.model_selection import train_test_split\n",
    "xtrain,xtest,ytrain,ytest = train_test_split(xtrain,ytrain,test_size=0.3,random_state=22)"
   ]
  },
  {
   "cell_type": "code",
   "execution_count": 20,
   "metadata": {},
   "outputs": [],
   "source": [
    "x=tf.placeholder(tf.float32,shape=[None,8]) #<- 700여개의 데이터가 8개의 feature로 들어갈 예정\n",
    "y=tf.placeholder(tf.float32,shape=[None,1]) # 0 or 1 한자리로 나옴"
   ]
  },
  {
   "cell_type": "code",
   "execution_count": 22,
   "metadata": {},
   "outputs": [],
   "source": [
    "#layer 1층\n",
    "w1=tf.Variable(tf.random_normal([8,8]))   #<- 8개의 feature와 matrix곱\n",
    "b1=tf.Variable(tf.random_normal([8]))  # output = 8 \n",
    "layer1=tf.sigmoid(tf.matmul(x,w1)+b1)"
   ]
  },
  {
   "cell_type": "code",
   "execution_count": 24,
   "metadata": {},
   "outputs": [],
   "source": [
    "#layer 2층\n",
    "w2=tf.Variable(tf.random_normal([8,8]))   #<- 8개의 feature와 matrix곱\n",
    "b2=tf.Variable(tf.random_normal([8]))  # output = 8 \n",
    "layer2=tf.sigmoid(tf.matmul(layer1,w2)+b2)"
   ]
  },
  {
   "cell_type": "code",
   "execution_count": 26,
   "metadata": {},
   "outputs": [],
   "source": [
    "#layer 3층\n",
    "w3=tf.Variable(tf.random_normal([8,8]))   #<- 8개의 feature와 matrix곱\n",
    "b3=tf.Variable(tf.random_normal([8]))  # output = 8 \n",
    "hf=tf.sigmoid(tf.matmul(layer2,w3)+b3) #hypothesis function"
   ]
  },
  {
   "cell_type": "code",
   "execution_count": 28,
   "metadata": {},
   "outputs": [],
   "source": [
    "#cost, predict 등 정의\n",
    "cost = -tf.reduce_mean(y*tf.log(hf) + (1-y)*tf.log(1-hf))\n",
    "train = tf.train.GradientDescentOptimizer(0.01).minimize(cost) #<- cost를 최소화하는 train node정의\n",
    "predict = tf.cast(hf>0.5,dtype=tf.float32)\n",
    "# tf.cast에서 dtype을 정의해줌\n",
    "accuracy = tf.reduce_mean(tf.cast(tf.equal(predict,y),dtype=tf.float32))"
   ]
  },
  {
   "cell_type": "code",
   "execution_count": 39,
   "metadata": {},
   "outputs": [
    {
     "name": "stdout",
     "output_type": "stream",
     "text": [
      "0 0.9345312\n",
      "500 0.7452611\n",
      "1000 0.6804075\n",
      "1500 0.6575538\n",
      "2000 0.6496335\n",
      "2500 0.64537984\n",
      "3000 0.6432742\n",
      "3500 0.6420525\n",
      "4000 0.64101666\n",
      "4500 0.6400492\n",
      "5000 0.63910776\n",
      "5500 0.63817674\n",
      "6000 0.6372495\n",
      "6500 0.63632214\n",
      "7000 0.6353918\n",
      "7500 0.6344578\n",
      "8000 0.6335177\n",
      "8500 0.6325721\n",
      "9000 0.63162357\n",
      "9500 0.6304226\n",
      "10000 0.62945\n",
      "accuracy: 0.64880955\n"
     ]
    }
   ],
   "source": [
    "with tf.Session() as sess:\n",
    "    sess.run(tf.global_variables_initializer()) #<- 변수들을 사용하기 위한 초기화\n",
    "    for step in range(10001):\n",
    "        #x,y에 train데이터들을 입력하고 cost,train 노드를 실행하여 cv만 받아냄\n",
    "        cv,_ = sess.run([cost,train],feed_dict={x:xtrain,y:ytrain})\n",
    "        \n",
    "        if step%500==0:\n",
    "            print(step,cv) #500번째마다 step과 cost value받기\n",
    "    # xtest,ytest를 입력하여 hf,predict,accuracy 노드 실행하기        \n",
    "    _,pv,ac=sess.run([hf,predict,accuracy],feed_dict={x:xtest,y:ytest})\n",
    "    print(\"accuracy:\",ac)\n",
    "        \n",
    "        "
   ]
  },
  {
   "cell_type": "code",
   "execution_count": 41,
   "metadata": {},
   "outputs": [
    {
     "name": "stdout",
     "output_type": "stream",
     "text": [
      "WARNING:tensorflow:From <ipython-input-41-88cf8c00217b>:9: read_data_sets (from tensorflow.contrib.learn.python.learn.datasets.mnist) is deprecated and will be removed in a future version.\n",
      "Instructions for updating:\n",
      "Please use alternatives such as official/mnist/dataset.py from tensorflow/models.\n",
      "WARNING:tensorflow:From C:\\ProgramData\\Anaconda3\\lib\\site-packages\\tensorflow_core\\contrib\\learn\\python\\learn\\datasets\\mnist.py:260: maybe_download (from tensorflow.contrib.learn.python.learn.datasets.base) is deprecated and will be removed in a future version.\n",
      "Instructions for updating:\n",
      "Please write your own downloading logic.\n",
      "WARNING:tensorflow:From C:\\ProgramData\\Anaconda3\\lib\\site-packages\\tensorflow_core\\contrib\\learn\\python\\learn\\datasets\\mnist.py:262: extract_images (from tensorflow.contrib.learn.python.learn.datasets.mnist) is deprecated and will be removed in a future version.\n",
      "Instructions for updating:\n",
      "Please use tf.data to implement this functionality.\n",
      "Extracting MNIST_data/train-images-idx3-ubyte.gz\n",
      "WARNING:tensorflow:From C:\\ProgramData\\Anaconda3\\lib\\site-packages\\tensorflow_core\\contrib\\learn\\python\\learn\\datasets\\mnist.py:267: extract_labels (from tensorflow.contrib.learn.python.learn.datasets.mnist) is deprecated and will be removed in a future version.\n",
      "Instructions for updating:\n",
      "Please use tf.data to implement this functionality.\n",
      "Extracting MNIST_data/train-labels-idx1-ubyte.gz\n",
      "WARNING:tensorflow:From C:\\ProgramData\\Anaconda3\\lib\\site-packages\\tensorflow_core\\contrib\\learn\\python\\learn\\datasets\\mnist.py:110: dense_to_one_hot (from tensorflow.contrib.learn.python.learn.datasets.mnist) is deprecated and will be removed in a future version.\n",
      "Instructions for updating:\n",
      "Please use tf.one_hot on tensors.\n",
      "Extracting MNIST_data/t10k-images-idx3-ubyte.gz\n",
      "Extracting MNIST_data/t10k-labels-idx1-ubyte.gz\n",
      "WARNING:tensorflow:From C:\\ProgramData\\Anaconda3\\lib\\site-packages\\tensorflow_core\\contrib\\learn\\python\\learn\\datasets\\mnist.py:290: DataSet.__init__ (from tensorflow.contrib.learn.python.learn.datasets.mnist) is deprecated and will be removed in a future version.\n",
      "Instructions for updating:\n",
      "Please use alternatives such as official/mnist/dataset.py from tensorflow/models.\n"
     ]
    }
   ],
   "source": [
    "#1번 mnist 해보기\n",
    "import pandas as pd\n",
    "import numpy as np\n",
    "import matplotlib.pyplot as plt\n",
    "import random\n",
    "import tensorflow as tf\n",
    "tf.set_random_seed(777)\n",
    "from tensorflow.examples.tutorials.mnist import input_data\n",
    "mnist=input_data.read_data_sets(\"MNIST_data/\",one_hot=True)"
   ]
  },
  {
   "cell_type": "code",
   "execution_count": 44,
   "metadata": {},
   "outputs": [
    {
     "data": {
      "text/plain": [
       "Datasets(train=<tensorflow.contrib.learn.python.learn.datasets.mnist.DataSet object at 0x000001F689B0E788>, validation=<tensorflow.contrib.learn.python.learn.datasets.mnist.DataSet object at 0x000001F6822E4908>, test=<tensorflow.contrib.learn.python.learn.datasets.mnist.DataSet object at 0x000001F689B56C48>)"
      ]
     },
     "execution_count": 44,
     "metadata": {},
     "output_type": "execute_result"
    }
   ],
   "source": [
    "mnist"
   ]
  },
  {
   "cell_type": "code",
   "execution_count": 45,
   "metadata": {},
   "outputs": [],
   "source": [
    "x = tf.placeholder(tf.float32,[None,784]) #784모양의 데이터들이 들어올 x변수\n",
    "y = tf.placeholder(tf.float32,[None,10]) #숫자가 0~9까지 10개"
   ]
  },
  {
   "cell_type": "code",
   "execution_count": 48,
   "metadata": {},
   "outputs": [],
   "source": [
    "#layer1\n",
    "w1 = tf.Variable(tf.random_normal([784,256])) #<-input:784 output:256 \n",
    "b1 = tf.Variable(tf.random_normal([256]))\n",
    "layer1 = tf.sigmoid(tf.matmul(x,w1)+b1)"
   ]
  },
  {
   "cell_type": "code",
   "execution_count": 50,
   "metadata": {},
   "outputs": [],
   "source": [
    "#최종 출력층\n",
    "w2 = tf.Variable(tf.random_normal([256,10])) #10개의 숫자 모양 추측\n",
    "b2 = tf.Variable(tf.random_normal([10]))\n",
    "hf = tf.nn.softmax(tf.matmul(layer1,w2)+b2)"
   ]
  },
  {
   "cell_type": "code",
   "execution_count": 51,
   "metadata": {},
   "outputs": [],
   "source": [
    "cost = tf.reduce_mean(-tf.reduce_sum(y*tf.log(hf),axis=1))\n",
    "isCorrect = tf.equal(tf.argmax(hf,1),tf.argmax(y,1))"
   ]
  },
  {
   "cell_type": "code",
   "execution_count": 52,
   "metadata": {},
   "outputs": [],
   "source": [
    "accuracy = tf.reduce_mean(tf.cast(isCorrect,tf.float32))\n",
    "train = tf.train.GradientDescentOptimizer(0.1).minimize(cost)"
   ]
  },
  {
   "cell_type": "code",
   "execution_count": 53,
   "metadata": {},
   "outputs": [
    {
     "data": {
      "text/plain": [
       "55000"
      ]
     },
     "execution_count": 53,
     "metadata": {},
     "output_type": "execute_result"
    }
   ],
   "source": [
    "mnist.train.num_examples # 55000개 데이터"
   ]
  },
  {
   "cell_type": "code",
   "execution_count": 56,
   "metadata": {},
   "outputs": [],
   "source": [
    "numEpochs=100\n",
    "batch_size=100\n",
    "numIter=int(mnist.train.num_examples/batch_size) # 학습데이터를 batchsize로 나눔"
   ]
  },
  {
   "cell_type": "code",
   "execution_count": 58,
   "metadata": {
    "scrolled": true
   },
   "outputs": [
    {
     "name": "stdout",
     "output_type": "stream",
     "text": [
      "epoch:0001,cost:2.051597589\n",
      "epoch:0002,cost:0.872361514\n",
      "epoch:0003,cost:0.686024267\n",
      "epoch:0004,cost:0.588341763\n",
      "epoch:0005,cost:0.515166325\n",
      "epoch:0006,cost:0.467164548\n",
      "epoch:0007,cost:0.435296056\n",
      "epoch:0008,cost:0.400676202\n",
      "epoch:0009,cost:0.376421490\n",
      "epoch:0010,cost:0.352056451\n",
      "epoch:0011,cost:0.333287808\n",
      "epoch:0012,cost:0.315263352\n",
      "epoch:0013,cost:0.302317784\n",
      "epoch:0014,cost:0.289852315\n",
      "epoch:0015,cost:0.278716436\n",
      "epoch:0016,cost:0.262397636\n",
      "epoch:0017,cost:0.260806063\n",
      "epoch:0018,cost:0.244654720\n",
      "epoch:0019,cost:0.239847751\n",
      "epoch:0020,cost:0.234408677\n",
      "epoch:0021,cost:0.223833770\n",
      "epoch:0022,cost:0.219960424\n",
      "epoch:0023,cost:0.215274359\n",
      "epoch:0024,cost:0.204976120\n",
      "epoch:0025,cost:0.202890743\n",
      "epoch:0026,cost:0.197904956\n",
      "epoch:0027,cost:0.189895085\n",
      "epoch:0028,cost:0.190635263\n",
      "epoch:0029,cost:0.183879117\n",
      "epoch:0030,cost:0.177942495\n",
      "epoch:0031,cost:0.175990232\n",
      "epoch:0032,cost:0.171696118\n",
      "epoch:0033,cost:0.170164961\n",
      "epoch:0034,cost:0.166502252\n",
      "epoch:0035,cost:0.159621552\n",
      "epoch:0036,cost:0.158643671\n",
      "epoch:0037,cost:0.156659834\n",
      "epoch:0038,cost:0.154117901\n",
      "epoch:0039,cost:0.148437412\n",
      "epoch:0040,cost:0.149567474\n",
      "epoch:0041,cost:0.144893233\n",
      "epoch:0042,cost:0.142865169\n",
      "epoch:0043,cost:0.139665885\n",
      "epoch:0044,cost:0.138152354\n",
      "epoch:0045,cost:0.135591944\n",
      "epoch:0046,cost:0.133943987\n",
      "epoch:0047,cost:0.132472092\n",
      "epoch:0048,cost:0.127699264\n",
      "epoch:0049,cost:0.127327167\n",
      "epoch:0050,cost:0.127406961\n",
      "epoch:0051,cost:0.123642471\n",
      "epoch:0052,cost:0.122711979\n",
      "epoch:0053,cost:0.121329431\n",
      "epoch:0054,cost:0.117180734\n",
      "epoch:0055,cost:0.115265543\n",
      "epoch:0056,cost:0.115311669\n",
      "epoch:0057,cost:0.113477773\n",
      "epoch:0058,cost:0.112582325\n",
      "epoch:0059,cost:0.108548493\n",
      "epoch:0060,cost:0.109943051\n",
      "epoch:0061,cost:0.109053738\n",
      "epoch:0062,cost:0.105088534\n",
      "epoch:0063,cost:0.106248562\n",
      "epoch:0064,cost:0.102938852\n",
      "epoch:0065,cost:0.101702226\n",
      "epoch:0066,cost:0.101035234\n",
      "epoch:0067,cost:0.098991556\n",
      "epoch:0068,cost:0.098110940\n",
      "epoch:0069,cost:0.098433589\n",
      "epoch:0070,cost:0.095086059\n",
      "epoch:0071,cost:0.094333143\n",
      "epoch:0072,cost:0.094536771\n",
      "epoch:0073,cost:0.091666277\n",
      "epoch:0074,cost:0.089684577\n",
      "epoch:0075,cost:0.091491359\n",
      "epoch:0076,cost:0.089205296\n",
      "epoch:0077,cost:0.087933458\n",
      "epoch:0078,cost:0.086776057\n",
      "epoch:0079,cost:0.085161447\n",
      "epoch:0080,cost:0.085061596\n",
      "epoch:0081,cost:0.084655066\n",
      "epoch:0082,cost:0.082925773\n",
      "epoch:0083,cost:0.083227633\n",
      "epoch:0084,cost:0.079132843\n",
      "epoch:0085,cost:0.081411338\n",
      "epoch:0086,cost:0.078647429\n",
      "epoch:0087,cost:0.078594201\n",
      "epoch:0088,cost:0.078135497\n",
      "epoch:0089,cost:0.076009237\n",
      "epoch:0090,cost:0.075798016\n",
      "epoch:0091,cost:0.074998741\n",
      "epoch:0092,cost:0.073593946\n",
      "epoch:0093,cost:0.073964704\n",
      "epoch:0094,cost:0.071499926\n",
      "epoch:0095,cost:0.073399320\n",
      "epoch:0096,cost:0.070874460\n",
      "epoch:0097,cost:0.069891798\n",
      "epoch:0098,cost:0.070086818\n",
      "epoch:0099,cost:0.067827249\n",
      "epoch:0100,cost:0.067448774\n",
      "accuracy: 0.9443\n",
      "label: [3]\n",
      "predict: [3]\n"
     ]
    },
    {
     "data": {
      "image/png": "[encoded data removed]",
      "text/plain": [
       "<Figure size 432x288 with 1 Axes>"
      ]
     },
     "metadata": {
      "needs_background": "light"
     },
     "output_type": "display_data"
    }
   ],
   "source": [
    "with tf.Session() as sess:\n",
    "    sess.run(tf.global_variables_initializer())\n",
    "    \n",
    "    for epoch in range(numEpochs): #<-epoch마다\n",
    "        avgCv=0 #<-cost value를 더할 변수를 만들어줌\n",
    "        for i in range(numIter):\n",
    "            batchx,batchy = mnist.train.next_batch(batch_size)\n",
    "            _,cv=sess.run([train,cost],feed_dict={x:batchx,y:batchy})\n",
    "            avgCv += cv/numIter #<- cost / numIter를 계속 더하기, 평균cost value구하기\n",
    "        print(\"epoch:{:04d},cost:{:.9f}\".format(epoch+1,avgCv))\n",
    "    print(\"accuracy:\",accuracy.eval(session=sess,\n",
    "                                    feed_dict={x:mnist.test.images,\n",
    "                                                           y:mnist.test.labels}))\n",
    "    rand=random.randint(0,mnist.test.num_examples-1)\n",
    "    #rand번째 숫자의 번호\n",
    "    print(\"label:\",sess.run(tf.argmax(mnist.test.labels[rand:rand+1],1)))\n",
    "    #x에 image데이터만 입력해주고 예측함\n",
    "    print(\"predict:\",sess.run(tf.argmax(hf,1),\n",
    "                              feed_dict={x:mnist.test.images[rand:rand+1]}))\n",
    "    #mnist.image의 rand번째 이미지를 28*28로 reshape해서 imshow함\n",
    "    plt.imshow(mnist.test.images[rand:rand+1].reshape(28,28),cmap=\"Greys\")\n",
    "    plt.show"
   ]
  },
  {
   "cell_type": "code",
   "execution_count": null,
   "metadata": {},
   "outputs": [],
   "source": []
  }
 ],
 "metadata": {
  "kernelspec": {
   "display_name": "Python 3",
   "language": "python",
   "name": "python3"
  },
  "language_info": {
   "codemirror_mode": {
    "name": "ipython",
    "version": 3
   },
   "file_extension": ".py",
   "mimetype": "text/x-python",
   "name": "python",
   "nbconvert_exporter": "python",
   "pygments_lexer": "ipython3",
   "version": "3.7.6"
  }
 },
 "nbformat": 4,
 "nbformat_minor": 4
}
