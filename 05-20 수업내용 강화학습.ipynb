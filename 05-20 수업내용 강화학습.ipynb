{
 "cells": [
  {
   "cell_type": "code",
   "execution_count": 5,
   "metadata": {},
   "outputs": [
    {
     "data": {
      "image/jpeg": "[encoded data removed]",
      "text/plain": [
       "<IPython.core.display.Image object>"
      ]
     },
     "execution_count": 5,
     "metadata": {},
     "output_type": "execute_result"
    }
   ],
   "source": [
    "jpgfile"
   ]
  },
  {
   "cell_type": "code",
   "execution_count": null,
   "metadata": {},
   "outputs": [],
   "source": [
    "\"\"\"강화학습의 어원\n",
    "ex: Dog Training\n",
    "\n",
    "Actor(Agent)         Environment\n",
    "강아지  --Action-->     미로\n",
    "       <--Award--      |\n",
    "State   <--------------|\n",
    "현재위치\n",
    "\n",
    "=> \"action의 순서\"를 찾는 것을 목표로 한다\n",
    "\n",
    "-Context understanding: 현재 상태 파악(게임의 경우 CNN으로 파악함)\n",
    "-Action: (오목)돌 위치, (미로찾기)상하좌우 방향키 등\n",
    "\"최적(optimal)의 action을 선택\": 논문에선 optimal을 *로 표기 예:Policy*=pi*\n",
    "\n",
    "-Reward(=Award): \n",
    "-강화학습의 활용: \n",
    "    1) 로보틱스(관절 등)\n",
    "    2) 재고관리\n",
    "    3) 전기관리: 서버실에서 막대한 전력을 소모하기 때문에 전력 소모에 대한 관리를 강화학습으로 \n",
    "               관리함. 전력소모량을 4~50%를 줄일 수 있었다\n",
    "    4) Finance 분야: Decision(매매결정) 등 \n",
    "\"\"\""
   ]
  },
  {
   "cell_type": "code",
   "execution_count": 4,
   "metadata": {},
   "outputs": [],
   "source": [
    "#사진 파일 열기\n",
    "import os,sys\n",
    "from IPython.display import Image\n",
    "jpgfile = Image(\"reinforcement-learning-fig1-700.jpg\")"
   ]
  },
  {
   "cell_type": "code",
   "execution_count": null,
   "metadata": {},
   "outputs": [],
   "source": [
    "\"\"\"\n",
    "install gym: 강화학습 toolkit 만들기 연습(=체육관)\n",
    "\n",
    "\"\"\""
   ]
  },
  {
   "cell_type": "code",
   "execution_count": 1,
   "metadata": {},
   "outputs": [],
   "source": [
    "import pandas as pd\n",
    "import numpy as np\n",
    "import matplotlib.pyplot as plt\n",
    "import gym\n",
    "from gym.envs.registration import register"
   ]
  },
  {
   "cell_type": "code",
   "execution_count": 6,
   "metadata": {},
   "outputs": [],
   "source": [
    "register(\n",
    "    id='FrozenLakeNotSlippery-v2',\n",
    "    entry_point='gym.envs.toy_text:FrozenLakeEnv',\n",
    "    kwargs={'map_name':\"4x4\", \"is_slippery\":False}\n",
    ")"
   ]
  },
  {
   "cell_type": "code",
   "execution_count": null,
   "metadata": {},
   "outputs": [],
   "source": [
    "\"\"\"\n",
    "강화학습과 몬테카를로의 차이:\n",
    "강화학습은 Action에 대한 보상으로 \n",
    "몬테카를로은 다 가봄\n",
    "\"\"\""
   ]
  },
  {
   "cell_type": "code",
   "execution_count": 8,
   "metadata": {},
   "outputs": [
    {
     "data": {
      "text/plain": [
       "<bound method DiscreteEnv.reset of <gym.envs.toy_text.frozen_lake.FrozenLakeEnv object at 0x00000230C26EC2C8>>"
      ]
     },
     "execution_count": 8,
     "metadata": {},
     "output_type": "execute_result"
    }
   ],
   "source": [
    "env = gym.make(\"FrozenLakeNotSlippery-v2\")\n",
    "env.reset \n",
    "#map을 4*4로 하면 key error 뜨니까 4x4로 바꾸어야함"
   ]
  },
  {
   "cell_type": "code",
   "execution_count": 9,
   "metadata": {},
   "outputs": [
    {
     "data": {
      "text/plain": [
       "0"
      ]
     },
     "execution_count": 9,
     "metadata": {},
     "output_type": "execute_result"
    }
   ],
   "source": [
    "env.reset()"
   ]
  },
  {
   "cell_type": "code",
   "execution_count": 10,
   "metadata": {},
   "outputs": [],
   "source": [
    "#0:left, 1:down, 2:right, 3:up\n",
    "complete_actions=[2,2,1,1,1,2]\n"
   ]
  },
  {
   "cell_type": "code",
   "execution_count": 11,
   "metadata": {},
   "outputs": [
    {
     "name": "stdout",
     "output_type": "stream",
     "text": [
      "  (Right)\n",
      "S\u001b[41mF\u001b[0mFF\n",
      "FHFH\n",
      "FFFH\n",
      "HFFG\n",
      "  (Right)\n",
      "SF\u001b[41mF\u001b[0mF\n",
      "FHFH\n",
      "FFFH\n",
      "HFFG\n",
      "  (Down)\n",
      "SFFF\n",
      "FH\u001b[41mF\u001b[0mH\n",
      "FFFH\n",
      "HFFG\n",
      "  (Down)\n",
      "SFFF\n",
      "FHFH\n",
      "FF\u001b[41mF\u001b[0mH\n",
      "HFFG\n",
      "  (Down)\n",
      "SFFF\n",
      "FHFH\n",
      "FFFH\n",
      "HF\u001b[41mF\u001b[0mG\n",
      "  (Right)\n",
      "SFFF\n",
      "FHFH\n",
      "FFFH\n",
      "HFF\u001b[41mG\u001b[0m\n",
      "done, reward:1.0\n"
     ]
    }
   ],
   "source": [
    "\"\"\"\n",
    "observation: new-state(액션을 취해서 새롭게 얻은 위치)\n",
    "reward: 보상을 얻었는지 여부 \n",
    "done: 도착지에 도착, 홀에 빠진 경우\n",
    "info(디버깅을 위한 정보): 잘 사용 안함;\n",
    "\"\"\"\n",
    "for action in complete_actions:\n",
    "    newState,reward, done,_ = env.step(action)\n",
    "    env.render( ) #<- 현재상태를 보여줌(출력해서 보여줌)\n",
    "    if done is True:\n",
    "        print(\"done, reward:{}\".format(reward))"
   ]
  },
  {
   "cell_type": "code",
   "execution_count": null,
   "metadata": {},
   "outputs": [],
   "source": []
  }
 ],
 "metadata": {
  "kernelspec": {
   "display_name": "Python 3",
   "language": "python",
   "name": "python3"
  },
  "language_info": {
   "codemirror_mode": {
    "name": "ipython",
    "version": 3
   },
   "file_extension": ".py",
   "mimetype": "text/x-python",
   "name": "python",
   "nbconvert_exporter": "python",
   "pygments_lexer": "ipython3",
   "version": "3.7.6"
  }
 },
 "nbformat": 4,
 "nbformat_minor": 4
}
