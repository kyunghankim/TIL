{
 "cells": [
  {
   "cell_type": "code",
   "execution_count": null,
   "metadata": {},
   "outputs": [],
   "source": [
    "1. 다트게임"
   ]
  },
  {
   "cell_type": "code",
   "execution_count": 5,
   "metadata": {},
   "outputs": [],
   "source": [
    "import pandas as pd\n",
    "import numpy as np\n",
    "from random import *"
   ]
  },
  {
   "cell_type": "code",
   "execution_count": 89,
   "metadata": {},
   "outputs": [
    {
     "name": "stdout",
     "output_type": "stream",
     "text": [
      "[1, 1, 9] [['D'], ['S'], ['S']]\n",
      "[['none'], ['#'], ['*']]\n",
      "[1, -2, 18]\n",
      "[1, -2, 18] 17\n"
     ]
    }
   ],
   "source": [
    "bonus=['S','D','T']\n",
    "option=['none','*','#']\n",
    "def dartgame1():\n",
    "    game1_point=[]\n",
    "    game1_bonus=[]\n",
    "    game1_option=[]                        # 값을 넣을 3개의 빈 리스트\n",
    "    for a in range(3):\n",
    "        game1_point.append(randint(0,11))\n",
    "        game1_bonus.append(random.sample(bonus,1))\n",
    "        game1_option.append(random.sample(option,1))   #랜덤하게 숫자와 s,t,d, option으로 *,#을 3번추가\n",
    "    for j in range(3):\n",
    "        if game1_bonus[j]==['D']:\n",
    "            temp=game1_point[j]\n",
    "            game1_point[j]=pow(temp,2)\n",
    "        elif game1_bonus[j]==['T']:\n",
    "            temp=game1_point[j]\n",
    "            game1_point[j]=pow(temp,3)    # 'D'혹은'T'이면 j번째 값을 제곱,세제곱해줌\n",
    "    print(game1_point,game1_bonus)\n",
    "    print(game1_option)                   #확인용 print\n",
    "    for i in range(3):\n",
    "        if game1_option[i]==['*']:\n",
    "            if i==0:\n",
    "                temp=game1_point[i]\n",
    "                game1_point[i]=temp*2     #\"*\"인데 1개면 i번째만, 2개이상이면 i-1,i번째를 2배\n",
    "            else: \n",
    "                temp1=game1_point[i-1]\n",
    "                temp2=game1_point[i]\n",
    "                game1_point[i-1]=temp1*2\n",
    "                game1_point[i]=temp2*2 \n",
    "            print(game1_point)          #확인용 print\n",
    "        elif game1_option[i]==['#']:\n",
    "            temp=game1_point[i]\n",
    "            game1_point[i]=-temp        #'#'이면 i번째를 -곱해줌\n",
    "    print(game1_point,sum(game1_point)) #point들과 합\n",
    "dartgame1()"
   ]
  },
  {
   "cell_type": "code",
   "execution_count": null,
   "metadata": {},
   "outputs": [],
   "source": []
  },
  {
   "cell_type": "code",
   "execution_count": null,
   "metadata": {},
   "outputs": [],
   "source": []
  },
  {
   "cell_type": "code",
   "execution_count": null,
   "metadata": {},
   "outputs": [],
   "source": []
  }
 ],
 "metadata": {
  "kernelspec": {
   "display_name": "Python 3",
   "language": "python",
   "name": "python3"
  },
  "language_info": {
   "codemirror_mode": {
    "name": "ipython",
    "version": 3
   },
   "file_extension": ".py",
   "mimetype": "text/x-python",
   "name": "python",
   "nbconvert_exporter": "python",
   "pygments_lexer": "ipython3",
   "version": "3.7.4"
  }
 },
 "nbformat": 4,
 "nbformat_minor": 2
}
