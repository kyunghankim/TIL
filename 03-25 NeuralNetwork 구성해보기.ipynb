{
 "cells": [
  {
   "cell_type": "code",
   "execution_count": 1,
   "metadata": {},
   "outputs": [],
   "source": [
    "#신경망 구현\n",
    "#1. 초기화(입력,은닉,출력계층에 대한 노드 수 정의)\n",
    "#2. 학습(가중치 업데이트)\n",
    "#3. 질의(입력 -> 연산 -> 출력 노드에 전달)"
   ]
  },
  {
   "cell_type": "code",
   "execution_count": 1,
   "metadata": {},
   "outputs": [],
   "source": [
    "import numpy as np\n",
    "import scipy\n",
    "import scipy.special\n"
   ]
  },
  {
   "cell_type": "code",
   "execution_count": 2,
   "metadata": {},
   "outputs": [],
   "source": [
    "class neuralNetwork():\n",
    "    #신경망 초기화 기능\n",
    "    def __init__(self,input_nodes,\\\n",
    "                hidden_nodes,output_nodes,learning_rate):\n",
    "        self.inodes=input_nodes\n",
    "        self.hnodes=hidden_nodes\n",
    "        self.onodes=output_nodes\n",
    "        self.lr=learning_rate\n",
    "        #가중치는 행렬로 표현\n",
    "        #입력/은닉 가중치 행렬:(은닉노드*입력노드)관행적으로\n",
    "        self.wih=np.random.normal(0.0, #<-형식:normal(평균,표준편차,개수)\n",
    "                         pow(self.hnodes,-0.5),\n",
    "                         (self.hnodes,self.inodes))\n",
    "        #입력/은닉 가중치 행렬:(은닉노드*입력노드)관행적으로\n",
    "        self.who=np.random.normal(0.0,\n",
    "                         pow(self.onodes,-0.5),\n",
    "                         (self.onodes,self.hnodes))\n",
    "        self.activation_function=lambda x:scipy.special.expit(x)\n",
    "        pass\n",
    "    #신경망 학습 기능(2단계)\n",
    "    #1단계(forward propagation): 입력데이터에 대해 계산(query)\n",
    "    #2단계(backward propagation): 예측값과 실제값의 차이를 계산->가중치 업데이트 단계\n",
    "    def train(self,inputs_list,targets_list):\n",
    "        inputs=np.array(inputs_list,ndmin=2).T\n",
    "        targets=np.array(targets_list,ndmin=2).T\n",
    "        \n",
    "         #은닉계층으로 들어오는 신호를 계산\n",
    "        hidden_inputs=np.dot(self.wih,inputs)\n",
    "        #은닉계층에서 나가는 신호 계산\n",
    "        hidden_outputs=self.activation_function(hidden_inputs)\n",
    "        #출력계층으로 들어오는 신호를 계산\n",
    "        final_inputs=np.dot(self.who,hidden_outputs)\n",
    "        #출력계층에서 나가는 신호 계산\n",
    "        final_outputs=self.activation_function(final_inputs)\n",
    "        \n",
    "        output_errors=targets-final_outputs\n",
    "        #오차=실제값-예측값\n",
    "        \n",
    "        #은닉 계층 노드에 대한 역전파된 오차\n",
    "        #은닉 계층의 오차는 가중치에 의해 나뉜\n",
    "        #출력 계층의 오차들을 재조합하여 계산\n",
    "        hidden_errors=np.dot(self.who.T,output_errors)\n",
    "        #은닉 계층과 출력 계층 간의 가중치 업데이트(who를 업데이트)\n",
    "        self.who+=self.lr*np.dot\n",
    "        ((output_errors*final_outputs*(1.0-final_outputs)),\n",
    "                       np.tanspose(hidden_outputs))\n",
    "        self.wih+=self.lr*np.dot\n",
    "        ((hiddenput_errors*hidden_outputs*(1.0-hidden_outputs)),\n",
    "                       np.tanspose(hidden_inputs))\n",
    "        \n",
    "        pass\n",
    "    #신경망 질의 기능\n",
    "    #신경ㅇ망으로 들어오는 입력을 받아 출력하는 node\n",
    "    def query(self,inputs_list):\n",
    "        #입력리스트를 2차원 행렬로 변환\n",
    "        inputs=np.array(inputs_list,ndmin=2).T\n",
    "        #은닉계층으로 들어오는 신호를 계산\n",
    "        hidden_inputs=np.dot(self.wih,inputs)\n",
    "        #은닉계층에서 나가는 신호 계산\n",
    "        hidden_outputs=self.activation_function(hidden_inputs)\n",
    "        #출력계층으로 들어오는 신호를 계산\n",
    "        final_inputs=np.dot(self.who,hidden_outputs)\n",
    "        #출력계층에서 나가는 신호 계산\n",
    "        final_outputs=self.activation_function(final_inputs)\n",
    "        return final_outputs"
   ]
  },
  {
   "cell_type": "code",
   "execution_count": 3,
   "metadata": {},
   "outputs": [
    {
     "data": {
      "text/plain": [
       "array([[0.65768841],\n",
       "       [0.77888371],\n",
       "       [0.66615199]])"
      ]
     },
     "execution_count": 3,
     "metadata": {},
     "output_type": "execute_result"
    }
   ],
   "source": [
    "#입력, 은닉, 출력 노드 수\n",
    "input_nodes=3\n",
    "hidden_nodes=3\n",
    "output_nodes=3\n",
    "#학습률\n",
    "learning_rate=0.3 #<-통상적으로 0.1~0.001를 일반적으로 줌\n",
    "\n",
    "#신경망 클래스 객체를 생성\n",
    "n=neuralNetwork(input_nodes,\n",
    "                hidden_nodes,output_nodes,learning_rate)\n",
    "n.query([1.0,0.5,-1.5])"
   ]
  },
  {
   "cell_type": "code",
   "execution_count": 4,
   "metadata": {},
   "outputs": [],
   "source": [
    "import numpy as np\n",
    "#np.random.rand(3,3)-0.5"
   ]
  },
  {
   "cell_type": "code",
   "execution_count": 5,
   "metadata": {},
   "outputs": [
    {
     "ename": "NameError",
     "evalue": "name 'self' is not defined",
     "output_type": "error",
     "traceback": [
      "\u001b[1;31m---------------------------------------------------------------------------\u001b[0m",
      "\u001b[1;31mNameError\u001b[0m                                 Traceback (most recent call last)",
      "\u001b[1;32m<ipython-input-5-c0f20bcbb4a4>\u001b[0m in \u001b[0;36m<module>\u001b[1;34m\u001b[0m\n\u001b[1;32m----> 1\u001b[1;33m \u001b[0mnp\u001b[0m\u001b[1;33m.\u001b[0m\u001b[0mrandom\u001b[0m\u001b[1;33m.\u001b[0m\u001b[0mnormal\u001b[0m\u001b[1;33m(\u001b[0m\u001b[0mself\u001b[0m\u001b[1;33m.\u001b[0m\u001b[0mhnodes\u001b[0m\u001b[1;33m)\u001b[0m\u001b[1;33m\u001b[0m\u001b[1;33m\u001b[0m\u001b[0m\n\u001b[0m",
      "\u001b[1;31mNameError\u001b[0m: name 'self' is not defined"
     ]
    }
   ],
   "source": [
    "np.random.normal(self.hnodes)\n"
   ]
  },
  {
   "cell_type": "code",
   "execution_count": null,
   "metadata": {},
   "outputs": [],
   "source": []
  },
  {
   "cell_type": "code",
   "execution_count": null,
   "metadata": {},
   "outputs": [],
   "source": []
  },
  {
   "cell_type": "code",
   "execution_count": null,
   "metadata": {},
   "outputs": [],
   "source": []
  },
  {
   "cell_type": "code",
   "execution_count": null,
   "metadata": {},
   "outputs": [],
   "source": []
  },
  {
   "cell_type": "code",
   "execution_count": null,
   "metadata": {},
   "outputs": [],
   "source": []
  }
 ],
 "metadata": {
  "kernelspec": {
   "display_name": "Python 3",
   "language": "python",
   "name": "python3"
  },
  "language_info": {
   "codemirror_mode": {
    "name": "ipython",
    "version": 3
   },
   "file_extension": ".py",
   "mimetype": "text/x-python",
   "name": "python",
   "nbconvert_exporter": "python",
   "pygments_lexer": "ipython3",
   "version": "3.7.4"
  }
 },
 "nbformat": 4,
 "nbformat_minor": 2
}
