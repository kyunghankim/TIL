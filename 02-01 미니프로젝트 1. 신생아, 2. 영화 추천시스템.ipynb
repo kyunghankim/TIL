{
 "cells": [
  {
   "cell_type": "code",
   "execution_count": null,
   "metadata": {},
   "outputs": [],
   "source": [
    "1. 신생아 이름 데이터 분석"
   ]
  },
  {
   "cell_type": "code",
   "execution_count": null,
   "metadata": {},
   "outputs": [],
   "source": [
    "-유명인(미국대통령) 이름으로 유행분석"
   ]
  },
  {
   "cell_type": "code",
   "execution_count": 115,
   "metadata": {},
   "outputs": [],
   "source": [
    "import pandas as pd\n",
    "import numpy as np\n",
    "import seaborn as sns\n",
    "from matplotlib import pyplot as plt"
   ]
  },
  {
   "cell_type": "code",
   "execution_count": 3,
   "metadata": {},
   "outputs": [
    {
     "data": {
      "text/plain": [
       "(1690784, 4)"
      ]
     },
     "execution_count": 3,
     "metadata": {},
     "output_type": "execute_result"
    }
   ],
   "source": [
    "pieces=[]\n",
    "for year in range(1880,2011):\n",
    "    path='names/names/yob%d.txt' % year\n",
    "    df=pd.read_csv(path,names=['name','sex','births'])\n",
    "    df['year']=year\n",
    "    pieces.append(df)\n",
    "    \n",
    "pd.concat(pieces)     #     <-모든 pieces의 데이터들을 합침\n",
    "pd.concat(pieces).shape"
   ]
  },
  {
   "cell_type": "code",
   "execution_count": 465,
   "metadata": {
    "scrolled": true
   },
   "outputs": [
    {
     "data": {
      "text/html": [
       "<div>\n",
       "<style scoped>\n",
       "    .dataframe tbody tr th:only-of-type {\n",
       "        vertical-align: middle;\n",
       "    }\n",
       "\n",
       "    .dataframe tbody tr th {\n",
       "        vertical-align: top;\n",
       "    }\n",
       "\n",
       "    .dataframe thead th {\n",
       "        text-align: right;\n",
       "    }\n",
       "</style>\n",
       "<table border=\"1\" class=\"dataframe\">\n",
       "  <thead>\n",
       "    <tr style=\"text-align: right;\">\n",
       "      <th></th>\n",
       "      <th>name</th>\n",
       "      <th>sex</th>\n",
       "      <th>births</th>\n",
       "      <th>year</th>\n",
       "    </tr>\n",
       "  </thead>\n",
       "  <tbody>\n",
       "    <tr>\n",
       "      <td>0</td>\n",
       "      <td>Mary</td>\n",
       "      <td>F</td>\n",
       "      <td>7065</td>\n",
       "      <td>1880</td>\n",
       "    </tr>\n",
       "    <tr>\n",
       "      <td>1</td>\n",
       "      <td>Anna</td>\n",
       "      <td>F</td>\n",
       "      <td>2604</td>\n",
       "      <td>1880</td>\n",
       "    </tr>\n",
       "    <tr>\n",
       "      <td>2</td>\n",
       "      <td>Emma</td>\n",
       "      <td>F</td>\n",
       "      <td>2003</td>\n",
       "      <td>1880</td>\n",
       "    </tr>\n",
       "    <tr>\n",
       "      <td>3</td>\n",
       "      <td>Elizabeth</td>\n",
       "      <td>F</td>\n",
       "      <td>1939</td>\n",
       "      <td>1880</td>\n",
       "    </tr>\n",
       "    <tr>\n",
       "      <td>4</td>\n",
       "      <td>Minnie</td>\n",
       "      <td>F</td>\n",
       "      <td>1746</td>\n",
       "      <td>1880</td>\n",
       "    </tr>\n",
       "    <tr>\n",
       "      <td>...</td>\n",
       "      <td>...</td>\n",
       "      <td>...</td>\n",
       "      <td>...</td>\n",
       "      <td>...</td>\n",
       "    </tr>\n",
       "    <tr>\n",
       "      <td>1690779</td>\n",
       "      <td>Zymaire</td>\n",
       "      <td>M</td>\n",
       "      <td>5</td>\n",
       "      <td>2010</td>\n",
       "    </tr>\n",
       "    <tr>\n",
       "      <td>1690780</td>\n",
       "      <td>Zyonne</td>\n",
       "      <td>M</td>\n",
       "      <td>5</td>\n",
       "      <td>2010</td>\n",
       "    </tr>\n",
       "    <tr>\n",
       "      <td>1690781</td>\n",
       "      <td>Zyquarius</td>\n",
       "      <td>M</td>\n",
       "      <td>5</td>\n",
       "      <td>2010</td>\n",
       "    </tr>\n",
       "    <tr>\n",
       "      <td>1690782</td>\n",
       "      <td>Zyran</td>\n",
       "      <td>M</td>\n",
       "      <td>5</td>\n",
       "      <td>2010</td>\n",
       "    </tr>\n",
       "    <tr>\n",
       "      <td>1690783</td>\n",
       "      <td>Zzyzx</td>\n",
       "      <td>M</td>\n",
       "      <td>5</td>\n",
       "      <td>2010</td>\n",
       "    </tr>\n",
       "  </tbody>\n",
       "</table>\n",
       "<p>1690784 rows × 4 columns</p>\n",
       "</div>"
      ],
      "text/plain": [
       "              name sex  births  year\n",
       "0             Mary   F    7065  1880\n",
       "1             Anna   F    2604  1880\n",
       "2             Emma   F    2003  1880\n",
       "3        Elizabeth   F    1939  1880\n",
       "4           Minnie   F    1746  1880\n",
       "...            ...  ..     ...   ...\n",
       "1690779    Zymaire   M       5  2010\n",
       "1690780     Zyonne   M       5  2010\n",
       "1690781  Zyquarius   M       5  2010\n",
       "1690782      Zyran   M       5  2010\n",
       "1690783      Zzyzx   M       5  2010\n",
       "\n",
       "[1690784 rows x 4 columns]"
      ]
     },
     "execution_count": 465,
     "metadata": {},
     "output_type": "execute_result"
    }
   ],
   "source": [
    "names=pd.concat(pieces,ignore_index=True)\n",
    "names.pivot_table('births',index='year',columns='sex',aggfunc=np.sum)\n",
    "names"
   ]
  },
  {
   "cell_type": "code",
   "execution_count": 7,
   "metadata": {},
   "outputs": [],
   "source": [
    "president_name=['George Washington','John Adams,Thomas Jefferson',\n",
    "                'James Madison','James Monroe','John Quincy Adams',\n",
    "                'Andrew Jackson','Martin Van Buren',\n",
    "                'William Henry Harrison','John Tyler','James K. Polk,Zachary Taylor',\n",
    "                'Millard Fillmore','Franklin Pierce','James Buchanan',\n",
    "                'Abraham Lincoln','Andrew Johnson','Ulysses S. Grant','Rutherford B. Hayes',\n",
    "                'James A. Garfield','Chester A. Arthur','Grover Cleveland',\n",
    "                'Benjamin Harrison','Grover Cleveland','William McKinley','Theodore Roosevelt',\n",
    "                'William Howard Taft','Woodrow Wilson','Warren G. Harding',\n",
    "                'Calvin Coolidge','Herbert Hoover','Franklin D. Roosevelt','Harry S. Truman',\n",
    "                'Dwight D. Eisenhower','John F. Kennedy','Lyndon B. Johnson','Richard Nixon',\n",
    "                'Gerald Ford','Jimmy Carter','Ronald Reagan','George H. W. Bush',\n",
    "                'Bill Clinton','George W. Bush','Barack Obama','Donald Trump']"
   ]
  },
  {
   "cell_type": "code",
   "execution_count": 8,
   "metadata": {},
   "outputs": [
    {
     "data": {
      "text/html": [
       "<div>\n",
       "<style scoped>\n",
       "    .dataframe tbody tr th:only-of-type {\n",
       "        vertical-align: middle;\n",
       "    }\n",
       "\n",
       "    .dataframe tbody tr th {\n",
       "        vertical-align: top;\n",
       "    }\n",
       "\n",
       "    .dataframe thead th {\n",
       "        text-align: right;\n",
       "    }\n",
       "</style>\n",
       "<table border=\"1\" class=\"dataframe\">\n",
       "  <thead>\n",
       "    <tr style=\"text-align: right;\">\n",
       "      <th></th>\n",
       "      <th>name</th>\n",
       "      <th>sex</th>\n",
       "      <th>births</th>\n",
       "      <th>year</th>\n",
       "    </tr>\n",
       "  </thead>\n",
       "  <tbody>\n",
       "    <tr>\n",
       "      <td>0</td>\n",
       "      <td>Mary</td>\n",
       "      <td>F</td>\n",
       "      <td>7065</td>\n",
       "      <td>1880</td>\n",
       "    </tr>\n",
       "    <tr>\n",
       "      <td>1</td>\n",
       "      <td>Anna</td>\n",
       "      <td>F</td>\n",
       "      <td>2604</td>\n",
       "      <td>1880</td>\n",
       "    </tr>\n",
       "    <tr>\n",
       "      <td>2</td>\n",
       "      <td>Emma</td>\n",
       "      <td>F</td>\n",
       "      <td>2003</td>\n",
       "      <td>1880</td>\n",
       "    </tr>\n",
       "    <tr>\n",
       "      <td>3</td>\n",
       "      <td>Elizabeth</td>\n",
       "      <td>F</td>\n",
       "      <td>1939</td>\n",
       "      <td>1880</td>\n",
       "    </tr>\n",
       "    <tr>\n",
       "      <td>4</td>\n",
       "      <td>Minnie</td>\n",
       "      <td>F</td>\n",
       "      <td>1746</td>\n",
       "      <td>1880</td>\n",
       "    </tr>\n",
       "    <tr>\n",
       "      <td>...</td>\n",
       "      <td>...</td>\n",
       "      <td>...</td>\n",
       "      <td>...</td>\n",
       "      <td>...</td>\n",
       "    </tr>\n",
       "    <tr>\n",
       "      <td>1690779</td>\n",
       "      <td>Zymaire</td>\n",
       "      <td>M</td>\n",
       "      <td>5</td>\n",
       "      <td>2010</td>\n",
       "    </tr>\n",
       "    <tr>\n",
       "      <td>1690780</td>\n",
       "      <td>Zyonne</td>\n",
       "      <td>M</td>\n",
       "      <td>5</td>\n",
       "      <td>2010</td>\n",
       "    </tr>\n",
       "    <tr>\n",
       "      <td>1690781</td>\n",
       "      <td>Zyquarius</td>\n",
       "      <td>M</td>\n",
       "      <td>5</td>\n",
       "      <td>2010</td>\n",
       "    </tr>\n",
       "    <tr>\n",
       "      <td>1690782</td>\n",
       "      <td>Zyran</td>\n",
       "      <td>M</td>\n",
       "      <td>5</td>\n",
       "      <td>2010</td>\n",
       "    </tr>\n",
       "    <tr>\n",
       "      <td>1690783</td>\n",
       "      <td>Zzyzx</td>\n",
       "      <td>M</td>\n",
       "      <td>5</td>\n",
       "      <td>2010</td>\n",
       "    </tr>\n",
       "  </tbody>\n",
       "</table>\n",
       "<p>1690784 rows × 4 columns</p>\n",
       "</div>"
      ],
      "text/plain": [
       "              name sex  births  year\n",
       "0             Mary   F    7065  1880\n",
       "1             Anna   F    2604  1880\n",
       "2             Emma   F    2003  1880\n",
       "3        Elizabeth   F    1939  1880\n",
       "4           Minnie   F    1746  1880\n",
       "...            ...  ..     ...   ...\n",
       "1690779    Zymaire   M       5  2010\n",
       "1690780     Zyonne   M       5  2010\n",
       "1690781  Zyquarius   M       5  2010\n",
       "1690782      Zyran   M       5  2010\n",
       "1690783      Zzyzx   M       5  2010\n",
       "\n",
       "[1690784 rows x 4 columns]"
      ]
     },
     "execution_count": 8,
     "metadata": {},
     "output_type": "execute_result"
    }
   ],
   "source": [
    "names"
   ]
  },
  {
   "cell_type": "code",
   "execution_count": 12,
   "metadata": {},
   "outputs": [
    {
     "name": "stderr",
     "output_type": "stream",
     "text": [
      "C:\\Users\\student\\Anaconda3\\lib\\site-packages\\ipykernel_launcher.py:2: FutureWarning: by argument to sort_index is deprecated, please use .sort_values(by=...)\n",
      "  \n"
     ]
    }
   ],
   "source": [
    "def get_top1000(group):\n",
    "    return group.sort_index(by='births',ascending=False)[:1000]\n",
    "grouped=names.groupby(['year','sex'])\n",
    "top1000=grouped.apply(get_top1000)\n",
    "top1000.reset_index(inplace=True,drop=True)"
   ]
  },
  {
   "cell_type": "code",
   "execution_count": 160,
   "metadata": {},
   "outputs": [],
   "source": [
    "girls1000=top1000[top1000.sex=='F']\n",
    "boys1000=top1000[top1000.sex=='M']"
   ]
  },
  {
   "cell_type": "code",
   "execution_count": 22,
   "metadata": {},
   "outputs": [
    {
     "data": {
      "text/plain": [
       "{0: 'George Washington',\n",
       " 1: 'John Adams,Thomas Jefferson',\n",
       " 2: 'James Madison',\n",
       " 3: 'James Monroe',\n",
       " 4: 'John Quincy Adams',\n",
       " 5: 'Andrew Jackson',\n",
       " 6: 'Martin Van Buren',\n",
       " 7: 'William Henry Harrison',\n",
       " 8: 'John Tyler',\n",
       " 9: 'James K. Polk,Zachary Taylor',\n",
       " 10: 'Millard Fillmore',\n",
       " 11: 'Franklin Pierce',\n",
       " 12: 'James Buchanan',\n",
       " 13: 'Abraham Lincoln',\n",
       " 14: 'Andrew Johnson',\n",
       " 15: 'Ulysses S. Grant',\n",
       " 16: 'Rutherford B. Hayes',\n",
       " 17: 'James A. Garfield',\n",
       " 18: 'Chester A. Arthur',\n",
       " 19: 'Grover Cleveland',\n",
       " 20: 'Benjamin Harrison',\n",
       " 21: 'Grover Cleveland',\n",
       " 22: 'William McKinley',\n",
       " 23: 'Theodore Roosevelt',\n",
       " 24: 'William Howard Taft',\n",
       " 25: 'Woodrow Wilson',\n",
       " 26: 'Warren G. Harding',\n",
       " 27: 'Calvin Coolidge',\n",
       " 28: 'Herbert Hoover',\n",
       " 29: 'Franklin D. Roosevelt',\n",
       " 30: 'Harry S. Truman',\n",
       " 31: 'Dwight D. Eisenhower',\n",
       " 32: 'John F. Kennedy',\n",
       " 33: 'Lyndon B. Johnson',\n",
       " 34: 'Richard Nixon',\n",
       " 35: 'Gerald Ford',\n",
       " 36: 'Jimmy Carter',\n",
       " 37: 'Ronald Reagan',\n",
       " 38: 'George H. W. Bush',\n",
       " 39: 'Bill Clinton',\n",
       " 40: 'George W. Bush',\n",
       " 41: 'Barack Obama',\n",
       " 42: 'Donald Trump'}"
      ]
     },
     "execution_count": 22,
     "metadata": {},
     "output_type": "execute_result"
    }
   ],
   "source": [
    "number_president=[]\n",
    "for i in range(len(president_name)):\n",
    "    number_president.append(i)\n",
    "number_president\n",
    "president_labeled=dict(zip(number_president,president_name))\n",
    "president_labeled"
   ]
  },
  {
   "cell_type": "code",
   "execution_count": 46,
   "metadata": {},
   "outputs": [
    {
     "data": {
      "text/plain": [
       "['George', 'Washington']"
      ]
     },
     "execution_count": 46,
     "metadata": {},
     "output_type": "execute_result"
    }
   ],
   "source": [
    "president_labeled[0].split()"
   ]
  },
  {
   "cell_type": "code",
   "execution_count": 89,
   "metadata": {},
   "outputs": [
    {
     "data": {
      "text/plain": [
       "'George Washington'"
      ]
     },
     "execution_count": 89,
     "metadata": {},
     "output_type": "execute_result"
    }
   ],
   "source": [
    "president_name[0]"
   ]
  },
  {
   "cell_type": "code",
   "execution_count": 90,
   "metadata": {},
   "outputs": [],
   "source": [
    "president_name_values=president_labeled.values()\n",
    "pnv_splited=[]\n",
    "for i in range(len(president_name)):\n",
    "    pnv_splited.append(president_name[i].split())"
   ]
  },
  {
   "cell_type": "code",
   "execution_count": 95,
   "metadata": {},
   "outputs": [],
   "source": [
    "letter_name=[]\n",
    "for i in range(len(pnv_splited)):\n",
    "    for j in range(len(pnv_splited[i])):\n",
    "        letter_name.append(pnv_splited[i][j])"
   ]
  },
  {
   "cell_type": "code",
   "execution_count": 66,
   "metadata": {},
   "outputs": [],
   "source": [
    "boysname=boys1000['name']\n",
    "boys1000name=boysname.values"
   ]
  },
  {
   "cell_type": "code",
   "execution_count": 109,
   "metadata": {},
   "outputs": [
    {
     "data": {
      "text/plain": [
       "True"
      ]
     },
     "execution_count": 109,
     "metadata": {},
     "output_type": "execute_result"
    }
   ],
   "source": [
    "'George' in president_labeled[0]"
   ]
  },
  {
   "cell_type": "code",
   "execution_count": 127,
   "metadata": {},
   "outputs": [],
   "source": [
    "def presidentnametrend(letter):\n",
    "    if letter in boys1000name:\n",
    "        plt.plot(boys1000[boys1000.name==letter].year,\n",
    "                 boys1000[boys1000.name==letter].births)"
   ]
  },
  {
   "cell_type": "code",
   "execution_count": 129,
   "metadata": {},
   "outputs": [
    {
     "data": {
      "image/png": "[encoded data removed]",
      "text/plain": [
       "<Figure size 432x288 with 1 Axes>"
      ]
     },
     "metadata": {
      "needs_background": "light"
     },
     "output_type": "display_data"
    }
   ],
   "source": [
    "presidentnametrend('George')"
   ]
  },
  {
   "cell_type": "code",
   "execution_count": 126,
   "metadata": {},
   "outputs": [
    {
     "name": "stdout",
     "output_type": "stream",
     "text": [
      "George 11021.900763358779\n",
      "Washington 24.384615384615383\n",
      "John 38475.71755725191\n",
      "Jefferson 144.54198473282443\n",
      "James 38547.53435114504\n",
      "Madison 66.35135135135135\n",
      "James 38547.53435114504\n",
      "Monroe 149.29347826086956\n",
      "John 38475.71755725191\n",
      "Quincy 216.10752688172042\n",
      "Adams 7.0\n",
      "Andrew 9211.053435114503\n",
      "Jackson 1107.6259541984732\n",
      "Martin 2264.671755725191\n",
      "Van 204.96610169491527\n",
      "William 30431.954198473282\n",
      "Henry 4687.526717557252\n",
      "Harrison 409.23664122137404\n",
      "John 38475.71755725191\n",
      "Tyler 7613.295774647887\n",
      "James 38547.53435114504\n",
      "Taylor 798.7709923664122\n",
      "Millard 172.80434782608697\n",
      "Franklin 1000.0305343511451\n",
      "Pierce 127.62820512820512\n",
      "James 38547.53435114504\n",
      "Abraham 555.0687022900763\n",
      "Lincoln 163.68217054263565\n",
      "Andrew 9211.053435114503\n",
      "Johnson 39.29032258064516\n",
      "Ulysses 119.48387096774194\n",
      "Grant 804.3816793893129\n",
      "Rutherford 6.75\n",
      "Hayes 29.09090909090909\n",
      "James 38547.53435114504\n",
      "Garfield 58.605633802816904\n",
      "Chester 1022.7931034482758\n",
      "Arthur 3962.5190839694656\n",
      "Grover 271.5578947368421\n",
      "Cleveland 185.86238532110093\n",
      "Benjamin 4878.358778625954\n",
      "Harrison 409.23664122137404\n",
      "Grover 271.5578947368421\n",
      "Cleveland 185.86238532110093\n",
      "William 30431.954198473282\n",
      "Theodore 1620.4274809160306\n",
      "Roosevelt 362.8989898989899\n",
      "William 30431.954198473282\n",
      "Howard 2620.7175572519086\n",
      "Taft 36.666666666666664\n",
      "Woodrow 470.7564102564103\n",
      "Wilson 324.8854961832061\n",
      "Warren 1303.854961832061\n",
      "Harding 154.25\n",
      "Calvin 1405.0076335877864\n",
      "Coolidge 79.5\n",
      "Herbert 1853.467213114754\n",
      "Hoover 132.6\n",
      "Franklin 1000.0305343511451\n",
      "Roosevelt 362.8989898989899\n",
      "Harry 3193.687022900763\n",
      "Truman 118.62790697674419\n",
      "Dwight 609.96\n",
      "John 38475.71755725191\n",
      "Kennedy 149.14285714285714\n",
      "Lyndon 115.62162162162163\n",
      "Johnson 39.29032258064516\n",
      "Richard 19410.190839694656\n",
      "Gerald 3395.5419847328244\n",
      "Ford 37.49090909090909\n",
      "Jimmy 2292.7398373983738\n",
      "Carter 631.0551181102362\n",
      "Ronald 8442.433070866142\n",
      "Reagan 218.0\n",
      "George 11021.900763358779\n",
      "Bush 7.0\n",
      "Bill 1389.5350877192982\n",
      "Clinton 726.1679389312977\n",
      "George 11021.900763358779\n",
      "Bush 7.0\n",
      "Donald 10729.389312977099\n"
     ]
    }
   ],
   "source": [
    "for i in range(len(letter_name)):\n",
    "    if letter_name[i] in boys1000name:\n",
    "        print(letter_name[i],boys1000[boys1000.name==letter_name[i]].births.mean())"
   ]
  },
  {
   "cell_type": "code",
   "execution_count": null,
   "metadata": {},
   "outputs": [],
   "source": [
    "-각 연도별 가장 인기 있는 이름을 분석"
   ]
  },
  {
   "cell_type": "code",
   "execution_count": 143,
   "metadata": {},
   "outputs": [
    {
     "data": {
      "text/plain": [
       "'Isabella'"
      ]
     },
     "execution_count": 143,
     "metadata": {},
     "output_type": "execute_result"
    }
   ],
   "source": [
    "names[names['year']==2010].name.values[0]"
   ]
  },
  {
   "cell_type": "code",
   "execution_count": 149,
   "metadata": {},
   "outputs": [
    {
     "data": {
      "text/plain": [
       "21875"
      ]
     },
     "execution_count": 149,
     "metadata": {},
     "output_type": "execute_result"
    }
   ],
   "source": [
    "boys1000[boys1000['year']==2010].births.values[0]"
   ]
  },
  {
   "cell_type": "code",
   "execution_count": 151,
   "metadata": {},
   "outputs": [
    {
     "name": "stdout",
     "output_type": "stream",
     "text": [
      "John 9655 1880\n",
      "John 8769 1881\n",
      "John 9557 1882\n",
      "John 8894 1883\n",
      "John 9387 1884\n",
      "John 8756 1885\n",
      "John 9026 1886\n",
      "John 8109 1887\n",
      "John 9248 1888\n",
      "John 8548 1889\n",
      "John 8502 1890\n",
      "John 7681 1891\n",
      "John 9039 1892\n",
      "John 8049 1893\n",
      "John 8238 1894\n",
      "John 8321 1895\n",
      "John 8139 1896\n",
      "John 7550 1897\n",
      "John 8160 1898\n",
      "John 6990 1899\n",
      "John 9834 1900\n",
      "John 6899 1901\n",
      "John 7908 1902\n",
      "John 7609 1903\n",
      "John 8108 1904\n",
      "John 8059 1905\n",
      "John 8263 1906\n",
      "John 8983 1907\n",
      "John 9342 1908\n",
      "John 9591 1909\n",
      "John 11451 1910\n",
      "John 13445 1911\n",
      "John 24586 1912\n",
      "John 29318 1913\n",
      "John 37942 1914\n",
      "John 47579 1915\n",
      "John 50046 1916\n",
      "John 51853 1917\n",
      "John 56562 1918\n",
      "John 53528 1919\n",
      "John 56911 1920\n",
      "John 58227 1921\n",
      "John 57276 1922\n",
      "John 57469 1923\n",
      "Robert 60804 1924\n",
      "Robert 60885 1925\n",
      "Robert 61124 1926\n",
      "Robert 61638 1927\n",
      "Robert 60649 1928\n",
      "Robert 59798 1929\n",
      "Robert 62108 1930\n",
      "Robert 60492 1931\n",
      "Robert 59224 1932\n",
      "Robert 54168 1933\n",
      "Robert 55811 1934\n",
      "Robert 56501 1935\n",
      "Robert 58462 1936\n",
      "Robert 61799 1937\n",
      "Robert 62246 1938\n",
      "Robert 59623 1939\n",
      "James 62454 1940\n",
      "James 66696 1941\n",
      "James 77155 1942\n",
      "James 80231 1943\n",
      "James 76935 1944\n",
      "James 74475 1945\n",
      "James 87382 1946\n",
      "James 94601 1947\n",
      "James 88542 1948\n",
      "James 86762 1949\n",
      "James 86094 1950\n",
      "James 87046 1951\n",
      "James 87060 1952\n",
      "Robert 86081 1953\n",
      "Michael 88462 1954\n",
      "Michael 88285 1955\n",
      "Michael 90587 1956\n",
      "Michael 92700 1957\n",
      "Michael 90468 1958\n",
      "Michael 85277 1959\n",
      "David 85917 1960\n",
      "Michael 86898 1961\n",
      "Michael 85022 1962\n",
      "Michael 83779 1963\n",
      "Michael 82654 1964\n",
      "Michael 81041 1965\n",
      "Michael 79993 1966\n",
      "Michael 82447 1967\n",
      "Michael 82026 1968\n",
      "Michael 85216 1969\n",
      "Michael 85298 1970\n",
      "Michael 77579 1971\n",
      "Michael 71412 1972\n",
      "Michael 67836 1973\n",
      "Michael 67554 1974\n",
      "Michael 68433 1975\n",
      "Michael 66955 1976\n",
      "Michael 67590 1977\n",
      "Michael 67113 1978\n",
      "Michael 67712 1979\n",
      "Michael 68619 1980\n",
      "Michael 68713 1981\n",
      "Michael 68151 1982\n",
      "Michael 67949 1983\n",
      "Michael 67686 1984\n",
      "Michael 64862 1985\n",
      "Michael 64164 1986\n",
      "Michael 63621 1987\n",
      "Michael 64092 1988\n",
      "Michael 65384 1989\n",
      "Michael 65268 1990\n",
      "Michael 60780 1991\n",
      "Michael 54364 1992\n",
      "Michael 49551 1993\n",
      "Michael 44461 1994\n",
      "Michael 41396 1995\n",
      "Michael 38359 1996\n",
      "Michael 37542 1997\n",
      "Michael 36604 1998\n",
      "Jacob 35335 1999\n",
      "Jacob 34454 2000\n",
      "Jacob 32509 2001\n",
      "Jacob 30541 2002\n",
      "Jacob 29601 2003\n",
      "Jacob 27854 2004\n",
      "Jacob 25794 2005\n",
      "Jacob 24797 2006\n",
      "Jacob 24216 2007\n",
      "Jacob 22507 2008\n",
      "Jacob 21036 2009\n",
      "Jacob 21875 2010\n"
     ]
    }
   ],
   "source": [
    "for i in range(1880,2011):\n",
    "    print(boys1000[boys1000['year']==i].name.values[0],\n",
    "          boys1000[boys1000['year']==i].births.values[0],i)"
   ]
  },
  {
   "cell_type": "code",
   "execution_count": 153,
   "metadata": {},
   "outputs": [
    {
     "name": "stdout",
     "output_type": "stream",
     "text": [
      "Mary 7065 1880\n",
      "Mary 6919 1881\n",
      "Mary 8149 1882\n",
      "Mary 8012 1883\n",
      "Mary 9217 1884\n",
      "Mary 9128 1885\n",
      "Mary 9891 1886\n",
      "Mary 9888 1887\n",
      "Mary 11754 1888\n",
      "Mary 11649 1889\n",
      "Mary 12078 1890\n",
      "Mary 11704 1891\n",
      "Mary 13174 1892\n",
      "Mary 12784 1893\n",
      "Mary 13151 1894\n",
      "Mary 13446 1895\n",
      "Mary 13811 1896\n",
      "Mary 13412 1897\n",
      "Mary 14406 1898\n",
      "Mary 13172 1899\n",
      "Mary 16710 1900\n",
      "Mary 13137 1901\n",
      "Mary 14485 1902\n",
      "Mary 14275 1903\n",
      "Mary 14962 1904\n",
      "Mary 16067 1905\n",
      "Mary 16371 1906\n",
      "Mary 17579 1907\n",
      "Mary 18664 1908\n",
      "Mary 19256 1909\n",
      "Mary 22840 1910\n",
      "Mary 24385 1911\n",
      "Mary 32295 1912\n",
      "Mary 36631 1913\n",
      "Mary 45341 1914\n",
      "Mary 58184 1915\n",
      "Mary 61428 1916\n",
      "Mary 64270 1917\n",
      "Mary 67375 1918\n",
      "Mary 65839 1919\n",
      "Mary 70974 1920\n",
      "Mary 73980 1921\n",
      "Mary 72156 1922\n",
      "Mary 71636 1923\n",
      "Mary 73505 1924\n",
      "Mary 70594 1925\n",
      "Mary 67830 1926\n",
      "Mary 70594 1927\n",
      "Mary 66867 1928\n",
      "Mary 63502 1929\n",
      "Mary 64110 1930\n",
      "Mary 60303 1931\n",
      "Mary 59859 1932\n",
      "Mary 55477 1933\n",
      "Mary 56898 1934\n",
      "Mary 55055 1935\n",
      "Mary 54356 1936\n",
      "Mary 55635 1937\n",
      "Mary 56199 1938\n",
      "Mary 54903 1939\n",
      "Mary 56203 1940\n",
      "Mary 58025 1941\n",
      "Mary 63236 1942\n",
      "Mary 66156 1943\n",
      "Mary 62476 1944\n",
      "Mary 59285 1945\n",
      "Mary 67437 1946\n",
      "Linda 99651 1947\n",
      "Linda 96185 1948\n",
      "Linda 90952 1949\n",
      "Linda 80408 1950\n",
      "Linda 73858 1951\n",
      "Linda 67071 1952\n",
      "Mary 64325 1953\n",
      "Mary 67988 1954\n",
      "Mary 63159 1955\n",
      "Mary 61752 1956\n",
      "Mary 61090 1957\n",
      "Mary 55832 1958\n",
      "Mary 54469 1959\n",
      "Mary 51477 1960\n",
      "Mary 47651 1961\n",
      "Lisa 46090 1962\n",
      "Lisa 56030 1963\n",
      "Lisa 54271 1964\n",
      "Lisa 60265 1965\n",
      "Lisa 56899 1966\n",
      "Lisa 52428 1967\n",
      "Lisa 49523 1968\n",
      "Lisa 45036 1969\n",
      "Jennifer 46151 1970\n",
      "Jennifer 56779 1971\n",
      "Jennifer 63603 1972\n",
      "Jennifer 62447 1973\n",
      "Jennifer 63098 1974\n",
      "Jennifer 58176 1975\n",
      "Jennifer 59468 1976\n",
      "Jennifer 58951 1977\n",
      "Jennifer 56307 1978\n",
      "Jennifer 56709 1979\n",
      "Jennifer 58375 1980\n",
      "Jennifer 57029 1981\n",
      "Jennifer 57096 1982\n",
      "Jennifer 54325 1983\n",
      "Jennifer 50546 1984\n",
      "Jessica 48340 1985\n",
      "Jessica 52643 1986\n",
      "Jessica 55983 1987\n",
      "Jessica 51514 1988\n",
      "Jessica 47888 1989\n",
      "Jessica 46459 1990\n",
      "Ashley 43482 1991\n",
      "Ashley 38449 1992\n",
      "Jessica 34973 1993\n",
      "Jessica 32111 1994\n",
      "Jessica 27931 1995\n",
      "Emily 25144 1996\n",
      "Emily 25730 1997\n",
      "Emily 26174 1998\n",
      "Emily 26534 1999\n",
      "Emily 25949 2000\n",
      "Emily 25048 2001\n",
      "Emily 24450 2002\n",
      "Emily 25678 2003\n",
      "Emily 25009 2004\n",
      "Emily 23907 2005\n",
      "Emily 21365 2006\n",
      "Emily 19322 2007\n",
      "Emma 18765 2008\n",
      "Isabella 22222 2009\n",
      "Isabella 22731 2010\n"
     ]
    }
   ],
   "source": [
    "for i in range(1880,2011):\n",
    "    print(girls1000[girls1000['year']==i].name.values[0],\n",
    "          girls1000[girls1000['year']==i].births.values[0],i)"
   ]
  },
  {
   "cell_type": "code",
   "execution_count": null,
   "metadata": {},
   "outputs": [],
   "source": [
    "-john,sophia,michael,daniel,carter 순위조사"
   ]
  },
  {
   "cell_type": "code",
   "execution_count": 163,
   "metadata": {},
   "outputs": [
    {
     "data": {
      "text/plain": [
       "[<matplotlib.lines.Line2D at 0x1649963b448>]"
      ]
     },
     "execution_count": 163,
     "metadata": {},
     "output_type": "execute_result"
    },
    {
     "data": {
      "image/png": "[encoded data removed]",
      "text/plain": [
       "<Figure size 432x288 with 1 Axes>"
      ]
     },
     "metadata": {
      "needs_background": "light"
     },
     "output_type": "display_data"
    }
   ],
   "source": [
    "plt.plot(boys1000[boys1000['name']=='John'].year,boys1000[boys1000['name']=='John'].births)"
   ]
  },
  {
   "cell_type": "code",
   "execution_count": 165,
   "metadata": {},
   "outputs": [
    {
     "data": {
      "text/plain": [
       "[<matplotlib.lines.Line2D at 0x1648f267188>]"
      ]
     },
     "execution_count": 165,
     "metadata": {},
     "output_type": "execute_result"
    },
    {
     "data": {
      "image/png": "[encoded data removed]",
      "text/plain": [
       "<Figure size 432x288 with 1 Axes>"
      ]
     },
     "metadata": {
      "needs_background": "light"
     },
     "output_type": "display_data"
    }
   ],
   "source": [
    "plt.plot(girls1000[girls1000['name']=='Sophia'].year,girls1000[girls1000['name']=='Sophia'].births)"
   ]
  },
  {
   "cell_type": "code",
   "execution_count": 166,
   "metadata": {},
   "outputs": [
    {
     "data": {
      "text/plain": [
       "[<matplotlib.lines.Line2D at 0x1648f2a64c8>]"
      ]
     },
     "execution_count": 166,
     "metadata": {},
     "output_type": "execute_result"
    },
    {
     "data": {
      "image/png": "[encoded data removed]",
      "text/plain": [
       "<Figure size 432x288 with 1 Axes>"
      ]
     },
     "metadata": {
      "needs_background": "light"
     },
     "output_type": "display_data"
    }
   ],
   "source": [
    "plt.plot(boys1000[boys1000['name']=='Michael'].year,boys1000[boys1000['name']=='Michael'].births)"
   ]
  },
  {
   "cell_type": "code",
   "execution_count": 167,
   "metadata": {},
   "outputs": [
    {
     "data": {
      "text/plain": [
       "942        9655\n",
       "2880       8769\n",
       "4877       9557\n",
       "6877       8894\n",
       "8877       9387\n",
       "          ...  \n",
       "252895    15140\n",
       "254895    14405\n",
       "256896    13273\n",
       "258903    12048\n",
       "260902    11424\n",
       "Name: births, Length: 131, dtype: int64"
      ]
     },
     "execution_count": 167,
     "metadata": {},
     "output_type": "execute_result"
    }
   ],
   "source": [
    "boys1000[boys1000['name']=='John'].births"
   ]
  },
  {
   "cell_type": "code",
   "execution_count": null,
   "metadata": {},
   "outputs": [],
   "source": [
    "lux2 = dict(zip(check_order, [490, 334, 550, 18.72]))    # zip 함수로\n"
   ]
  },
  {
   "cell_type": "code",
   "execution_count": 185,
   "metadata": {},
   "outputs": [],
   "source": [
    "check_order=['John','Sophia','Michael','Daniel','Carter']\n",
    "John_births=list(boys1000[boys1000['name']=='John'].births)\n",
    "Sophia_births=list(girls1000[girls1000['name']=='Sophia'].births)\n",
    "Michael_births=list(boys1000[boys1000['name']=='Michael'].births)\n",
    "Daniel_births=list(boys1000[boys1000['name']=='Daniel'].births)\n",
    "Carter_births=list(boys1000[boys1000['name']=='Carter'].births)"
   ]
  },
  {
   "cell_type": "code",
   "execution_count": 189,
   "metadata": {},
   "outputs": [
    {
     "data": {
      "text/html": [
       "<div>\n",
       "<style scoped>\n",
       "    .dataframe tbody tr th:only-of-type {\n",
       "        vertical-align: middle;\n",
       "    }\n",
       "\n",
       "    .dataframe tbody tr th {\n",
       "        vertical-align: top;\n",
       "    }\n",
       "\n",
       "    .dataframe thead th {\n",
       "        text-align: right;\n",
       "    }\n",
       "</style>\n",
       "<table border=\"1\" class=\"dataframe\">\n",
       "  <thead>\n",
       "    <tr style=\"text-align: right;\">\n",
       "      <th>name</th>\n",
       "      <th>Aaden</th>\n",
       "      <th>Aaliyah</th>\n",
       "      <th>Aarav</th>\n",
       "      <th>Aaron</th>\n",
       "      <th>Aarush</th>\n",
       "      <th>Ab</th>\n",
       "      <th>Abagail</th>\n",
       "      <th>Abb</th>\n",
       "      <th>Abbey</th>\n",
       "      <th>Abbie</th>\n",
       "      <th>...</th>\n",
       "      <th>Zoa</th>\n",
       "      <th>Zoe</th>\n",
       "      <th>Zoey</th>\n",
       "      <th>Zoie</th>\n",
       "      <th>Zola</th>\n",
       "      <th>Zollie</th>\n",
       "      <th>Zona</th>\n",
       "      <th>Zora</th>\n",
       "      <th>Zula</th>\n",
       "      <th>Zuri</th>\n",
       "    </tr>\n",
       "    <tr>\n",
       "      <th>year</th>\n",
       "      <th></th>\n",
       "      <th></th>\n",
       "      <th></th>\n",
       "      <th></th>\n",
       "      <th></th>\n",
       "      <th></th>\n",
       "      <th></th>\n",
       "      <th></th>\n",
       "      <th></th>\n",
       "      <th></th>\n",
       "      <th></th>\n",
       "      <th></th>\n",
       "      <th></th>\n",
       "      <th></th>\n",
       "      <th></th>\n",
       "      <th></th>\n",
       "      <th></th>\n",
       "      <th></th>\n",
       "      <th></th>\n",
       "      <th></th>\n",
       "      <th></th>\n",
       "    </tr>\n",
       "  </thead>\n",
       "  <tbody>\n",
       "    <tr>\n",
       "      <td>1880</td>\n",
       "      <td>NaN</td>\n",
       "      <td>NaN</td>\n",
       "      <td>NaN</td>\n",
       "      <td>102.0</td>\n",
       "      <td>NaN</td>\n",
       "      <td>NaN</td>\n",
       "      <td>NaN</td>\n",
       "      <td>NaN</td>\n",
       "      <td>NaN</td>\n",
       "      <td>71.0</td>\n",
       "      <td>...</td>\n",
       "      <td>8.0</td>\n",
       "      <td>23.0</td>\n",
       "      <td>NaN</td>\n",
       "      <td>NaN</td>\n",
       "      <td>7.0</td>\n",
       "      <td>NaN</td>\n",
       "      <td>8.0</td>\n",
       "      <td>28.0</td>\n",
       "      <td>27.0</td>\n",
       "      <td>NaN</td>\n",
       "    </tr>\n",
       "    <tr>\n",
       "      <td>1881</td>\n",
       "      <td>NaN</td>\n",
       "      <td>NaN</td>\n",
       "      <td>NaN</td>\n",
       "      <td>94.0</td>\n",
       "      <td>NaN</td>\n",
       "      <td>NaN</td>\n",
       "      <td>NaN</td>\n",
       "      <td>NaN</td>\n",
       "      <td>NaN</td>\n",
       "      <td>81.0</td>\n",
       "      <td>...</td>\n",
       "      <td>NaN</td>\n",
       "      <td>22.0</td>\n",
       "      <td>NaN</td>\n",
       "      <td>NaN</td>\n",
       "      <td>10.0</td>\n",
       "      <td>NaN</td>\n",
       "      <td>9.0</td>\n",
       "      <td>21.0</td>\n",
       "      <td>27.0</td>\n",
       "      <td>NaN</td>\n",
       "    </tr>\n",
       "    <tr>\n",
       "      <td>1882</td>\n",
       "      <td>NaN</td>\n",
       "      <td>NaN</td>\n",
       "      <td>NaN</td>\n",
       "      <td>85.0</td>\n",
       "      <td>NaN</td>\n",
       "      <td>NaN</td>\n",
       "      <td>NaN</td>\n",
       "      <td>NaN</td>\n",
       "      <td>NaN</td>\n",
       "      <td>80.0</td>\n",
       "      <td>...</td>\n",
       "      <td>8.0</td>\n",
       "      <td>25.0</td>\n",
       "      <td>NaN</td>\n",
       "      <td>NaN</td>\n",
       "      <td>9.0</td>\n",
       "      <td>NaN</td>\n",
       "      <td>17.0</td>\n",
       "      <td>32.0</td>\n",
       "      <td>21.0</td>\n",
       "      <td>NaN</td>\n",
       "    </tr>\n",
       "    <tr>\n",
       "      <td>1883</td>\n",
       "      <td>NaN</td>\n",
       "      <td>NaN</td>\n",
       "      <td>NaN</td>\n",
       "      <td>105.0</td>\n",
       "      <td>NaN</td>\n",
       "      <td>NaN</td>\n",
       "      <td>NaN</td>\n",
       "      <td>NaN</td>\n",
       "      <td>NaN</td>\n",
       "      <td>79.0</td>\n",
       "      <td>...</td>\n",
       "      <td>NaN</td>\n",
       "      <td>23.0</td>\n",
       "      <td>NaN</td>\n",
       "      <td>NaN</td>\n",
       "      <td>10.0</td>\n",
       "      <td>NaN</td>\n",
       "      <td>11.0</td>\n",
       "      <td>35.0</td>\n",
       "      <td>25.0</td>\n",
       "      <td>NaN</td>\n",
       "    </tr>\n",
       "    <tr>\n",
       "      <td>1884</td>\n",
       "      <td>NaN</td>\n",
       "      <td>NaN</td>\n",
       "      <td>NaN</td>\n",
       "      <td>97.0</td>\n",
       "      <td>NaN</td>\n",
       "      <td>NaN</td>\n",
       "      <td>NaN</td>\n",
       "      <td>NaN</td>\n",
       "      <td>NaN</td>\n",
       "      <td>98.0</td>\n",
       "      <td>...</td>\n",
       "      <td>13.0</td>\n",
       "      <td>31.0</td>\n",
       "      <td>NaN</td>\n",
       "      <td>NaN</td>\n",
       "      <td>14.0</td>\n",
       "      <td>6.0</td>\n",
       "      <td>8.0</td>\n",
       "      <td>58.0</td>\n",
       "      <td>27.0</td>\n",
       "      <td>NaN</td>\n",
       "    </tr>\n",
       "    <tr>\n",
       "      <td>...</td>\n",
       "      <td>...</td>\n",
       "      <td>...</td>\n",
       "      <td>...</td>\n",
       "      <td>...</td>\n",
       "      <td>...</td>\n",
       "      <td>...</td>\n",
       "      <td>...</td>\n",
       "      <td>...</td>\n",
       "      <td>...</td>\n",
       "      <td>...</td>\n",
       "      <td>...</td>\n",
       "      <td>...</td>\n",
       "      <td>...</td>\n",
       "      <td>...</td>\n",
       "      <td>...</td>\n",
       "      <td>...</td>\n",
       "      <td>...</td>\n",
       "      <td>...</td>\n",
       "      <td>...</td>\n",
       "      <td>...</td>\n",
       "      <td>...</td>\n",
       "    </tr>\n",
       "    <tr>\n",
       "      <td>2006</td>\n",
       "      <td>NaN</td>\n",
       "      <td>3737.0</td>\n",
       "      <td>NaN</td>\n",
       "      <td>8279.0</td>\n",
       "      <td>NaN</td>\n",
       "      <td>NaN</td>\n",
       "      <td>297.0</td>\n",
       "      <td>NaN</td>\n",
       "      <td>404.0</td>\n",
       "      <td>440.0</td>\n",
       "      <td>...</td>\n",
       "      <td>NaN</td>\n",
       "      <td>5145.0</td>\n",
       "      <td>2839.0</td>\n",
       "      <td>530.0</td>\n",
       "      <td>NaN</td>\n",
       "      <td>NaN</td>\n",
       "      <td>NaN</td>\n",
       "      <td>NaN</td>\n",
       "      <td>NaN</td>\n",
       "      <td>NaN</td>\n",
       "    </tr>\n",
       "    <tr>\n",
       "      <td>2007</td>\n",
       "      <td>NaN</td>\n",
       "      <td>3941.0</td>\n",
       "      <td>NaN</td>\n",
       "      <td>8914.0</td>\n",
       "      <td>NaN</td>\n",
       "      <td>NaN</td>\n",
       "      <td>313.0</td>\n",
       "      <td>NaN</td>\n",
       "      <td>349.0</td>\n",
       "      <td>468.0</td>\n",
       "      <td>...</td>\n",
       "      <td>NaN</td>\n",
       "      <td>4925.0</td>\n",
       "      <td>3028.0</td>\n",
       "      <td>526.0</td>\n",
       "      <td>NaN</td>\n",
       "      <td>NaN</td>\n",
       "      <td>NaN</td>\n",
       "      <td>NaN</td>\n",
       "      <td>NaN</td>\n",
       "      <td>NaN</td>\n",
       "    </tr>\n",
       "    <tr>\n",
       "      <td>2008</td>\n",
       "      <td>955.0</td>\n",
       "      <td>4028.0</td>\n",
       "      <td>219.0</td>\n",
       "      <td>8511.0</td>\n",
       "      <td>NaN</td>\n",
       "      <td>NaN</td>\n",
       "      <td>317.0</td>\n",
       "      <td>NaN</td>\n",
       "      <td>344.0</td>\n",
       "      <td>400.0</td>\n",
       "      <td>...</td>\n",
       "      <td>NaN</td>\n",
       "      <td>4764.0</td>\n",
       "      <td>3438.0</td>\n",
       "      <td>492.0</td>\n",
       "      <td>NaN</td>\n",
       "      <td>NaN</td>\n",
       "      <td>NaN</td>\n",
       "      <td>NaN</td>\n",
       "      <td>NaN</td>\n",
       "      <td>NaN</td>\n",
       "    </tr>\n",
       "    <tr>\n",
       "      <td>2009</td>\n",
       "      <td>1265.0</td>\n",
       "      <td>4352.0</td>\n",
       "      <td>270.0</td>\n",
       "      <td>7936.0</td>\n",
       "      <td>NaN</td>\n",
       "      <td>NaN</td>\n",
       "      <td>296.0</td>\n",
       "      <td>NaN</td>\n",
       "      <td>307.0</td>\n",
       "      <td>369.0</td>\n",
       "      <td>...</td>\n",
       "      <td>NaN</td>\n",
       "      <td>5120.0</td>\n",
       "      <td>3981.0</td>\n",
       "      <td>496.0</td>\n",
       "      <td>NaN</td>\n",
       "      <td>NaN</td>\n",
       "      <td>NaN</td>\n",
       "      <td>NaN</td>\n",
       "      <td>NaN</td>\n",
       "      <td>NaN</td>\n",
       "    </tr>\n",
       "    <tr>\n",
       "      <td>2010</td>\n",
       "      <td>448.0</td>\n",
       "      <td>4628.0</td>\n",
       "      <td>438.0</td>\n",
       "      <td>7374.0</td>\n",
       "      <td>226.0</td>\n",
       "      <td>NaN</td>\n",
       "      <td>277.0</td>\n",
       "      <td>NaN</td>\n",
       "      <td>295.0</td>\n",
       "      <td>324.0</td>\n",
       "      <td>...</td>\n",
       "      <td>NaN</td>\n",
       "      <td>6200.0</td>\n",
       "      <td>5164.0</td>\n",
       "      <td>504.0</td>\n",
       "      <td>NaN</td>\n",
       "      <td>NaN</td>\n",
       "      <td>NaN</td>\n",
       "      <td>NaN</td>\n",
       "      <td>NaN</td>\n",
       "      <td>258.0</td>\n",
       "    </tr>\n",
       "  </tbody>\n",
       "</table>\n",
       "<p>131 rows × 6868 columns</p>\n",
       "</div>"
      ],
      "text/plain": [
       "name   Aaden  Aaliyah  Aarav   Aaron  Aarush  Ab  Abagail  Abb  Abbey  Abbie  \\\n",
       "year                                                                           \n",
       "1880     NaN      NaN    NaN   102.0     NaN NaN      NaN  NaN    NaN   71.0   \n",
       "1881     NaN      NaN    NaN    94.0     NaN NaN      NaN  NaN    NaN   81.0   \n",
       "1882     NaN      NaN    NaN    85.0     NaN NaN      NaN  NaN    NaN   80.0   \n",
       "1883     NaN      NaN    NaN   105.0     NaN NaN      NaN  NaN    NaN   79.0   \n",
       "1884     NaN      NaN    NaN    97.0     NaN NaN      NaN  NaN    NaN   98.0   \n",
       "...      ...      ...    ...     ...     ...  ..      ...  ...    ...    ...   \n",
       "2006     NaN   3737.0    NaN  8279.0     NaN NaN    297.0  NaN  404.0  440.0   \n",
       "2007     NaN   3941.0    NaN  8914.0     NaN NaN    313.0  NaN  349.0  468.0   \n",
       "2008   955.0   4028.0  219.0  8511.0     NaN NaN    317.0  NaN  344.0  400.0   \n",
       "2009  1265.0   4352.0  270.0  7936.0     NaN NaN    296.0  NaN  307.0  369.0   \n",
       "2010   448.0   4628.0  438.0  7374.0   226.0 NaN    277.0  NaN  295.0  324.0   \n",
       "\n",
       "name  ...   Zoa     Zoe    Zoey   Zoie  Zola  Zollie  Zona  Zora  Zula   Zuri  \n",
       "year  ...                                                                      \n",
       "1880  ...   8.0    23.0     NaN    NaN   7.0     NaN   8.0  28.0  27.0    NaN  \n",
       "1881  ...   NaN    22.0     NaN    NaN  10.0     NaN   9.0  21.0  27.0    NaN  \n",
       "1882  ...   8.0    25.0     NaN    NaN   9.0     NaN  17.0  32.0  21.0    NaN  \n",
       "1883  ...   NaN    23.0     NaN    NaN  10.0     NaN  11.0  35.0  25.0    NaN  \n",
       "1884  ...  13.0    31.0     NaN    NaN  14.0     6.0   8.0  58.0  27.0    NaN  \n",
       "...   ...   ...     ...     ...    ...   ...     ...   ...   ...   ...    ...  \n",
       "2006  ...   NaN  5145.0  2839.0  530.0   NaN     NaN   NaN   NaN   NaN    NaN  \n",
       "2007  ...   NaN  4925.0  3028.0  526.0   NaN     NaN   NaN   NaN   NaN    NaN  \n",
       "2008  ...   NaN  4764.0  3438.0  492.0   NaN     NaN   NaN   NaN   NaN    NaN  \n",
       "2009  ...   NaN  5120.0  3981.0  496.0   NaN     NaN   NaN   NaN   NaN    NaN  \n",
       "2010  ...   NaN  6200.0  5164.0  504.0   NaN     NaN   NaN   NaN   NaN  258.0  \n",
       "\n",
       "[131 rows x 6868 columns]"
      ]
     },
     "execution_count": 189,
     "metadata": {},
     "output_type": "execute_result"
    }
   ],
   "source": [
    "total_births=top1000.pivot_table('births',index='year',columns='name',aggfunc=sum)\n",
    "total_births"
   ]
  },
  {
   "cell_type": "code",
   "execution_count": 323,
   "metadata": {},
   "outputs": [
    {
     "data": {
      "text/plain": [
       "<matplotlib.axes._subplots.AxesSubplot at 0x1649b8b4588>"
      ]
     },
     "execution_count": 323,
     "metadata": {},
     "output_type": "execute_result"
    },
    {
     "data": {
      "image/png": "[encoded data removed]",
      "text/plain": [
       "<Figure size 432x288 with 1 Axes>"
      ]
     },
     "metadata": {
      "needs_background": "light"
     },
     "output_type": "display_data"
    }
   ],
   "source": [
    "subset=total_births[['John','Sophia','Michael','Daniel','Carter']]\n",
    "subset.plot()"
   ]
  },
  {
   "cell_type": "code",
   "execution_count": 428,
   "metadata": {},
   "outputs": [],
   "source": [
    "names_listdic=['John', 'Sophia', 'Michael', 'Daniel', 'Carter']\n",
    "def nameofyear(year):\n",
    "    subset_values=list(df_subset[year-1880:year-1880+1].values[0])\n",
    "    names_listdic=['John', 'Sophia', 'Michael', 'Daniel', 'Carter']\n",
    "    for i in range(5):\n",
    "        M=max(subset_values)\n",
    "        maxindex=subset_values.index(M)\n",
    "        print(names_listdic[maxindex],M)\n",
    "        subset_values.remove(M)\n",
    "        del names_listdic[maxindex]\n",
    "        "
   ]
  },
  {
   "cell_type": "code",
   "execution_count": 429,
   "metadata": {},
   "outputs": [
    {
     "name": "stdout",
     "output_type": "stream",
     "text": [
      "John 8934.0\n",
      "Daniel 615.0\n",
      "Michael 307.0\n",
      "Sophia 159.0\n",
      "Carter 11.0\n"
     ]
    }
   ],
   "source": [
    "nameofyear(1883)"
   ]
  },
  {
   "cell_type": "code",
   "execution_count": null,
   "metadata": {},
   "outputs": [],
   "source": [
    "- 연도별 성별 가장 많이 나온 이름의 자음 모음 비율"
   ]
  },
  {
   "cell_type": "code",
   "execution_count": 475,
   "metadata": {},
   "outputs": [],
   "source": [
    "def add_prop(group):\n",
    "    births=group.births.sum()\n",
    "    group['prop']=group.births/births\n",
    "    return group"
   ]
  },
  {
   "cell_type": "code",
   "execution_count": 467,
   "metadata": {},
   "outputs": [],
   "source": [
    "names1880=names[names['year']==1880]"
   ]
  },
  {
   "cell_type": "code",
   "execution_count": 471,
   "metadata": {},
   "outputs": [],
   "source": [
    "girls1880=names1880[names1880['sex']=='F']\n",
    "boys1880=names1880[names1880['sex']=='M']"
   ]
  },
  {
   "cell_type": "code",
   "execution_count": 480,
   "metadata": {},
   "outputs": [
    {
     "name": "stderr",
     "output_type": "stream",
     "text": [
      "C:\\Users\\student\\Anaconda3\\lib\\site-packages\\ipykernel_launcher.py:1: SettingWithCopyWarning: \n",
      "A value is trying to be set on a copy of a slice from a DataFrame.\n",
      "Try using .loc[row_indexer,col_indexer] = value instead\n",
      "\n",
      "See the caveats in the documentation: http://pandas.pydata.org/pandas-docs/stable/user_guide/indexing.html#returning-a-view-versus-a-copy\n",
      "  \"\"\"Entry point for launching an IPython kernel.\n"
     ]
    }
   ],
   "source": [
    "girls1880['prop']=girls1880.births/girls1880.births.sum()"
   ]
  },
  {
   "cell_type": "code",
   "execution_count": 484,
   "metadata": {},
   "outputs": [
    {
     "name": "stderr",
     "output_type": "stream",
     "text": [
      "C:\\Users\\student\\Anaconda3\\lib\\site-packages\\ipykernel_launcher.py:1: FutureWarning: by argument to sort_index is deprecated, please use .sort_values(by=...)\n",
      "  \"\"\"Entry point for launching an IPython kernel.\n"
     ]
    }
   ],
   "source": [
    "girls1880_sorted=girls1880.sort_index(by='prop',ascending=False)\n",
    "girls1880_cumsum=girls1880_sorted.sort_values(by='prop',ascending=False).prop.cumsum()"
   ]
  },
  {
   "cell_type": "code",
   "execution_count": 487,
   "metadata": {},
   "outputs": [
    {
     "data": {
      "text/plain": [
       "38"
      ]
     },
     "execution_count": 487,
     "metadata": {},
     "output_type": "execute_result"
    }
   ],
   "source": [
    "girls1880_cumsum.values.searchsorted(0.5)+1"
   ]
  },
  {
   "cell_type": "code",
   "execution_count": 499,
   "metadata": {},
   "outputs": [],
   "source": [
    "girls1880_list=list(halfname_girls1880.values)"
   ]
  },
  {
   "cell_type": "code",
   "execution_count": 496,
   "metadata": {},
   "outputs": [
    {
     "data": {
      "text/plain": [
       "0          Mary\n",
       "1          Anna\n",
       "2          Emma\n",
       "3     Elizabeth\n",
       "4        Minnie\n",
       "5      Margaret\n",
       "6           Ida\n",
       "7         Alice\n",
       "8        Bertha\n",
       "9         Sarah\n",
       "10        Annie\n",
       "11        Clara\n",
       "12         Ella\n",
       "13     Florence\n",
       "14         Cora\n",
       "15       Martha\n",
       "16        Laura\n",
       "17       Nellie\n",
       "18        Grace\n",
       "19       Carrie\n",
       "20        Maude\n",
       "21        Mabel\n",
       "22       Bessie\n",
       "23       Jennie\n",
       "24     Gertrude\n",
       "25        Julia\n",
       "26       Hattie\n",
       "27        Edith\n",
       "28       Mattie\n",
       "29         Rose\n",
       "30    Catherine\n",
       "31      Lillian\n",
       "32          Ada\n",
       "33       Lillie\n",
       "34        Helen\n",
       "35       Jessie\n",
       "36       Louise\n",
       "37        Ethel\n",
       "Name: name, dtype: object"
      ]
     },
     "execution_count": 496,
     "metadata": {},
     "output_type": "execute_result"
    }
   ],
   "source": [
    "collection=['a','e','i','o','u']\n",
    "halfname_girls1880=girls1880_sorted[0:38]['name']\n",
    "\n",
    "for i in range(len(girls1880_list)):\n",
    "    \n"
   ]
  },
  {
   "cell_type": "code",
   "execution_count": null,
   "metadata": {},
   "outputs": [],
   "source": [
    "prop_cumsum=df.sort_values(by='prop',ascending = False).prop.cumsum()\n",
    "prop_cumsum[:10]\n",
    "prop_cumsum.values.searchsorted(0.5)"
   ]
  }
 ],
 "metadata": {
  "kernelspec": {
   "display_name": "Python 3",
   "language": "python",
   "name": "python3"
  },
  "language_info": {
   "codemirror_mode": {
    "name": "ipython",
    "version": 3
   },
   "file_extension": ".py",
   "mimetype": "text/x-python",
   "name": "python",
   "nbconvert_exporter": "python",
   "pygments_lexer": "ipython3",
   "version": "3.7.4"
  }
 },
 "nbformat": 4,
 "nbformat_minor": 2
}
