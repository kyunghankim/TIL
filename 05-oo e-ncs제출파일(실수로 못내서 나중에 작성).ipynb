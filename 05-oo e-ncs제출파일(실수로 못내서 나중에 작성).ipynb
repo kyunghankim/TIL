{
 "cells": [
  {
   "cell_type": "code",
   "execution_count": null,
   "metadata": {},
   "outputs": [],
   "source": [
    "[TensorFlow와 Keras 라이브러리를 활용한 딥러닝]"
   ]
  },
  {
   "cell_type": "code",
   "execution_count": null,
   "metadata": {},
   "outputs": [],
   "source": [
    "1.\n",
    "\"\"\"\n",
    "keras sequential : 모델로 계층을 선형으로 쌓은 것 \n",
    "keras Dense: 입출력의 연결을 해주는 역할\n",
    "\"\"\""
   ]
  },
  {
   "cell_type": "code",
   "execution_count": null,
   "metadata": {},
   "outputs": [],
   "source": [
    "2.\n",
    "\"\"\"\n",
    "코드: \n",
    "sess.run(train_step,feed_dict={x:batch_xs,t:batch_ts,keep_prob:0.5})\n",
    "설명:\n",
    "Session객체를 sess로 불러들였을 때\n",
    "train_step을 실행하는데 x변수에는 batch_xs,t변수에는 batch_ts를 입력해주어 실행한다.\n",
    "keep_prob은 0.5를 입력하여 실행한다.\n",
    "\"\"\""
   ]
  },
  {
   "cell_type": "code",
   "execution_count": null,
   "metadata": {},
   "outputs": [],
   "source": [
    "[강화학습 기법을 활용한 인공지능 고급구현]"
   ]
  },
  {
   "cell_type": "code",
   "execution_count": null,
   "metadata": {},
   "outputs": [],
   "source": [
    "1.\n",
    "\"\"\"\n",
    "train 데이터와 label을 입력하여 training 시키는 것을 의미한다.\n",
    "오버피팅(overfitting)과 언더피팅(underfitting) 두 종류가 있는데\n",
    "오버피팅은 모델이 train데이터에 과적합하게 학습하여 test데이터에서는 전혀 맞지\n",
    "않는 상황이고 언더피팅은 모델이 너무 간단하게 배워 제대로 작동하지 않고 오차(loss)\n",
    "가 줄어들지 않는 상황을 의미한다.\n",
    "\"\"\"\n",
    "2. \n",
    "\"\"\"\n",
    "정규화: 최대값과 최소값의 차이를 분모로, 각 데이터와 데이터의 최소값의 차이를 \n",
    "나누어 0~1 사이의 값을 갖도록 만드는 과정을 의미한다.\n",
    "표준화: 표준편차를 분모로,  각 데이터와 데이터의 최소값의 차이를 나누어 평균이 0\n",
    "표준편차가 1로 만들어주는 과정을 의미한다.\n",
    "\"\"\""
   ]
  },
  {
   "cell_type": "code",
   "execution_count": null,
   "metadata": {},
   "outputs": [],
   "source": [
    "[CNN과 GAN을 활용한 이미지데이터 모델링]"
   ]
  },
  {
   "cell_type": "code",
   "execution_count": null,
   "metadata": {},
   "outputs": [],
   "source": [
    "1.\n",
    "def cos_sim(X,Y):\n",
    "    return np.dot(X,Y)/(norm(X)*norm(Y))"
   ]
  },
  {
   "cell_type": "code",
   "execution_count": null,
   "metadata": {},
   "outputs": [],
   "source": [
    "2. 입력크기가 (H,W), 필터크기 (FH,FW), 출력크기(OH,OW), 패딩 P\n",
    "stride를 S 라 할 때\n",
    "S= (H+2P-FH) / (OH-1)\n",
    "S= (W+2P-FW) / (OW-1)"
   ]
  },
  {
   "cell_type": "code",
   "execution_count": null,
   "metadata": {},
   "outputs": [],
   "source": [
    "3. pooling: 레이어의 출력 데이터를 입력으로 받아서 크기를 줄이거나 특정 데이터(특징)\n",
    "    을 강조하는 용도로 사용된다. "
   ]
  },
  {
   "cell_type": "code",
   "execution_count": null,
   "metadata": {},
   "outputs": [],
   "source": [
    "[RNN을 활용한 챗봇 시스템 구축]"
   ]
  },
  {
   "cell_type": "code",
   "execution_count": null,
   "metadata": {},
   "outputs": [],
   "source": [
    "토큰화 ->정제 및 정규화 ->어간 추출 -> 불용어 제거 -> 정규표현식 ->인코딩 -> 단어 분리 "
   ]
  },
  {
   "cell_type": "code",
   "execution_count": null,
   "metadata": {},
   "outputs": [],
   "source": [
    "import nltk\n",
    "from nltk.tokenize import sent_tokenize   # <- 문장별로 토큰화\n",
    "text=nltk.download(treebank)\n",
    "\"문장 토크화는 텍스트를 문장별로 구분하는 것을 의미한다\"\n",
    "#문장별 토큰화\n",
    "text=sent_tokenize(text)\n",
    "\"정제 및 정규화: 정제는 노이즈를 제거하는 것을\"\n",
    "\"의미하고 정규화는 표현방법이 다른 단어를 합치는 것을 의미한다\"\n",
    "#정제 및 정규화\n",
    "import re\n",
    "shortword = re.compile(r'\\W*\\b\\w{1.2}\\b')\n",
    "shortword.sub(\"\",text) #<-길이가 작은 글자 없애기\n",
    "\"어간 추출: 단어로 부터 어간을 추출하는 것을 의미한다.\"\n",
    "#어간 추출\n",
    "from nltk.stem import PorterStemmer\n",
    "stemmer = PosterStemmer() #<- 객체 생성\n",
    "text = stemmer.stem(text) #<- 어간 추출\n",
    "\"불용어 제거: 사용하지 않는 단어를 제거하는 것을 의미한다.\"\n",
    "#불용어 제거\n",
    "from sklearn.feature_extraction.text import TfidfVectorizer\n",
    "tfidf=TfidfVectorizer(stop_words='english') #<- 영어 불용어\n",
    "text_mat=tfidf.fit_transform(text)\n",
    "\"특정한 언어나 패턴을 검색 혹은 편집하는 것을 의미한다.\"\n",
    "#정규표현식 \n",
    "r=re.compile(\"패턴 입력\")\n",
    "r.search(text) #<- text에서 입력된 패턴이 있는지 알려준다\n",
    "\n",
    "\"해당 단어만 1이고 나머지 없는 단어는 0으로 만들어주는(One-hot)수열로 encoding하는 것을 의미한다.\"\n",
    "#인코딩 \n",
    "from sklearn.preprocessing import OneHotEncoder\n",
    "enc = OneHotEncoder() #<-객체 만들기\n",
    "enc.fit(text)\n",
    "\"하나의 단어가 여러단어로 조합된 경우 단어를 여러 단어로 분리하는 것을 의미한다.\"\n",
    "#단어 분리 \n"
   ]
  },
  {
   "cell_type": "code",
   "execution_count": null,
   "metadata": {},
   "outputs": [],
   "source": []
  },
  {
   "cell_type": "code",
   "execution_count": null,
   "metadata": {},
   "outputs": [],
   "source": []
  }
 ],
 "metadata": {
  "kernelspec": {
   "display_name": "Python 3",
   "language": "python",
   "name": "python3"
  },
  "language_info": {
   "codemirror_mode": {
    "name": "ipython",
    "version": 3
   },
   "file_extension": ".py",
   "mimetype": "text/x-python",
   "name": "python",
   "nbconvert_exporter": "python",
   "pygments_lexer": "ipython3",
   "version": "3.7.6"
  }
 },
 "nbformat": 4,
 "nbformat_minor": 4
}
