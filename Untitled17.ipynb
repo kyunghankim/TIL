{
 "cells": [
  {
   "cell_type": "code",
   "execution_count": null,
   "metadata": {},
   "outputs": [],
   "source": [
    "1. 문자회전문제"
   ]
  },
  {
   "cell_type": "code",
   "execution_count": 9,
   "metadata": {},
   "outputs": [
    {
     "name": "stdout",
     "output_type": "stream",
     "text": [
      "0 똘기 떵이 호치 새초미\n",
      "['똘기', '떵이', '호치', '새초미']\n"
     ]
    }
   ],
   "source": [
    "strings=input()\n",
    "strings1=strings.split()\n",
    "num=strings1.pop(0)\n",
    "strings2=strings1    #<-맨 앞에 숫자 뺌\n",
    "if int(num)>0:\n",
    "    for i in range(int(num)-1):  #숫자의 크기만큼 다음을 반복\n",
    "        strings2.insert(0,strings2[-1])   #마지막 원소를 맨앞에 추가\n",
    "        strings2.pop(len(strings2)-1)     # 마지막 원소 빼기\n",
    "elif int(num)<0:    #음수라면\n",
    "    for i in range(abs(int(num))):   #절대값의 갯수만큼 다음을 반복\n",
    "                   strings2.append(strings2[0]) #첫번째 원소를 마지막에 추가\n",
    "                   strings2.pop(0)  # 첫번째 원소 빼기\n",
    "else:\n",
    "    pass\n",
    "print(strings2)"
   ]
  },
  {
   "cell_type": "code",
   "execution_count": null,
   "metadata": {},
   "outputs": [],
   "source": [
    "2. 색채우기 기능 구현하기"
   ]
  },
  {
   "cell_type": "code",
   "execution_count": 19,
   "metadata": {},
   "outputs": [
    {
     "name": "stdout",
     "output_type": "stream",
     "text": [
      "(5, 5) <class 'tuple'> 5\n"
     ]
    }
   ],
   "source": [
    "point=(5,5)\n",
    "print(point,type(point),point[0])"
   ]
  },
  {
   "cell_type": "code",
   "execution_count": 20,
   "metadata": {},
   "outputs": [
    {
     "name": "stdout",
     "output_type": "stream",
     "text": [
      "5 5\n"
     ]
    }
   ],
   "source": [
    "x=point[0]\n",
    "y=point[1]\n",
    "print(x,y)"
   ]
  },
  {
   "cell_type": "code",
   "execution_count": null,
   "metadata": {},
   "outputs": [],
   "source": [
    "def fillup_program():\n",
    "    point=input()\n",
    "    colour=int(inpot())\n",
    "    x,y=point[0],point[1]\n",
    "    checkpoint=canvas[x][y]\n",
    "    if checkpoint==1:\n",
    "        print(\"it's boundary\")\n",
    "    elif:\n",
    "        if (1 in canvas[x][:y]) & (1 in canvans[x][-y:]):  # 앞에서 y개, 뒤에서 y개\n",
    "            front= list(canvas[x][:y])   # 앞에꺼 리스트로\n",
    "            backward=list(canvans[x][-y:]) # 뒤에꺼 리스트로\n",
    "            for f in range(len((front)-1):\n",
    "                if (front[f]==1) & (front[f+1]==0):\n",
    "                           front[f+1:]=colour  # 앞부분 색채우기\n",
    "                else:\n",
    "                           pass\n",
    "            for f in range(len((backward)-1):\n",
    "                           if backward\n",
    "                           \n",
    "            "
   ]
  },
  {
   "cell_type": "code",
   "execution_count": 37,
   "metadata": {},
   "outputs": [
    {
     "name": "stdout",
     "output_type": "stream",
     "text": [
      "[0 0 0 0 1 1 0 1 0 0] [0 0 0 0 1 1]\n",
      "True\n"
     ]
    },
    {
     "data": {
      "text/plain": [
       "4"
      ]
     },
     "execution_count": 37,
     "metadata": {},
     "output_type": "execute_result"
    }
   ],
   "source": [
    "print(canvas[2],canvas[2][0:6])\n",
    "print(1 in canvas[2][:6])\n",
    "list(canvas[2][:6]).index(1)"
   ]
  },
  {
   "cell_type": "code",
   "execution_count": 21,
   "metadata": {},
   "outputs": [
    {
     "data": {
      "text/plain": [
       "array([0, 1, 0, 0, 0, 0, 0, 0, 1, 0])"
      ]
     },
     "execution_count": 21,
     "metadata": {},
     "output_type": "execute_result"
    }
   ],
   "source": [
    "canvas[5][3:8]=3"
   ]
  },
  {
   "cell_type": "code",
   "execution_count": 10,
   "metadata": {},
   "outputs": [],
   "source": [
    "import pandas as pd\n",
    "import numpy as np"
   ]
  },
  {
   "cell_type": "code",
   "execution_count": 18,
   "metadata": {},
   "outputs": [],
   "source": [
    "canvas=np.array([[0,0,0,0,0,0,0,0,0,0],\n",
    "        [0,0,0,0,0,0,1,0,0,0],\n",
    "        [0,0,0,0,1,1,0,1,0,0],\n",
    "        [0,0,1,1,0,0,0,0,1,0],\n",
    "        [0,1,0,0,0,0,0,0,1,0],\n",
    "        [0,1,0,0,0,0,0,0,1,0],\n",
    "        [0,1,0,0,0,0,0,1,0,0],\n",
    "        [0,0,1,0,0,0,1,0,0,0],\n",
    "        [0,0,0,1,0,1,1,0,0,0],\n",
    "        [0,0,0,0,1,0,0,0,0,0]]\n",
    "        )"
   ]
  },
  {
   "cell_type": "code",
   "execution_count": null,
   "metadata": {},
   "outputs": [],
   "source": []
  },
  {
   "cell_type": "code",
   "execution_count": null,
   "metadata": {},
   "outputs": [],
   "source": []
  },
  {
   "cell_type": "code",
   "execution_count": null,
   "metadata": {},
   "outputs": [],
   "source": []
  }
 ],
 "metadata": {
  "kernelspec": {
   "display_name": "Python 3",
   "language": "python",
   "name": "python3"
  },
  "language_info": {
   "codemirror_mode": {
    "name": "ipython",
    "version": 3
   },
   "file_extension": ".py",
   "mimetype": "text/x-python",
   "name": "python",
   "nbconvert_exporter": "python",
   "pygments_lexer": "ipython3",
   "version": "3.7.4"
  }
 },
 "nbformat": 4,
 "nbformat_minor": 2
}
