{
 "cells": [
  {
   "cell_type": "code",
   "execution_count": null,
   "metadata": {},
   "outputs": [],
   "source": [
    "\"\"\"\n",
    "공공주택관리비에 대한 관리비 분석 요구사항\n",
    "전체 공동관리비를 1/n를 내는데 그게 시정사항이다.\n",
    "ex) 엘레베이터를 고층과 저층에 따라 다르게 내야함\n",
    "\n",
    "\n",
    "\"\"\""
   ]
  },
  {
   "cell_type": "code",
   "execution_count": null,
   "metadata": {},
   "outputs": [],
   "source": [
    "\"\"\"\n",
    "1. 데이터 분석범위\n",
    "-공용관리비에 한해서 분석함\n",
    "다 읽고 분석 대상에 해당되는 것들만 뽑아도됨\n",
    "-일반관리비, 청소비, 경비비... 수도 공용비까지\n",
    "=>공용관리비 중 각각의 관리비가 차지하는 비중(시각화)\n",
    "-일반관리비의 하위 항목들에 대해서도 차지하는 비중...\n",
    "-파일 저장할 떄 항목별로 저장하면 편함(기간에 따라 다르니)\n",
    "-월/년/분기/계절별로 관리비 항목이 변화패턴?\n",
    "-이상치 확인(시각화)\n",
    "-상관분석:서로 상관계수가 큰 변수를 찾아볼수 잇음\n",
    "         각 데이터가 기간별로 쭉 나와있어서 그걸로 상관분석\n",
    "-------------------여기까지 오늘------------------\n",
    "2. 예측/분류(RNN해보기)\n",
    "\"\"\""
   ]
  },
  {
   "cell_type": "code",
   "execution_count": null,
   "metadata": {},
   "outputs": [],
   "source": [
    "\"\"\"\n",
    "회사 제출 포트폴리오 용으로 만들기(잘만들기)\n",
    "\"\"\""
   ]
  },
  {
   "cell_type": "code",
   "execution_count": 1,
   "metadata": {},
   "outputs": [],
   "source": [
    "import pandas as pd\n",
    "import numpy as np\n",
    "import matplotlib.pyplot as plt\n",
    "%matplotlib inline"
   ]
  },
  {
   "cell_type": "code",
   "execution_count": 2,
   "metadata": {},
   "outputs": [],
   "source": [
    "month=['01','02','03','04','05','06','07','08','09','10','11','12']\n",
    "year=['2015','2016','2017','2018','2019']\n",
    "pathdate=[]\n",
    "for i in year:\n",
    "    for j in month:\n",
    "        pathdate.append(i+j)"
   ]
  },
  {
   "cell_type": "code",
   "execution_count": 3,
   "metadata": {},
   "outputs": [],
   "source": [
    "path0=\"C:/Users/ilike/관리비데이터/\"\n",
    "path2=\" 가양도시개발공사8단지(임대).xls\"\n",
    "\n",
    "pathlist=[]\n",
    "for i in range(len(pathdate)):\n",
    "    pathlist.append(path0+pathdate[i]+path2)"
   ]
  },
  {
   "cell_type": "code",
   "execution_count": 4,
   "metadata": {},
   "outputs": [
    {
     "data": {
      "text/plain": [
       "['C:/Users/ilike/관리비데이터/201501 가양도시개발공사8단지(임대).xls',\n",
       " 'C:/Users/ilike/관리비데이터/201502 가양도시개발공사8단지(임대).xls',\n",
       " 'C:/Users/ilike/관리비데이터/201503 가양도시개발공사8단지(임대).xls',\n",
       " 'C:/Users/ilike/관리비데이터/201504 가양도시개발공사8단지(임대).xls',\n",
       " 'C:/Users/ilike/관리비데이터/201505 가양도시개발공사8단지(임대).xls',\n",
       " 'C:/Users/ilike/관리비데이터/201506 가양도시개발공사8단지(임대).xls',\n",
       " 'C:/Users/ilike/관리비데이터/201507 가양도시개발공사8단지(임대).xls',\n",
       " 'C:/Users/ilike/관리비데이터/201508 가양도시개발공사8단지(임대).xls',\n",
       " 'C:/Users/ilike/관리비데이터/201509 가양도시개발공사8단지(임대).xls',\n",
       " 'C:/Users/ilike/관리비데이터/201510 가양도시개발공사8단지(임대).xls',\n",
       " 'C:/Users/ilike/관리비데이터/201511 가양도시개발공사8단지(임대).xls',\n",
       " 'C:/Users/ilike/관리비데이터/201512 가양도시개발공사8단지(임대).xls',\n",
       " 'C:/Users/ilike/관리비데이터/201601 가양도시개발공사8단지(임대).xls',\n",
       " 'C:/Users/ilike/관리비데이터/201602 가양도시개발공사8단지(임대).xls',\n",
       " 'C:/Users/ilike/관리비데이터/201603 가양도시개발공사8단지(임대).xls',\n",
       " 'C:/Users/ilike/관리비데이터/201604 가양도시개발공사8단지(임대).xls',\n",
       " 'C:/Users/ilike/관리비데이터/201605 가양도시개발공사8단지(임대).xls',\n",
       " 'C:/Users/ilike/관리비데이터/201606 가양도시개발공사8단지(임대).xls',\n",
       " 'C:/Users/ilike/관리비데이터/201607 가양도시개발공사8단지(임대).xls',\n",
       " 'C:/Users/ilike/관리비데이터/201608 가양도시개발공사8단지(임대).xls',\n",
       " 'C:/Users/ilike/관리비데이터/201609 가양도시개발공사8단지(임대).xls',\n",
       " 'C:/Users/ilike/관리비데이터/201610 가양도시개발공사8단지(임대).xls',\n",
       " 'C:/Users/ilike/관리비데이터/201611 가양도시개발공사8단지(임대).xls',\n",
       " 'C:/Users/ilike/관리비데이터/201612 가양도시개발공사8단지(임대).xls',\n",
       " 'C:/Users/ilike/관리비데이터/201701 가양도시개발공사8단지(임대).xls',\n",
       " 'C:/Users/ilike/관리비데이터/201702 가양도시개발공사8단지(임대).xls',\n",
       " 'C:/Users/ilike/관리비데이터/201703 가양도시개발공사8단지(임대).xls',\n",
       " 'C:/Users/ilike/관리비데이터/201704 가양도시개발공사8단지(임대).xls',\n",
       " 'C:/Users/ilike/관리비데이터/201705 가양도시개발공사8단지(임대).xls',\n",
       " 'C:/Users/ilike/관리비데이터/201706 가양도시개발공사8단지(임대).xls',\n",
       " 'C:/Users/ilike/관리비데이터/201707 가양도시개발공사8단지(임대).xls',\n",
       " 'C:/Users/ilike/관리비데이터/201708 가양도시개발공사8단지(임대).xls',\n",
       " 'C:/Users/ilike/관리비데이터/201709 가양도시개발공사8단지(임대).xls',\n",
       " 'C:/Users/ilike/관리비데이터/201710 가양도시개발공사8단지(임대).xls',\n",
       " 'C:/Users/ilike/관리비데이터/201711 가양도시개발공사8단지(임대).xls',\n",
       " 'C:/Users/ilike/관리비데이터/201712 가양도시개발공사8단지(임대).xls',\n",
       " 'C:/Users/ilike/관리비데이터/201801 가양도시개발공사8단지(임대).xls',\n",
       " 'C:/Users/ilike/관리비데이터/201802 가양도시개발공사8단지(임대).xls',\n",
       " 'C:/Users/ilike/관리비데이터/201803 가양도시개발공사8단지(임대).xls',\n",
       " 'C:/Users/ilike/관리비데이터/201804 가양도시개발공사8단지(임대).xls',\n",
       " 'C:/Users/ilike/관리비데이터/201805 가양도시개발공사8단지(임대).xls',\n",
       " 'C:/Users/ilike/관리비데이터/201806 가양도시개발공사8단지(임대).xls',\n",
       " 'C:/Users/ilike/관리비데이터/201807 가양도시개발공사8단지(임대).xls',\n",
       " 'C:/Users/ilike/관리비데이터/201808 가양도시개발공사8단지(임대).xls',\n",
       " 'C:/Users/ilike/관리비데이터/201809 가양도시개발공사8단지(임대).xls',\n",
       " 'C:/Users/ilike/관리비데이터/201810 가양도시개발공사8단지(임대).xls',\n",
       " 'C:/Users/ilike/관리비데이터/201811 가양도시개발공사8단지(임대).xls',\n",
       " 'C:/Users/ilike/관리비데이터/201812 가양도시개발공사8단지(임대).xls',\n",
       " 'C:/Users/ilike/관리비데이터/201901 가양도시개발공사8단지(임대).xls',\n",
       " 'C:/Users/ilike/관리비데이터/201902 가양도시개발공사8단지(임대).xls',\n",
       " 'C:/Users/ilike/관리비데이터/201903 가양도시개발공사8단지(임대).xls',\n",
       " 'C:/Users/ilike/관리비데이터/201904 가양도시개발공사8단지(임대).xls',\n",
       " 'C:/Users/ilike/관리비데이터/201905 가양도시개발공사8단지(임대).xls',\n",
       " 'C:/Users/ilike/관리비데이터/201906 가양도시개발공사8단지(임대).xls',\n",
       " 'C:/Users/ilike/관리비데이터/201907 가양도시개발공사8단지(임대).xls',\n",
       " 'C:/Users/ilike/관리비데이터/201908 가양도시개발공사8단지(임대).xls',\n",
       " 'C:/Users/ilike/관리비데이터/201909 가양도시개발공사8단지(임대).xls',\n",
       " 'C:/Users/ilike/관리비데이터/201910 가양도시개발공사8단지(임대).xls',\n",
       " 'C:/Users/ilike/관리비데이터/201911 가양도시개발공사8단지(임대).xls',\n",
       " 'C:/Users/ilike/관리비데이터/201912 가양도시개발공사8단지(임대).xls']"
      ]
     },
     "execution_count": 4,
     "metadata": {},
     "output_type": "execute_result"
    }
   ],
   "source": [
    "pathlist"
   ]
  },
  {
   "cell_type": "code",
   "execution_count": 5,
   "metadata": {},
   "outputs": [],
   "source": [
    "AptManagement=pd.read_excel(\"C:/Users/ilike/관리비\\\n",
    "데이터/아파트 관리비 샘플.xls\",header=1)\n"
   ]
  },
  {
   "cell_type": "code",
   "execution_count": 6,
   "metadata": {},
   "outputs": [],
   "source": [
    "datafile=[]\n",
    "for i in range(len(pathlist)):\n",
    "    datafile.append(pd.read_excel(pathlist[i],header=1))"
   ]
  },
  {
   "cell_type": "code",
   "execution_count": 7,
   "metadata": {},
   "outputs": [
    {
     "data": {
      "text/plain": [
       "Index(['분류', '우리단지총액', '우리단지단가(주거전용면적기준)', '유사단지군 평균', '관리비수준',\n",
       "       '유사단지비교(주거전용면적기준)', 'Unnamed: 6', 'Unnamed: 7', 'Unnamed: 8',\n",
       "       '평형별(주거전용면적기준)', 'Unnamed: 10', 'Unnamed: 11', 'Unnamed: 12',\n",
       "       'Unnamed: 13', 'Unnamed: 14', 'Unnamed: 15', 'Unnamed: 16',\n",
       "       '우리단지단가(주거전용면적 기준)'],\n",
       "      dtype='object')"
      ]
     },
     "execution_count": 7,
     "metadata": {},
     "output_type": "execute_result"
    }
   ],
   "source": [
    "datafile[2].columns"
   ]
  },
  {
   "cell_type": "code",
   "execution_count": 8,
   "metadata": {},
   "outputs": [
    {
     "data": {
      "text/plain": [
       "['201501', '201502']"
      ]
     },
     "execution_count": 8,
     "metadata": {},
     "output_type": "execute_result"
    }
   ],
   "source": [
    "pathdate[0:2]"
   ]
  },
  {
   "cell_type": "code",
   "execution_count": 9,
   "metadata": {},
   "outputs": [],
   "source": [
    "templist=list(zip(pathdate,datafile))\n",
    "#pathdate   # <-201501 ~... ~ 201912"
   ]
  },
  {
   "cell_type": "code",
   "execution_count": 10,
   "metadata": {},
   "outputs": [
    {
     "data": {
      "text/plain": [
       "0     분류 (클릭시 상세내역표시)\n",
       "1               공용관리비\n",
       "2               일반관리비\n",
       "3                 인건비\n",
       "4                  급여\n",
       "           ...       \n",
       "66               월사용액\n",
       "67              충당금잔액\n",
       "68            적립요율(%)\n",
       "69                 합계\n",
       "70                잡수입\n",
       "Name: 분류, Length: 71, dtype: object"
      ]
     },
     "execution_count": 10,
     "metadata": {},
     "output_type": "execute_result"
    }
   ],
   "source": [
    "templist[0][1]['분류']"
   ]
  },
  {
   "cell_type": "code",
   "execution_count": 51,
   "metadata": {},
   "outputs": [
    {
     "data": {
      "text/plain": [
       "60"
      ]
     },
     "execution_count": 51,
     "metadata": {},
     "output_type": "execute_result"
    }
   ],
   "source": [
    "len(pathdate)"
   ]
  },
  {
   "cell_type": "code",
   "execution_count": 18,
   "metadata": {},
   "outputs": [
    {
     "data": {
      "text/plain": [
       "<BarContainer object of 7 artists>"
      ]
     },
     "execution_count": 18,
     "metadata": {},
     "output_type": "execute_result"
    },
    {
     "data": {
      "image/png": "[encoded data removed]",
      "text/plain": [
       "<Figure size 432x288 with 1 Axes>"
      ]
     },
     "metadata": {
      "needs_background": "light"
     },
     "output_type": "display_data"
    }
   ],
   "source": [
    "#tempint\n",
    "CommonMngmetCategory=[GeneralMngmt,Cleaningfee,\n",
    "                     Securityfee,Disinfectionfee,\n",
    "                     liftfee,HomeNetwork,Repairfee]\n",
    "CommonMngmetCategory_str=['GeneralMngmt',\n",
    "       'Cleaningfee','Securityfee',\n",
    "       'Disinfectionfee','liftfee',\n",
    "       'HomeNetwork','Repairfee']\n",
    "\n",
    "plt.title('ratio of CommonMngmt')\n",
    "plt.xlabel('Category',fontsize=18)\n",
    "plt.ylabel('Ammount',fontsize=18)\n",
    "plt.xticks(fontsize=12,rotation=90)\n",
    "plt.bar(CommonMngmetCategory_str,CommonMngmetCategory,\n",
    "        alpha=0.8,width=0.5,\n",
    "        align='edge')"
   ]
  },
  {
   "cell_type": "code",
   "execution_count": 19,
   "metadata": {},
   "outputs": [
    {
     "data": {
      "text/plain": [
       "([<matplotlib.patches.Wedge at 0x21df4d33a08>,\n",
       "  <matplotlib.patches.Wedge at 0x21df4d38388>,\n",
       "  <matplotlib.patches.Wedge at 0x21df4d38cc8>,\n",
       "  <matplotlib.patches.Wedge at 0x21df4d29f48>,\n",
       "  <matplotlib.patches.Wedge at 0x21df5d11988>,\n",
       "  <matplotlib.patches.Wedge at 0x21df5d1c3c8>,\n",
       "  <matplotlib.patches.Wedge at 0x21df5d1ca88>],\n",
       " [Text(0.3735738223039748, 1.0346219596012827, 'GeneralMngmt'),\n",
       "  Text(-0.7952571318698702, -0.7599776932319183, 'Cleaningfee'),\n",
       "  Text(0.6981470866048596, -0.8500533191895359, 'Securityfee'),\n",
       "  Text(0.7845647197945103, -0.7710111545585847, 'Disinfectionfee'),\n",
       "  Text(0.8341176275658904, -0.7171107190551894, 'liftfee'),\n",
       "  Text(0.9476476047953726, -0.5585373909825496, 'HomeNetwork'),\n",
       "  Text(1.082711558586113, -0.19425673966179569, 'Repairfee')],\n",
       " [Text(0.20376753943853168, 0.5643392506916087, '39.0%'),\n",
       "  Text(-0.43377661738356554, -0.41453328721740995, '46.3%'),\n",
       "  Text(0.3808075017844688, -0.46366544683065586, '1.3%'),\n",
       "  Text(0.42794439261518735, -0.4205515388501371, '2.1%'),\n",
       "  Text(0.45497325139957645, -0.39115130130283055, '0.0%'),\n",
       "  Text(0.5168986935247486, -0.3046567587177543, '5.7%'),\n",
       "  Text(0.5905699410469706, -0.10595822163370673, '5.7%')])"
      ]
     },
     "execution_count": 19,
     "metadata": {},
     "output_type": "execute_result"
    },
    {
     "data": {
      "image/png": "[encoded data removed]",
      "text/plain": [
       "<Figure size 432x288 with 1 Axes>"
      ]
     },
     "metadata": {},
     "output_type": "display_data"
    }
   ],
   "source": [
    "CommonMngmetCategory=[GeneralMngmt,Cleaningfee,\n",
    "                     Securityfee,Disinfectionfee,\n",
    "                     liftfee,HomeNetwork,Repairfee]\n",
    "CommonMngmetCategory_str=['GeneralMngmt',\n",
    "       'Cleaningfee','Securityfee',\n",
    "       'Disinfectionfee','liftfee',\n",
    "       'HomeNetwork','Repairfee']\n",
    "\n",
    "plt.xlabel('CommonManagement ratio',fontsize=18)\n",
    "plt.xticks(fontsize=12,rotation=90)\n",
    "plt.pie(CommonMngmetCategory,\n",
    "       labels=CommonMngmetCategory_str,\n",
    "       autopct='%1.1f%%')"
   ]
  },
  {
   "cell_type": "code",
   "execution_count": 28,
   "metadata": {},
   "outputs": [
    {
     "data": {
      "text/plain": [
       "'201501'"
      ]
     },
     "execution_count": 28,
     "metadata": {},
     "output_type": "execute_result"
    }
   ],
   "source": [
    "templist[0][0]"
   ]
  },
  {
   "cell_type": "code",
   "execution_count": 36,
   "metadata": {},
   "outputs": [
    {
     "data": {
      "text/plain": [
       "'201505common ratio'"
      ]
     },
     "execution_count": 36,
     "metadata": {},
     "output_type": "execute_result"
    }
   ],
   "source": [
    "str(201505)+'common ratio'"
   ]
  },
  {
   "cell_type": "code",
   "execution_count": 38,
   "metadata": {},
   "outputs": [
    {
     "data": {
      "image/png": "[encoded data removed]",
      "text/plain": [
       "<Figure size 432x288 with 1 Axes>"
      ]
     },
     "metadata": {},
     "output_type": "display_data"
    }
   ],
   "source": [
    "CommonMngmetCategory_str=['GeneralMngmt',\n",
    "       'Cleaningfee','Securityfee',\n",
    "       'Disinfectionfee','liftfee',\n",
    "       'HomeNetwork','Repairfee']\n",
    "def PieCommonMngmt(date):\n",
    "    date=int(date)\n",
    "    for i in range(len(templist)):\n",
    "        if int(templist[i][0])==date:\n",
    "            tempint=templist[i][1]['우리단지총액'][1:].astype(int)\n",
    "            CommonMngmt=tempint[1]\n",
    "            GeneralMngmt=tempint[2]\n",
    "            Cleaningfee=tempint[34]\n",
    "            Securityfee=tempint[35]\n",
    "            Disinfectionfee=tempint[36]\n",
    "            liftfee=tempint[37]\n",
    "            HomeNetwork=tempint[38]\n",
    "            Repairfee=tempint[39]\n",
    "            Consignment=tempint[44]\n",
    "            title=str(date)+' '+'CommonManagement ratio'\n",
    "            plt.title(title,fontsize=20)\n",
    "            plt.xticks(fontsize=12,rotation=90)\n",
    "            plt.pie(CommonMngmetCategory,\n",
    "                    labels=CommonMngmetCategory_str,\n",
    "                    autopct='%1.1f%%')\n",
    "            plt.show()\n",
    "        else:\n",
    "            pass\n",
    "PieCommonMngmt(201503)"
   ]
  },
  {
   "cell_type": "code",
   "execution_count": 39,
   "metadata": {},
   "outputs": [
    {
     "data": {
      "text/plain": [
       "<matplotlib.axes._subplots.AxesSubplot at 0x21df6b36448>"
      ]
     },
     "execution_count": 39,
     "metadata": {},
     "output_type": "execute_result"
    },
    {
     "data": {
      "image/png": "[encoded data removed]",
      "text/plain": [
       "<Figure size 432x288 with 1 Axes>"
      ]
     },
     "metadata": {
      "needs_background": "light"
     },
     "output_type": "display_data"
    }
   ],
   "source": []
  },
  {
   "cell_type": "code",
   "execution_count": null,
   "metadata": {},
   "outputs": [],
   "source": [
    "CommonMngmetCategory=[GeneralMngmt,Cleaningfee,\n",
    "                     Securityfee,Disinfectionfee,\n",
    "                     liftfee,HomeNetwork,Repairfee]\n",
    "CommonMngmetCategory_str=['GeneralMngmt',\n",
    "       'Cleaningfee','Securityfee',\n",
    "       'Disinfectionfee','liftfee',\n",
    "       'HomeNetwork','Repairfee']\n",
    "plt.xlabel('CommonManagement ratio',fontsize=18)\n",
    "plt.xticks(fontsize=12,rotation=90)\n",
    "plt.pie(CommonMngmetCategory,\n",
    "       labels=CommonMngmetCategory_str,\n",
    "       autopct='%1.1f%%')"
   ]
  },
  {
   "cell_type": "code",
   "execution_count": null,
   "metadata": {},
   "outputs": [],
   "source": []
  },
  {
   "cell_type": "code",
   "execution_count": null,
   "metadata": {},
   "outputs": [],
   "source": []
  },
  {
   "cell_type": "code",
   "execution_count": null,
   "metadata": {},
   "outputs": [],
   "source": []
  },
  {
   "cell_type": "code",
   "execution_count": 14,
   "metadata": {},
   "outputs": [],
   "source": [
    "label_str=['CommonMngmt','GeneralMngmt',\n",
    "       'Cleaningfee','Securityfee',\n",
    "       'Disinfectionfee','liftfee',\n",
    "       'HomeNetwork','Repairfee',\n",
    "      'Consignment','Heatingcost','Hotwater',\n",
    "      'Gasfee','Electricity','Waterfee']"
   ]
  },
  {
   "cell_type": "code",
   "execution_count": 15,
   "metadata": {},
   "outputs": [
    {
     "data": {
      "text/plain": [
       "<BarContainer object of 14 artists>"
      ]
     },
     "execution_count": 15,
     "metadata": {},
     "output_type": "execute_result"
    },
    {
     "data": {
      "image/png": "[encoded data removed]",
      "text/plain": [
       "<Figure size 432x288 with 1 Axes>"
      ]
     },
     "metadata": {
      "needs_background": "light"
     },
     "output_type": "display_data"
    }
   ],
   "source": [
    "tempint=templist[0][1]['우리단지총액'][1:].astype(int)\n",
    "CommonMngmt=tempint[1]\n",
    "GeneralMngmt=tempint[2]\n",
    "Cleaningfee=tempint[34]\n",
    "Securityfee=tempint[35]\n",
    "Disinfectionfee=tempint[36]\n",
    "liftfee=tempint[37]\n",
    "HomeNetwork=tempint[38]\n",
    "Repairfee=tempint[39]\n",
    "Consignment=tempint[44]\n",
    "Heatingcost=tempint[47]\n",
    "Hotwater=tempint[50]\n",
    "Gasfee=tempint[53]\n",
    "Electricity=tempint[56]\n",
    "Waterfee=tempint[69]\n",
    "label=[CommonMngmt,GeneralMngmt,\n",
    "       Cleaningfee,Securityfee,\n",
    "       Disinfectionfee,liftfee,\n",
    "       HomeNetwork,Repairfee,\n",
    "      Consignment,Heatingcost,Hotwater,\n",
    "      Gasfee,Electricity,Waterfee]\n",
    "CommonMngmetCategory=[GeneralMngmt,Cleaningfee,\n",
    "                     Securityfee,Disinfectionfee,\n",
    "                     liftfee,HomeNetwork,Repairfee]\n",
    "plt.title('ratio of CommonMngmt')\n",
    "plt.xlabel('Category',fontsize=18)\n",
    "plt.ylabel('Ammount',fontsize=18)\n",
    "plt.xticks(fontsize=12,rotation=90)\n",
    "plt.bar(label_str,label,\n",
    "        alpha=0.8,width=0.5,\n",
    "        align='edge')\n"
   ]
  },
  {
   "cell_type": "code",
   "execution_count": 9,
   "metadata": {},
   "outputs": [],
   "source": [
    "columnlist=list(AptManagement.columns)"
   ]
  },
  {
   "cell_type": "code",
   "execution_count": 10,
   "metadata": {},
   "outputs": [
    {
     "name": "stdout",
     "output_type": "stream",
     "text": [
      "  일반관리비\n",
      "우리단지총액\n"
     ]
    },
    {
     "data": {
      "text/plain": [
       "'  일반관리비:18729750'"
      ]
     },
     "execution_count": 10,
     "metadata": {},
     "output_type": "execute_result"
    }
   ],
   "source": [
    "classification=input()\n",
    "columnneed=input()\n",
    "def getdata():\n",
    "    for i in range(len(AptManagement['분류'])):\n",
    "        if classification == AptManagement['분류'][i]:\n",
    "            return AptManagement['분류'][i]+\":\"+AptManagement[columnneed][i]\n",
    "getdata()"
   ]
  },
  {
   "cell_type": "code",
   "execution_count": null,
   "metadata": {},
   "outputs": [],
   "source": [
    "In [2]: df = pd.DataFrame({'id': ['a', 'b', 'c', 'd'],\n",
    "\n",
    "   ...: 'col_1': [1, 2, 3, 4],\n",
    "\n",
    "   ...: 'col_2': [1, 1, 2, 2]},\n",
    "\n",
    "   ...: columns = ['id', 'col_1', 'col_2'])"
   ]
  },
  {
   "cell_type": "code",
   "execution_count": null,
   "metadata": {},
   "outputs": [],
   "source": []
  },
  {
   "cell_type": "code",
   "execution_count": null,
   "metadata": {},
   "outputs": [],
   "source": [
    "pd.DataFrame()"
   ]
  },
  {
   "cell_type": "code",
   "execution_count": 65,
   "metadata": {},
   "outputs": [
    {
     "data": {
      "text/plain": [
       "'  일반관리비'"
      ]
     },
     "execution_count": 65,
     "metadata": {},
     "output_type": "execute_result"
    }
   ],
   "source": [
    "AptManagement['분류'][2]"
   ]
  },
  {
   "cell_type": "code",
   "execution_count": 11,
   "metadata": {},
   "outputs": [
    {
     "name": "stdout",
     "output_type": "stream",
     "text": [
      "0     분류 (클릭시 상세내역표시)\n",
      "1               공용관리비\n",
      "2               일반관리비\n",
      "3                 인건비\n",
      "4                  급여\n",
      "           ...       \n",
      "67               월사용액\n",
      "68              충당금잔액\n",
      "69            적립요율(%)\n",
      "70                 합계\n",
      "71                잡수입\n",
      "Name: 분류, Length: 72, dtype: object 0       우리단지총액\n",
      "1     52894120\n",
      "2     18729750\n",
      "3     17836250\n",
      "4     10535000\n",
      "        ...   \n",
      "67           0\n",
      "68           0\n",
      "69           0\n",
      "70    76768592\n",
      "71      926340\n",
      "Name: 우리단지총액, Length: 72, dtype: object\n"
     ]
    }
   ],
   "source": [
    "print(AptManagement['분류'],AptManagement['우리단지총액'])"
   ]
  },
  {
   "cell_type": "code",
   "execution_count": 12,
   "metadata": {},
   "outputs": [
    {
     "data": {
      "text/plain": [
       "0      34.44㎡\n",
       "1       40019\n",
       "2     14170.7\n",
       "3     13494.7\n",
       "4     7970.65\n",
       "       ...   \n",
       "67          0\n",
       "68          0\n",
       "69          0\n",
       "70    58082.1\n",
       "71    700.857\n",
       "Name: 평형별(주거전용면적기준), Length: 72, dtype: object"
      ]
     },
     "execution_count": 12,
     "metadata": {},
     "output_type": "execute_result"
    }
   ],
   "source": [
    "AptManagement['평형별(주거전용면적기준)']"
   ]
  },
  {
   "cell_type": "code",
   "execution_count": null,
   "metadata": {},
   "outputs": [],
   "source": []
  }
 ],
 "metadata": {
  "kernelspec": {
   "display_name": "Python 3",
   "language": "python",
   "name": "python3"
  },
  "language_info": {
   "codemirror_mode": {
    "name": "ipython",
    "version": 3
   },
   "file_extension": ".py",
   "mimetype": "text/x-python",
   "name": "python",
   "nbconvert_exporter": "python",
   "pygments_lexer": "ipython3",
   "version": "3.7.4"
  }
 },
 "nbformat": 4,
 "nbformat_minor": 2
}
