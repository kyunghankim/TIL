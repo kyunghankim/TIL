{
 "cells": [
  {
   "cell_type": "code",
   "execution_count": null,
   "metadata": {},
   "outputs": [],
   "source": [
    "\"\"\"\n",
    "머신러닝을 한다 =>\n",
    "1)regression:\n",
    "2)classification:\n",
    "    ex: 암 분류기\n",
    "    크기 >0.3\n",
    "    크기 <=0.3\n",
    "    \n",
    "\n",
    "\"\"\""
   ]
  },
  {
   "cell_type": "code",
   "execution_count": 1,
   "metadata": {},
   "outputs": [],
   "source": [
    "#선형 회귀\n",
    "import numpy as np"
   ]
  },
  {
   "cell_type": "code",
   "execution_count": 2,
   "metadata": {},
   "outputs": [],
   "source": [
    "x1=[2,4,6,8]\n",
    "y=[81,93,91,97]"
   ]
  },
  {
   "cell_type": "code",
   "execution_count": 3,
   "metadata": {},
   "outputs": [],
   "source": [
    "x1=[2,4,6,8]\n",
    "y=[81,93,91,97]\n",
    "mx=np.mean(x)\n",
    "\n",
    "my=np.mean(y)"
   ]
  },
  {
   "cell_type": "code",
   "execution_count": 4,
   "metadata": {},
   "outputs": [
    {
     "data": {
      "text/plain": [
       "20.0"
      ]
     },
     "execution_count": 4,
     "metadata": {},
     "output_type": "execute_result"
    }
   ],
   "source": [
    "#기울기 공식의 분모\n",
    "divisor=sum([(mx-i)**2 for i in x])\n",
    "divisor"
   ]
  },
  {
   "cell_type": "code",
   "execution_count": 5,
   "metadata": {},
   "outputs": [],
   "source": [
    "#기울기 공식의 분자\n",
    "def top(x,mx,y,my):\n",
    "    d=0\n",
    "    for i in range(len(x)):\n",
    "        d+=(x[i]-mx)*(y[i]-my)\n",
    "    return d\n",
    "dividend=top(x,mx,y,my)"
   ]
  },
  {
   "cell_type": "code",
   "execution_count": 6,
   "metadata": {},
   "outputs": [
    {
     "name": "stdout",
     "output_type": "stream",
     "text": [
      "분모: 20.0\n",
      "분자: 46.0\n"
     ]
    }
   ],
   "source": [
    "print(\"분모:\",divisor)\n",
    "print(\"분자:\",dividend)"
   ]
  },
  {
   "cell_type": "code",
   "execution_count": null,
   "metadata": {},
   "outputs": [],
   "source": [
    "w:직선의 기울기 = y값의 증가량 / x값의 증가량"
   ]
  },
  {
   "cell_type": "code",
   "execution_count": 9,
   "metadata": {},
   "outputs": [
    {
     "data": {
      "text/plain": [
       "2.3"
      ]
     },
     "execution_count": 9,
     "metadata": {},
     "output_type": "execute_result"
    }
   ],
   "source": [
    "# wx+b에서 w와 b 구하기\n",
    "w=dividend/divisor\n",
    "w"
   ]
  },
  {
   "cell_type": "code",
   "execution_count": 11,
   "metadata": {},
   "outputs": [
    {
     "data": {
      "text/plain": [
       "79.0"
      ]
     },
     "execution_count": 11,
     "metadata": {},
     "output_type": "execute_result"
    }
   ],
   "source": [
    "b=my-(mx*w)\n",
    "b\n",
    "=> y=2.3x+79 (실제값과 예측값을 최소로 하는 방정식)"
   ]
  },
  {
   "cell_type": "code",
   "execution_count": 12,
   "metadata": {},
   "outputs": [],
   "source": [
    "data=[[2,81],[4,93],[6,91],[8,97]]\n",
    "\n",
    "#공부한 시간=2, 실제점수=81, 예측점수=83.6점\n",
    "#...\n",
    "#공부한 시간 8, 실제점수=97, 예측점수= 97.4"
   ]
  },
  {
   "cell_type": "code",
   "execution_count": 13,
   "metadata": {},
   "outputs": [],
   "source": [
    "def predict(x):\n",
    "    return w*x[0]+b"
   ]
  },
  {
   "cell_type": "code",
   "execution_count": 16,
   "metadata": {},
   "outputs": [],
   "source": [
    "predict(data[0])\n",
    "s=0\n",
    "for i in range(4):\n",
    "    # 실제값 data[i][1]에서 예측값 뺴고 제곱후 더하기\n",
    "    s+=(data[i][1] - predict(data[i]))**2"
   ]
  },
  {
   "cell_type": "code",
   "execution_count": 22,
   "metadata": {},
   "outputs": [
    {
     "name": "stdout",
     "output_type": "stream",
     "text": [
      "MSE: 8.299999999999985\n",
      "RMSE: 2.880972058177584\n"
     ]
    }
   ],
   "source": [
    "print(\"MSE:\",s/4)\n",
    "print(\"RMSE:\",np.sqrt(s/4))"
   ]
  },
  {
   "cell_type": "code",
   "execution_count": 2,
   "metadata": {},
   "outputs": [],
   "source": [
    "import tensorflow as tf"
   ]
  },
  {
   "cell_type": "code",
   "execution_count": 25,
   "metadata": {},
   "outputs": [],
   "source": [
    "#기울기 범위: 0~10, y절편:0~100\n",
    "w=tf.Variable(tf.random_normal([1],0,10,dtype=tf.float32,seed=0))# <- 0~10사이에서 만든다"
   ]
  },
  {
   "cell_type": "code",
   "execution_count": 26,
   "metadata": {},
   "outputs": [],
   "source": [
    "b=tf.Variable(tf.random_normal([1],0,100,dtype=tf.float32,seed=0))# <- 0~100사이에서 만든다"
   ]
  },
  {
   "cell_type": "code",
   "execution_count": 28,
   "metadata": {},
   "outputs": [],
   "source": [
    "hf=w*x+b\n",
    "rmse = tf.sqrt(tf.reduce_mean(tf.square(hf-y)))\n",
    "lr=0.1"
   ]
  },
  {
   "cell_type": "code",
   "execution_count": 29,
   "metadata": {},
   "outputs": [],
   "source": [
    "train=tf.train.GradientDescentOptimizer(lr).minimize(rmse)"
   ]
  },
  {
   "cell_type": "code",
   "execution_count": 32,
   "metadata": {},
   "outputs": [
    {
     "name": "stdout",
     "output_type": "stream",
     "text": [
      "RMSE=148.2724, 가울기=-3.4730,y절편=-39.8162\n",
      "RMSE=42.4007, 가울기=19.6626,y절편=-24.6124\n",
      "RMSE=37.5619, 가울기=17.6714,y절편=-12.7297\n",
      "RMSE=32.7306, 가울기=15.6817,y절편=-0.8562\n",
      "RMSE=27.9106, 가울기=13.6943,y절편=11.0034\n",
      "RMSE=23.1091, 가울기=11.7108,y절편=22.8404\n",
      "RMSE=18.3402, 가울기=9.7340,y절편=34.6370\n",
      "RMSE=13.6375, 가울기=7.7710,y절편=46.3514\n",
      "RMSE=9.0998, 가울기=5.8428,y절편=57.8583\n",
      "RMSE=5.1230, 가울기=4.0387,y절편=68.6242\n",
      "RMSE=3.1116, 가울기=2.7825,y절편=76.1204\n",
      "RMSE=2.8897, 가울기=2.3923,y절편=78.4490\n",
      "RMSE=2.8813, 가울기=2.3170,y절편=78.8985\n",
      "RMSE=2.8810, 가울기=2.3031,y절편=78.9813\n",
      "RMSE=2.8810, 가울기=2.3006,y절편=78.9966\n",
      "RMSE=2.8810, 가울기=2.3001,y절편=78.9993\n",
      "RMSE=2.8810, 가울기=2.3001,y절편=78.9993\n"
     ]
    }
   ],
   "source": [
    "with tf.Session() as sess:\n",
    "    sess.run(tf.global_variables_initializer())\n",
    "    for step in range(5001):\n",
    "        sess.run(train)\n",
    "        if step % 300==0:\n",
    "            print(\"RMSE=%.4f, 가울기=%.4f,y절편=%.4f\" %(sess.run(rmse),\n",
    "                                                        sess.run(w),\n",
    "                                                   sess.run(b)))"
   ]
  },
  {
   "cell_type": "code",
   "execution_count": 33,
   "metadata": {},
   "outputs": [],
   "source": [
    "data=[[2,0,81],[4,4,93],[6,2,91],[8,3,97]] # 가운데 변수는 과외시간"
   ]
  },
  {
   "cell_type": "code",
   "execution_count": 34,
   "metadata": {},
   "outputs": [],
   "source": [
    "w1=tf.Variable(tf.random_normal([1],0,10,dtype=tf.float32,seed=0)) #<-0~10사이에서 만든다\n",
    "w2=tf.Variable(tf.random_normal([1],0,10,dtype=tf.float32,seed=0))\n",
    "b=tf.Variable(tf.random_normal([1],0,100,dtype=tf.float32,seed=0)) #<-0~100사이에서 만든다"
   ]
  },
  {
   "cell_type": "code",
   "execution_count": 41,
   "metadata": {},
   "outputs": [],
   "source": [
    "x1=[2,4,6,8]\n",
    "x2=[0,4,2,3]\n",
    "y=[81,93,91,97]\n",
    "rmse = tf.sqrt(tf.reduce_mean(tf.square(hf-y)))\n",
    "lr=0.1\n",
    "train=tf.train.GradientDescentOptimizer(lr).minimize(rmse) # train도 새로 실행해줘야함"
   ]
  },
  {
   "cell_type": "code",
   "execution_count": 42,
   "metadata": {},
   "outputs": [
    {
     "name": "stdout",
     "output_type": "stream",
     "text": [
      "RMSE=157.1025, 가울기1=-3.4711,가울기2=-3.7536,y절편=-39.8165\n",
      "RMSE=43.0898, 가울기1=17.4979,가울기2=6.7055,y절편=-29.0116\n",
      "RMSE=39.9060, 가울기1=16.1451,가울기2=6.7675,y절편=-21.1480\n",
      "RMSE=36.7301, 가울기1=14.8849,가울기2=6.6237,y절편=-13.2800\n",
      "RMSE=33.5568, 가울기1=13.6789,가울기2=6.3596,y절편=-5.4098\n",
      "RMSE=30.3843, 가울기1=12.5031,가울기2=6.0286,y절편=2.4616\n",
      "RMSE=27.2120, 가울기1=11.3431,가울기2=5.6624,y절편=10.3334\n",
      "RMSE=24.0399, 가울기1=10.1910,가울기2=5.2789,y절편=18.2054\n",
      "RMSE=20.8678, 가울기1=9.0424,가울기2=4.8876,y절편=26.0774\n",
      "RMSE=17.6959, 가울기1=7.8952,가울기2=4.4933,y절편=33.9495\n",
      "RMSE=14.5243, 가울기1=6.7485,가울기2=4.0978,y절편=41.8210\n",
      "RMSE=11.3531, 가울기1=5.6021,가울기2=3.7021,y절편=49.6919\n",
      "RMSE=8.1830, 가울기1=4.4560,가울기2=3.3063,y절편=57.5616\n",
      "RMSE=5.0161, 가울기1=3.3103,가울기2=2.9108,y절편=65.4273\n",
      "RMSE=1.8677, 가울기1=2.1681,가울기2=2.5164,y절편=73.2700\n",
      "RMSE=1.8368, 가울기1=1.8749,가울기2=2.4440,y절편=77.1553\n",
      "RMSE=1.8370, 가울기1=1.7890,가울기2=2.4147,y절편=77.7708\n",
      "RMSE=1.8370, 가울기1=1.7733,가울기2=2.4093,y절편=77.8793\n",
      "RMSE=1.8370, 가울기1=1.7705,가울기2=2.4084,y절편=77.8985\n",
      "RMSE=1.8370, 가울기1=1.7700,가울기2=2.4082,y절편=77.9018\n",
      "RMSE=1.8369, 가울기1=1.7699,가울기2=2.4082,y절편=77.9022\n",
      "RMSE=1.8369, 가울기1=1.7699,가울기2=2.4082,y절편=77.9022\n",
      "RMSE=1.8369, 가울기1=1.7699,가울기2=2.4082,y절편=77.9022\n",
      "RMSE=1.8369, 가울기1=1.7699,가울기2=2.4082,y절편=77.9022\n",
      "RMSE=1.8369, 가울기1=1.7699,가울기2=2.4082,y절편=77.9022\n",
      "RMSE=1.8369, 가울기1=1.7699,가울기2=2.4082,y절편=77.9022\n"
     ]
    }
   ],
   "source": [
    "hf=w1*x1+w2*x2+b\n",
    "rmse = tf.sqrt(tf.reduce_mean(tf.square(hf-y)))\n",
    "lr=0.1\n",
    "with tf.Session() as sess:\n",
    "    sess.run(tf.global_variables_initializer())\n",
    "    for step in range(5001):\n",
    "        sess.run(train)\n",
    "        if step % 200==0:\n",
    "            print(\"RMSE=%.4f, 가울기1=%.4f,가울기2=%.4f,y절편=%.4f\" %(sess.run(rmse),\n",
    "                                                        sess.run(w1),sess.run(w2),\n",
    "                                                              sess.run(b)))"
   ]
  },
  {
   "cell_type": "code",
   "execution_count": 43,
   "metadata": {},
   "outputs": [],
   "source": [
    "#로지스틱회귀\n",
    "data=[[2,0],[4,0],[6,0],[8,1],[10,1],[12,1],[14,1]]\n",
    "xdata=[i[0] for i in data]\n",
    "ydata=[i[1] for i in data]"
   ]
  },
  {
   "cell_type": "code",
   "execution_count": 44,
   "metadata": {},
   "outputs": [],
   "source": [
    "w=tf.Variable(tf.random_normal([1],dtype=tf.float32,seed=0))\n",
    "b=tf.Variable(tf.random_normal([1],dtype=tf.float32,seed=0))"
   ]
  },
  {
   "cell_type": "code",
   "execution_count": 46,
   "metadata": {},
   "outputs": [],
   "source": [
    "hf= 1/(1+np.e**(w*xdata+b))\n",
    "cost= -tf.reduce_mean(np.array(ydata)*\n",
    "                      tf.log(hf)+\n",
    "                      (1-np.array(ydata))*\n",
    "                      tf.log(1-hf))"
   ]
  },
  {
   "cell_type": "code",
   "execution_count": null,
   "metadata": {},
   "outputs": [],
   "source": [
    "\"\"\"오후수업\n",
    "(모델)정확도: 정확도 외에도 민감도, 특이도, 재현율\n",
    "예:\n",
    "data = [ 1,3,5,7 / 2,4,6,8,10,12,14]\n",
    "위 데이터를 분류;\n",
    "분류결과에 대한 모든 경우의수- \n",
    "1) 4개 홀수 | 6개 짝수 \n",
    "2) 10개 홀수 | 0개 짝수\n",
    "3) 0개 홀수 | 10개 짝수\n",
    "4) 2개 홀수 | 8개 짝수\n",
    "5) 6개 홀수 | 4개 짝수\n",
    "6) 4개 홀수 | 6개 짝수 (개수는 맞는데 정확히 분류가 안됨)\n",
    "\"\"\"\n",
    "\"\"\"(1)정확도\n",
    "1)case 정확도= 100%\n",
    "2)case 정확도= 40% (홀수로 40%맞춤)\n",
    "3)case 정확도= 60% (짝수만 6개 맞춰서 60%)\n",
    "4)case 정확도= 80% (홀수2개를 짝수로 분류해서 80%)\n",
    "5)case 정확도= 80%\n",
    "6)case 정확도= 60% (홀수2개+짝수4개=6개)\n",
    "\"\"\""
   ]
  },
  {
   "cell_type": "code",
   "execution_count": null,
   "metadata": {},
   "outputs": [],
   "source": [
    "\"\"\"(2)민감도: 양성에 얼마나 민감하냐?=> 양성을 양성으로 분류할 수록 민감도 상승(판정한것/전체양성수)\n",
    "=> 홀수로 분류한 것을 양성으로 정의\n",
    "1)case 민감도= 100% (홀수 4개중에 4개 분류)\n",
    "2)case 민감도= 100% (4개 중 4개) \n",
    "3)case 민감도= 0% (0개 분류했으니) \n",
    "4)case 민감도= 50% ( 4개중에 홀수분류 2개) \n",
    "5)case 민감도= 100% (4개 중에 4개를 맞췄으니,2개 틀린건 고려하지않음)\n",
    "6)case 민감도= 50% (4개중에 2개)\n",
    "\"\"\""
   ]
  },
  {
   "cell_type": "code",
   "execution_count": null,
   "metadata": {},
   "outputs": [],
   "source": [
    "\"\"\"(3)특이도: 음성에 얼마나 민감하냐?=> 음성을 음성으로 분류할 수록 특이도 상승(판정한것/전체음성수)\n",
    "=>짝수로 분류한 것으로 음성 정의\n",
    "1)case 민감도= 100% (짝수 4개중에 4개 분류)\n",
    "2)case 민감도= 0% (6개 중 0개) \n",
    "3)case 민감도= 100% (6개 중 6개) \n",
    "4)case 민감도= 100% ( 6중에 짝수 분류 6개) \n",
    "5)case 민감도= 66.7% (6개 중에 4개를 맞췄으니,2개 틀린건 고려하지않음)\n",
    "6)case 민감도= 66.7% (6개 중에 4개)\n",
    "\"\"\""
   ]
  },
  {
   "cell_type": "code",
   "execution_count": 3,
   "metadata": {},
   "outputs": [],
   "source": [
    "x_data = [[1, 2, 1, 1],\n",
    "          [2, 1, 3, 2],\n",
    "          [3, 1, 3, 4],\n",
    "          [4, 1, 5, 5],\n",
    "          [1, 7, 5, 5],\n",
    "          [1, 2, 5, 6],\n",
    "          [1, 6, 6, 6],\n",
    "          [1, 7, 7, 7]]\n",
    "y_data = [[0, 0, 1],\n",
    "          [0, 0, 1],\n",
    "          [0, 0, 1],\n",
    "          [0, 1, 0],\n",
    "          [0, 1, 0],\n",
    "          [0, 1, 0],\n",
    "          [1, 0, 0],\n",
    "          [1, 0, 0]]"
   ]
  },
  {
   "cell_type": "code",
   "execution_count": null,
   "metadata": {},
   "outputs": [],
   "source": [
    "xy = np.array([[828.659973, 833.450012, 908100, 828.349976, 831.659973],\n",
    "               [823.02002, 828.070007, 1828100, 821.655029, 828.070007],\n",
    "               [819.929993, 824.400024, 1438100, 818.97998, 824.159973],\n",
    "               [816, 820.958984, 1008100, 815.48999, 819.23999],\n",
    "               [819.359985, 823, 1188100, 818.469971, 818.97998],\n",
    "               [819, 823, 1198100, 816, 820.450012],\n",
    "               [811.700012, 815.25, 1098100, 809.780029, 813.669983],\n",
    "               [809.51001, 816.659973, 1398100, 804.539978, 809.559998]])"
   ]
  },
  {
   "cell_type": "code",
   "execution_count": 11,
   "metadata": {},
   "outputs": [
    {
     "name": "stdout",
     "output_type": "stream",
     "text": [
      "[[1, 2, 1, 1], [2, 1, 3, 2], [3, 1, 3, 4], [4, 1, 5, 5], [1, 7, 5, 5], [1, 2, 5, 6], [1, 6, 6, 6], [1, 7, 7, 7]] \n",
      " [[0, 0, 1], [0, 0, 1], [0, 0, 1], [0, 1, 0], [0, 1, 0], [0, 1, 0], [1, 0, 0], [1, 0, 0]]\n"
     ]
    }
   ],
   "source": [
    "print(x_data,\"\\n\",y_data)"
   ]
  },
  {
   "cell_type": "code",
   "execution_count": 28,
   "metadata": {},
   "outputs": [],
   "source": [
    "x=tf.placeholder(\"float\",[None,4])\n",
    "y=tf.placeholder(\"float\",[None,3])\n",
    "#3: 분류기의 개수((분류결과 종류의 가지수))"
   ]
  },
  {
   "cell_type": "code",
   "execution_count": 29,
   "metadata": {},
   "outputs": [],
   "source": [
    "nb_classes=3 #<- class의 갯수를 직접 지정해줘서 만들어주면 코딩의 가독성이 올라감"
   ]
  },
  {
   "cell_type": "code",
   "execution_count": 30,
   "metadata": {},
   "outputs": [],
   "source": [
    "w=tf.Variable(tf.random_normal([4,nb_classes])) # 들어오는게 4개 나오는게 3개\n",
    "b=tf.Variable(tf.random_normal([nb_classes])) #<- 분류기가 3개니까 "
   ]
  },
  {
   "cell_type": "code",
   "execution_count": 31,
   "metadata": {},
   "outputs": [],
   "source": [
    "hf=tf.nn.softmax(tf.matmul(x,w)+b)"
   ]
  },
  {
   "cell_type": "code",
   "execution_count": null,
   "metadata": {},
   "outputs": [],
   "source": [
    "[Wa1 Wa2 Wa3               [Wa1*x1+Wa2*x2+Wa3*x3   [2\n",
    "    ...       [x1,x2,x3] =          ...          = .1\n",
    "     ... Wc3]                                  ]   .1] => A로 분류!!\n",
    "#x: data w:가중치"
   ]
  },
  {
   "cell_type": "code",
   "execution_count": null,
   "metadata": {},
   "outputs": [],
   "source": [
    "                       [0.7\n",
    "이결과를 softmax에대입    0.2\n",
    "                        0.1]   => 70%로 A, 20%로 B, 10%로 C"
   ]
  },
  {
   "cell_type": "code",
   "execution_count": null,
   "metadata": {},
   "outputs": [],
   "source": [
    "*cost function\n",
    "S(Y)=yhat= [0.7,0.2,0.1]    L(실제값)=Y[1,0,0] #<-OneHotencoding되어있음\n",
    "D(S,L)= -sigma(Li*log(Si)) <-cost function!!\n",
    "이 함수를 Cross_entropy Coss function이라고 부름\n",
    "(*entropy: 열역학에서 나오는데 복잡도를 얘기함, 무질서의 정도)\n",
    "(*cross entropy: 통계에서 나옴 )"
   ]
  },
  {
   "cell_type": "code",
   "execution_count": null,
   "metadata": {},
   "outputs": [],
   "source": [
    "-sigma(Li*log(Si) <=> sigma(Li*(-log(yhati))) #<- '-'가 시그마 안으로 들어옴"
   ]
  },
  {
   "cell_type": "code",
   "execution_count": null,
   "metadata": {},
   "outputs": [],
   "source": [
    "ex:\n",
    "    case1. 정답인 경우\n",
    "    Y=[0,1] =\"B\"로 예측(정답)\n",
    "    Yhat=[0,1]=\"B\"로 예측 => cost?\n",
    "    cost=[0,1]*-log[yhati]=[0,1]*[-log(0),-log(1)] <-elementwise product(Adamar product)\n",
    "    [0,1]*[inf,0]=[0,0] , 마지막으로 sigma 해주면 0!! 즉 cost는 0\n",
    "    \n",
    "    case2. 오답인 경우\n",
    "    Yhat=[1,0]=\"A\"로 예측 => cost?\n",
    "    cost=[0,1]*-log[yhati]=[0,1]*[-log(1),-log(0)]\n",
    "    [0,1]*[0,inf]=[0,inf] , 마지막으로 sigma 해주면 inf!! 즉 cost는 inf"
   ]
  },
  {
   "cell_type": "code",
   "execution_count": 32,
   "metadata": {},
   "outputs": [],
   "source": [
    "cost= tf.reduce_mean(-tf.reduce_sum(y*tf.log(hf),axis=1))"
   ]
  },
  {
   "cell_type": "code",
   "execution_count": 33,
   "metadata": {},
   "outputs": [],
   "source": [
    "opt=tf.train.GradientDescentOptimizer(0.1).minimize(cost)"
   ]
  },
  {
   "cell_type": "code",
   "execution_count": null,
   "metadata": {},
   "outputs": [],
   "source": [
    "*1.x데이터가 새로 수집: [1,11,7,9] => hf->예측?\n",
    "*2. [[1,11,7,9],[1,3,4,3],[1,1,0,1]] => hf->예측?"
   ]
  },
  {
   "cell_type": "code",
   "execution_count": 35,
   "metadata": {},
   "outputs": [
    {
     "name": "stdout",
     "output_type": "stream",
     "text": [
      "0 13.715132\n",
      "200 0.58617675\n",
      "400 0.48524755\n",
      "600 0.40943456\n",
      "800 0.34005222\n",
      "1000 0.26899207\n",
      "1200 0.2274856\n",
      "1400 0.20714632\n",
      "1600 0.19000097\n",
      "1800 0.17536622\n",
      "2000 0.16273999\n",
      "[[2.7583405e-02 9.7240633e-01 1.0323640e-05]] 1\n"
     ]
    }
   ],
   "source": [
    "with tf.Session() as sess:\n",
    "    sess.run(tf.global_variables_initializer())\n",
    "    for step in range(2001):\n",
    "        _,cv=sess.run([opt,cost],feed_dict={x:x_data,y:y_data})\n",
    "        if step%200==0:\n",
    "            print(step,cv)\n",
    "    res=sess.run(hf,feed_dict={x:[[1,11,7,9]]})\n",
    "    print(res,sess.run(tf.argmax(res,1))[0]) #<-가장 큰 값에 해당하는 index가 나옴"
   ]
  },
  {
   "cell_type": "code",
   "execution_count": 36,
   "metadata": {},
   "outputs": [
    {
     "name": "stdout",
     "output_type": "stream",
     "text": [
      "0 4.039727\n",
      "200 0.62096477\n",
      "400 0.5054383\n",
      "600 0.42381597\n",
      "800 0.3511799\n",
      "1000 0.27835256\n",
      "1200 0.23283862\n",
      "1400 0.21125409\n",
      "1600 0.19318874\n",
      "1800 0.17785698\n",
      "2000 0.16469309\n",
      "분류결과: 1\n",
      "==================================================\n",
      "분류결과: [1 0 2]\n"
     ]
    }
   ],
   "source": [
    "with tf.Session() as sess:\n",
    "    sess.run(tf.global_variables_initializer())\n",
    "    for step in range(2001):\n",
    "        _,cv=sess.run([opt,cost],feed_dict={x:x_data,y:y_data})\n",
    "        if step%200==0:\n",
    "            print(step,cv)\n",
    "    res=sess.run(hf,feed_dict={x:[[1,11,7,9]]})\n",
    "    print(\"분류결과:\",str(sess.run(tf.argmax(res,1)[0])))\n",
    "    print(\"=\"*50)\n",
    "    res2=sess.run(hf,feed_dict={x:[[1,11,7,9],[1,3,4,3],[1,1,0,1]]})\n",
    "    print(\"분류결과:\",str(sess.run(tf.argmax(res2,1))))"
   ]
  },
  {
   "cell_type": "code",
   "execution_count": null,
   "metadata": {},
   "outputs": [],
   "source": []
  }
 ],
 "metadata": {
  "kernelspec": {
   "display_name": "Python 3",
   "language": "python",
   "name": "python3"
  },
  "language_info": {
   "codemirror_mode": {
    "name": "ipython",
    "version": 3
   },
   "file_extension": ".py",
   "mimetype": "text/x-python",
   "name": "python",
   "nbconvert_exporter": "python",
   "pygments_lexer": "ipython3",
   "version": "3.7.6"
  }
 },
 "nbformat": 4,
 "nbformat_minor": 4
}
